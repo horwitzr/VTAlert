{
 "cells": [
  {
   "cell_type": "code",
   "execution_count": 1,
   "metadata": {},
   "outputs": [],
   "source": [
    "# EICU\n",
    "import pandas as pd\n",
    "pd.set_option('display.max_colwidth', None)\n",
    "dir_data_raw = \"/Users/rachellehorwitz/Documents/VTAlert/data/raw_eicu/\"\n",
    "dir_data_over18 = \"/Users/rachellehorwitz/Documents/VTAlert/data/over18_eicu/\"\n",
    "# admissiondx = pd.read_csv(dir_data_raw + 'admissionDx.csv')\n",
    "# apachePredVar = pd.read_csv(dir_data_raw + 'apachePredVar.csv')\n",
    "# diagnosis = pd.read_csv(dir_data_raw + 'diagnosis.csv')\n",
    "# customLab = pd.read_csv(dir_data_raw + 'customLab.csv')"
   ]
  },
  {
   "cell_type": "code",
   "execution_count": 2,
   "metadata": {
    "scrolled": true
   },
   "outputs": [
    {
     "name": "stdout",
     "output_type": "stream",
     "text": [
      "200764 patients with age not na\n",
      "7081 patients with age > 89\n",
      "199702 patients with age > 18\n"
     ]
    }
   ],
   "source": [
    "# Get patientUnitStayIds of patients who are >18 years old\n",
    "# everything except hospital.csv can be indexed by patientUnitStayID\n",
    "# patient.csv has age\n",
    "import glob, os\n",
    "import pandas as pd\n",
    "csvfiles = []\n",
    "for file in glob.glob(dir_data_raw + '*.csv'):\n",
    "    csvfiles.append(file)\n",
    "patient = pd.read_csv(dir_data_raw + 'patient.csv')\n",
    "patient = patient[patient['age'].notna()]\n",
    "print(str(patient.shape[0]) + ' patients with age not na')\n",
    "\n",
    "# Patients with age > 89 do not have their actual age. They are just listed as '> 89'\n",
    "# In MIMIC, it was known that the median age of patients > 89 was 91. Use that value here\n",
    "over89 = patient[patient['age']=='> 89']\n",
    "print(str(over89.shape[0]) + ' patients with age > 89')\n",
    "patient['age'] = patient['age'].replace('> 89', '91').astype(int)\n",
    "patientOver18 = patient[patient['age'] > 18]\n",
    "print(str(patientOver18.shape[0]) + ' patients with age > 18')\n",
    "patientUnitStayIdOver18 = list(patientOver18['patientunitstayid'])"
   ]
  },
  {
   "cell_type": "code",
   "execution_count": null,
   "metadata": {},
   "outputs": [],
   "source": [
    "print(csvfiles)"
   ]
  },
  {
   "cell_type": "code",
   "execution_count": null,
   "metadata": {},
   "outputs": [],
   "source": [
    "# import pandas as pd\n",
    "# import os\n",
    "# print(csvfiles[0])\n",
    "# data = pd.read_csv(csvfiles[0])\n",
    "# data.head(30)\n",
    "# data2 = data[data['patientunitstayid'].isin(patientUnitStayIdOver18)]\n",
    "# base = os.path.basename(csvfiles[0])\n",
    "# print(base)\n",
    "# newFileNameWithPath = dir_data_over18 + base\n",
    "# print(newFileNameWithPath)\n",
    "# data2.to_csv(newFileNameWithPath, index=False)"
   ]
  },
  {
   "cell_type": "code",
   "execution_count": 3,
   "metadata": {},
   "outputs": [
    {
     "name": "stdout",
     "output_type": "stream",
     "text": [
      "------\n",
      "Working on /Users/rachellehorwitz/Documents/VTAlert/data/raw_eicu/medication.csv\n"
     ]
    },
    {
     "name": "stderr",
     "output_type": "stream",
     "text": [
      "/Users/rachellehorwitz/opt/anaconda3/envs/insight/lib/python3.7/site-packages/IPython/core/interactiveshell.py:3254: DtypeWarning: Columns (11) have mixed types.Specify dtype option on import or set low_memory=False.\n",
      "  if (await self.run_code(code, result,  async_=asy)):\n"
     ]
    },
    {
     "name": "stdout",
     "output_type": "stream",
     "text": [
      "medication.csv\n"
     ]
    },
    {
     "ename": "KeyboardInterrupt",
     "evalue": "",
     "output_type": "error",
     "traceback": [
      "\u001b[0;31m---------------------------------------------------------------------------\u001b[0m",
      "\u001b[0;31mKeyboardInterrupt\u001b[0m                         Traceback (most recent call last)",
      "\u001b[0;32m<ipython-input-3-294e33afea82>\u001b[0m in \u001b[0;36m<module>\u001b[0;34m\u001b[0m\n\u001b[1;32m      1\u001b[0m \u001b[0;32mfrom\u001b[0m \u001b[0mrewrite_patientsOver18\u001b[0m \u001b[0;32mimport\u001b[0m \u001b[0;34m*\u001b[0m\u001b[0;34m\u001b[0m\u001b[0;34m\u001b[0m\u001b[0m\n\u001b[0;32m----> 2\u001b[0;31m \u001b[0mkeepPtsOver18\u001b[0m\u001b[0;34m(\u001b[0m\u001b[0mcsvfiles\u001b[0m\u001b[0;34m,\u001b[0m \u001b[0mpatientUnitStayIdOver18\u001b[0m\u001b[0;34m,\u001b[0m \u001b[0;34m'/Users/rachellehorwitz/Documents/tmp/'\u001b[0m\u001b[0;34m,\u001b[0m \u001b[0mdir_data_raw\u001b[0m\u001b[0;34m)\u001b[0m\u001b[0;34m\u001b[0m\u001b[0;34m\u001b[0m\u001b[0m\n\u001b[0m",
      "\u001b[0;32m~/Documents/VTAlert/src/rewrite_patientsOver18.py\u001b[0m in \u001b[0;36mkeepPtsOver18\u001b[0;34m(csvfiles, patientUnitStayIdOver18, dir_data_over18, dir_data_raw)\u001b[0m\n\u001b[1;32m     13\u001b[0m       \u001b[0mprint\u001b[0m\u001b[0;34m(\u001b[0m\u001b[0mbase\u001b[0m\u001b[0;34m)\u001b[0m\u001b[0;34m\u001b[0m\u001b[0;34m\u001b[0m\u001b[0m\n\u001b[1;32m     14\u001b[0m       \u001b[0mnewFileNameWithPath\u001b[0m \u001b[0;34m=\u001b[0m \u001b[0mdir_data_over18\u001b[0m \u001b[0;34m+\u001b[0m \u001b[0mbase\u001b[0m\u001b[0;34m\u001b[0m\u001b[0;34m\u001b[0m\u001b[0m\n\u001b[0;32m---> 15\u001b[0;31m       \u001b[0mdata_over18\u001b[0m\u001b[0;34m.\u001b[0m\u001b[0mto_csv\u001b[0m\u001b[0;34m(\u001b[0m\u001b[0mnewFileNameWithPath\u001b[0m\u001b[0;34m,\u001b[0m \u001b[0mindex\u001b[0m\u001b[0;34m=\u001b[0m\u001b[0;32mFalse\u001b[0m\u001b[0;34m)\u001b[0m\u001b[0;34m\u001b[0m\u001b[0;34m\u001b[0m\u001b[0m\n\u001b[0m\u001b[1;32m     16\u001b[0m       \u001b[0mprint\u001b[0m\u001b[0;34m(\u001b[0m\u001b[0;34m'Saved data to '\u001b[0m \u001b[0;34m+\u001b[0m \u001b[0mnewFileNameWithPath\u001b[0m\u001b[0;34m)\u001b[0m\u001b[0;34m\u001b[0m\u001b[0;34m\u001b[0m\u001b[0m\n\u001b[1;32m     17\u001b[0m       \u001b[0mprint\u001b[0m\u001b[0;34m(\u001b[0m\u001b[0;34m'------'\u001b[0m\u001b[0;34m)\u001b[0m\u001b[0;34m\u001b[0m\u001b[0;34m\u001b[0m\u001b[0m\n",
      "\u001b[0;32m~/opt/anaconda3/envs/insight/lib/python3.7/site-packages/pandas/core/generic.py\u001b[0m in \u001b[0;36mto_csv\u001b[0;34m(self, path_or_buf, sep, na_rep, float_format, columns, header, index, index_label, mode, encoding, compression, quoting, quotechar, line_terminator, chunksize, date_format, doublequote, escapechar, decimal)\u001b[0m\n\u001b[1;32m   3202\u001b[0m             \u001b[0mdecimal\u001b[0m\u001b[0;34m=\u001b[0m\u001b[0mdecimal\u001b[0m\u001b[0;34m,\u001b[0m\u001b[0;34m\u001b[0m\u001b[0;34m\u001b[0m\u001b[0m\n\u001b[1;32m   3203\u001b[0m         )\n\u001b[0;32m-> 3204\u001b[0;31m         \u001b[0mformatter\u001b[0m\u001b[0;34m.\u001b[0m\u001b[0msave\u001b[0m\u001b[0;34m(\u001b[0m\u001b[0;34m)\u001b[0m\u001b[0;34m\u001b[0m\u001b[0;34m\u001b[0m\u001b[0m\n\u001b[0m\u001b[1;32m   3205\u001b[0m \u001b[0;34m\u001b[0m\u001b[0m\n\u001b[1;32m   3206\u001b[0m         \u001b[0;32mif\u001b[0m \u001b[0mpath_or_buf\u001b[0m \u001b[0;32mis\u001b[0m \u001b[0;32mNone\u001b[0m\u001b[0;34m:\u001b[0m\u001b[0;34m\u001b[0m\u001b[0;34m\u001b[0m\u001b[0m\n",
      "\u001b[0;32m~/opt/anaconda3/envs/insight/lib/python3.7/site-packages/pandas/io/formats/csvs.py\u001b[0m in \u001b[0;36msave\u001b[0;34m(self)\u001b[0m\n\u001b[1;32m    202\u001b[0m             )\n\u001b[1;32m    203\u001b[0m \u001b[0;34m\u001b[0m\u001b[0m\n\u001b[0;32m--> 204\u001b[0;31m             \u001b[0mself\u001b[0m\u001b[0;34m.\u001b[0m\u001b[0m_save\u001b[0m\u001b[0;34m(\u001b[0m\u001b[0;34m)\u001b[0m\u001b[0;34m\u001b[0m\u001b[0;34m\u001b[0m\u001b[0m\n\u001b[0m\u001b[1;32m    205\u001b[0m \u001b[0;34m\u001b[0m\u001b[0m\n\u001b[1;32m    206\u001b[0m         \u001b[0;32mfinally\u001b[0m\u001b[0;34m:\u001b[0m\u001b[0;34m\u001b[0m\u001b[0;34m\u001b[0m\u001b[0m\n",
      "\u001b[0;32m~/opt/anaconda3/envs/insight/lib/python3.7/site-packages/pandas/io/formats/csvs.py\u001b[0m in \u001b[0;36m_save\u001b[0;34m(self)\u001b[0m\n\u001b[1;32m    321\u001b[0m                 \u001b[0;32mbreak\u001b[0m\u001b[0;34m\u001b[0m\u001b[0;34m\u001b[0m\u001b[0m\n\u001b[1;32m    322\u001b[0m \u001b[0;34m\u001b[0m\u001b[0m\n\u001b[0;32m--> 323\u001b[0;31m             \u001b[0mself\u001b[0m\u001b[0;34m.\u001b[0m\u001b[0m_save_chunk\u001b[0m\u001b[0;34m(\u001b[0m\u001b[0mstart_i\u001b[0m\u001b[0;34m,\u001b[0m \u001b[0mend_i\u001b[0m\u001b[0;34m)\u001b[0m\u001b[0;34m\u001b[0m\u001b[0;34m\u001b[0m\u001b[0m\n\u001b[0m\u001b[1;32m    324\u001b[0m \u001b[0;34m\u001b[0m\u001b[0m\n\u001b[1;32m    325\u001b[0m     \u001b[0;32mdef\u001b[0m \u001b[0m_save_chunk\u001b[0m\u001b[0;34m(\u001b[0m\u001b[0mself\u001b[0m\u001b[0;34m,\u001b[0m \u001b[0mstart_i\u001b[0m\u001b[0;34m:\u001b[0m \u001b[0mint\u001b[0m\u001b[0;34m,\u001b[0m \u001b[0mend_i\u001b[0m\u001b[0;34m:\u001b[0m \u001b[0mint\u001b[0m\u001b[0;34m)\u001b[0m \u001b[0;34m->\u001b[0m \u001b[0;32mNone\u001b[0m\u001b[0;34m:\u001b[0m\u001b[0;34m\u001b[0m\u001b[0;34m\u001b[0m\u001b[0m\n",
      "\u001b[0;32m~/opt/anaconda3/envs/insight/lib/python3.7/site-packages/pandas/io/formats/csvs.py\u001b[0m in \u001b[0;36m_save_chunk\u001b[0;34m(self, start_i, end_i)\u001b[0m\n\u001b[1;32m    352\u001b[0m         )\n\u001b[1;32m    353\u001b[0m \u001b[0;34m\u001b[0m\u001b[0m\n\u001b[0;32m--> 354\u001b[0;31m         \u001b[0mlibwriters\u001b[0m\u001b[0;34m.\u001b[0m\u001b[0mwrite_csv_rows\u001b[0m\u001b[0;34m(\u001b[0m\u001b[0mself\u001b[0m\u001b[0;34m.\u001b[0m\u001b[0mdata\u001b[0m\u001b[0;34m,\u001b[0m \u001b[0mix\u001b[0m\u001b[0;34m,\u001b[0m \u001b[0mself\u001b[0m\u001b[0;34m.\u001b[0m\u001b[0mnlevels\u001b[0m\u001b[0;34m,\u001b[0m \u001b[0mself\u001b[0m\u001b[0;34m.\u001b[0m\u001b[0mcols\u001b[0m\u001b[0;34m,\u001b[0m \u001b[0mself\u001b[0m\u001b[0;34m.\u001b[0m\u001b[0mwriter\u001b[0m\u001b[0;34m)\u001b[0m\u001b[0;34m\u001b[0m\u001b[0;34m\u001b[0m\u001b[0m\n\u001b[0m",
      "\u001b[0;32mpandas/_libs/writers.pyx\u001b[0m in \u001b[0;36mpandas._libs.writers.write_csv_rows\u001b[0;34m()\u001b[0m\n",
      "\u001b[0;31mKeyboardInterrupt\u001b[0m: "
     ]
    }
   ],
   "source": [
    "from rewrite_patientsOver18 import *\n",
    "keepPtsOver18(csvfiles, patientUnitStayIdOver18, '/Users/rachellehorwitz/Documents/tmp/', dir_data_raw)"
   ]
  },
  {
   "cell_type": "code",
   "execution_count": null,
   "metadata": {},
   "outputs": [],
   "source": [
    "print(csvfiles)"
   ]
  },
  {
   "cell_type": "code",
   "execution_count": null,
   "metadata": {},
   "outputs": [],
   "source": [
    "admissiondx = pd.read_csv(dir_data_over18 + 'admissiondx.csv')\n",
    "diagnosis = pd.read_csv(dir_data_over18 + 'diagnosis.csv')"
   ]
  },
  {
   "cell_type": "code",
   "execution_count": null,
   "metadata": {},
   "outputs": [],
   "source": [
    "# import glob, os\n",
    "# os.chdir(dir_data_raw)\n",
    "# for file in glob.glob('*.csv'):\n",
    "#     print(file)"
   ]
  },
  {
   "cell_type": "code",
   "execution_count": null,
   "metadata": {
    "scrolled": true
   },
   "outputs": [],
   "source": [
    "admissiondx.head(30)"
   ]
  },
  {
   "cell_type": "code",
   "execution_count": null,
   "metadata": {},
   "outputs": [],
   "source": []
  },
  {
   "cell_type": "code",
   "execution_count": null,
   "metadata": {},
   "outputs": [],
   "source": [
    "print('there are ' + str(diagnosis.shape[0]) +  ' diagnosis entries')\n",
    "diagnosis.head(10)"
   ]
  },
  {
   "cell_type": "code",
   "execution_count": null,
   "metadata": {},
   "outputs": [],
   "source": [
    "diagnoses_nonan = diagnosis[diagnosis['icd9code'].notna()]\n",
    "print('there are ' + str(diagnoses_nonan.shape[0]) +  ' diagnosis entries with non-nan icd9codes')\n",
    "diagnoses_nonan.head(5)"
   ]
  },
  {
   "cell_type": "code",
   "execution_count": null,
   "metadata": {},
   "outputs": [],
   "source": [
    "icd9_pe = [415.1, 415.10, 415.11, 415.13, 415.19, 416.2, 416.20]\n",
    "icd9_dvt = [451.0, 451.1, 451.10, 451.11, 451.19, 451.2, 451.20, 451.81, 451.89, \\\n",
    "            451.9, 451.90, 453.1, 453.10, 453.2, 453.20, 453.4, 453.40, 453.41, \\\n",
    "           453.42, 453.6, 453.60, 453.8, 453.80, 453.89, 453.9, 453.90] # excludes chronic\n",
    "icd9_vte = icd9_pe + icd9_dvt\n",
    "icd9_vte_str = [str(x) for x in icd9_vte] "
   ]
  },
  {
   "cell_type": "code",
   "execution_count": null,
   "metadata": {},
   "outputs": [],
   "source": [
    "icd9_pe = ['415.1', '415.10', '415.11', '415.13', '415.19']\n",
    "icd9_dvt = ['451.0', '451.1', '451.10', '451.11', '451.19', '451.2', '451.20', '451.81', '451.89', \\\n",
    "            '451.9', '451.90', '453.1', '453.10', '453.2', '453.20', '453.4', '453.40', '453.41', \\\n",
    "           '453.42', '453.6', '453.60', '453.8', '453.80', '453.89', '453.9', '453.90'] # excludes chronic\n",
    "icd9_acute_dvt = ['453.4', '453.89']\n",
    "icd9_vte = icd9_pe + icd9_acute_dvt"
   ]
  },
  {
   "cell_type": "code",
   "execution_count": null,
   "metadata": {
    "scrolled": true
   },
   "outputs": [],
   "source": [
    "diagnosis_vte = pd.DataFrame()\n",
    "for code in icd9_vte:\n",
    "    print(str(code))\n",
    "    rows = diagnoses_nonan[diagnoses_nonan['icd9code'].str.contains(code)]\n",
    "    diagnosis_vte = pd.concat([rows, diagnosis_vte])\n",
    "    diagnosis_vte = diagnosis_vte.loc[~diagnosis_vte.index.duplicated(keep='first')]"
   ]
  },
  {
   "cell_type": "code",
   "execution_count": null,
   "metadata": {},
   "outputs": [],
   "source": [
    "diagnosis_vte.shape"
   ]
  },
  {
   "cell_type": "code",
   "execution_count": null,
   "metadata": {},
   "outputs": [],
   "source": [
    "diagnosis_vte.head(30)"
   ]
  },
  {
   "cell_type": "code",
   "execution_count": null,
   "metadata": {},
   "outputs": [],
   "source": [
    "%matplotlib notebook\n",
    "diagnosis_vte['diagnosisoffset'].hist(bins=500)"
   ]
  },
  {
   "cell_type": "code",
   "execution_count": null,
   "metadata": {},
   "outputs": [],
   "source": [
    "import numpy as np\n",
    "# Don't look at patients who are entering the ICU for PE/DVT, so threshold by time\n",
    "time_thresh = 400\n",
    "vte_greaterThanTime = diagnosis_vte[diagnosis_vte['diagnosisoffset']>=time_thresh]\n",
    "vte_lessThanTime = diagnosis_vte[diagnosis_vte['diagnosisoffset']<time_thresh]\n",
    "print(str(greaterThanTime.shape[0]) + ' visits are included for time_thresh=' + str(time_thresh))\n",
    "print(str(lessThanTime.shape[0]) + ' visits are eliminated for time_thresh=' + str(time_thresh))\n",
    "\n",
    "# Look for duplicates in patientunitstayid in vte_greaterThanTime and vte_lessThanTime to see if some people were diagnosed more than once\n",
    "u_vte_greaterThanTime_patientunitstayid = vte_greaterThanTime['patientunitstayid'].unique()\n",
    "print(str(u_vte_greaterThanTime_patientunitstayid.shape[0]) + ' unique patientunitstayids in greaterThanTime')\n",
    "u_vte_lessThanTime_patientunitstayid = vte_lessThanTime['patientunitstayid'].unique()\n",
    "print(str(u_vte_lessThanTime_patientunitstayid.shape[0]) + ' unique patientunitstayids in lessThanTime')\n",
    "type(u_vte_lessThanTime_patientunitstayid)\n",
    "patientunitstayid_intersect = np.intersect1d(u_vte_greaterThanTime_patientunitstayid, u_vte_lessThanTime_patientunitstayid)\n",
    "print(str(patientunitstayid_intersect.shape[0]) + ' patientunitstayids in both')"
   ]
  },
  {
   "cell_type": "code",
   "execution_count": null,
   "metadata": {},
   "outputs": [],
   "source": [
    "# Intermediate goal: get two classes:\n",
    "# 1) patientunitstayids that have VTE diagnosed after a while in the ICU: *u_vte_greaterThanTime*\n",
    "# 2) patientunitstayids that do not have VTE diagnosed after a while in the ICU. \n",
    "#    all_patientunitstayids - union(less, greater)\n"
   ]
  }
 ],
 "metadata": {
  "kernelspec": {
   "display_name": "Python 3",
   "language": "python",
   "name": "python3"
  },
  "language_info": {
   "codemirror_mode": {
    "name": "ipython",
    "version": 3
   },
   "file_extension": ".py",
   "mimetype": "text/x-python",
   "name": "python",
   "nbconvert_exporter": "python",
   "pygments_lexer": "ipython3",
   "version": "3.7.7"
  }
 },
 "nbformat": 4,
 "nbformat_minor": 4
}
