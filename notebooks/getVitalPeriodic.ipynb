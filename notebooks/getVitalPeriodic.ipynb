{
 "cells": [
  {
   "cell_type": "code",
   "execution_count": 1,
   "metadata": {
    "ExecuteTime": {
     "end_time": "2020-06-10T16:22:00.653044Z",
     "start_time": "2020-06-10T16:18:35.991837Z"
    }
   },
   "outputs": [],
   "source": [
    "import pandas as pd\n",
    "vitalPeriodic = pd.read_csv('/Users/rachellehorwitz/Documents/ViTalErt/data/over18_eicu/vitalPeriodic.csv')"
   ]
  },
  {
   "cell_type": "code",
   "execution_count": 2,
   "metadata": {
    "ExecuteTime": {
     "end_time": "2020-06-10T16:22:01.627413Z",
     "start_time": "2020-06-10T16:22:00.660792Z"
    }
   },
   "outputs": [],
   "source": [
    "patient = pd.read_csv('/Users/rachellehorwitz/Documents/ViTalErt/data/filtered05/patient.csv')"
   ]
  },
  {
   "cell_type": "code",
   "execution_count": 3,
   "metadata": {
    "ExecuteTime": {
     "end_time": "2020-06-10T16:22:01.648662Z",
     "start_time": "2020-06-10T16:22:01.630582Z"
    }
   },
   "outputs": [
    {
     "data": {
      "text/plain": [
       "Index(['vitalperiodicid', 'patientunitstayid', 'observationoffset',\n",
       "       'temperature', 'sao2', 'heartrate', 'respiration', 'cvp', 'etco2',\n",
       "       'systemicsystolic', 'systemicdiastolic', 'systemicmean', 'pasystolic',\n",
       "       'padiastolic', 'pamean', 'st1', 'st2', 'st3', 'icp'],\n",
       "      dtype='object')"
      ]
     },
     "execution_count": 3,
     "metadata": {},
     "output_type": "execute_result"
    }
   ],
   "source": [
    "vitalPeriodic.columns"
   ]
  },
  {
   "cell_type": "code",
   "execution_count": 4,
   "metadata": {
    "ExecuteTime": {
     "end_time": "2020-06-10T16:22:09.388681Z",
     "start_time": "2020-06-10T16:22:01.651161Z"
    }
   },
   "outputs": [],
   "source": [
    "vitalPeriodic_heartrate = vitalPeriodic[['vitalperiodicid', 'patientunitstayid', 'observationoffset', 'heartrate']]\n",
    "patients = list(patient['patientunitstayid'].unique())"
   ]
  },
  {
   "cell_type": "code",
   "execution_count": 5,
   "metadata": {
    "ExecuteTime": {
     "end_time": "2020-06-10T16:22:31.256508Z",
     "start_time": "2020-06-10T16:22:09.391456Z"
    }
   },
   "outputs": [],
   "source": [
    "vitalPeriodic_heartrate_pts = vitalPeriodic_heartrate[vitalPeriodic_heartrate['patientunitstayid'].isin(patients)]"
   ]
  },
  {
   "cell_type": "code",
   "execution_count": 7,
   "metadata": {
    "ExecuteTime": {
     "end_time": "2020-06-10T16:31:36.644448Z",
     "start_time": "2020-06-10T16:31:36.637271Z"
    }
   },
   "outputs": [
    {
     "data": {
      "text/html": [
       "<div>\n",
       "<style scoped>\n",
       "    .dataframe tbody tr th:only-of-type {\n",
       "        vertical-align: middle;\n",
       "    }\n",
       "\n",
       "    .dataframe tbody tr th {\n",
       "        vertical-align: top;\n",
       "    }\n",
       "\n",
       "    .dataframe thead th {\n",
       "        text-align: right;\n",
       "    }\n",
       "</style>\n",
       "<table border=\"1\" class=\"dataframe\">\n",
       "  <thead>\n",
       "    <tr style=\"text-align: right;\">\n",
       "      <th></th>\n",
       "      <th>vitalperiodicid</th>\n",
       "      <th>patientunitstayid</th>\n",
       "      <th>observationoffset</th>\n",
       "      <th>heartrate</th>\n",
       "    </tr>\n",
       "  </thead>\n",
       "  <tbody>\n",
       "    <tr>\n",
       "      <th>0</th>\n",
       "      <td>37376747</td>\n",
       "      <td>141168</td>\n",
       "      <td>2059</td>\n",
       "      <td>92.0</td>\n",
       "    </tr>\n",
       "    <tr>\n",
       "      <th>1</th>\n",
       "      <td>37404957</td>\n",
       "      <td>141168</td>\n",
       "      <td>1289</td>\n",
       "      <td>118.0</td>\n",
       "    </tr>\n",
       "    <tr>\n",
       "      <th>2</th>\n",
       "      <td>37385871</td>\n",
       "      <td>141168</td>\n",
       "      <td>1794</td>\n",
       "      <td>78.0</td>\n",
       "    </tr>\n",
       "    <tr>\n",
       "      <th>3</th>\n",
       "      <td>37401664</td>\n",
       "      <td>141168</td>\n",
       "      <td>1374</td>\n",
       "      <td>118.0</td>\n",
       "    </tr>\n",
       "    <tr>\n",
       "      <th>4</th>\n",
       "      <td>37377404</td>\n",
       "      <td>141168</td>\n",
       "      <td>2039</td>\n",
       "      <td>92.0</td>\n",
       "    </tr>\n",
       "  </tbody>\n",
       "</table>\n",
       "</div>"
      ],
      "text/plain": [
       "   vitalperiodicid  patientunitstayid  observationoffset  heartrate\n",
       "0         37376747             141168               2059       92.0\n",
       "1         37404957             141168               1289      118.0\n",
       "2         37385871             141168               1794       78.0\n",
       "3         37401664             141168               1374      118.0\n",
       "4         37377404             141168               2039       92.0"
      ]
     },
     "execution_count": 7,
     "metadata": {},
     "output_type": "execute_result"
    }
   ],
   "source": [
    "vitalPeriodic_heartrate_pts.head()"
   ]
  },
  {
   "cell_type": "code",
   "execution_count": 8,
   "metadata": {
    "ExecuteTime": {
     "end_time": "2020-06-10T16:36:39.282600Z",
     "start_time": "2020-06-10T16:31:39.074481Z"
    }
   },
   "outputs": [],
   "source": [
    "vitalPeriodic_heartrate_pts.to_csv('/Users/rachellehorwitz/Documents/ViTalErt/data/filtered05/vitalPeriodic_heartrate.csv', index=False)"
   ]
  },
  {
   "cell_type": "code",
   "execution_count": null,
   "metadata": {
    "ExecuteTime": {
     "end_time": "2020-06-10T01:04:53.047283Z",
     "start_time": "2020-06-10T01:04:53.026292Z"
    },
    "scrolled": false
   },
   "outputs": [],
   "source": [
    "patients"
   ]
  },
  {
   "cell_type": "code",
   "execution_count": null,
   "metadata": {},
   "outputs": [],
   "source": []
  }
 ],
 "metadata": {
  "kernelspec": {
   "display_name": "Python 3",
   "language": "python",
   "name": "python3"
  },
  "language_info": {
   "codemirror_mode": {
    "name": "ipython",
    "version": 3
   },
   "file_extension": ".py",
   "mimetype": "text/x-python",
   "name": "python",
   "nbconvert_exporter": "python",
   "pygments_lexer": "ipython3",
   "version": "3.7.7"
  },
  "toc": {
   "base_numbering": 1,
   "nav_menu": {},
   "number_sections": true,
   "sideBar": true,
   "skip_h1_title": false,
   "title_cell": "Table of Contents",
   "title_sidebar": "Contents",
   "toc_cell": false,
   "toc_position": {},
   "toc_section_display": true,
   "toc_window_display": false
  },
  "varInspector": {
   "cols": {
    "lenName": 16,
    "lenType": 16,
    "lenVar": 40
   },
   "kernels_config": {
    "python": {
     "delete_cmd_postfix": "",
     "delete_cmd_prefix": "del ",
     "library": "var_list.py",
     "varRefreshCmd": "print(var_dic_list())"
    },
    "r": {
     "delete_cmd_postfix": ") ",
     "delete_cmd_prefix": "rm(",
     "library": "var_list.r",
     "varRefreshCmd": "cat(var_dic_list()) "
    }
   },
   "types_to_exclude": [
    "module",
    "function",
    "builtin_function_or_method",
    "instance",
    "_Feature"
   ],
   "window_display": false
  }
 },
 "nbformat": 4,
 "nbformat_minor": 4
}
