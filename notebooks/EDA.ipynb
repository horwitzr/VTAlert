{
 "cells": [
  {
   "cell_type": "markdown",
   "metadata": {},
   "source": [
    "# Settings, Directory Specs, and Imports"
   ]
  },
  {
   "cell_type": "code",
   "execution_count": 1,
   "metadata": {
    "ExecuteTime": {
     "end_time": "2020-06-11T23:09:59.483123Z",
     "start_time": "2020-06-11T23:09:57.403877Z"
    }
   },
   "outputs": [],
   "source": [
    "\n",
    "# 0 = no streamlit\n",
    "# 1 = test user inputs\n",
    "# 2 = run in streamlit\n",
    "streamlit_status = 0\n",
    "#file_name_pickle_read = 'model_2020_06_06_1105.pickle'\n",
    "do_plots = 1\n",
    "\n",
    "dir_read = '/Users/rachellehorwitz/Documents/ViTalErt/data/filtered05/'\n",
    "#dir_read = '/Users/rachellehorwitz/Documents/VTAlert/over18_eicu/'\n",
    "\n",
    "from sklearn import metrics\n",
    "from sklearn.linear_model import LogisticRegression\n",
    "from sklearn.metrics import auc, confusion_matrix, plot_confusion_matrix, f1_score, roc_auc_score, roc_curve\n",
    "from sklearn.model_selection import train_test_split\n",
    "from sklearn.preprocessing import StandardScaler\n",
    "from sklearn.pipeline import make_pipeline\n",
    "import pandas as pd\n",
    "import numpy as np\n",
    "import seaborn as sns\n",
    "import matplotlib\n",
    "import matplotlib.pyplot as plt\n",
    "import streamlit as st\n",
    "import pickle\n",
    "from datetime import datetime\n",
    "import pyprojroot\n",
    "from pandas_profiling import ProfileReport\n",
    "\n",
    "pd.set_option('display.max_columns', None)\n",
    "\n",
    "matplotlib.rcParams.update({'font.size': 22})\n",
    "\n",
    "\n",
    "\n"
   ]
  },
  {
   "cell_type": "markdown",
   "metadata": {},
   "source": [
    "# eICU Data Wrangling"
   ]
  },
  {
   "cell_type": "code",
   "execution_count": 2,
   "metadata": {
    "ExecuteTime": {
     "end_time": "2020-06-11T23:10:04.160713Z",
     "start_time": "2020-06-11T23:09:59.485475Z"
    }
   },
   "outputs": [
    {
     "name": "stdout",
     "output_type": "stream",
     "text": [
      "There are 161543 patientunitstayids in \"patient.csv\" but only 158784 patientunitstayids in the hr csv file\n",
      "Cleaning that up for patient, admissiondx, diagnosis, and ptusid_pos.\n"
     ]
    }
   ],
   "source": [
    "# Read files from csv\n",
    "patient = pd.read_csv(dir_read + 'patient.csv')\n",
    "admissiondx = pd.read_csv(dir_read + 'admissiondx.csv')\n",
    "diagnosis = pd.read_csv(dir_read + 'diagnosis.csv')\n",
    "ptusid_pos = pd.read_csv(dir_read + 'pos_ptunitstayid.csv')\n",
    "hr = pd.read_csv(dir_read + 'vitalPeriodic_heartrate_first24.csv')\n",
    "hr = hr.set_index('patientunitstayid')\n",
    "\n",
    "print('There are ' + str(patient.shape[0]) + ' patientunitstayids in \"patient.csv\" but only ' \\\n",
    "      + str(hr.shape[0]) + ' patientunitstayids in the hr csv file')\n",
    "print('Cleaning that up for patient, admissiondx, diagnosis, and ptusid_pos.')\n",
    "patient = patient[patient['patientunitstayid'].isin(list(hr.index))]\n",
    "admissiondx = admissiondx[admissiondx['patientunitstayid'].isin(list(hr.index))]\n",
    "diagnosis = diagnosis[diagnosis['patientunitstayid'].isin(list(hr.index))]\n",
    "ptusid_pos = ptusid_pos[ptusid_pos['patientunitstayid'].isin(list(hr.index))]\n",
    "\n",
    "hr = hr.reset_index()"
   ]
  },
  {
   "cell_type": "code",
   "execution_count": 3,
   "metadata": {
    "ExecuteTime": {
     "end_time": "2020-06-11T23:10:04.485136Z",
     "start_time": "2020-06-11T23:10:04.162975Z"
    }
   },
   "outputs": [],
   "source": [
    "\n",
    "\n",
    "# Create dataframe of patientunitstayids in negative class\n",
    "tmp = patient[~patient['patientunitstayid'].isin(ptusid_pos['patientunitstayid'])]\n",
    "ptusid_neg = tmp[['patientunitstayid']]\n",
    "\n",
    "# Create labels\n",
    "ptusid_neg = ptusid_neg.assign(label=0)\n",
    "ptusid_pos = ptusid_pos.assign(label=1)\n",
    "\n",
    "# Add labels to \"patient\" dataframe and move 'label' column to left\n",
    "ptusid_w_label = pd.concat([ptusid_pos, ptusid_neg])\n",
    "ptusid_w_label.shape[0]\n",
    "ptusid_w_label = ptusid_w_label.set_index('patientunitstayid')\n",
    "patient = patient.set_index('patientunitstayid')\n",
    "patient = patient.join(ptusid_w_label)\n",
    "\n",
    "# Move 'label' column to left\n",
    "cols = list(patient.columns)\n",
    "cols = [cols[-1]] + cols[:-1]\n",
    "patient = patient[cols]\n",
    "\n",
    "# Add BMI column to patient\n",
    "patient = patient.assign(bmi=lambda x: x.admissionweight/((x.admissionheight/100)**2))\n",
    "\n",
    "# Remove patients who weigh less than 40 kg or more than 400 kg\n",
    "patient = patient[(patient['admissionweight'] > 40) & \\\n",
    "                   (patient['admissionweight'] < 400)]\n",
    "\n",
    "# Remove patients who are shorter than 100 cm (3.2 ft) or taller than 230 cm (~7.5 ft)\n",
    "patient = patient[(patient['admissionheight'] > 100 ) & (patient['admissionheight'] < 230)]\n",
    "\n",
    "# Remove patients with BMI > 150\n",
    "patient = patient[patient['bmi'] < 150]\n",
    "\n",
    "\n",
    "\n"
   ]
  },
  {
   "cell_type": "code",
   "execution_count": 4,
   "metadata": {
    "ExecuteTime": {
     "end_time": "2020-06-11T23:10:04.527926Z",
     "start_time": "2020-06-11T23:10:04.487108Z"
    },
    "scrolled": true
   },
   "outputs": [],
   "source": [
    "hr_pos = hr[hr['patientunitstayid'].isin(list(ptusid_pos['patientunitstayid']))]\n",
    "hr_neg = hr[hr['patientunitstayid'].isin(list(ptusid_neg['patientunitstayid']))]"
   ]
  },
  {
   "cell_type": "code",
   "execution_count": 5,
   "metadata": {
    "ExecuteTime": {
     "end_time": "2020-06-11T23:10:04.917583Z",
     "start_time": "2020-06-11T23:10:04.529383Z"
    }
   },
   "outputs": [
    {
     "name": "stdout",
     "output_type": "stream",
     "text": [
      "223.2660110885446\n",
      "114.73398891145541\n"
     ]
    }
   ],
   "source": [
    "# Dummy variables for gender, ethnicity, unitstaytype\n",
    "patient = pd.concat([patient, pd.get_dummies(patient['gender'], prefix='gender')], axis=1)\n",
    "patient = pd.concat([patient, pd.get_dummies(patient['ethnicity'], prefix='ethnicity')], axis=1)\n",
    "patient = pd.concat([patient, pd.get_dummies(patient['unitstaytype'], prefix='unitstaytype')], axis=1)\n",
    "\n",
    "nstds = 5\n",
    "print(str(169+nstds*patient['admissionheight'].std()))\n",
    "print(str(169-nstds*patient['admissionheight'].std()))\n",
    "\n",
    "patient_pos = patient[patient['label']==1]\n",
    "patient_neg = patient[patient['label']==0]\n",
    "patient[patient['label']==1].shape[0]\n",
    "\n",
    "\n",
    "# Drop unneeded columns of patient\n",
    "patient = patient.drop(columns=['hospitalid', 'wardid', 'dischargeweight', 'unitdischargetime24', \\\n",
    "                                'unitdischargeoffset', 'unitdischargelocation', 'hospitaldischargeyear',\\\n",
    "                               'hospitaldischargetime24', 'hospitaldischargelocation'])\n",
    "apacheaddx_all = patient['apacheadmissiondx'].value_counts()\n",
    "\n"
   ]
  },
  {
   "cell_type": "markdown",
   "metadata": {},
   "source": [
    "# AdmissionDX"
   ]
  },
  {
   "cell_type": "code",
   "execution_count": 6,
   "metadata": {
    "ExecuteTime": {
     "end_time": "2020-06-11T23:10:04.959826Z",
     "start_time": "2020-06-11T23:10:04.919056Z"
    }
   },
   "outputs": [
    {
     "data": {
      "text/html": [
       "<div>\n",
       "<style scoped>\n",
       "    .dataframe tbody tr th:only-of-type {\n",
       "        vertical-align: middle;\n",
       "    }\n",
       "\n",
       "    .dataframe tbody tr th {\n",
       "        vertical-align: top;\n",
       "    }\n",
       "\n",
       "    .dataframe thead th {\n",
       "        text-align: right;\n",
       "    }\n",
       "</style>\n",
       "<table border=\"1\" class=\"dataframe\">\n",
       "  <thead>\n",
       "    <tr style=\"text-align: right;\">\n",
       "      <th></th>\n",
       "      <th>patientunitstayid</th>\n",
       "      <th>diagnosisstring</th>\n",
       "    </tr>\n",
       "  </thead>\n",
       "  <tbody>\n",
       "    <tr>\n",
       "      <th>0</th>\n",
       "      <td>141168</td>\n",
       "      <td>cardiovascular|chest pain / ASHD|coronary arte...</td>\n",
       "    </tr>\n",
       "    <tr>\n",
       "      <th>1</th>\n",
       "      <td>141168</td>\n",
       "      <td>cardiovascular|ventricular disorders|cardiomyo...</td>\n",
       "    </tr>\n",
       "    <tr>\n",
       "      <th>2</th>\n",
       "      <td>141168</td>\n",
       "      <td>pulmonary|disorders of the airways|COPD</td>\n",
       "    </tr>\n",
       "    <tr>\n",
       "      <th>3</th>\n",
       "      <td>141168</td>\n",
       "      <td>pulmonary|disorders of the airways|COPD</td>\n",
       "    </tr>\n",
       "    <tr>\n",
       "      <th>4</th>\n",
       "      <td>141168</td>\n",
       "      <td>cardiovascular|ventricular disorders|congestiv...</td>\n",
       "    </tr>\n",
       "  </tbody>\n",
       "</table>\n",
       "</div>"
      ],
      "text/plain": [
       "   patientunitstayid                                    diagnosisstring\n",
       "0             141168  cardiovascular|chest pain / ASHD|coronary arte...\n",
       "1             141168  cardiovascular|ventricular disorders|cardiomyo...\n",
       "2             141168            pulmonary|disorders of the airways|COPD\n",
       "3             141168            pulmonary|disorders of the airways|COPD\n",
       "4             141168  cardiovascular|ventricular disorders|congestiv..."
      ]
     },
     "execution_count": 6,
     "metadata": {},
     "output_type": "execute_result"
    }
   ],
   "source": [
    "admissiondx = admissiondx[['patientunitstayid', 'diagnosisstring']]\n",
    "admissiondx.head()"
   ]
  },
  {
   "cell_type": "code",
   "execution_count": 7,
   "metadata": {
    "ExecuteTime": {
     "end_time": "2020-06-11T23:10:05.417810Z",
     "start_time": "2020-06-11T23:10:04.961276Z"
    }
   },
   "outputs": [
    {
     "data": {
      "text/html": [
       "<div>\n",
       "<style scoped>\n",
       "    .dataframe tbody tr th:only-of-type {\n",
       "        vertical-align: middle;\n",
       "    }\n",
       "\n",
       "    .dataframe tbody tr th {\n",
       "        vertical-align: top;\n",
       "    }\n",
       "\n",
       "    .dataframe thead th {\n",
       "        text-align: right;\n",
       "    }\n",
       "</style>\n",
       "<table border=\"1\" class=\"dataframe\">\n",
       "  <thead>\n",
       "    <tr style=\"text-align: right;\">\n",
       "      <th></th>\n",
       "      <th>patientunitstayid</th>\n",
       "      <th>diagnosisstring</th>\n",
       "    </tr>\n",
       "  </thead>\n",
       "  <tbody>\n",
       "    <tr>\n",
       "      <th>0</th>\n",
       "      <td>141168</td>\n",
       "      <td>cardiovascular|arrhythmias|atrial fibrillation...</td>\n",
       "    </tr>\n",
       "    <tr>\n",
       "      <th>1</th>\n",
       "      <td>141168</td>\n",
       "      <td>cardiovascular|chest pain / ASHD|coronary arte...</td>\n",
       "    </tr>\n",
       "    <tr>\n",
       "      <th>2</th>\n",
       "      <td>141168</td>\n",
       "      <td>cardiovascular|ventricular disorders|cardiomyo...</td>\n",
       "    </tr>\n",
       "    <tr>\n",
       "      <th>3</th>\n",
       "      <td>141168</td>\n",
       "      <td>cardiovascular|ventricular disorders|congestiv...</td>\n",
       "    </tr>\n",
       "    <tr>\n",
       "      <th>4</th>\n",
       "      <td>141168</td>\n",
       "      <td>pulmonary|disorders of the airways|COPD</td>\n",
       "    </tr>\n",
       "    <tr>\n",
       "      <th>5</th>\n",
       "      <td>141168</td>\n",
       "      <td>renal|disorder of kidney|chronic kidney disease</td>\n",
       "    </tr>\n",
       "    <tr>\n",
       "      <th>6</th>\n",
       "      <td>141203</td>\n",
       "      <td>cardiovascular|chest pain / ASHD|coronary arte...</td>\n",
       "    </tr>\n",
       "    <tr>\n",
       "      <th>7</th>\n",
       "      <td>141203</td>\n",
       "      <td>endocrine|glucose metabolism|diabetes mellitus</td>\n",
       "    </tr>\n",
       "    <tr>\n",
       "      <th>8</th>\n",
       "      <td>141203</td>\n",
       "      <td>hematology|coagulation disorders|coagulopathy</td>\n",
       "    </tr>\n",
       "    <tr>\n",
       "      <th>9</th>\n",
       "      <td>141203</td>\n",
       "      <td>infectious diseases|GI infections|diarrhea due...</td>\n",
       "    </tr>\n",
       "    <tr>\n",
       "      <th>10</th>\n",
       "      <td>141203</td>\n",
       "      <td>infectious diseases|skin, bone and joint infec...</td>\n",
       "    </tr>\n",
       "    <tr>\n",
       "      <th>11</th>\n",
       "      <td>141203</td>\n",
       "      <td>infectious diseases|skin, bone and joint infec...</td>\n",
       "    </tr>\n",
       "    <tr>\n",
       "      <th>12</th>\n",
       "      <td>141203</td>\n",
       "      <td>neurologic|altered mental status / pain|dementia</td>\n",
       "    </tr>\n",
       "    <tr>\n",
       "      <th>13</th>\n",
       "      <td>141203</td>\n",
       "      <td>neurologic|seizures|seizures</td>\n",
       "    </tr>\n",
       "    <tr>\n",
       "      <th>14</th>\n",
       "      <td>141203</td>\n",
       "      <td>pulmonary|respiratory failure|acute respirator...</td>\n",
       "    </tr>\n",
       "    <tr>\n",
       "      <th>15</th>\n",
       "      <td>141227</td>\n",
       "      <td>cardiovascular|shock / hypotension|sepsis</td>\n",
       "    </tr>\n",
       "    <tr>\n",
       "      <th>16</th>\n",
       "      <td>141229</td>\n",
       "      <td>cardiovascular|arrhythmias|atrial fibrillation</td>\n",
       "    </tr>\n",
       "    <tr>\n",
       "      <th>17</th>\n",
       "      <td>141229</td>\n",
       "      <td>cardiovascular|ventricular disorders|acute pul...</td>\n",
       "    </tr>\n",
       "    <tr>\n",
       "      <th>18</th>\n",
       "      <td>141229</td>\n",
       "      <td>cardiovascular|ventricular disorders|congestiv...</td>\n",
       "    </tr>\n",
       "    <tr>\n",
       "      <th>19</th>\n",
       "      <td>141229</td>\n",
       "      <td>neurologic|altered mental status / pain|change...</td>\n",
       "    </tr>\n",
       "    <tr>\n",
       "      <th>20</th>\n",
       "      <td>141266</td>\n",
       "      <td>cardiovascular|chest pain / ASHD|acute coronar...</td>\n",
       "    </tr>\n",
       "    <tr>\n",
       "      <th>21</th>\n",
       "      <td>141266</td>\n",
       "      <td>cardiovascular|ventricular disorders|acute pul...</td>\n",
       "    </tr>\n",
       "    <tr>\n",
       "      <th>22</th>\n",
       "      <td>141266</td>\n",
       "      <td>cardiovascular|ventricular disorders|cardiomyo...</td>\n",
       "    </tr>\n",
       "    <tr>\n",
       "      <th>23</th>\n",
       "      <td>141266</td>\n",
       "      <td>endocrine|glucose metabolism|diabetes mellitus</td>\n",
       "    </tr>\n",
       "    <tr>\n",
       "      <th>24</th>\n",
       "      <td>141266</td>\n",
       "      <td>gastrointestinal|GI bleeding / PUD|peptic ulce...</td>\n",
       "    </tr>\n",
       "    <tr>\n",
       "      <th>25</th>\n",
       "      <td>141266</td>\n",
       "      <td>gastrointestinal|GI bleeding / PUD|upper GI bl...</td>\n",
       "    </tr>\n",
       "    <tr>\n",
       "      <th>26</th>\n",
       "      <td>141266</td>\n",
       "      <td>gastrointestinal|GI bleeding / PUD|upper GI bl...</td>\n",
       "    </tr>\n",
       "    <tr>\n",
       "      <th>27</th>\n",
       "      <td>141266</td>\n",
       "      <td>infectious diseases|GU infections|lower urinar...</td>\n",
       "    </tr>\n",
       "    <tr>\n",
       "      <th>28</th>\n",
       "      <td>141266</td>\n",
       "      <td>pulmonary|disorders of the airways|obstructive...</td>\n",
       "    </tr>\n",
       "    <tr>\n",
       "      <th>29</th>\n",
       "      <td>141266</td>\n",
       "      <td>renal|disorder of kidney|acute renal failure</td>\n",
       "    </tr>\n",
       "  </tbody>\n",
       "</table>\n",
       "</div>"
      ],
      "text/plain": [
       "    patientunitstayid                                    diagnosisstring\n",
       "0              141168  cardiovascular|arrhythmias|atrial fibrillation...\n",
       "1              141168  cardiovascular|chest pain / ASHD|coronary arte...\n",
       "2              141168  cardiovascular|ventricular disorders|cardiomyo...\n",
       "3              141168  cardiovascular|ventricular disorders|congestiv...\n",
       "4              141168            pulmonary|disorders of the airways|COPD\n",
       "5              141168    renal|disorder of kidney|chronic kidney disease\n",
       "6              141203  cardiovascular|chest pain / ASHD|coronary arte...\n",
       "7              141203     endocrine|glucose metabolism|diabetes mellitus\n",
       "8              141203      hematology|coagulation disorders|coagulopathy\n",
       "9              141203  infectious diseases|GI infections|diarrhea due...\n",
       "10             141203  infectious diseases|skin, bone and joint infec...\n",
       "11             141203  infectious diseases|skin, bone and joint infec...\n",
       "12             141203   neurologic|altered mental status / pain|dementia\n",
       "13             141203                       neurologic|seizures|seizures\n",
       "14             141203  pulmonary|respiratory failure|acute respirator...\n",
       "15             141227          cardiovascular|shock / hypotension|sepsis\n",
       "16             141229     cardiovascular|arrhythmias|atrial fibrillation\n",
       "17             141229  cardiovascular|ventricular disorders|acute pul...\n",
       "18             141229  cardiovascular|ventricular disorders|congestiv...\n",
       "19             141229  neurologic|altered mental status / pain|change...\n",
       "20             141266  cardiovascular|chest pain / ASHD|acute coronar...\n",
       "21             141266  cardiovascular|ventricular disorders|acute pul...\n",
       "22             141266  cardiovascular|ventricular disorders|cardiomyo...\n",
       "23             141266     endocrine|glucose metabolism|diabetes mellitus\n",
       "24             141266  gastrointestinal|GI bleeding / PUD|peptic ulce...\n",
       "25             141266  gastrointestinal|GI bleeding / PUD|upper GI bl...\n",
       "26             141266  gastrointestinal|GI bleeding / PUD|upper GI bl...\n",
       "27             141266  infectious diseases|GU infections|lower urinar...\n",
       "28             141266  pulmonary|disorders of the airways|obstructive...\n",
       "29             141266       renal|disorder of kidney|acute renal failure"
      ]
     },
     "execution_count": 7,
     "metadata": {},
     "output_type": "execute_result"
    }
   ],
   "source": [
    "df = admissiondx.groupby(['patientunitstayid', 'diagnosisstring']).size().reset_index(name='Freq')\n",
    "df = df.drop(columns='Freq')\n",
    "df.head(30)"
   ]
  },
  {
   "cell_type": "code",
   "execution_count": 8,
   "metadata": {
    "ExecuteTime": {
     "end_time": "2020-06-11T23:10:07.442481Z",
     "start_time": "2020-06-11T23:10:05.420784Z"
    }
   },
   "outputs": [
    {
     "data": {
      "text/html": [
       "<div>\n",
       "<style scoped>\n",
       "    .dataframe tbody tr th:only-of-type {\n",
       "        vertical-align: middle;\n",
       "    }\n",
       "\n",
       "    .dataframe tbody tr th {\n",
       "        vertical-align: top;\n",
       "    }\n",
       "\n",
       "    .dataframe thead th {\n",
       "        text-align: right;\n",
       "    }\n",
       "</style>\n",
       "<table border=\"1\" class=\"dataframe\">\n",
       "  <thead>\n",
       "    <tr style=\"text-align: right;\">\n",
       "      <th></th>\n",
       "      <th>Lev1</th>\n",
       "      <th>Lev2</th>\n",
       "      <th>Lev3</th>\n",
       "      <th>3</th>\n",
       "      <th>4</th>\n",
       "      <th>5</th>\n",
       "    </tr>\n",
       "  </thead>\n",
       "  <tbody>\n",
       "    <tr>\n",
       "      <th>0</th>\n",
       "      <td>cardiovascular</td>\n",
       "      <td>arrhythmias</td>\n",
       "      <td>atrial fibrillation</td>\n",
       "      <td>with hemodynamic compromise</td>\n",
       "      <td>None</td>\n",
       "      <td>None</td>\n",
       "    </tr>\n",
       "    <tr>\n",
       "      <th>1</th>\n",
       "      <td>cardiovascular</td>\n",
       "      <td>chest pain / ASHD</td>\n",
       "      <td>coronary artery disease</td>\n",
       "      <td>known</td>\n",
       "      <td>None</td>\n",
       "      <td>None</td>\n",
       "    </tr>\n",
       "    <tr>\n",
       "      <th>2</th>\n",
       "      <td>cardiovascular</td>\n",
       "      <td>ventricular disorders</td>\n",
       "      <td>cardiomyopathy</td>\n",
       "      <td>None</td>\n",
       "      <td>None</td>\n",
       "      <td>None</td>\n",
       "    </tr>\n",
       "    <tr>\n",
       "      <th>3</th>\n",
       "      <td>cardiovascular</td>\n",
       "      <td>ventricular disorders</td>\n",
       "      <td>congestive heart failure</td>\n",
       "      <td>None</td>\n",
       "      <td>None</td>\n",
       "      <td>None</td>\n",
       "    </tr>\n",
       "    <tr>\n",
       "      <th>4</th>\n",
       "      <td>pulmonary</td>\n",
       "      <td>disorders of the airways</td>\n",
       "      <td>COPD</td>\n",
       "      <td>None</td>\n",
       "      <td>None</td>\n",
       "      <td>None</td>\n",
       "    </tr>\n",
       "  </tbody>\n",
       "</table>\n",
       "</div>"
      ],
      "text/plain": [
       "             Lev1                      Lev2                      Lev3  \\\n",
       "0  cardiovascular               arrhythmias       atrial fibrillation   \n",
       "1  cardiovascular         chest pain / ASHD   coronary artery disease   \n",
       "2  cardiovascular     ventricular disorders            cardiomyopathy   \n",
       "3  cardiovascular     ventricular disorders  congestive heart failure   \n",
       "4       pulmonary  disorders of the airways                      COPD   \n",
       "\n",
       "                             3     4     5  \n",
       "0  with hemodynamic compromise  None  None  \n",
       "1                        known  None  None  \n",
       "2                         None  None  None  \n",
       "3                         None  None  None  \n",
       "4                         None  None  None  "
      ]
     },
     "execution_count": 8,
     "metadata": {},
     "output_type": "execute_result"
    }
   ],
   "source": [
    "foo = df['diagnosisstring'].str.split(pat = '|', expand=True)\n",
    "foo = foo.rename(columns={0: 'Lev1', 1: 'Lev2', 2: 'Lev3'})\n",
    "foo.head()"
   ]
  },
  {
   "cell_type": "code",
   "execution_count": 9,
   "metadata": {
    "ExecuteTime": {
     "end_time": "2020-06-11T23:10:07.484782Z",
     "start_time": "2020-06-11T23:10:07.445894Z"
    }
   },
   "outputs": [
    {
     "data": {
      "text/html": [
       "<div>\n",
       "<style scoped>\n",
       "    .dataframe tbody tr th:only-of-type {\n",
       "        vertical-align: middle;\n",
       "    }\n",
       "\n",
       "    .dataframe tbody tr th {\n",
       "        vertical-align: top;\n",
       "    }\n",
       "\n",
       "    .dataframe thead th {\n",
       "        text-align: right;\n",
       "    }\n",
       "</style>\n",
       "<table border=\"1\" class=\"dataframe\">\n",
       "  <thead>\n",
       "    <tr style=\"text-align: right;\">\n",
       "      <th></th>\n",
       "      <th>patientunitstayid</th>\n",
       "      <th>diagnosisstring</th>\n",
       "      <th>Lev1</th>\n",
       "    </tr>\n",
       "  </thead>\n",
       "  <tbody>\n",
       "    <tr>\n",
       "      <th>0</th>\n",
       "      <td>141168</td>\n",
       "      <td>cardiovascular|arrhythmias|atrial fibrillation...</td>\n",
       "      <td>cardiovascular</td>\n",
       "    </tr>\n",
       "    <tr>\n",
       "      <th>1</th>\n",
       "      <td>141168</td>\n",
       "      <td>cardiovascular|chest pain / ASHD|coronary arte...</td>\n",
       "      <td>cardiovascular</td>\n",
       "    </tr>\n",
       "    <tr>\n",
       "      <th>2</th>\n",
       "      <td>141168</td>\n",
       "      <td>cardiovascular|ventricular disorders|cardiomyo...</td>\n",
       "      <td>cardiovascular</td>\n",
       "    </tr>\n",
       "    <tr>\n",
       "      <th>3</th>\n",
       "      <td>141168</td>\n",
       "      <td>cardiovascular|ventricular disorders|congestiv...</td>\n",
       "      <td>cardiovascular</td>\n",
       "    </tr>\n",
       "    <tr>\n",
       "      <th>4</th>\n",
       "      <td>141168</td>\n",
       "      <td>pulmonary|disorders of the airways|COPD</td>\n",
       "      <td>pulmonary</td>\n",
       "    </tr>\n",
       "    <tr>\n",
       "      <th>5</th>\n",
       "      <td>141168</td>\n",
       "      <td>renal|disorder of kidney|chronic kidney disease</td>\n",
       "      <td>renal</td>\n",
       "    </tr>\n",
       "    <tr>\n",
       "      <th>6</th>\n",
       "      <td>141203</td>\n",
       "      <td>cardiovascular|chest pain / ASHD|coronary arte...</td>\n",
       "      <td>cardiovascular</td>\n",
       "    </tr>\n",
       "    <tr>\n",
       "      <th>7</th>\n",
       "      <td>141203</td>\n",
       "      <td>endocrine|glucose metabolism|diabetes mellitus</td>\n",
       "      <td>endocrine</td>\n",
       "    </tr>\n",
       "    <tr>\n",
       "      <th>8</th>\n",
       "      <td>141203</td>\n",
       "      <td>hematology|coagulation disorders|coagulopathy</td>\n",
       "      <td>hematology</td>\n",
       "    </tr>\n",
       "    <tr>\n",
       "      <th>9</th>\n",
       "      <td>141203</td>\n",
       "      <td>infectious diseases|GI infections|diarrhea due...</td>\n",
       "      <td>infectious diseases</td>\n",
       "    </tr>\n",
       "  </tbody>\n",
       "</table>\n",
       "</div>"
      ],
      "text/plain": [
       "   patientunitstayid                                    diagnosisstring  \\\n",
       "0             141168  cardiovascular|arrhythmias|atrial fibrillation...   \n",
       "1             141168  cardiovascular|chest pain / ASHD|coronary arte...   \n",
       "2             141168  cardiovascular|ventricular disorders|cardiomyo...   \n",
       "3             141168  cardiovascular|ventricular disorders|congestiv...   \n",
       "4             141168            pulmonary|disorders of the airways|COPD   \n",
       "5             141168    renal|disorder of kidney|chronic kidney disease   \n",
       "6             141203  cardiovascular|chest pain / ASHD|coronary arte...   \n",
       "7             141203     endocrine|glucose metabolism|diabetes mellitus   \n",
       "8             141203      hematology|coagulation disorders|coagulopathy   \n",
       "9             141203  infectious diseases|GI infections|diarrhea due...   \n",
       "\n",
       "                  Lev1  \n",
       "0       cardiovascular  \n",
       "1       cardiovascular  \n",
       "2       cardiovascular  \n",
       "3       cardiovascular  \n",
       "4            pulmonary  \n",
       "5                renal  \n",
       "6       cardiovascular  \n",
       "7            endocrine  \n",
       "8           hematology  \n",
       "9  infectious diseases  "
      ]
     },
     "execution_count": 9,
     "metadata": {},
     "output_type": "execute_result"
    }
   ],
   "source": [
    "admitdx = df.join(foo[['Lev1']])\n",
    "admitdx.head(10)"
   ]
  },
  {
   "cell_type": "code",
   "execution_count": 10,
   "metadata": {
    "ExecuteTime": {
     "end_time": "2020-06-11T23:10:07.537403Z",
     "start_time": "2020-06-11T23:10:07.486388Z"
    },
    "scrolled": true
   },
   "outputs": [
    {
     "data": {
      "text/plain": [
       "Index(['patientunitstayid', 'diagnosisstring', 'Lev1'], dtype='object')"
      ]
     },
     "execution_count": 10,
     "metadata": {},
     "output_type": "execute_result"
    }
   ],
   "source": [
    "mystrings = foo['Lev1'].unique()\n",
    "admitdx.columns"
   ]
  },
  {
   "cell_type": "code",
   "execution_count": 11,
   "metadata": {
    "ExecuteTime": {
     "end_time": "2020-06-11T23:10:22.141161Z",
     "start_time": "2020-06-11T23:10:07.539179Z"
    }
   },
   "outputs": [],
   "source": [
    "addx = pd.get_dummies(admitdx['Lev1'], prefix='Lev1')\n",
    "addx2 = admitdx.groupby('patientunitstayid')['Lev1'].unique()\n",
    "#addx3 = \n",
    "#drugs3_1 = drugs3.groupby('SEQN').agg({'year':'first', 'taken_rx_med_30d_1.0’:’sum’}).reset_index()"
   ]
  },
  {
   "cell_type": "code",
   "execution_count": 12,
   "metadata": {
    "ExecuteTime": {
     "end_time": "2020-06-11T23:10:23.536742Z",
     "start_time": "2020-06-11T23:10:22.143338Z"
    },
    "scrolled": false
   },
   "outputs": [
    {
     "data": {
      "text/plain": [
       "Text(0.5, 0, 'Average HR During First 24 Hours')"
      ]
     },
     "execution_count": 12,
     "metadata": {},
     "output_type": "execute_result"
    }
   ],
   "source": [
    "%matplotlib qt\n",
    "import seaborn as sns\n",
    "\n",
    "fig = plt.figure()\n",
    "VTE = sns.distplot(patient_pos['admissionweight'], color='red', bins=20)\n",
    "noVTE = sns.distplot(patient_neg['admissionweight'], color='blue', bins=20)\n",
    "plt.xlabel('Admission Weight (kg)')\n",
    "fig.legend(labels=['VTE', 'No VTE'])\n",
    "\n",
    "fig = plt.figure()\n",
    "sns.distplot(patient_pos['age'], color='red', bins=20)\n",
    "sns.distplot(patient_neg['age'], color='blue', bins=20)\n",
    "fig.legend(labels=['VTE', 'No VTE'])\n",
    "plt.xlabel('Age (yrs)')\n",
    "\n",
    "fig = plt.figure()\n",
    "sns.distplot(patient_pos['bmi'], color='red', bins=20)\n",
    "sns.distplot(patient_neg['bmi'], color='blue', bins=20)\n",
    "plt.xlabel('BMI (kg/m^2)')\n",
    "\n",
    "fig = plt.figure()\n",
    "sns.distplot(patient_pos['admissionheight'], color='red', bins=20)\n",
    "sns.distplot(patient_neg['admissionheight'], color='blue', bins=20)\n",
    "plt.xlabel('Height (cm))')\n",
    "\n",
    "fig = plt.figure()\n",
    "sns.distplot(hr_pos['heartrate'], color='red', bins=20)\n",
    "sns.distplot(hr_neg['heartrate'], color='blue', bins=20)\n",
    "plt.xlabel('Average HR During First 24 Hours')"
   ]
  },
  {
   "cell_type": "markdown",
   "metadata": {},
   "source": [
    "# ApachePredVar"
   ]
  },
  {
   "cell_type": "code",
   "execution_count": 13,
   "metadata": {
    "ExecuteTime": {
     "end_time": "2020-06-11T23:10:24.055971Z",
     "start_time": "2020-06-11T23:10:23.538454Z"
    },
    "scrolled": true
   },
   "outputs": [
    {
     "data": {
      "text/html": [
       "<div>\n",
       "<style scoped>\n",
       "    .dataframe tbody tr th:only-of-type {\n",
       "        vertical-align: middle;\n",
       "    }\n",
       "\n",
       "    .dataframe tbody tr th {\n",
       "        vertical-align: top;\n",
       "    }\n",
       "\n",
       "    .dataframe thead th {\n",
       "        text-align: right;\n",
       "    }\n",
       "</style>\n",
       "<table border=\"1\" class=\"dataframe\">\n",
       "  <thead>\n",
       "    <tr style=\"text-align: right;\">\n",
       "      <th></th>\n",
       "      <th>verbal</th>\n",
       "      <th>motor</th>\n",
       "      <th>eyes</th>\n",
       "      <th>thrombolytics</th>\n",
       "      <th>aids</th>\n",
       "      <th>hepaticfailure</th>\n",
       "      <th>lymphoma</th>\n",
       "      <th>metastaticcancer</th>\n",
       "      <th>leukemia</th>\n",
       "      <th>immunosuppression</th>\n",
       "      <th>cirrhosis</th>\n",
       "      <th>activetx</th>\n",
       "      <th>ima</th>\n",
       "      <th>midur</th>\n",
       "      <th>oobventday1</th>\n",
       "      <th>oobintubday1</th>\n",
       "      <th>diabetes</th>\n",
       "      <th>visitnumber</th>\n",
       "    </tr>\n",
       "    <tr>\n",
       "      <th>patientunitstayid</th>\n",
       "      <th></th>\n",
       "      <th></th>\n",
       "      <th></th>\n",
       "      <th></th>\n",
       "      <th></th>\n",
       "      <th></th>\n",
       "      <th></th>\n",
       "      <th></th>\n",
       "      <th></th>\n",
       "      <th></th>\n",
       "      <th></th>\n",
       "      <th></th>\n",
       "      <th></th>\n",
       "      <th></th>\n",
       "      <th></th>\n",
       "      <th></th>\n",
       "      <th></th>\n",
       "      <th></th>\n",
       "    </tr>\n",
       "  </thead>\n",
       "  <tbody>\n",
       "    <tr>\n",
       "      <th>141168</th>\n",
       "      <td>5</td>\n",
       "      <td>6</td>\n",
       "      <td>4</td>\n",
       "      <td>0</td>\n",
       "      <td>0</td>\n",
       "      <td>0</td>\n",
       "      <td>0</td>\n",
       "      <td>0</td>\n",
       "      <td>0</td>\n",
       "      <td>0</td>\n",
       "      <td>0</td>\n",
       "      <td>1</td>\n",
       "      <td>0</td>\n",
       "      <td>0</td>\n",
       "      <td>0</td>\n",
       "      <td>0</td>\n",
       "      <td>0</td>\n",
       "      <td>1</td>\n",
       "    </tr>\n",
       "    <tr>\n",
       "      <th>141194</th>\n",
       "      <td>4</td>\n",
       "      <td>6</td>\n",
       "      <td>3</td>\n",
       "      <td>0</td>\n",
       "      <td>0</td>\n",
       "      <td>0</td>\n",
       "      <td>0</td>\n",
       "      <td>0</td>\n",
       "      <td>0</td>\n",
       "      <td>0</td>\n",
       "      <td>0</td>\n",
       "      <td>0</td>\n",
       "      <td>0</td>\n",
       "      <td>0</td>\n",
       "      <td>0</td>\n",
       "      <td>0</td>\n",
       "      <td>1</td>\n",
       "      <td>1</td>\n",
       "    </tr>\n",
       "    <tr>\n",
       "      <th>141197</th>\n",
       "      <td>5</td>\n",
       "      <td>6</td>\n",
       "      <td>4</td>\n",
       "      <td>0</td>\n",
       "      <td>0</td>\n",
       "      <td>0</td>\n",
       "      <td>0</td>\n",
       "      <td>0</td>\n",
       "      <td>0</td>\n",
       "      <td>0</td>\n",
       "      <td>0</td>\n",
       "      <td>0</td>\n",
       "      <td>0</td>\n",
       "      <td>0</td>\n",
       "      <td>0</td>\n",
       "      <td>0</td>\n",
       "      <td>0</td>\n",
       "      <td>1</td>\n",
       "    </tr>\n",
       "    <tr>\n",
       "      <th>141203</th>\n",
       "      <td>1</td>\n",
       "      <td>3</td>\n",
       "      <td>1</td>\n",
       "      <td>0</td>\n",
       "      <td>0</td>\n",
       "      <td>0</td>\n",
       "      <td>0</td>\n",
       "      <td>0</td>\n",
       "      <td>0</td>\n",
       "      <td>0</td>\n",
       "      <td>0</td>\n",
       "      <td>1</td>\n",
       "      <td>0</td>\n",
       "      <td>0</td>\n",
       "      <td>1</td>\n",
       "      <td>0</td>\n",
       "      <td>1</td>\n",
       "      <td>1</td>\n",
       "    </tr>\n",
       "    <tr>\n",
       "      <th>141208</th>\n",
       "      <td>5</td>\n",
       "      <td>6</td>\n",
       "      <td>3</td>\n",
       "      <td>0</td>\n",
       "      <td>0</td>\n",
       "      <td>0</td>\n",
       "      <td>0</td>\n",
       "      <td>0</td>\n",
       "      <td>0</td>\n",
       "      <td>0</td>\n",
       "      <td>0</td>\n",
       "      <td>0</td>\n",
       "      <td>0</td>\n",
       "      <td>0</td>\n",
       "      <td>0</td>\n",
       "      <td>0</td>\n",
       "      <td>0</td>\n",
       "      <td>1</td>\n",
       "    </tr>\n",
       "    <tr>\n",
       "      <th>...</th>\n",
       "      <td>...</td>\n",
       "      <td>...</td>\n",
       "      <td>...</td>\n",
       "      <td>...</td>\n",
       "      <td>...</td>\n",
       "      <td>...</td>\n",
       "      <td>...</td>\n",
       "      <td>...</td>\n",
       "      <td>...</td>\n",
       "      <td>...</td>\n",
       "      <td>...</td>\n",
       "      <td>...</td>\n",
       "      <td>...</td>\n",
       "      <td>...</td>\n",
       "      <td>...</td>\n",
       "      <td>...</td>\n",
       "      <td>...</td>\n",
       "      <td>...</td>\n",
       "    </tr>\n",
       "    <tr>\n",
       "      <th>3353201</th>\n",
       "      <td>5</td>\n",
       "      <td>6</td>\n",
       "      <td>3</td>\n",
       "      <td>0</td>\n",
       "      <td>0</td>\n",
       "      <td>0</td>\n",
       "      <td>0</td>\n",
       "      <td>0</td>\n",
       "      <td>0</td>\n",
       "      <td>0</td>\n",
       "      <td>0</td>\n",
       "      <td>1</td>\n",
       "      <td>0</td>\n",
       "      <td>0</td>\n",
       "      <td>1</td>\n",
       "      <td>1</td>\n",
       "      <td>0</td>\n",
       "      <td>3</td>\n",
       "    </tr>\n",
       "    <tr>\n",
       "      <th>3353216</th>\n",
       "      <td>1</td>\n",
       "      <td>5</td>\n",
       "      <td>1</td>\n",
       "      <td>0</td>\n",
       "      <td>0</td>\n",
       "      <td>0</td>\n",
       "      <td>0</td>\n",
       "      <td>0</td>\n",
       "      <td>0</td>\n",
       "      <td>0</td>\n",
       "      <td>0</td>\n",
       "      <td>1</td>\n",
       "      <td>0</td>\n",
       "      <td>0</td>\n",
       "      <td>1</td>\n",
       "      <td>1</td>\n",
       "      <td>0</td>\n",
       "      <td>1</td>\n",
       "    </tr>\n",
       "    <tr>\n",
       "      <th>3353235</th>\n",
       "      <td>5</td>\n",
       "      <td>6</td>\n",
       "      <td>4</td>\n",
       "      <td>0</td>\n",
       "      <td>0</td>\n",
       "      <td>0</td>\n",
       "      <td>0</td>\n",
       "      <td>0</td>\n",
       "      <td>0</td>\n",
       "      <td>0</td>\n",
       "      <td>0</td>\n",
       "      <td>0</td>\n",
       "      <td>0</td>\n",
       "      <td>0</td>\n",
       "      <td>0</td>\n",
       "      <td>0</td>\n",
       "      <td>0</td>\n",
       "      <td>1</td>\n",
       "    </tr>\n",
       "    <tr>\n",
       "      <th>3353251</th>\n",
       "      <td>1</td>\n",
       "      <td>1</td>\n",
       "      <td>1</td>\n",
       "      <td>0</td>\n",
       "      <td>0</td>\n",
       "      <td>0</td>\n",
       "      <td>0</td>\n",
       "      <td>0</td>\n",
       "      <td>0</td>\n",
       "      <td>0</td>\n",
       "      <td>0</td>\n",
       "      <td>1</td>\n",
       "      <td>0</td>\n",
       "      <td>0</td>\n",
       "      <td>1</td>\n",
       "      <td>1</td>\n",
       "      <td>1</td>\n",
       "      <td>1</td>\n",
       "    </tr>\n",
       "    <tr>\n",
       "      <th>3353254</th>\n",
       "      <td>5</td>\n",
       "      <td>6</td>\n",
       "      <td>4</td>\n",
       "      <td>0</td>\n",
       "      <td>0</td>\n",
       "      <td>0</td>\n",
       "      <td>0</td>\n",
       "      <td>0</td>\n",
       "      <td>0</td>\n",
       "      <td>0</td>\n",
       "      <td>0</td>\n",
       "      <td>1</td>\n",
       "      <td>0</td>\n",
       "      <td>0</td>\n",
       "      <td>0</td>\n",
       "      <td>0</td>\n",
       "      <td>0</td>\n",
       "      <td>1</td>\n",
       "    </tr>\n",
       "  </tbody>\n",
       "</table>\n",
       "<p>146267 rows × 18 columns</p>\n",
       "</div>"
      ],
      "text/plain": [
       "                   verbal  motor  eyes  thrombolytics  aids  hepaticfailure  \\\n",
       "patientunitstayid                                                             \n",
       "141168                  5      6     4              0     0               0   \n",
       "141194                  4      6     3              0     0               0   \n",
       "141197                  5      6     4              0     0               0   \n",
       "141203                  1      3     1              0     0               0   \n",
       "141208                  5      6     3              0     0               0   \n",
       "...                   ...    ...   ...            ...   ...             ...   \n",
       "3353201                 5      6     3              0     0               0   \n",
       "3353216                 1      5     1              0     0               0   \n",
       "3353235                 5      6     4              0     0               0   \n",
       "3353251                 1      1     1              0     0               0   \n",
       "3353254                 5      6     4              0     0               0   \n",
       "\n",
       "                   lymphoma  metastaticcancer  leukemia  immunosuppression  \\\n",
       "patientunitstayid                                                            \n",
       "141168                    0                 0         0                  0   \n",
       "141194                    0                 0         0                  0   \n",
       "141197                    0                 0         0                  0   \n",
       "141203                    0                 0         0                  0   \n",
       "141208                    0                 0         0                  0   \n",
       "...                     ...               ...       ...                ...   \n",
       "3353201                   0                 0         0                  0   \n",
       "3353216                   0                 0         0                  0   \n",
       "3353235                   0                 0         0                  0   \n",
       "3353251                   0                 0         0                  0   \n",
       "3353254                   0                 0         0                  0   \n",
       "\n",
       "                   cirrhosis  activetx  ima  midur  oobventday1  oobintubday1  \\\n",
       "patientunitstayid                                                               \n",
       "141168                     0         1    0      0            0             0   \n",
       "141194                     0         0    0      0            0             0   \n",
       "141197                     0         0    0      0            0             0   \n",
       "141203                     0         1    0      0            1             0   \n",
       "141208                     0         0    0      0            0             0   \n",
       "...                      ...       ...  ...    ...          ...           ...   \n",
       "3353201                    0         1    0      0            1             1   \n",
       "3353216                    0         1    0      0            1             1   \n",
       "3353235                    0         0    0      0            0             0   \n",
       "3353251                    0         1    0      0            1             1   \n",
       "3353254                    0         1    0      0            0             0   \n",
       "\n",
       "                   diabetes  visitnumber  \n",
       "patientunitstayid                         \n",
       "141168                    0            1  \n",
       "141194                    1            1  \n",
       "141197                    0            1  \n",
       "141203                    1            1  \n",
       "141208                    0            1  \n",
       "...                     ...          ...  \n",
       "3353201                   0            3  \n",
       "3353216                   0            1  \n",
       "3353235                   0            1  \n",
       "3353251                   1            1  \n",
       "3353254                   0            1  \n",
       "\n",
       "[146267 rows x 18 columns]"
      ]
     },
     "execution_count": 13,
     "metadata": {},
     "output_type": "execute_result"
    }
   ],
   "source": [
    "u_ptunitstayid = list(patient.index)\n",
    "apachepredvar = pd.read_csv('/Users/rachellehorwitz/Documents/ViTalErt/data/over18_eicu/apachePredVar.csv')\n",
    "apachepredvar = apachepredvar[apachepredvar['patientunitstayid'].isin(u_ptunitstayid)]\n",
    "\n",
    "# Drop columns based on apachepredvar_allcols.html\n",
    "apachepredvar = apachepredvar.drop(columns=['apachepredvarid', 'sicuday', 'saps3day1', 'saps3yesterday', 'saps3today', 'gender', \\\n",
    "                                    'teachtype', 'region', 'amilocation', 'bedcount', 'admitsource', 'graftcount', 'age', \\\n",
    "                                   'meds', 'diedinhospital', 'electivesurgery', 'readmit', 'managementsystem', 'var03hspxlos', \\\n",
    "                                   'ejectfx', 'day1meds', 'day1verbal', 'day1motor', 'day1eyes',  'day1pao2', 'day1fio2', \\\n",
    "                                           'ventday1', 'creatinine', 'dischargelocation', 'pao2', 'fio2']) # pao2 and fio2 are <0 too frequently\n",
    "apachepredvar = apachepredvar.drop(columns=['admitdiagnosis'])\n",
    "apachepredvar = apachepredvar[apachepredvar['verbal']!=-1] # Get rid of missing data\n",
    "apachepredvar.set_index('patientunitstayid')"
   ]
  },
  {
   "cell_type": "markdown",
   "metadata": {},
   "source": [
    "# Define X and y"
   ]
  },
  {
   "cell_type": "code",
   "execution_count": 14,
   "metadata": {
    "ExecuteTime": {
     "end_time": "2020-06-11T23:10:24.064441Z",
     "start_time": "2020-06-11T23:10:24.057413Z"
    }
   },
   "outputs": [],
   "source": [
    "Xy = patient[['label', 'age', 'admissionweight', 'admissionheight', 'bmi', 'gender_Female',\n",
    "       'ethnicity_African American', 'ethnicity_Asian', 'ethnicity_Caucasian', 'ethnicity_Hispanic',\n",
    "       'ethnicity_Native American', 'ethnicity_Other/Unknown',\n",
    "       'unitstaytype_admit', 'unitstaytype_readmit', 'unitstaytype_transfer']]"
   ]
  },
  {
   "cell_type": "code",
   "execution_count": 15,
   "metadata": {
    "ExecuteTime": {
     "end_time": "2020-06-11T23:10:24.068644Z",
     "start_time": "2020-06-11T23:10:24.065785Z"
    },
    "scrolled": true
   },
   "outputs": [
    {
     "data": {
      "text/plain": [
       "(157019, 15)"
      ]
     },
     "execution_count": 15,
     "metadata": {},
     "output_type": "execute_result"
    }
   ],
   "source": [
    "Xy.shape"
   ]
  },
  {
   "cell_type": "code",
   "execution_count": 16,
   "metadata": {
    "ExecuteTime": {
     "end_time": "2020-06-11T23:10:24.072635Z",
     "start_time": "2020-06-11T23:10:24.069939Z"
    }
   },
   "outputs": [
    {
     "data": {
      "text/plain": [
       "(146267, 19)"
      ]
     },
     "execution_count": 16,
     "metadata": {},
     "output_type": "execute_result"
    }
   ],
   "source": [
    "apachepredvar.shape"
   ]
  },
  {
   "cell_type": "code",
   "execution_count": 17,
   "metadata": {
    "ExecuteTime": {
     "end_time": "2020-06-11T23:10:24.148924Z",
     "start_time": "2020-06-11T23:10:24.074030Z"
    }
   },
   "outputs": [],
   "source": [
    "Xy2 = Xy.merge(apachepredvar, how='right', left_on='patientunitstayid', right_on='patientunitstayid')"
   ]
  },
  {
   "cell_type": "code",
   "execution_count": 18,
   "metadata": {
    "ExecuteTime": {
     "end_time": "2020-06-11T23:10:24.194360Z",
     "start_time": "2020-06-11T23:10:24.150473Z"
    }
   },
   "outputs": [],
   "source": [
    "Xy3 = Xy2.merge(hr, how='inner', left_on='patientunitstayid', right_on='patientunitstayid')"
   ]
  },
  {
   "cell_type": "code",
   "execution_count": 19,
   "metadata": {
    "ExecuteTime": {
     "end_time": "2020-06-11T23:10:24.215085Z",
     "start_time": "2020-06-11T23:10:24.195957Z"
    },
    "scrolled": true
   },
   "outputs": [
    {
     "data": {
      "text/html": [
       "<div>\n",
       "<style scoped>\n",
       "    .dataframe tbody tr th:only-of-type {\n",
       "        vertical-align: middle;\n",
       "    }\n",
       "\n",
       "    .dataframe tbody tr th {\n",
       "        vertical-align: top;\n",
       "    }\n",
       "\n",
       "    .dataframe thead th {\n",
       "        text-align: right;\n",
       "    }\n",
       "</style>\n",
       "<table border=\"1\" class=\"dataframe\">\n",
       "  <thead>\n",
       "    <tr style=\"text-align: right;\">\n",
       "      <th></th>\n",
       "      <th>patientunitstayid</th>\n",
       "      <th>label</th>\n",
       "      <th>age</th>\n",
       "      <th>admissionweight</th>\n",
       "      <th>admissionheight</th>\n",
       "      <th>bmi</th>\n",
       "      <th>gender_Female</th>\n",
       "      <th>ethnicity_African American</th>\n",
       "      <th>ethnicity_Asian</th>\n",
       "      <th>ethnicity_Caucasian</th>\n",
       "      <th>ethnicity_Hispanic</th>\n",
       "      <th>ethnicity_Native American</th>\n",
       "      <th>ethnicity_Other/Unknown</th>\n",
       "      <th>unitstaytype_admit</th>\n",
       "      <th>unitstaytype_readmit</th>\n",
       "      <th>unitstaytype_transfer</th>\n",
       "      <th>verbal</th>\n",
       "      <th>motor</th>\n",
       "      <th>eyes</th>\n",
       "      <th>thrombolytics</th>\n",
       "      <th>aids</th>\n",
       "      <th>hepaticfailure</th>\n",
       "      <th>lymphoma</th>\n",
       "      <th>metastaticcancer</th>\n",
       "      <th>leukemia</th>\n",
       "      <th>immunosuppression</th>\n",
       "      <th>cirrhosis</th>\n",
       "      <th>activetx</th>\n",
       "      <th>ima</th>\n",
       "      <th>midur</th>\n",
       "      <th>oobventday1</th>\n",
       "      <th>oobintubday1</th>\n",
       "      <th>diabetes</th>\n",
       "      <th>visitnumber</th>\n",
       "      <th>heartrate</th>\n",
       "    </tr>\n",
       "  </thead>\n",
       "  <tbody>\n",
       "    <tr>\n",
       "      <th>0</th>\n",
       "      <td>141168</td>\n",
       "      <td>0</td>\n",
       "      <td>70</td>\n",
       "      <td>84.3</td>\n",
       "      <td>152.4</td>\n",
       "      <td>36.295906</td>\n",
       "      <td>1</td>\n",
       "      <td>0</td>\n",
       "      <td>0</td>\n",
       "      <td>1</td>\n",
       "      <td>0</td>\n",
       "      <td>0</td>\n",
       "      <td>0</td>\n",
       "      <td>1</td>\n",
       "      <td>0</td>\n",
       "      <td>0</td>\n",
       "      <td>5</td>\n",
       "      <td>6</td>\n",
       "      <td>4</td>\n",
       "      <td>0</td>\n",
       "      <td>0</td>\n",
       "      <td>0</td>\n",
       "      <td>0</td>\n",
       "      <td>0</td>\n",
       "      <td>0</td>\n",
       "      <td>0</td>\n",
       "      <td>0</td>\n",
       "      <td>1</td>\n",
       "      <td>0</td>\n",
       "      <td>0</td>\n",
       "      <td>0</td>\n",
       "      <td>0</td>\n",
       "      <td>0</td>\n",
       "      <td>1</td>\n",
       "      <td>125.052830</td>\n",
       "    </tr>\n",
       "    <tr>\n",
       "      <th>1</th>\n",
       "      <td>141194</td>\n",
       "      <td>0</td>\n",
       "      <td>68</td>\n",
       "      <td>73.9</td>\n",
       "      <td>180.3</td>\n",
       "      <td>22.732803</td>\n",
       "      <td>0</td>\n",
       "      <td>0</td>\n",
       "      <td>0</td>\n",
       "      <td>1</td>\n",
       "      <td>0</td>\n",
       "      <td>0</td>\n",
       "      <td>0</td>\n",
       "      <td>1</td>\n",
       "      <td>0</td>\n",
       "      <td>0</td>\n",
       "      <td>4</td>\n",
       "      <td>6</td>\n",
       "      <td>3</td>\n",
       "      <td>0</td>\n",
       "      <td>0</td>\n",
       "      <td>0</td>\n",
       "      <td>0</td>\n",
       "      <td>0</td>\n",
       "      <td>0</td>\n",
       "      <td>0</td>\n",
       "      <td>0</td>\n",
       "      <td>0</td>\n",
       "      <td>0</td>\n",
       "      <td>0</td>\n",
       "      <td>0</td>\n",
       "      <td>0</td>\n",
       "      <td>1</td>\n",
       "      <td>1</td>\n",
       "      <td>86.860627</td>\n",
       "    </tr>\n",
       "    <tr>\n",
       "      <th>2</th>\n",
       "      <td>141197</td>\n",
       "      <td>0</td>\n",
       "      <td>71</td>\n",
       "      <td>102.1</td>\n",
       "      <td>162.6</td>\n",
       "      <td>38.617545</td>\n",
       "      <td>0</td>\n",
       "      <td>0</td>\n",
       "      <td>0</td>\n",
       "      <td>1</td>\n",
       "      <td>0</td>\n",
       "      <td>0</td>\n",
       "      <td>0</td>\n",
       "      <td>1</td>\n",
       "      <td>0</td>\n",
       "      <td>0</td>\n",
       "      <td>5</td>\n",
       "      <td>6</td>\n",
       "      <td>4</td>\n",
       "      <td>0</td>\n",
       "      <td>0</td>\n",
       "      <td>0</td>\n",
       "      <td>0</td>\n",
       "      <td>0</td>\n",
       "      <td>0</td>\n",
       "      <td>0</td>\n",
       "      <td>0</td>\n",
       "      <td>0</td>\n",
       "      <td>0</td>\n",
       "      <td>0</td>\n",
       "      <td>0</td>\n",
       "      <td>0</td>\n",
       "      <td>0</td>\n",
       "      <td>1</td>\n",
       "      <td>97.307692</td>\n",
       "    </tr>\n",
       "    <tr>\n",
       "      <th>3</th>\n",
       "      <td>141203</td>\n",
       "      <td>0</td>\n",
       "      <td>77</td>\n",
       "      <td>70.2</td>\n",
       "      <td>160.0</td>\n",
       "      <td>27.421875</td>\n",
       "      <td>1</td>\n",
       "      <td>0</td>\n",
       "      <td>0</td>\n",
       "      <td>1</td>\n",
       "      <td>0</td>\n",
       "      <td>0</td>\n",
       "      <td>0</td>\n",
       "      <td>1</td>\n",
       "      <td>0</td>\n",
       "      <td>0</td>\n",
       "      <td>1</td>\n",
       "      <td>3</td>\n",
       "      <td>1</td>\n",
       "      <td>0</td>\n",
       "      <td>0</td>\n",
       "      <td>0</td>\n",
       "      <td>0</td>\n",
       "      <td>0</td>\n",
       "      <td>0</td>\n",
       "      <td>0</td>\n",
       "      <td>0</td>\n",
       "      <td>1</td>\n",
       "      <td>0</td>\n",
       "      <td>0</td>\n",
       "      <td>1</td>\n",
       "      <td>0</td>\n",
       "      <td>1</td>\n",
       "      <td>1</td>\n",
       "      <td>91.543554</td>\n",
       "    </tr>\n",
       "    <tr>\n",
       "      <th>4</th>\n",
       "      <td>141208</td>\n",
       "      <td>0</td>\n",
       "      <td>25</td>\n",
       "      <td>95.3</td>\n",
       "      <td>172.7</td>\n",
       "      <td>31.952749</td>\n",
       "      <td>1</td>\n",
       "      <td>0</td>\n",
       "      <td>0</td>\n",
       "      <td>1</td>\n",
       "      <td>0</td>\n",
       "      <td>0</td>\n",
       "      <td>0</td>\n",
       "      <td>1</td>\n",
       "      <td>0</td>\n",
       "      <td>0</td>\n",
       "      <td>5</td>\n",
       "      <td>6</td>\n",
       "      <td>3</td>\n",
       "      <td>0</td>\n",
       "      <td>0</td>\n",
       "      <td>0</td>\n",
       "      <td>0</td>\n",
       "      <td>0</td>\n",
       "      <td>0</td>\n",
       "      <td>0</td>\n",
       "      <td>0</td>\n",
       "      <td>0</td>\n",
       "      <td>0</td>\n",
       "      <td>0</td>\n",
       "      <td>0</td>\n",
       "      <td>0</td>\n",
       "      <td>0</td>\n",
       "      <td>1</td>\n",
       "      <td>77.817460</td>\n",
       "    </tr>\n",
       "  </tbody>\n",
       "</table>\n",
       "</div>"
      ],
      "text/plain": [
       "   patientunitstayid  label  age  admissionweight  admissionheight        bmi  \\\n",
       "0             141168      0   70             84.3            152.4  36.295906   \n",
       "1             141194      0   68             73.9            180.3  22.732803   \n",
       "2             141197      0   71            102.1            162.6  38.617545   \n",
       "3             141203      0   77             70.2            160.0  27.421875   \n",
       "4             141208      0   25             95.3            172.7  31.952749   \n",
       "\n",
       "   gender_Female  ethnicity_African American  ethnicity_Asian  \\\n",
       "0              1                           0                0   \n",
       "1              0                           0                0   \n",
       "2              0                           0                0   \n",
       "3              1                           0                0   \n",
       "4              1                           0                0   \n",
       "\n",
       "   ethnicity_Caucasian  ethnicity_Hispanic  ethnicity_Native American  \\\n",
       "0                    1                   0                          0   \n",
       "1                    1                   0                          0   \n",
       "2                    1                   0                          0   \n",
       "3                    1                   0                          0   \n",
       "4                    1                   0                          0   \n",
       "\n",
       "   ethnicity_Other/Unknown  unitstaytype_admit  unitstaytype_readmit  \\\n",
       "0                        0                   1                     0   \n",
       "1                        0                   1                     0   \n",
       "2                        0                   1                     0   \n",
       "3                        0                   1                     0   \n",
       "4                        0                   1                     0   \n",
       "\n",
       "   unitstaytype_transfer  verbal  motor  eyes  thrombolytics  aids  \\\n",
       "0                      0       5      6     4              0     0   \n",
       "1                      0       4      6     3              0     0   \n",
       "2                      0       5      6     4              0     0   \n",
       "3                      0       1      3     1              0     0   \n",
       "4                      0       5      6     3              0     0   \n",
       "\n",
       "   hepaticfailure  lymphoma  metastaticcancer  leukemia  immunosuppression  \\\n",
       "0               0         0                 0         0                  0   \n",
       "1               0         0                 0         0                  0   \n",
       "2               0         0                 0         0                  0   \n",
       "3               0         0                 0         0                  0   \n",
       "4               0         0                 0         0                  0   \n",
       "\n",
       "   cirrhosis  activetx  ima  midur  oobventday1  oobintubday1  diabetes  \\\n",
       "0          0         1    0      0            0             0         0   \n",
       "1          0         0    0      0            0             0         1   \n",
       "2          0         0    0      0            0             0         0   \n",
       "3          0         1    0      0            1             0         1   \n",
       "4          0         0    0      0            0             0         0   \n",
       "\n",
       "   visitnumber   heartrate  \n",
       "0            1  125.052830  \n",
       "1            1   86.860627  \n",
       "2            1   97.307692  \n",
       "3            1   91.543554  \n",
       "4            1   77.817460  "
      ]
     },
     "execution_count": 19,
     "metadata": {},
     "output_type": "execute_result"
    }
   ],
   "source": [
    "Xy3.head()"
   ]
  },
  {
   "cell_type": "code",
   "execution_count": 20,
   "metadata": {
    "ExecuteTime": {
     "end_time": "2020-06-11T23:10:24.219215Z",
     "start_time": "2020-06-11T23:10:24.216324Z"
    }
   },
   "outputs": [
    {
     "data": {
      "text/plain": [
       "146267"
      ]
     },
     "execution_count": 20,
     "metadata": {},
     "output_type": "execute_result"
    }
   ],
   "source": [
    "Xy3.shape[0]"
   ]
  },
  {
   "cell_type": "code",
   "execution_count": 21,
   "metadata": {
    "ExecuteTime": {
     "end_time": "2020-06-11T23:10:24.266922Z",
     "start_time": "2020-06-11T23:10:24.220644Z"
    }
   },
   "outputs": [
    {
     "data": {
      "text/plain": [
       "145815"
      ]
     },
     "execution_count": 21,
     "metadata": {},
     "output_type": "execute_result"
    }
   ],
   "source": [
    "Xy3[Xy3['label']==0].shape[0]"
   ]
  },
  {
   "cell_type": "code",
   "execution_count": 22,
   "metadata": {
    "ExecuteTime": {
     "end_time": "2020-06-11T23:10:24.273518Z",
     "start_time": "2020-06-11T23:10:24.268596Z"
    }
   },
   "outputs": [
    {
     "data": {
      "text/plain": [
       "452"
      ]
     },
     "execution_count": 22,
     "metadata": {},
     "output_type": "execute_result"
    }
   ],
   "source": [
    "Xy3[Xy3['label']==1].shape[0]"
   ]
  },
  {
   "cell_type": "code",
   "execution_count": 23,
   "metadata": {
    "ExecuteTime": {
     "end_time": "2020-06-11T23:10:24.283382Z",
     "start_time": "2020-06-11T23:10:24.280252Z"
    }
   },
   "outputs": [
    {
     "data": {
      "text/plain": [
       "(35,)"
      ]
     },
     "execution_count": 23,
     "metadata": {},
     "output_type": "execute_result"
    }
   ],
   "source": [
    "Xy3.columns.shape"
   ]
  },
  {
   "cell_type": "code",
   "execution_count": 24,
   "metadata": {
    "ExecuteTime": {
     "end_time": "2020-06-11T23:10:52.312444Z",
     "start_time": "2020-06-11T23:10:52.308733Z"
    }
   },
   "outputs": [
    {
     "data": {
      "text/plain": [
       "Index(['patientunitstayid', 'label', 'age', 'admissionweight',\n",
       "       'admissionheight', 'bmi', 'gender_Female', 'ethnicity_African American',\n",
       "       'ethnicity_Asian', 'ethnicity_Caucasian', 'ethnicity_Hispanic',\n",
       "       'ethnicity_Native American', 'ethnicity_Other/Unknown',\n",
       "       'unitstaytype_admit', 'unitstaytype_readmit', 'unitstaytype_transfer',\n",
       "       'verbal', 'motor', 'eyes', 'thrombolytics', 'aids', 'hepaticfailure',\n",
       "       'lymphoma', 'metastaticcancer', 'leukemia', 'immunosuppression',\n",
       "       'cirrhosis', 'activetx', 'ima', 'midur', 'oobventday1', 'oobintubday1',\n",
       "       'diabetes', 'visitnumber', 'heartrate'],\n",
       "      dtype='object')"
      ]
     },
     "execution_count": 24,
     "metadata": {},
     "output_type": "execute_result"
    }
   ],
   "source": [
    "Xy3.columns"
   ]
  },
  {
   "cell_type": "code",
   "execution_count": 25,
   "metadata": {
    "ExecuteTime": {
     "end_time": "2020-06-11T23:14:17.694921Z",
     "start_time": "2020-06-11T23:14:17.640412Z"
    }
   },
   "outputs": [],
   "source": [
    "profile = ProfileReport(Xy3, title='Pandas Profiling Report')"
   ]
  },
  {
   "cell_type": "code",
   "execution_count": 26,
   "metadata": {
    "ExecuteTime": {
     "end_time": "2020-06-11T23:15:06.097812Z",
     "start_time": "2020-06-11T23:14:25.530131Z"
    }
   },
   "outputs": [
    {
     "data": {
      "application/vnd.jupyter.widget-view+json": {
       "model_id": "767d75e3e700471f921ec1d54d168958",
       "version_major": 2,
       "version_minor": 0
      },
      "text/plain": [
       "HBox(children=(FloatProgress(value=0.0, description='Summarize dataset', max=49.0, style=ProgressStyle(descrip…"
      ]
     },
     "metadata": {},
     "output_type": "display_data"
    },
    {
     "name": "stdout",
     "output_type": "stream",
     "text": [
      "\n"
     ]
    },
    {
     "data": {
      "application/vnd.jupyter.widget-view+json": {
       "model_id": "9efc125d387141fdb83fbda0e8cdff4a",
       "version_major": 2,
       "version_minor": 0
      },
      "text/plain": [
       "HBox(children=(FloatProgress(value=0.0, description='Generate report structure', max=1.0, style=ProgressStyle(…"
      ]
     },
     "metadata": {},
     "output_type": "display_data"
    },
    {
     "name": "stdout",
     "output_type": "stream",
     "text": [
      "\n"
     ]
    },
    {
     "data": {
      "application/vnd.jupyter.widget-view+json": {
       "model_id": "92893ec81e284d1cba7e0a8c39eeb349",
       "version_major": 2,
       "version_minor": 0
      },
      "text/plain": [
       "HBox(children=(FloatProgress(value=0.0, description='Render HTML', max=1.0, style=ProgressStyle(description_wi…"
      ]
     },
     "metadata": {},
     "output_type": "display_data"
    },
    {
     "name": "stdout",
     "output_type": "stream",
     "text": [
      "\n"
     ]
    },
    {
     "data": {
      "application/vnd.jupyter.widget-view+json": {
       "model_id": "f0cf22de489d49169b2b8fac2d5e2401",
       "version_major": 2,
       "version_minor": 0
      },
      "text/plain": [
       "HBox(children=(FloatProgress(value=0.0, description='Export report to file', max=1.0, style=ProgressStyle(desc…"
      ]
     },
     "metadata": {},
     "output_type": "display_data"
    },
    {
     "name": "stdout",
     "output_type": "stream",
     "text": [
      "\n"
     ]
    }
   ],
   "source": [
    "profile.to_file(\"X_2020_06_11.html\")"
   ]
  },
  {
   "cell_type": "code",
   "execution_count": 27,
   "metadata": {
    "ExecuteTime": {
     "end_time": "2020-06-11T23:16:58.251047Z",
     "start_time": "2020-06-11T23:16:57.076226Z"
    }
   },
   "outputs": [],
   "source": [
    "Xy3.to_csv('Xy_2020_06_11_1916.csv', index=False)"
   ]
  }
 ],
 "metadata": {
  "kernelspec": {
   "display_name": "Python 3",
   "language": "python",
   "name": "python3"
  },
  "language_info": {
   "codemirror_mode": {
    "name": "ipython",
    "version": 3
   },
   "file_extension": ".py",
   "mimetype": "text/x-python",
   "name": "python",
   "nbconvert_exporter": "python",
   "pygments_lexer": "ipython3",
   "version": "3.7.7"
  },
  "toc": {
   "base_numbering": 1,
   "nav_menu": {},
   "number_sections": true,
   "sideBar": true,
   "skip_h1_title": false,
   "title_cell": "Table of Contents",
   "title_sidebar": "Contents",
   "toc_cell": false,
   "toc_position": {},
   "toc_section_display": true,
   "toc_window_display": false
  },
  "varInspector": {
   "cols": {
    "lenName": 16,
    "lenType": 16,
    "lenVar": 40
   },
   "kernels_config": {
    "python": {
     "delete_cmd_postfix": "",
     "delete_cmd_prefix": "del ",
     "library": "var_list.py",
     "varRefreshCmd": "print(var_dic_list())"
    },
    "r": {
     "delete_cmd_postfix": ") ",
     "delete_cmd_prefix": "rm(",
     "library": "var_list.r",
     "varRefreshCmd": "cat(var_dic_list()) "
    }
   },
   "position": {
    "height": "567px",
    "left": "1029px",
    "right": "20px",
    "top": "76px",
    "width": "536px"
   },
   "types_to_exclude": [
    "module",
    "function",
    "builtin_function_or_method",
    "instance",
    "_Feature"
   ],
   "window_display": false
  }
 },
 "nbformat": 4,
 "nbformat_minor": 4
}
