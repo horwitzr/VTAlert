{
 "cells": [
  {
   "cell_type": "code",
   "execution_count": null,
   "metadata": {},
   "outputs": [],
   "source": []
  },
  {
   "cell_type": "markdown",
   "metadata": {
    "ExecuteTime": {
     "end_time": "2020-06-04T23:26:49.428774Z",
     "start_time": "2020-06-04T23:26:49.426270Z"
    }
   },
   "source": [
    "# Settings, Directory Specs, and Imports"
   ]
  },
  {
   "cell_type": "code",
   "execution_count": 1,
   "metadata": {
    "ExecuteTime": {
     "end_time": "2020-06-12T19:52:46.299237Z",
     "start_time": "2020-06-12T19:52:45.484146Z"
    }
   },
   "outputs": [],
   "source": [
    "# 0 = no streamlit\n",
    "# 1 = test user inputs\n",
    "# 2 = run in streamlit\n",
    "streamlit_status = 0\n",
    "#file_name_pickle_read = 'model_2020_06_06_1105.pickle'\n",
    "do_plots = 1\n",
    "\n",
    "dir_read = '/Users/rachellehorwitz/Documents/ViTalErt/data/filtered05/'\n",
    "#dir_read = '/Users/rachellehorwitz/Documents/VTAlert/over18_eicu/'\n",
    "\n",
    "from sklearn import metrics\n",
    "from sklearn.linear_model import LogisticRegression\n",
    "from sklearn.metrics import auc, confusion_matrix, plot_confusion_matrix, f1_score, roc_auc_score, roc_curve\n",
    "from sklearn.model_selection import GridSearchCV, learning_curve, train_test_split, ShuffleSplit, StratifiedKFold\n",
    "from sklearn.preprocessing import StandardScaler\n",
    "from sklearn.pipeline import make_pipeline\n",
    "import pandas as pd\n",
    "import numpy as np\n",
    "import seaborn as sns\n",
    "import matplotlib\n",
    "import matplotlib.pyplot as plt\n",
    "import streamlit as st\n",
    "import pickle\n",
    "from datetime import datetime\n",
    "import pyprojroot\n",
    "\n",
    "\n",
    "matplotlib.rcParams.update({'font.size': 22})"
   ]
  },
  {
   "cell_type": "markdown",
   "metadata": {},
   "source": [
    "# Function Definitions"
   ]
  },
  {
   "cell_type": "code",
   "execution_count": 2,
   "metadata": {
    "ExecuteTime": {
     "end_time": "2020-06-12T19:52:46.304753Z",
     "start_time": "2020-06-12T19:52:46.300808Z"
    }
   },
   "outputs": [],
   "source": [
    "def now_to_str():\n",
    "    now = str(datetime.now())\n",
    "    return now[0:4] + '_' + now[5:7] + '_' + now[8:10] + '_' + now[11:13] + now[14:16]"
   ]
  },
  {
   "cell_type": "markdown",
   "metadata": {},
   "source": [
    "# Defining X and y"
   ]
  },
  {
   "cell_type": "code",
   "execution_count": null,
   "metadata": {
    "ExecuteTime": {
     "end_time": "2020-06-12T00:08:40.144806Z",
     "start_time": "2020-06-12T00:08:39.886306Z"
    }
   },
   "outputs": [],
   "source": []
  },
  {
   "cell_type": "code",
   "execution_count": 3,
   "metadata": {
    "ExecuteTime": {
     "end_time": "2020-06-12T19:52:46.625388Z",
     "start_time": "2020-06-12T19:52:46.307300Z"
    }
   },
   "outputs": [
    {
     "data": {
      "text/plain": [
       "(30,)"
      ]
     },
     "execution_count": 3,
     "metadata": {},
     "output_type": "execute_result"
    }
   ],
   "source": [
    "Xy = pd.read_csv(dir_read + 'Xy_2020_06_12_1524.csv')\n",
    "Xy = Xy.set_index('patientunitstayid')\n",
    "y = Xy.pop('label')\n",
    "X = Xy.copy()\n",
    "X.columns.shape"
   ]
  },
  {
   "cell_type": "code",
   "execution_count": 4,
   "metadata": {
    "ExecuteTime": {
     "end_time": "2020-06-12T19:52:46.644935Z",
     "start_time": "2020-06-12T19:52:46.627706Z"
    }
   },
   "outputs": [
    {
     "data": {
      "text/html": [
       "<div>\n",
       "<style scoped>\n",
       "    .dataframe tbody tr th:only-of-type {\n",
       "        vertical-align: middle;\n",
       "    }\n",
       "\n",
       "    .dataframe tbody tr th {\n",
       "        vertical-align: top;\n",
       "    }\n",
       "\n",
       "    .dataframe thead th {\n",
       "        text-align: right;\n",
       "    }\n",
       "</style>\n",
       "<table border=\"1\" class=\"dataframe\">\n",
       "  <thead>\n",
       "    <tr style=\"text-align: right;\">\n",
       "      <th></th>\n",
       "      <th>age</th>\n",
       "      <th>admissionweight</th>\n",
       "      <th>admissionheight</th>\n",
       "      <th>bmi</th>\n",
       "      <th>gender_Female</th>\n",
       "      <th>ethnicity_African American</th>\n",
       "      <th>ethnicity_Asian</th>\n",
       "      <th>ethnicity_Caucasian</th>\n",
       "      <th>ethnicity_Hispanic</th>\n",
       "      <th>ethnicity_Native American</th>\n",
       "      <th>...</th>\n",
       "      <th>immunosuppression</th>\n",
       "      <th>cirrhosis</th>\n",
       "      <th>activetx</th>\n",
       "      <th>ima</th>\n",
       "      <th>midur</th>\n",
       "      <th>oobventday1</th>\n",
       "      <th>oobintubday1</th>\n",
       "      <th>diabetes</th>\n",
       "      <th>visitnumber</th>\n",
       "      <th>heartrate</th>\n",
       "    </tr>\n",
       "    <tr>\n",
       "      <th>patientunitstayid</th>\n",
       "      <th></th>\n",
       "      <th></th>\n",
       "      <th></th>\n",
       "      <th></th>\n",
       "      <th></th>\n",
       "      <th></th>\n",
       "      <th></th>\n",
       "      <th></th>\n",
       "      <th></th>\n",
       "      <th></th>\n",
       "      <th></th>\n",
       "      <th></th>\n",
       "      <th></th>\n",
       "      <th></th>\n",
       "      <th></th>\n",
       "      <th></th>\n",
       "      <th></th>\n",
       "      <th></th>\n",
       "      <th></th>\n",
       "      <th></th>\n",
       "      <th></th>\n",
       "    </tr>\n",
       "  </thead>\n",
       "  <tbody>\n",
       "    <tr>\n",
       "      <th>141168</th>\n",
       "      <td>70</td>\n",
       "      <td>84.3</td>\n",
       "      <td>152.4</td>\n",
       "      <td>36.295906</td>\n",
       "      <td>1</td>\n",
       "      <td>0</td>\n",
       "      <td>0</td>\n",
       "      <td>1</td>\n",
       "      <td>0</td>\n",
       "      <td>0</td>\n",
       "      <td>...</td>\n",
       "      <td>0</td>\n",
       "      <td>0</td>\n",
       "      <td>1</td>\n",
       "      <td>0</td>\n",
       "      <td>0</td>\n",
       "      <td>0</td>\n",
       "      <td>0</td>\n",
       "      <td>0</td>\n",
       "      <td>1</td>\n",
       "      <td>125.052830</td>\n",
       "    </tr>\n",
       "    <tr>\n",
       "      <th>141194</th>\n",
       "      <td>68</td>\n",
       "      <td>73.9</td>\n",
       "      <td>180.3</td>\n",
       "      <td>22.732803</td>\n",
       "      <td>0</td>\n",
       "      <td>0</td>\n",
       "      <td>0</td>\n",
       "      <td>1</td>\n",
       "      <td>0</td>\n",
       "      <td>0</td>\n",
       "      <td>...</td>\n",
       "      <td>0</td>\n",
       "      <td>0</td>\n",
       "      <td>0</td>\n",
       "      <td>0</td>\n",
       "      <td>0</td>\n",
       "      <td>0</td>\n",
       "      <td>0</td>\n",
       "      <td>1</td>\n",
       "      <td>1</td>\n",
       "      <td>86.860627</td>\n",
       "    </tr>\n",
       "    <tr>\n",
       "      <th>141197</th>\n",
       "      <td>71</td>\n",
       "      <td>102.1</td>\n",
       "      <td>162.6</td>\n",
       "      <td>38.617545</td>\n",
       "      <td>0</td>\n",
       "      <td>0</td>\n",
       "      <td>0</td>\n",
       "      <td>1</td>\n",
       "      <td>0</td>\n",
       "      <td>0</td>\n",
       "      <td>...</td>\n",
       "      <td>0</td>\n",
       "      <td>0</td>\n",
       "      <td>0</td>\n",
       "      <td>0</td>\n",
       "      <td>0</td>\n",
       "      <td>0</td>\n",
       "      <td>0</td>\n",
       "      <td>0</td>\n",
       "      <td>1</td>\n",
       "      <td>97.307692</td>\n",
       "    </tr>\n",
       "    <tr>\n",
       "      <th>141203</th>\n",
       "      <td>77</td>\n",
       "      <td>70.2</td>\n",
       "      <td>160.0</td>\n",
       "      <td>27.421875</td>\n",
       "      <td>1</td>\n",
       "      <td>0</td>\n",
       "      <td>0</td>\n",
       "      <td>1</td>\n",
       "      <td>0</td>\n",
       "      <td>0</td>\n",
       "      <td>...</td>\n",
       "      <td>0</td>\n",
       "      <td>0</td>\n",
       "      <td>1</td>\n",
       "      <td>0</td>\n",
       "      <td>0</td>\n",
       "      <td>1</td>\n",
       "      <td>0</td>\n",
       "      <td>1</td>\n",
       "      <td>1</td>\n",
       "      <td>91.543554</td>\n",
       "    </tr>\n",
       "    <tr>\n",
       "      <th>141208</th>\n",
       "      <td>25</td>\n",
       "      <td>95.3</td>\n",
       "      <td>172.7</td>\n",
       "      <td>31.952749</td>\n",
       "      <td>1</td>\n",
       "      <td>0</td>\n",
       "      <td>0</td>\n",
       "      <td>1</td>\n",
       "      <td>0</td>\n",
       "      <td>0</td>\n",
       "      <td>...</td>\n",
       "      <td>0</td>\n",
       "      <td>0</td>\n",
       "      <td>0</td>\n",
       "      <td>0</td>\n",
       "      <td>0</td>\n",
       "      <td>0</td>\n",
       "      <td>0</td>\n",
       "      <td>0</td>\n",
       "      <td>1</td>\n",
       "      <td>77.817460</td>\n",
       "    </tr>\n",
       "  </tbody>\n",
       "</table>\n",
       "<p>5 rows × 30 columns</p>\n",
       "</div>"
      ],
      "text/plain": [
       "                   age  admissionweight  admissionheight        bmi  \\\n",
       "patientunitstayid                                                     \n",
       "141168              70             84.3            152.4  36.295906   \n",
       "141194              68             73.9            180.3  22.732803   \n",
       "141197              71            102.1            162.6  38.617545   \n",
       "141203              77             70.2            160.0  27.421875   \n",
       "141208              25             95.3            172.7  31.952749   \n",
       "\n",
       "                   gender_Female  ethnicity_African American  ethnicity_Asian  \\\n",
       "patientunitstayid                                                               \n",
       "141168                         1                           0                0   \n",
       "141194                         0                           0                0   \n",
       "141197                         0                           0                0   \n",
       "141203                         1                           0                0   \n",
       "141208                         1                           0                0   \n",
       "\n",
       "                   ethnicity_Caucasian  ethnicity_Hispanic  \\\n",
       "patientunitstayid                                            \n",
       "141168                               1                   0   \n",
       "141194                               1                   0   \n",
       "141197                               1                   0   \n",
       "141203                               1                   0   \n",
       "141208                               1                   0   \n",
       "\n",
       "                   ethnicity_Native American  ...  immunosuppression  \\\n",
       "patientunitstayid                             ...                      \n",
       "141168                                     0  ...                  0   \n",
       "141194                                     0  ...                  0   \n",
       "141197                                     0  ...                  0   \n",
       "141203                                     0  ...                  0   \n",
       "141208                                     0  ...                  0   \n",
       "\n",
       "                   cirrhosis  activetx  ima  midur  oobventday1  oobintubday1  \\\n",
       "patientunitstayid                                                               \n",
       "141168                     0         1    0      0            0             0   \n",
       "141194                     0         0    0      0            0             0   \n",
       "141197                     0         0    0      0            0             0   \n",
       "141203                     0         1    0      0            1             0   \n",
       "141208                     0         0    0      0            0             0   \n",
       "\n",
       "                   diabetes  visitnumber   heartrate  \n",
       "patientunitstayid                                     \n",
       "141168                    0            1  125.052830  \n",
       "141194                    1            1   86.860627  \n",
       "141197                    0            1   97.307692  \n",
       "141203                    1            1   91.543554  \n",
       "141208                    0            1   77.817460  \n",
       "\n",
       "[5 rows x 30 columns]"
      ]
     },
     "execution_count": 4,
     "metadata": {},
     "output_type": "execute_result"
    }
   ],
   "source": [
    "X.head()"
   ]
  },
  {
   "cell_type": "code",
   "execution_count": 5,
   "metadata": {
    "ExecuteTime": {
     "end_time": "2020-06-12T19:52:46.649042Z",
     "start_time": "2020-06-12T19:52:46.646980Z"
    }
   },
   "outputs": [],
   "source": [
    "cols = list(X.columns)"
   ]
  },
  {
   "cell_type": "code",
   "execution_count": 6,
   "metadata": {
    "ExecuteTime": {
     "end_time": "2020-06-12T19:52:46.653609Z",
     "start_time": "2020-06-12T19:52:46.650372Z"
    },
    "scrolled": true
   },
   "outputs": [
    {
     "data": {
      "text/plain": [
       "['age',\n",
       " 'admissionweight',\n",
       " 'admissionheight',\n",
       " 'bmi',\n",
       " 'gender_Female',\n",
       " 'ethnicity_African American',\n",
       " 'ethnicity_Asian',\n",
       " 'ethnicity_Caucasian',\n",
       " 'ethnicity_Hispanic',\n",
       " 'ethnicity_Native American',\n",
       " 'ethnicity_Other/Unknown',\n",
       " 'verbal',\n",
       " 'motor',\n",
       " 'eyes',\n",
       " 'thrombolytics',\n",
       " 'aids',\n",
       " 'hepaticfailure',\n",
       " 'lymphoma',\n",
       " 'metastaticcancer',\n",
       " 'leukemia',\n",
       " 'immunosuppression',\n",
       " 'cirrhosis',\n",
       " 'activetx',\n",
       " 'ima',\n",
       " 'midur',\n",
       " 'oobventday1',\n",
       " 'oobintubday1',\n",
       " 'diabetes',\n",
       " 'visitnumber',\n",
       " 'heartrate']"
      ]
     },
     "execution_count": 6,
     "metadata": {},
     "output_type": "execute_result"
    }
   ],
   "source": [
    "cols"
   ]
  },
  {
   "cell_type": "code",
   "execution_count": 7,
   "metadata": {
    "ExecuteTime": {
     "end_time": "2020-06-12T19:52:46.658172Z",
     "start_time": "2020-06-12T19:52:46.655329Z"
    }
   },
   "outputs": [],
   "source": [
    "vars_categ = ['gender_Female', 'ethnicity_AfricanAmerican', 'ethnicity_Asian', 'ethnicity_Caucasian', \\\n",
    "             'ethnicity_Hispanic', 'ethnicity_NativeAmerican', 'ethnicity_Other/Unknown',\\\n",
    "              'unitstaytype_admit', 'unitstaytype_readmit', 'unitstaytype_transfer', \\\n",
    "             'thrombolytics', 'aids', 'hepaticfailure' 'lymphoma', 'metastiticcancer', 'leukemia', \\\n",
    "             'immunosuppression', 'cirrhosis', 'activetx', 'ima', 'midur',\n",
    "               'ventday1', 'oobventday1', 'oobintubday1', 'diabetes']"
   ]
  },
  {
   "cell_type": "code",
   "execution_count": 8,
   "metadata": {
    "ExecuteTime": {
     "end_time": "2020-06-12T19:52:46.663737Z",
     "start_time": "2020-06-12T19:52:46.661627Z"
    }
   },
   "outputs": [],
   "source": [
    "vars_cont = ['age', 'admissionweight', 'admissionheight', 'bmi', \\\n",
    "             'verbal', 'motor', 'eyes', 'visitnumber', 'heartrate']"
   ]
  },
  {
   "cell_type": "markdown",
   "metadata": {},
   "source": [
    "# Logistic Regression with Polynomial Features"
   ]
  },
  {
   "cell_type": "code",
   "execution_count": 9,
   "metadata": {
    "ExecuteTime": {
     "end_time": "2020-06-12T19:52:46.671833Z",
     "start_time": "2020-06-12T19:52:46.666119Z"
    }
   },
   "outputs": [],
   "source": [
    "def grid_search_wrapper(clf, X_train_sc, y_train, scoring):#, X_test_sc, y_test, scoring):\n",
    "    \"\"\"\n",
    "    fits a GridSearchCV classifier using refit_score for optimization\n",
    "    prints classifier performance metrics\n",
    "    \"\"\"\n",
    "    skf = StratifiedKFold(n_splits=5)    \n",
    "    \n",
    "    weights = np.array([0.001, \\\n",
    "                        y[y==1].shape[0] / (y[y==1].shape[0] + y.shape[0]), \\\n",
    "                        0.005, 0.01, 0.2, 0.5])\n",
    "    \n",
    "    hyperparam_grid = {'penalty': ['l1', 'l2'], \\\n",
    "                       'C': np.logspace(-3, 3, 5), \\\n",
    "                       #'class_weight': [{0: x,   1: 1-x} for x in weights], \\\n",
    "                       'fit_intercept': [True, False]}\n",
    "    #GridSearchCV(clf, param, scoring='f1_score',refit=True,cv=10)\n",
    "    \n",
    "    \n",
    "    grid_search = GridSearchCV(clf, scoring=scoring, param_grid=hyperparam_grid, refit=True,\n",
    "                           cv=skf, return_train_score=True, n_jobs=4)\n",
    "    grid_search.fit(X_train_sc, y_train)\n",
    "\n",
    "    # make the predictions\n",
    "    #y_pred = grid_search.predict(X_test_sc)\n",
    "\n",
    "    print('Best params for ' + scoring)\n",
    "    print(grid_search.best_params_)\n",
    "\n",
    "#     # confusion matrix on the test data.\n",
    "#     print('\\nConfusion matrix of Logistic Regression optimized')\n",
    "#     print(pd.DataFrame(confusion_matrix(y_test, y_pred),\n",
    "#                  columns=['pred_neg', 'pred_pos'], index=['neg', 'pos']))\n",
    "    return grid_search"
   ]
  },
  {
   "cell_type": "code",
   "execution_count": 10,
   "metadata": {
    "ExecuteTime": {
     "end_time": "2020-06-12T19:57:12.490223Z",
     "start_time": "2020-06-12T19:52:46.673457Z"
    },
    "scrolled": true
   },
   "outputs": [
    {
     "name": "stdout",
     "output_type": "stream",
     "text": [
      "Best params for roc_auc\n",
      "{'C': 0.001, 'fit_intercept': True, 'penalty': 'l2'}\n"
     ]
    }
   ],
   "source": [
    "from sklearn.preprocessing import PolynomialFeatures\n",
    "from sklearn.metrics import roc_curve, precision_recall_curve, auc, make_scorer, recall_score, accuracy_score, precision_score, confusion_matrix\n",
    "\n",
    "X_train, X_test, y_train, y_test = train_test_split(X, y, test_size=0.2, stratify=y, random_state=1)\n",
    "scaler = StandardScaler()\n",
    "X_train_sc = scaler.fit_transform(X_train)\n",
    "X_test_sc = scaler.transform(X_test)\n",
    "\n",
    "# transform X_train_sc to a higher degree\n",
    "poly_features = PolynomialFeatures(degree=2)\n",
    "X_train_poly = poly_features.fit_transform(X_train_sc)\n",
    "X_train_poly_colnames = poly_features.get_feature_names(X.columns)\n",
    "\n",
    "X_test_poly = poly_features.fit(X_test_sc)\n",
    "\n",
    "clf = LogisticRegression()\n",
    "# clf.fit(X_train_sc, y_train)\n",
    "#grid_search_clf_rocauc, y_pred_rocauc = grid_search_wrapper(clf, X_train_sc, y_train, X_test_sc, y_test, 'roc_auc')\n",
    "grid_search_clf_rocauc = grid_search_wrapper(clf, X_train_poly, y_train, 'roc_auc')"
   ]
  },
  {
   "cell_type": "code",
   "execution_count": 14,
   "metadata": {
    "ExecuteTime": {
     "end_time": "2020-06-12T20:02:00.813916Z",
     "start_time": "2020-06-12T20:02:00.811272Z"
    }
   },
   "outputs": [],
   "source": [
    "clf_w_best_params = LogisticRegression(C=0.001, fit_intercept=True, penalty='l2')\n"
   ]
  },
  {
   "cell_type": "code",
   "execution_count": 15,
   "metadata": {
    "ExecuteTime": {
     "end_time": "2020-06-12T20:02:11.211619Z",
     "start_time": "2020-06-12T20:02:02.836825Z"
    }
   },
   "outputs": [
    {
     "name": "stdout",
     "output_type": "stream",
     "text": [
      "Training AUC is 0.7718760276143158\n"
     ]
    }
   ],
   "source": [
    "y_train_pred = clf_w_best_params.fit(X_train_poly, y_train)\n",
    "y_train_probs = clf_w_best_params.predict_proba(X_train_poly)[:,1]\n",
    "print('Training AUC is ' + str(roc_auc_score(y_train, y_train_probs)))"
   ]
  },
  {
   "cell_type": "code",
   "execution_count": null,
   "metadata": {},
   "outputs": [],
   "source": []
  },
  {
   "cell_type": "code",
   "execution_count": null,
   "metadata": {},
   "outputs": [],
   "source": []
  },
  {
   "cell_type": "markdown",
   "metadata": {},
   "source": [
    "# What I had before"
   ]
  },
  {
   "cell_type": "code",
   "execution_count": null,
   "metadata": {
    "ExecuteTime": {
     "end_time": "2020-06-12T18:27:35.280527Z",
     "start_time": "2020-06-12T18:27:35.055239Z"
    }
   },
   "outputs": [],
   "source": [
    "# clf_w_best_params = LogisticRegression(C=0.01, fit_intercept=True, penalty='l2')\n",
    "\n",
    "# #clf_w_best_params = LogisticRegression(class_weight={0: 0.005, 1: 0.995}, C=0.01, fit_intercept=False, penalty='l2')\n",
    "# clf_w_best_params.fit(X_train_sc, y_train)\n",
    "# file_name_pickle = 'model_' + now_to_str() + '.pickle'\n",
    "# scaler_name_pickle = 'scaler_' + now_to_str() + '.pickle'\n",
    "# pickle.dump(clf_w_best_params, open(file_name_pickle, 'wb'))\n",
    "# pickle.dump(scaler, open(scaler_name_pickle, 'wb'))\n",
    "\n",
    "# y_pred = clf_w_best_params.predict(X_test_sc)\n",
    "# y_probs = clf_w_best_params.predict_proba(X_test_sc)[:,1]\n",
    "# # print('accuracy is ' + str(accuracy_score(y_test, y_pred)))\n",
    "# # print('precision is ' + str(precision_score(y_test, y_pred)))\n",
    "\n",
    "\n",
    "\n",
    "# # print('F1 score is ' + str(f1_score(y_test, y_pred_rocauc)))\n",
    "# print('AUC is ' + str(roc_auc_score(y_test,y_probs)))\n",
    "# # print('Min prob is ' + str(y_probs.min()))\n",
    "# # print('Max prob is ' + str(y_probs.max()))"
   ]
  },
  {
   "cell_type": "code",
   "execution_count": null,
   "metadata": {
    "ExecuteTime": {
     "end_time": "2020-06-12T18:27:45.092446Z",
     "start_time": "2020-06-12T18:27:45.089014Z"
    }
   },
   "outputs": [],
   "source": [
    "# y_probs.max()"
   ]
  },
  {
   "cell_type": "code",
   "execution_count": null,
   "metadata": {
    "ExecuteTime": {
     "end_time": "2020-06-12T09:20:10.111022Z",
     "start_time": "2020-06-12T09:20:09.021629Z"
    }
   },
   "outputs": [],
   "source": [
    "# %matplotlib qt\n",
    "\n",
    "\n",
    "# noskill_probs = [0 for _ in range(len(y_test))]\n",
    "# ns_fpr, ns_tpr, _ = roc_curve(y_test, noskill_probs)\n",
    "# lr_fpr, lr_tpr, threshold_array = roc_curve(y_test, clf_w_best_params.predict_proba(X_test_sc)[:,1])\n",
    "\n",
    "# y_pred_new = lr_tpr>0\n",
    "\n",
    "# logisticRegr_auc = roc_auc_score(y_test, y_probs)\n",
    "# print('Logistic: ROC AUC=%.3f' % (logisticRegr_auc))\n",
    "\n",
    "# plt.figure()\n",
    "# # plot the roc curve for the model\n",
    "# plt.plot(ns_fpr, ns_tpr, linestyle='--')\n",
    "# plt.plot(lr_fpr, lr_tpr, marker='.', label='Logistic Regr.')\n",
    "# # axis labels\n",
    "# plt.xlabel('False Positive Rate')\n",
    "# plt.ylabel('True Positive Rate')\n",
    "# # # show the legend\n",
    "# plt.legend()\n",
    "# # # show the plot\n",
    "# plt.show()"
   ]
  },
  {
   "cell_type": "code",
   "execution_count": null,
   "metadata": {
    "ExecuteTime": {
     "end_time": "2020-06-12T09:20:10.119066Z",
     "start_time": "2020-06-12T09:20:10.112393Z"
    }
   },
   "outputs": [],
   "source": [
    "# # Looking at ROC curve, a TPR of 0.88 and FPR of 0.48 seems reasonable because the prophylaxis may\n",
    "# # cause bleeding, but VTE is deadly, too. Get the threshold at this level\n",
    "# fpr_tpr_thresh = pd.DataFrame({'fpr': lr_fpr, 'tpr': lr_tpr, 'thresh': threshold_array})\n",
    "# fpr_tpr_thresh = fpr_tpr_thresh[(fpr_tpr_thresh['tpr'] < 0.88) & (fpr_tpr_thresh['tpr'] > 0.87)]\n",
    "# print(fpr_tpr_thresh)"
   ]
  },
  {
   "cell_type": "code",
   "execution_count": null,
   "metadata": {
    "ExecuteTime": {
     "end_time": "2020-06-12T09:20:10.610360Z",
     "start_time": "2020-06-12T09:20:10.127914Z"
    },
    "scrolled": true
   },
   "outputs": [],
   "source": [
    "# Xt = X_test_sc\n",
    "# yt = y_test\n",
    "\n",
    "# THRESHOLD = [0.0017, 0.0018, 0.0019, 0.0020, 0.0021, 0.0022, 0.0023, 0.0024, 0.0025, 0.0026, 0.0027]\n",
    "# for thresh in THRESHOLD:\n",
    "#     print('-----------------')\n",
    "#     print('THRESHOLD =  ' + str(thresh))\n",
    "#     y_pred_thresh = np.where(clf_w_best_params.predict_proba(Xt)[:,1] > thresh, 1, 0)\n",
    "#     print('F1: ' + str(f1_score(yt, y_pred_thresh)))\n",
    "#     print('Precision: ' + str(precision_score(yt, y_pred_thresh)))\n",
    "#     print('Recall: ' + str(recall_score(yt, y_pred_thresh)))\n",
    "#     print(confusion_matrix(yt, y_pred_thresh, normalize='true'))"
   ]
  },
  {
   "cell_type": "markdown",
   "metadata": {},
   "source": [
    "# Feature Weights"
   ]
  },
  {
   "cell_type": "code",
   "execution_count": 34,
   "metadata": {
    "ExecuteTime": {
     "end_time": "2020-06-12T20:16:49.919000Z",
     "start_time": "2020-06-12T20:16:49.907656Z"
    }
   },
   "outputs": [
    {
     "data": {
      "text/html": [
       "<div>\n",
       "<style scoped>\n",
       "    .dataframe tbody tr th:only-of-type {\n",
       "        vertical-align: middle;\n",
       "    }\n",
       "\n",
       "    .dataframe tbody tr th {\n",
       "        vertical-align: top;\n",
       "    }\n",
       "\n",
       "    .dataframe thead th {\n",
       "        text-align: right;\n",
       "    }\n",
       "</style>\n",
       "<table border=\"1\" class=\"dataframe\">\n",
       "  <thead>\n",
       "    <tr style=\"text-align: right;\">\n",
       "      <th></th>\n",
       "      <th>feature</th>\n",
       "      <th>coef</th>\n",
       "      <th>abs_weight</th>\n",
       "    </tr>\n",
       "  </thead>\n",
       "  <tbody>\n",
       "    <tr>\n",
       "      <th>0</th>\n",
       "      <td>1</td>\n",
       "      <td>-0.000003</td>\n",
       "      <td>0.000003</td>\n",
       "    </tr>\n",
       "    <tr>\n",
       "      <th>1</th>\n",
       "      <td>age</td>\n",
       "      <td>0.025936</td>\n",
       "      <td>0.025936</td>\n",
       "    </tr>\n",
       "    <tr>\n",
       "      <th>2</th>\n",
       "      <td>admissionweight</td>\n",
       "      <td>0.029186</td>\n",
       "      <td>0.029186</td>\n",
       "    </tr>\n",
       "    <tr>\n",
       "      <th>3</th>\n",
       "      <td>admissionheight</td>\n",
       "      <td>0.002115</td>\n",
       "      <td>0.002115</td>\n",
       "    </tr>\n",
       "    <tr>\n",
       "      <th>4</th>\n",
       "      <td>bmi</td>\n",
       "      <td>0.029475</td>\n",
       "      <td>0.029475</td>\n",
       "    </tr>\n",
       "  </tbody>\n",
       "</table>\n",
       "</div>"
      ],
      "text/plain": [
       "           feature      coef  abs_weight\n",
       "0                1 -0.000003    0.000003\n",
       "1              age  0.025936    0.025936\n",
       "2  admissionweight  0.029186    0.029186\n",
       "3  admissionheight  0.002115    0.002115\n",
       "4              bmi  0.029475    0.029475"
      ]
     },
     "execution_count": 34,
     "metadata": {},
     "output_type": "execute_result"
    }
   ],
   "source": [
    "# Get feature weights and put into dataframe\n",
    "mydict = {'feature': X_train_poly_colnames, 'coef': list(clf_w_best_params.coef_.reshape(-1,1).flatten())}\n",
    "features_weights = pd.DataFrame(mydict)\n",
    "features_weights = features_weights.assign(abs_weight=np.abs(features_weights['coef']))\n",
    "features_weights.head()"
   ]
  },
  {
   "cell_type": "code",
   "execution_count": 35,
   "metadata": {
    "ExecuteTime": {
     "end_time": "2020-06-12T20:16:51.823614Z",
     "start_time": "2020-06-12T20:16:51.812699Z"
    }
   },
   "outputs": [
    {
     "data": {
      "text/html": [
       "<div>\n",
       "<style scoped>\n",
       "    .dataframe tbody tr th:only-of-type {\n",
       "        vertical-align: middle;\n",
       "    }\n",
       "\n",
       "    .dataframe tbody tr th {\n",
       "        vertical-align: top;\n",
       "    }\n",
       "\n",
       "    .dataframe thead th {\n",
       "        text-align: right;\n",
       "    }\n",
       "</style>\n",
       "<table border=\"1\" class=\"dataframe\">\n",
       "  <thead>\n",
       "    <tr style=\"text-align: right;\">\n",
       "      <th></th>\n",
       "      <th>coef</th>\n",
       "      <th>abs_weight</th>\n",
       "    </tr>\n",
       "    <tr>\n",
       "      <th>feature</th>\n",
       "      <th></th>\n",
       "      <th></th>\n",
       "    </tr>\n",
       "  </thead>\n",
       "  <tbody>\n",
       "    <tr>\n",
       "      <th>heartrate</th>\n",
       "      <td>0.098791</td>\n",
       "      <td>0.098791</td>\n",
       "    </tr>\n",
       "    <tr>\n",
       "      <th>heartrate^2</th>\n",
       "      <td>0.070581</td>\n",
       "      <td>0.070581</td>\n",
       "    </tr>\n",
       "    <tr>\n",
       "      <th>activetx</th>\n",
       "      <td>0.064967</td>\n",
       "      <td>0.064967</td>\n",
       "    </tr>\n",
       "    <tr>\n",
       "      <th>oobintubday1^2</th>\n",
       "      <td>0.062797</td>\n",
       "      <td>0.062797</td>\n",
       "    </tr>\n",
       "    <tr>\n",
       "      <th>oobventday1</th>\n",
       "      <td>0.058392</td>\n",
       "      <td>0.058392</td>\n",
       "    </tr>\n",
       "    <tr>\n",
       "      <th>...</th>\n",
       "      <td>...</td>\n",
       "      <td>...</td>\n",
       "    </tr>\n",
       "    <tr>\n",
       "      <th>gender_Female aids</th>\n",
       "      <td>-0.000016</td>\n",
       "      <td>0.000016</td>\n",
       "    </tr>\n",
       "    <tr>\n",
       "      <th>aids cirrhosis</th>\n",
       "      <td>0.000012</td>\n",
       "      <td>0.000012</td>\n",
       "    </tr>\n",
       "    <tr>\n",
       "      <th>ethnicity_Hispanic ethnicity_Native American</th>\n",
       "      <td>-0.000009</td>\n",
       "      <td>0.000009</td>\n",
       "    </tr>\n",
       "    <tr>\n",
       "      <th>aids leukemia</th>\n",
       "      <td>0.000003</td>\n",
       "      <td>0.000003</td>\n",
       "    </tr>\n",
       "    <tr>\n",
       "      <th>1</th>\n",
       "      <td>-0.000003</td>\n",
       "      <td>0.000003</td>\n",
       "    </tr>\n",
       "  </tbody>\n",
       "</table>\n",
       "<p>496 rows × 2 columns</p>\n",
       "</div>"
      ],
      "text/plain": [
       "                                                  coef  abs_weight\n",
       "feature                                                           \n",
       "heartrate                                     0.098791    0.098791\n",
       "heartrate^2                                   0.070581    0.070581\n",
       "activetx                                      0.064967    0.064967\n",
       "oobintubday1^2                                0.062797    0.062797\n",
       "oobventday1                                   0.058392    0.058392\n",
       "...                                                ...         ...\n",
       "gender_Female aids                           -0.000016    0.000016\n",
       "aids cirrhosis                                0.000012    0.000012\n",
       "ethnicity_Hispanic ethnicity_Native American -0.000009    0.000009\n",
       "aids leukemia                                 0.000003    0.000003\n",
       "1                                            -0.000003    0.000003\n",
       "\n",
       "[496 rows x 2 columns]"
      ]
     },
     "execution_count": 35,
     "metadata": {},
     "output_type": "execute_result"
    }
   ],
   "source": [
    "features_weights = features_weights.sort_values(by='abs_weight', ascending=False)\n",
    "features_weights.set_index('feature')"
   ]
  },
  {
   "cell_type": "code",
   "execution_count": 36,
   "metadata": {
    "ExecuteTime": {
     "end_time": "2020-06-12T20:16:54.425594Z",
     "start_time": "2020-06-12T20:16:54.422079Z"
    },
    "scrolled": true
   },
   "outputs": [
    {
     "data": {
      "text/plain": [
       "(496, 3)"
      ]
     },
     "execution_count": 36,
     "metadata": {},
     "output_type": "execute_result"
    }
   ],
   "source": [
    "features_weights.shape"
   ]
  },
  {
   "cell_type": "code",
   "execution_count": 37,
   "metadata": {
    "ExecuteTime": {
     "end_time": "2020-06-12T20:16:56.143558Z",
     "start_time": "2020-06-12T20:16:56.132547Z"
    }
   },
   "outputs": [
    {
     "data": {
      "text/html": [
       "<div>\n",
       "<style scoped>\n",
       "    .dataframe tbody tr th:only-of-type {\n",
       "        vertical-align: middle;\n",
       "    }\n",
       "\n",
       "    .dataframe tbody tr th {\n",
       "        vertical-align: top;\n",
       "    }\n",
       "\n",
       "    .dataframe thead th {\n",
       "        text-align: right;\n",
       "    }\n",
       "</style>\n",
       "<table border=\"1\" class=\"dataframe\">\n",
       "  <thead>\n",
       "    <tr style=\"text-align: right;\">\n",
       "      <th></th>\n",
       "      <th>feature</th>\n",
       "      <th>coef</th>\n",
       "      <th>abs_weight</th>\n",
       "    </tr>\n",
       "  </thead>\n",
       "  <tbody>\n",
       "    <tr>\n",
       "      <th>30</th>\n",
       "      <td>heartrate</td>\n",
       "      <td>0.098791</td>\n",
       "      <td>0.098791</td>\n",
       "    </tr>\n",
       "    <tr>\n",
       "      <th>495</th>\n",
       "      <td>heartrate^2</td>\n",
       "      <td>0.070581</td>\n",
       "      <td>0.070581</td>\n",
       "    </tr>\n",
       "    <tr>\n",
       "      <th>23</th>\n",
       "      <td>activetx</td>\n",
       "      <td>0.064967</td>\n",
       "      <td>0.064967</td>\n",
       "    </tr>\n",
       "    <tr>\n",
       "      <th>486</th>\n",
       "      <td>oobintubday1^2</td>\n",
       "      <td>0.062797</td>\n",
       "      <td>0.062797</td>\n",
       "    </tr>\n",
       "    <tr>\n",
       "      <th>26</th>\n",
       "      <td>oobventday1</td>\n",
       "      <td>0.058392</td>\n",
       "      <td>0.058392</td>\n",
       "    </tr>\n",
       "    <tr>\n",
       "      <th>27</th>\n",
       "      <td>oobintubday1</td>\n",
       "      <td>0.055709</td>\n",
       "      <td>0.055709</td>\n",
       "    </tr>\n",
       "    <tr>\n",
       "      <th>482</th>\n",
       "      <td>oobventday1 oobintubday1</td>\n",
       "      <td>0.045794</td>\n",
       "      <td>0.045794</td>\n",
       "    </tr>\n",
       "    <tr>\n",
       "      <th>481</th>\n",
       "      <td>oobventday1^2</td>\n",
       "      <td>0.043053</td>\n",
       "      <td>0.043053</td>\n",
       "    </tr>\n",
       "    <tr>\n",
       "      <th>393</th>\n",
       "      <td>hepaticfailure metastaticcancer</td>\n",
       "      <td>0.041213</td>\n",
       "      <td>0.041213</td>\n",
       "    </tr>\n",
       "    <tr>\n",
       "      <th>31</th>\n",
       "      <td>age^2</td>\n",
       "      <td>-0.034779</td>\n",
       "      <td>0.034779</td>\n",
       "    </tr>\n",
       "    <tr>\n",
       "      <th>450</th>\n",
       "      <td>immunosuppression heartrate</td>\n",
       "      <td>-0.034629</td>\n",
       "      <td>0.034629</td>\n",
       "    </tr>\n",
       "    <tr>\n",
       "      <th>186</th>\n",
       "      <td>ethnicity_African American immunosuppression</td>\n",
       "      <td>0.034452</td>\n",
       "      <td>0.034452</td>\n",
       "    </tr>\n",
       "    <tr>\n",
       "      <th>468</th>\n",
       "      <td>ima^2</td>\n",
       "      <td>-0.033369</td>\n",
       "      <td>0.033369</td>\n",
       "    </tr>\n",
       "    <tr>\n",
       "      <th>110</th>\n",
       "      <td>admissionheight activetx</td>\n",
       "      <td>0.032854</td>\n",
       "      <td>0.032854</td>\n",
       "    </tr>\n",
       "    <tr>\n",
       "      <th>12</th>\n",
       "      <td>verbal</td>\n",
       "      <td>-0.032648</td>\n",
       "      <td>0.032648</td>\n",
       "    </tr>\n",
       "    <tr>\n",
       "      <th>442</th>\n",
       "      <td>immunosuppression cirrhosis</td>\n",
       "      <td>0.031018</td>\n",
       "      <td>0.031018</td>\n",
       "    </tr>\n",
       "    <tr>\n",
       "      <th>326</th>\n",
       "      <td>motor eyes</td>\n",
       "      <td>-0.030257</td>\n",
       "      <td>0.030257</td>\n",
       "    </tr>\n",
       "    <tr>\n",
       "      <th>4</th>\n",
       "      <td>bmi</td>\n",
       "      <td>0.029475</td>\n",
       "      <td>0.029475</td>\n",
       "    </tr>\n",
       "    <tr>\n",
       "      <th>2</th>\n",
       "      <td>admissionweight</td>\n",
       "      <td>0.029186</td>\n",
       "      <td>0.029186</td>\n",
       "    </tr>\n",
       "    <tr>\n",
       "      <th>187</th>\n",
       "      <td>ethnicity_African American cirrhosis</td>\n",
       "      <td>0.028168</td>\n",
       "      <td>0.028168</td>\n",
       "    </tr>\n",
       "    <tr>\n",
       "      <th>440</th>\n",
       "      <td>leukemia heartrate</td>\n",
       "      <td>-0.028004</td>\n",
       "      <td>0.028004</td>\n",
       "    </tr>\n",
       "    <tr>\n",
       "      <th>320</th>\n",
       "      <td>verbal oobventday1</td>\n",
       "      <td>0.027783</td>\n",
       "      <td>0.027783</td>\n",
       "    </tr>\n",
       "    <tr>\n",
       "      <th>152</th>\n",
       "      <td>gender_Female verbal</td>\n",
       "      <td>0.027487</td>\n",
       "      <td>0.027487</td>\n",
       "    </tr>\n",
       "    <tr>\n",
       "      <th>58</th>\n",
       "      <td>age diabetes</td>\n",
       "      <td>-0.026841</td>\n",
       "      <td>0.026841</td>\n",
       "    </tr>\n",
       "    <tr>\n",
       "      <th>400</th>\n",
       "      <td>hepaticfailure oobventday1</td>\n",
       "      <td>-0.026767</td>\n",
       "      <td>0.026767</td>\n",
       "    </tr>\n",
       "    <tr>\n",
       "      <th>479</th>\n",
       "      <td>midur visitnumber</td>\n",
       "      <td>0.026742</td>\n",
       "      <td>0.026742</td>\n",
       "    </tr>\n",
       "    <tr>\n",
       "      <th>438</th>\n",
       "      <td>leukemia diabetes</td>\n",
       "      <td>0.026523</td>\n",
       "      <td>0.026523</td>\n",
       "    </tr>\n",
       "    <tr>\n",
       "      <th>1</th>\n",
       "      <td>age</td>\n",
       "      <td>0.025936</td>\n",
       "      <td>0.025936</td>\n",
       "    </tr>\n",
       "    <tr>\n",
       "      <th>268</th>\n",
       "      <td>ethnicity_Native American motor</td>\n",
       "      <td>-0.025282</td>\n",
       "      <td>0.025282</td>\n",
       "    </tr>\n",
       "    <tr>\n",
       "      <th>89</th>\n",
       "      <td>admissionweight heartrate</td>\n",
       "      <td>0.025149</td>\n",
       "      <td>0.025149</td>\n",
       "    </tr>\n",
       "  </tbody>\n",
       "</table>\n",
       "</div>"
      ],
      "text/plain": [
       "                                          feature      coef  abs_weight\n",
       "30                                      heartrate  0.098791    0.098791\n",
       "495                                   heartrate^2  0.070581    0.070581\n",
       "23                                       activetx  0.064967    0.064967\n",
       "486                                oobintubday1^2  0.062797    0.062797\n",
       "26                                    oobventday1  0.058392    0.058392\n",
       "27                                   oobintubday1  0.055709    0.055709\n",
       "482                      oobventday1 oobintubday1  0.045794    0.045794\n",
       "481                                 oobventday1^2  0.043053    0.043053\n",
       "393               hepaticfailure metastaticcancer  0.041213    0.041213\n",
       "31                                          age^2 -0.034779    0.034779\n",
       "450                   immunosuppression heartrate -0.034629    0.034629\n",
       "186  ethnicity_African American immunosuppression  0.034452    0.034452\n",
       "468                                         ima^2 -0.033369    0.033369\n",
       "110                      admissionheight activetx  0.032854    0.032854\n",
       "12                                         verbal -0.032648    0.032648\n",
       "442                   immunosuppression cirrhosis  0.031018    0.031018\n",
       "326                                    motor eyes -0.030257    0.030257\n",
       "4                                             bmi  0.029475    0.029475\n",
       "2                                 admissionweight  0.029186    0.029186\n",
       "187          ethnicity_African American cirrhosis  0.028168    0.028168\n",
       "440                            leukemia heartrate -0.028004    0.028004\n",
       "320                            verbal oobventday1  0.027783    0.027783\n",
       "152                          gender_Female verbal  0.027487    0.027487\n",
       "58                                   age diabetes -0.026841    0.026841\n",
       "400                    hepaticfailure oobventday1 -0.026767    0.026767\n",
       "479                             midur visitnumber  0.026742    0.026742\n",
       "438                             leukemia diabetes  0.026523    0.026523\n",
       "1                                             age  0.025936    0.025936\n",
       "268               ethnicity_Native American motor -0.025282    0.025282\n",
       "89                      admissionweight heartrate  0.025149    0.025149"
      ]
     },
     "execution_count": 37,
     "metadata": {},
     "output_type": "execute_result"
    }
   ],
   "source": [
    "features_weights.head(30)"
   ]
  },
  {
   "cell_type": "code",
   "execution_count": 38,
   "metadata": {
    "ExecuteTime": {
     "end_time": "2020-06-12T20:16:58.732377Z",
     "start_time": "2020-06-12T20:16:58.728287Z"
    }
   },
   "outputs": [],
   "source": [
    "fw = features_weights[['feature', 'abs_weight']]"
   ]
  },
  {
   "cell_type": "code",
   "execution_count": 46,
   "metadata": {
    "ExecuteTime": {
     "end_time": "2020-06-12T20:23:29.075804Z",
     "start_time": "2020-06-12T20:23:29.065947Z"
    }
   },
   "outputs": [
    {
     "data": {
      "text/html": [
       "<div>\n",
       "<style scoped>\n",
       "    .dataframe tbody tr th:only-of-type {\n",
       "        vertical-align: middle;\n",
       "    }\n",
       "\n",
       "    .dataframe tbody tr th {\n",
       "        vertical-align: top;\n",
       "    }\n",
       "\n",
       "    .dataframe thead th {\n",
       "        text-align: right;\n",
       "    }\n",
       "</style>\n",
       "<table border=\"1\" class=\"dataframe\">\n",
       "  <thead>\n",
       "    <tr style=\"text-align: right;\">\n",
       "      <th></th>\n",
       "      <th>feature</th>\n",
       "      <th>abs_weight</th>\n",
       "    </tr>\n",
       "  </thead>\n",
       "  <tbody>\n",
       "    <tr>\n",
       "      <th>30</th>\n",
       "      <td>heartrate</td>\n",
       "      <td>0.098791</td>\n",
       "    </tr>\n",
       "    <tr>\n",
       "      <th>495</th>\n",
       "      <td>heartrate^2</td>\n",
       "      <td>0.070581</td>\n",
       "    </tr>\n",
       "    <tr>\n",
       "      <th>23</th>\n",
       "      <td>activetx</td>\n",
       "      <td>0.064967</td>\n",
       "    </tr>\n",
       "    <tr>\n",
       "      <th>486</th>\n",
       "      <td>oobintubday1^2</td>\n",
       "      <td>0.062797</td>\n",
       "    </tr>\n",
       "    <tr>\n",
       "      <th>26</th>\n",
       "      <td>oobventday1</td>\n",
       "      <td>0.058392</td>\n",
       "    </tr>\n",
       "    <tr>\n",
       "      <th>27</th>\n",
       "      <td>oobintubday1</td>\n",
       "      <td>0.055709</td>\n",
       "    </tr>\n",
       "    <tr>\n",
       "      <th>482</th>\n",
       "      <td>oobventday1 oobintubday1</td>\n",
       "      <td>0.045794</td>\n",
       "    </tr>\n",
       "    <tr>\n",
       "      <th>481</th>\n",
       "      <td>oobventday1^2</td>\n",
       "      <td>0.043053</td>\n",
       "    </tr>\n",
       "    <tr>\n",
       "      <th>393</th>\n",
       "      <td>hepaticfailure metastaticcancer</td>\n",
       "      <td>0.041213</td>\n",
       "    </tr>\n",
       "    <tr>\n",
       "      <th>31</th>\n",
       "      <td>age^2</td>\n",
       "      <td>0.034779</td>\n",
       "    </tr>\n",
       "    <tr>\n",
       "      <th>450</th>\n",
       "      <td>immunosuppression heartrate</td>\n",
       "      <td>0.034629</td>\n",
       "    </tr>\n",
       "    <tr>\n",
       "      <th>186</th>\n",
       "      <td>ethnicity_African American immunosuppression</td>\n",
       "      <td>0.034452</td>\n",
       "    </tr>\n",
       "    <tr>\n",
       "      <th>468</th>\n",
       "      <td>ima^2</td>\n",
       "      <td>0.033369</td>\n",
       "    </tr>\n",
       "    <tr>\n",
       "      <th>110</th>\n",
       "      <td>admissionheight activetx</td>\n",
       "      <td>0.032854</td>\n",
       "    </tr>\n",
       "    <tr>\n",
       "      <th>12</th>\n",
       "      <td>verbal</td>\n",
       "      <td>0.032648</td>\n",
       "    </tr>\n",
       "    <tr>\n",
       "      <th>442</th>\n",
       "      <td>immunosuppression cirrhosis</td>\n",
       "      <td>0.031018</td>\n",
       "    </tr>\n",
       "    <tr>\n",
       "      <th>326</th>\n",
       "      <td>motor eyes</td>\n",
       "      <td>0.030257</td>\n",
       "    </tr>\n",
       "    <tr>\n",
       "      <th>4</th>\n",
       "      <td>bmi</td>\n",
       "      <td>0.029475</td>\n",
       "    </tr>\n",
       "    <tr>\n",
       "      <th>2</th>\n",
       "      <td>admissionweight</td>\n",
       "      <td>0.029186</td>\n",
       "    </tr>\n",
       "    <tr>\n",
       "      <th>187</th>\n",
       "      <td>ethnicity_African American cirrhosis</td>\n",
       "      <td>0.028168</td>\n",
       "    </tr>\n",
       "    <tr>\n",
       "      <th>440</th>\n",
       "      <td>leukemia heartrate</td>\n",
       "      <td>0.028004</td>\n",
       "    </tr>\n",
       "    <tr>\n",
       "      <th>320</th>\n",
       "      <td>verbal oobventday1</td>\n",
       "      <td>0.027783</td>\n",
       "    </tr>\n",
       "    <tr>\n",
       "      <th>152</th>\n",
       "      <td>gender_Female verbal</td>\n",
       "      <td>0.027487</td>\n",
       "    </tr>\n",
       "    <tr>\n",
       "      <th>58</th>\n",
       "      <td>age diabetes</td>\n",
       "      <td>0.026841</td>\n",
       "    </tr>\n",
       "    <tr>\n",
       "      <th>400</th>\n",
       "      <td>hepaticfailure oobventday1</td>\n",
       "      <td>0.026767</td>\n",
       "    </tr>\n",
       "    <tr>\n",
       "      <th>479</th>\n",
       "      <td>midur visitnumber</td>\n",
       "      <td>0.026742</td>\n",
       "    </tr>\n",
       "    <tr>\n",
       "      <th>438</th>\n",
       "      <td>leukemia diabetes</td>\n",
       "      <td>0.026523</td>\n",
       "    </tr>\n",
       "    <tr>\n",
       "      <th>1</th>\n",
       "      <td>age</td>\n",
       "      <td>0.025936</td>\n",
       "    </tr>\n",
       "    <tr>\n",
       "      <th>268</th>\n",
       "      <td>ethnicity_Native American motor</td>\n",
       "      <td>0.025282</td>\n",
       "    </tr>\n",
       "    <tr>\n",
       "      <th>89</th>\n",
       "      <td>admissionweight heartrate</td>\n",
       "      <td>0.025149</td>\n",
       "    </tr>\n",
       "  </tbody>\n",
       "</table>\n",
       "</div>"
      ],
      "text/plain": [
       "                                          feature  abs_weight\n",
       "30                                      heartrate    0.098791\n",
       "495                                   heartrate^2    0.070581\n",
       "23                                       activetx    0.064967\n",
       "486                                oobintubday1^2    0.062797\n",
       "26                                    oobventday1    0.058392\n",
       "27                                   oobintubday1    0.055709\n",
       "482                      oobventday1 oobintubday1    0.045794\n",
       "481                                 oobventday1^2    0.043053\n",
       "393               hepaticfailure metastaticcancer    0.041213\n",
       "31                                          age^2    0.034779\n",
       "450                   immunosuppression heartrate    0.034629\n",
       "186  ethnicity_African American immunosuppression    0.034452\n",
       "468                                         ima^2    0.033369\n",
       "110                      admissionheight activetx    0.032854\n",
       "12                                         verbal    0.032648\n",
       "442                   immunosuppression cirrhosis    0.031018\n",
       "326                                    motor eyes    0.030257\n",
       "4                                             bmi    0.029475\n",
       "2                                 admissionweight    0.029186\n",
       "187          ethnicity_African American cirrhosis    0.028168\n",
       "440                            leukemia heartrate    0.028004\n",
       "320                            verbal oobventday1    0.027783\n",
       "152                          gender_Female verbal    0.027487\n",
       "58                                   age diabetes    0.026841\n",
       "400                    hepaticfailure oobventday1    0.026767\n",
       "479                             midur visitnumber    0.026742\n",
       "438                             leukemia diabetes    0.026523\n",
       "1                                             age    0.025936\n",
       "268               ethnicity_Native American motor    0.025282\n",
       "89                      admissionweight heartrate    0.025149"
      ]
     },
     "execution_count": 46,
     "metadata": {},
     "output_type": "execute_result"
    }
   ],
   "source": [
    "fw.head(30)"
   ]
  },
  {
   "cell_type": "code",
   "execution_count": 45,
   "metadata": {
    "ExecuteTime": {
     "end_time": "2020-06-12T20:20:42.147991Z",
     "start_time": "2020-06-12T20:20:41.438449Z"
    }
   },
   "outputs": [
    {
     "data": {
      "text/plain": [
       "Text(0, 0.5, 'Abs. Value of Coefficient')"
      ]
     },
     "execution_count": 45,
     "metadata": {},
     "output_type": "execute_result"
    }
   ],
   "source": [
    "%matplotlib qt\n",
    "fw.plot.bar(x='feature', y='abs_weight')\n",
    "plt.xticks([])\n",
    "plt.xlabel('Polynomial Feature Index')\n",
    "plt.ylabel('Abs. Value of Coefficient')"
   ]
  }
 ],
 "metadata": {
  "kernelspec": {
   "display_name": "Python 3",
   "language": "python",
   "name": "python3"
  },
  "language_info": {
   "codemirror_mode": {
    "name": "ipython",
    "version": 3
   },
   "file_extension": ".py",
   "mimetype": "text/x-python",
   "name": "python",
   "nbconvert_exporter": "python",
   "pygments_lexer": "ipython3",
   "version": "3.7.7"
  },
  "toc": {
   "base_numbering": 1,
   "nav_menu": {},
   "number_sections": true,
   "sideBar": true,
   "skip_h1_title": false,
   "title_cell": "Table of Contents",
   "title_sidebar": "Contents",
   "toc_cell": false,
   "toc_position": {
    "height": "calc(100% - 180px)",
    "left": "10px",
    "top": "150px",
    "width": "165px"
   },
   "toc_section_display": true,
   "toc_window_display": true
  },
  "varInspector": {
   "cols": {
    "lenName": 16,
    "lenType": 16,
    "lenVar": 40
   },
   "kernels_config": {
    "python": {
     "delete_cmd_postfix": "",
     "delete_cmd_prefix": "del ",
     "library": "var_list.py",
     "varRefreshCmd": "print(var_dic_list())"
    },
    "r": {
     "delete_cmd_postfix": ") ",
     "delete_cmd_prefix": "rm(",
     "library": "var_list.r",
     "varRefreshCmd": "cat(var_dic_list()) "
    }
   },
   "position": {
    "height": "567px",
    "left": "1336px",
    "right": "20px",
    "top": "191px",
    "width": "592px"
   },
   "types_to_exclude": [
    "module",
    "function",
    "builtin_function_or_method",
    "instance",
    "_Feature"
   ],
   "window_display": false
  }
 },
 "nbformat": 4,
 "nbformat_minor": 4
}
