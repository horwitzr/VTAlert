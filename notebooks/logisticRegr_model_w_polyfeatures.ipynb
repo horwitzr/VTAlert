{
 "cells": [
  {
   "cell_type": "code",
   "execution_count": null,
   "metadata": {},
   "outputs": [],
   "source": []
  },
  {
   "cell_type": "markdown",
   "metadata": {
    "ExecuteTime": {
     "end_time": "2020-06-04T23:26:49.428774Z",
     "start_time": "2020-06-04T23:26:49.426270Z"
    }
   },
   "source": [
    "# Settings, Directory Specs, and Imports"
   ]
  },
  {
   "cell_type": "code",
   "execution_count": 11,
   "metadata": {
    "ExecuteTime": {
     "end_time": "2020-06-12T18:50:17.271639Z",
     "start_time": "2020-06-12T18:50:17.265591Z"
    }
   },
   "outputs": [],
   "source": [
    "# 0 = no streamlit\n",
    "# 1 = test user inputs\n",
    "# 2 = run in streamlit\n",
    "streamlit_status = 0\n",
    "#file_name_pickle_read = 'model_2020_06_06_1105.pickle'\n",
    "do_plots = 1\n",
    "\n",
    "dir_read = '/Users/rachellehorwitz/Documents/ViTalErt/data/filtered05/'\n",
    "#dir_read = '/Users/rachellehorwitz/Documents/VTAlert/over18_eicu/'\n",
    "\n",
    "from sklearn import metrics\n",
    "from sklearn.linear_model import LogisticRegression\n",
    "from sklearn.metrics import auc, confusion_matrix, plot_confusion_matrix, f1_score, roc_auc_score, roc_curve\n",
    "from sklearn.model_selection import GridSearchCV, learning_curve, train_test_split, ShuffleSplit, StratifiedKFold\n",
    "from sklearn.preprocessing import StandardScaler\n",
    "from sklearn.pipeline import make_pipeline\n",
    "import pandas as pd\n",
    "import numpy as np\n",
    "import seaborn as sns\n",
    "import matplotlib\n",
    "import matplotlib.pyplot as plt\n",
    "import streamlit as st\n",
    "import pickle\n",
    "from datetime import datetime\n",
    "import pyprojroot\n",
    "\n",
    "\n",
    "matplotlib.rcParams.update({'font.size': 22})"
   ]
  },
  {
   "cell_type": "markdown",
   "metadata": {},
   "source": [
    "# Function Definitions"
   ]
  },
  {
   "cell_type": "code",
   "execution_count": 12,
   "metadata": {
    "ExecuteTime": {
     "end_time": "2020-06-12T18:50:17.277281Z",
     "start_time": "2020-06-12T18:50:17.273906Z"
    }
   },
   "outputs": [],
   "source": [
    "def now_to_str():\n",
    "    now = str(datetime.now())\n",
    "    return now[0:4] + '_' + now[5:7] + '_' + now[8:10] + '_' + now[11:13] + now[14:16]"
   ]
  },
  {
   "cell_type": "markdown",
   "metadata": {},
   "source": [
    "# Defining X and y"
   ]
  },
  {
   "cell_type": "code",
   "execution_count": null,
   "metadata": {
    "ExecuteTime": {
     "end_time": "2020-06-12T00:08:40.144806Z",
     "start_time": "2020-06-12T00:08:39.886306Z"
    }
   },
   "outputs": [],
   "source": []
  },
  {
   "cell_type": "code",
   "execution_count": 13,
   "metadata": {
    "ExecuteTime": {
     "end_time": "2020-06-12T18:50:17.690228Z",
     "start_time": "2020-06-12T18:50:17.279542Z"
    }
   },
   "outputs": [
    {
     "data": {
      "text/plain": [
       "(33,)"
      ]
     },
     "execution_count": 13,
     "metadata": {},
     "output_type": "execute_result"
    }
   ],
   "source": [
    "Xy = pd.read_csv(dir_read + 'Xy_2020_06_11_1916.csv')\n",
    "Xy = Xy.set_index('patientunitstayid')\n",
    "y = Xy.pop('label')\n",
    "X = Xy.copy()\n",
    "X.columns.shape"
   ]
  },
  {
   "cell_type": "code",
   "execution_count": 14,
   "metadata": {
    "ExecuteTime": {
     "end_time": "2020-06-12T18:50:17.711874Z",
     "start_time": "2020-06-12T18:50:17.692469Z"
    }
   },
   "outputs": [
    {
     "data": {
      "text/html": [
       "<div>\n",
       "<style scoped>\n",
       "    .dataframe tbody tr th:only-of-type {\n",
       "        vertical-align: middle;\n",
       "    }\n",
       "\n",
       "    .dataframe tbody tr th {\n",
       "        vertical-align: top;\n",
       "    }\n",
       "\n",
       "    .dataframe thead th {\n",
       "        text-align: right;\n",
       "    }\n",
       "</style>\n",
       "<table border=\"1\" class=\"dataframe\">\n",
       "  <thead>\n",
       "    <tr style=\"text-align: right;\">\n",
       "      <th></th>\n",
       "      <th>age</th>\n",
       "      <th>admissionweight</th>\n",
       "      <th>admissionheight</th>\n",
       "      <th>bmi</th>\n",
       "      <th>gender_Female</th>\n",
       "      <th>ethnicity_African American</th>\n",
       "      <th>ethnicity_Asian</th>\n",
       "      <th>ethnicity_Caucasian</th>\n",
       "      <th>ethnicity_Hispanic</th>\n",
       "      <th>ethnicity_Native American</th>\n",
       "      <th>...</th>\n",
       "      <th>immunosuppression</th>\n",
       "      <th>cirrhosis</th>\n",
       "      <th>activetx</th>\n",
       "      <th>ima</th>\n",
       "      <th>midur</th>\n",
       "      <th>oobventday1</th>\n",
       "      <th>oobintubday1</th>\n",
       "      <th>diabetes</th>\n",
       "      <th>visitnumber</th>\n",
       "      <th>heartrate</th>\n",
       "    </tr>\n",
       "    <tr>\n",
       "      <th>patientunitstayid</th>\n",
       "      <th></th>\n",
       "      <th></th>\n",
       "      <th></th>\n",
       "      <th></th>\n",
       "      <th></th>\n",
       "      <th></th>\n",
       "      <th></th>\n",
       "      <th></th>\n",
       "      <th></th>\n",
       "      <th></th>\n",
       "      <th></th>\n",
       "      <th></th>\n",
       "      <th></th>\n",
       "      <th></th>\n",
       "      <th></th>\n",
       "      <th></th>\n",
       "      <th></th>\n",
       "      <th></th>\n",
       "      <th></th>\n",
       "      <th></th>\n",
       "      <th></th>\n",
       "    </tr>\n",
       "  </thead>\n",
       "  <tbody>\n",
       "    <tr>\n",
       "      <th>141168</th>\n",
       "      <td>70</td>\n",
       "      <td>84.3</td>\n",
       "      <td>152.4</td>\n",
       "      <td>36.295906</td>\n",
       "      <td>1</td>\n",
       "      <td>0</td>\n",
       "      <td>0</td>\n",
       "      <td>1</td>\n",
       "      <td>0</td>\n",
       "      <td>0</td>\n",
       "      <td>...</td>\n",
       "      <td>0</td>\n",
       "      <td>0</td>\n",
       "      <td>1</td>\n",
       "      <td>0</td>\n",
       "      <td>0</td>\n",
       "      <td>0</td>\n",
       "      <td>0</td>\n",
       "      <td>0</td>\n",
       "      <td>1</td>\n",
       "      <td>125.052830</td>\n",
       "    </tr>\n",
       "    <tr>\n",
       "      <th>141194</th>\n",
       "      <td>68</td>\n",
       "      <td>73.9</td>\n",
       "      <td>180.3</td>\n",
       "      <td>22.732803</td>\n",
       "      <td>0</td>\n",
       "      <td>0</td>\n",
       "      <td>0</td>\n",
       "      <td>1</td>\n",
       "      <td>0</td>\n",
       "      <td>0</td>\n",
       "      <td>...</td>\n",
       "      <td>0</td>\n",
       "      <td>0</td>\n",
       "      <td>0</td>\n",
       "      <td>0</td>\n",
       "      <td>0</td>\n",
       "      <td>0</td>\n",
       "      <td>0</td>\n",
       "      <td>1</td>\n",
       "      <td>1</td>\n",
       "      <td>86.860627</td>\n",
       "    </tr>\n",
       "    <tr>\n",
       "      <th>141197</th>\n",
       "      <td>71</td>\n",
       "      <td>102.1</td>\n",
       "      <td>162.6</td>\n",
       "      <td>38.617545</td>\n",
       "      <td>0</td>\n",
       "      <td>0</td>\n",
       "      <td>0</td>\n",
       "      <td>1</td>\n",
       "      <td>0</td>\n",
       "      <td>0</td>\n",
       "      <td>...</td>\n",
       "      <td>0</td>\n",
       "      <td>0</td>\n",
       "      <td>0</td>\n",
       "      <td>0</td>\n",
       "      <td>0</td>\n",
       "      <td>0</td>\n",
       "      <td>0</td>\n",
       "      <td>0</td>\n",
       "      <td>1</td>\n",
       "      <td>97.307692</td>\n",
       "    </tr>\n",
       "    <tr>\n",
       "      <th>141203</th>\n",
       "      <td>77</td>\n",
       "      <td>70.2</td>\n",
       "      <td>160.0</td>\n",
       "      <td>27.421875</td>\n",
       "      <td>1</td>\n",
       "      <td>0</td>\n",
       "      <td>0</td>\n",
       "      <td>1</td>\n",
       "      <td>0</td>\n",
       "      <td>0</td>\n",
       "      <td>...</td>\n",
       "      <td>0</td>\n",
       "      <td>0</td>\n",
       "      <td>1</td>\n",
       "      <td>0</td>\n",
       "      <td>0</td>\n",
       "      <td>1</td>\n",
       "      <td>0</td>\n",
       "      <td>1</td>\n",
       "      <td>1</td>\n",
       "      <td>91.543554</td>\n",
       "    </tr>\n",
       "    <tr>\n",
       "      <th>141208</th>\n",
       "      <td>25</td>\n",
       "      <td>95.3</td>\n",
       "      <td>172.7</td>\n",
       "      <td>31.952749</td>\n",
       "      <td>1</td>\n",
       "      <td>0</td>\n",
       "      <td>0</td>\n",
       "      <td>1</td>\n",
       "      <td>0</td>\n",
       "      <td>0</td>\n",
       "      <td>...</td>\n",
       "      <td>0</td>\n",
       "      <td>0</td>\n",
       "      <td>0</td>\n",
       "      <td>0</td>\n",
       "      <td>0</td>\n",
       "      <td>0</td>\n",
       "      <td>0</td>\n",
       "      <td>0</td>\n",
       "      <td>1</td>\n",
       "      <td>77.817460</td>\n",
       "    </tr>\n",
       "  </tbody>\n",
       "</table>\n",
       "<p>5 rows × 33 columns</p>\n",
       "</div>"
      ],
      "text/plain": [
       "                   age  admissionweight  admissionheight        bmi  \\\n",
       "patientunitstayid                                                     \n",
       "141168              70             84.3            152.4  36.295906   \n",
       "141194              68             73.9            180.3  22.732803   \n",
       "141197              71            102.1            162.6  38.617545   \n",
       "141203              77             70.2            160.0  27.421875   \n",
       "141208              25             95.3            172.7  31.952749   \n",
       "\n",
       "                   gender_Female  ethnicity_African American  ethnicity_Asian  \\\n",
       "patientunitstayid                                                               \n",
       "141168                         1                           0                0   \n",
       "141194                         0                           0                0   \n",
       "141197                         0                           0                0   \n",
       "141203                         1                           0                0   \n",
       "141208                         1                           0                0   \n",
       "\n",
       "                   ethnicity_Caucasian  ethnicity_Hispanic  \\\n",
       "patientunitstayid                                            \n",
       "141168                               1                   0   \n",
       "141194                               1                   0   \n",
       "141197                               1                   0   \n",
       "141203                               1                   0   \n",
       "141208                               1                   0   \n",
       "\n",
       "                   ethnicity_Native American  ...  immunosuppression  \\\n",
       "patientunitstayid                             ...                      \n",
       "141168                                     0  ...                  0   \n",
       "141194                                     0  ...                  0   \n",
       "141197                                     0  ...                  0   \n",
       "141203                                     0  ...                  0   \n",
       "141208                                     0  ...                  0   \n",
       "\n",
       "                   cirrhosis  activetx  ima  midur  oobventday1  oobintubday1  \\\n",
       "patientunitstayid                                                               \n",
       "141168                     0         1    0      0            0             0   \n",
       "141194                     0         0    0      0            0             0   \n",
       "141197                     0         0    0      0            0             0   \n",
       "141203                     0         1    0      0            1             0   \n",
       "141208                     0         0    0      0            0             0   \n",
       "\n",
       "                   diabetes  visitnumber   heartrate  \n",
       "patientunitstayid                                     \n",
       "141168                    0            1  125.052830  \n",
       "141194                    1            1   86.860627  \n",
       "141197                    0            1   97.307692  \n",
       "141203                    1            1   91.543554  \n",
       "141208                    0            1   77.817460  \n",
       "\n",
       "[5 rows x 33 columns]"
      ]
     },
     "execution_count": 14,
     "metadata": {},
     "output_type": "execute_result"
    }
   ],
   "source": [
    "X.head()"
   ]
  },
  {
   "cell_type": "code",
   "execution_count": 15,
   "metadata": {
    "ExecuteTime": {
     "end_time": "2020-06-12T18:50:17.715915Z",
     "start_time": "2020-06-12T18:50:17.713582Z"
    }
   },
   "outputs": [],
   "source": [
    "cols = list(X.columns)"
   ]
  },
  {
   "cell_type": "code",
   "execution_count": 16,
   "metadata": {
    "ExecuteTime": {
     "end_time": "2020-06-12T18:50:17.721649Z",
     "start_time": "2020-06-12T18:50:17.717676Z"
    }
   },
   "outputs": [
    {
     "data": {
      "text/plain": [
       "['age',\n",
       " 'admissionweight',\n",
       " 'admissionheight',\n",
       " 'bmi',\n",
       " 'gender_Female',\n",
       " 'ethnicity_African American',\n",
       " 'ethnicity_Asian',\n",
       " 'ethnicity_Caucasian',\n",
       " 'ethnicity_Hispanic',\n",
       " 'ethnicity_Native American',\n",
       " 'ethnicity_Other/Unknown',\n",
       " 'unitstaytype_admit',\n",
       " 'unitstaytype_readmit',\n",
       " 'unitstaytype_transfer',\n",
       " 'verbal',\n",
       " 'motor',\n",
       " 'eyes',\n",
       " 'thrombolytics',\n",
       " 'aids',\n",
       " 'hepaticfailure',\n",
       " 'lymphoma',\n",
       " 'metastaticcancer',\n",
       " 'leukemia',\n",
       " 'immunosuppression',\n",
       " 'cirrhosis',\n",
       " 'activetx',\n",
       " 'ima',\n",
       " 'midur',\n",
       " 'oobventday1',\n",
       " 'oobintubday1',\n",
       " 'diabetes',\n",
       " 'visitnumber',\n",
       " 'heartrate']"
      ]
     },
     "execution_count": 16,
     "metadata": {},
     "output_type": "execute_result"
    }
   ],
   "source": [
    "cols"
   ]
  },
  {
   "cell_type": "code",
   "execution_count": 17,
   "metadata": {
    "ExecuteTime": {
     "end_time": "2020-06-12T18:50:17.727856Z",
     "start_time": "2020-06-12T18:50:17.723850Z"
    }
   },
   "outputs": [],
   "source": [
    "vars_categ = ['gender_Female', 'ethnicity_AfricanAmerican', 'ethnicity_Asian', 'ethnicity_Caucasian', \\\n",
    "             'ethnicity_Hispanic', 'ethnicity_NativeAmerican', 'ethnicity_Other/Unknown',\\\n",
    "              'unitstaytype_admit', 'unitstaytype_readmit', 'unitstaytype_transfer', \\\n",
    "             'thrombolytics', 'aids', 'hepaticfailure' 'lymphoma', 'metastiticcancer', 'leukemia', \\\n",
    "             'immunosuppression', 'cirrhosis', 'activetx', 'ima', 'midur',\n",
    "               'ventday1', 'oobventday1', 'oobintubday1', 'diabetes']"
   ]
  },
  {
   "cell_type": "code",
   "execution_count": 18,
   "metadata": {
    "ExecuteTime": {
     "end_time": "2020-06-12T18:50:17.734107Z",
     "start_time": "2020-06-12T18:50:17.731638Z"
    }
   },
   "outputs": [],
   "source": [
    "vars_cont = ['age', 'admissionweight', 'admissionheight', 'bmi', \\\n",
    "             'verbal', 'motor', 'eyes', 'visitnumber', 'heartrate']"
   ]
  },
  {
   "cell_type": "markdown",
   "metadata": {},
   "source": [
    "# Logistic Regression with Polynomail Features"
   ]
  },
  {
   "cell_type": "code",
   "execution_count": 19,
   "metadata": {
    "ExecuteTime": {
     "end_time": "2020-06-12T18:50:17.742959Z",
     "start_time": "2020-06-12T18:50:17.736564Z"
    }
   },
   "outputs": [],
   "source": [
    "def grid_search_wrapper(clf, X_train_sc, y_train, scoring):#, X_test_sc, y_test, scoring):\n",
    "    \"\"\"\n",
    "    fits a GridSearchCV classifier using refit_score for optimization\n",
    "    prints classifier performance metrics\n",
    "    \"\"\"\n",
    "    skf = StratifiedKFold(n_splits=5)    \n",
    "    \n",
    "    weights = np.array([0.001, \\\n",
    "                        y[y==1].shape[0] / (y[y==1].shape[0] + y.shape[0]), \\\n",
    "                        0.005, 0.01, 0.2, 0.5])\n",
    "    \n",
    "    hyperparam_grid = {'penalty': ['l1', 'l2'], \\\n",
    "                       'C': np.logspace(-3, 3, 5), \\\n",
    "                       #'class_weight': [{0: x,   1: 1-x} for x in weights], \\\n",
    "                       'fit_intercept': [True, False]}\n",
    "    #GridSearchCV(clf, param, scoring='f1_score',refit=True,cv=10)\n",
    "    \n",
    "    \n",
    "    grid_search = GridSearchCV(clf, scoring=scoring, param_grid=hyperparam_grid, refit=True,\n",
    "                           cv=skf, return_train_score=True, n_jobs=4)\n",
    "    grid_search.fit(X_train_sc, y_train)\n",
    "\n",
    "    # make the predictions\n",
    "    #y_pred = grid_search.predict(X_test_sc)\n",
    "\n",
    "    print('Best params for ' + scoring)\n",
    "    print(grid_search.best_params_)\n",
    "\n",
    "#     # confusion matrix on the test data.\n",
    "#     print('\\nConfusion matrix of Logistic Regression optimized')\n",
    "#     print(pd.DataFrame(confusion_matrix(y_test, y_pred),\n",
    "#                  columns=['pred_neg', 'pred_pos'], index=['neg', 'pos']))\n",
    "    return grid_search"
   ]
  },
  {
   "cell_type": "code",
   "execution_count": 20,
   "metadata": {
    "ExecuteTime": {
     "end_time": "2020-06-12T18:55:34.989821Z",
     "start_time": "2020-06-12T18:50:17.744978Z"
    },
    "scrolled": true
   },
   "outputs": [
    {
     "name": "stdout",
     "output_type": "stream",
     "text": [
      "Best params for roc_auc\n",
      "{'C': 0.001, 'fit_intercept': True, 'penalty': 'l2'}\n"
     ]
    }
   ],
   "source": [
    "from sklearn.preprocessing import PolynomialFeatures\n",
    "from sklearn.metrics import roc_curve, precision_recall_curve, auc, make_scorer, recall_score, accuracy_score, precision_score, confusion_matrix\n",
    "\n",
    "X_train, X_test, y_train, y_test = train_test_split(X, y, test_size=0.2, stratify=y, random_state=1)\n",
    "scaler = StandardScaler()\n",
    "X_train_sc = scaler.fit_transform(X_train)\n",
    "X_test_sc = scaler.transform(X_test)\n",
    "\n",
    "# transform X_train_sc to a higher degree\n",
    "poly_features = PolynomialFeatures(degree=2)\n",
    "X_train_poly = poly_features.fit_transform(X_train_sc)\n",
    "\n",
    "\n",
    "X_test_poly = poly_features.fit(X_test_sc)\n",
    "\n",
    "clf = LogisticRegression()\n",
    "# clf.fit(X_train_sc, y_train)\n",
    "#grid_search_clf_rocauc, y_pred_rocauc = grid_search_wrapper(clf, X_train_sc, y_train, X_test_sc, y_test, 'roc_auc')\n",
    "grid_search_clf_rocauc = grid_search_wrapper(clf, X_train_poly, y_train, 'roc_auc')"
   ]
  },
  {
   "cell_type": "code",
   "execution_count": 22,
   "metadata": {
    "ExecuteTime": {
     "end_time": "2020-06-12T19:03:56.596094Z",
     "start_time": "2020-06-12T19:03:56.593295Z"
    }
   },
   "outputs": [],
   "source": [
    "clf_w_best_params = LogisticRegression(C=0.001, fit_intercept=True, penalty='l2')\n"
   ]
  },
  {
   "cell_type": "code",
   "execution_count": 25,
   "metadata": {
    "ExecuteTime": {
     "end_time": "2020-06-12T19:04:58.808476Z",
     "start_time": "2020-06-12T19:04:50.730806Z"
    }
   },
   "outputs": [
    {
     "name": "stdout",
     "output_type": "stream",
     "text": [
      "Training AUC is 0.7764934511411027\n"
     ]
    }
   ],
   "source": [
    "y_train_pred = clf_w_best_params.fit(X_train_poly, y_train)\n",
    "y_train_probs = clf_w_best_params.predict_proba(X_train_poly)[:,1]\n",
    "print('Training AUC is ' + str(roc_auc_score(y_train, y_train_probs)))"
   ]
  },
  {
   "cell_type": "markdown",
   "metadata": {},
   "source": [
    "# What I had before"
   ]
  },
  {
   "cell_type": "code",
   "execution_count": null,
   "metadata": {
    "ExecuteTime": {
     "end_time": "2020-06-12T18:27:35.280527Z",
     "start_time": "2020-06-12T18:27:35.055239Z"
    }
   },
   "outputs": [],
   "source": [
    "clf_w_best_params = LogisticRegression(C=0.01, fit_intercept=True, penalty='l2')\n",
    "\n",
    "#clf_w_best_params = LogisticRegression(class_weight={0: 0.005, 1: 0.995}, C=0.01, fit_intercept=False, penalty='l2')\n",
    "clf_w_best_params.fit(X_train_sc, y_train)\n",
    "file_name_pickle = 'model_' + now_to_str() + '.pickle'\n",
    "scaler_name_pickle = 'scaler_' + now_to_str() + '.pickle'\n",
    "pickle.dump(clf_w_best_params, open(file_name_pickle, 'wb'))\n",
    "pickle.dump(scaler, open(scaler_name_pickle, 'wb'))\n",
    "\n",
    "y_pred = clf_w_best_params.predict(X_test_sc)\n",
    "y_probs = clf_w_best_params.predict_proba(X_test_sc)[:,1]\n",
    "# print('accuracy is ' + str(accuracy_score(y_test, y_pred)))\n",
    "# print('precision is ' + str(precision_score(y_test, y_pred)))\n",
    "\n",
    "\n",
    "\n",
    "# print('F1 score is ' + str(f1_score(y_test, y_pred_rocauc)))\n",
    "print('AUC is ' + str(roc_auc_score(y_test,y_probs)))\n",
    "# print('Min prob is ' + str(y_probs.min()))\n",
    "# print('Max prob is ' + str(y_probs.max()))"
   ]
  },
  {
   "cell_type": "code",
   "execution_count": null,
   "metadata": {
    "ExecuteTime": {
     "end_time": "2020-06-12T18:27:45.092446Z",
     "start_time": "2020-06-12T18:27:45.089014Z"
    }
   },
   "outputs": [],
   "source": [
    "y_probs.max()"
   ]
  },
  {
   "cell_type": "code",
   "execution_count": null,
   "metadata": {
    "ExecuteTime": {
     "end_time": "2020-06-12T09:20:10.111022Z",
     "start_time": "2020-06-12T09:20:09.021629Z"
    }
   },
   "outputs": [],
   "source": [
    "%matplotlib qt\n",
    "\n",
    "\n",
    "noskill_probs = [0 for _ in range(len(y_test))]\n",
    "ns_fpr, ns_tpr, _ = roc_curve(y_test, noskill_probs)\n",
    "lr_fpr, lr_tpr, threshold_array = roc_curve(y_test, clf_w_best_params.predict_proba(X_test_sc)[:,1])\n",
    "\n",
    "y_pred_new = lr_tpr>0\n",
    "\n",
    "logisticRegr_auc = roc_auc_score(y_test, y_probs)\n",
    "print('Logistic: ROC AUC=%.3f' % (logisticRegr_auc))\n",
    "\n",
    "plt.figure()\n",
    "# plot the roc curve for the model\n",
    "plt.plot(ns_fpr, ns_tpr, linestyle='--')\n",
    "plt.plot(lr_fpr, lr_tpr, marker='.', label='Logistic Regr.')\n",
    "# axis labels\n",
    "plt.xlabel('False Positive Rate')\n",
    "plt.ylabel('True Positive Rate')\n",
    "# # show the legend\n",
    "plt.legend()\n",
    "# # show the plot\n",
    "plt.show()"
   ]
  },
  {
   "cell_type": "code",
   "execution_count": null,
   "metadata": {
    "ExecuteTime": {
     "end_time": "2020-06-12T09:20:10.119066Z",
     "start_time": "2020-06-12T09:20:10.112393Z"
    }
   },
   "outputs": [],
   "source": [
    "# Looking at ROC curve, a TPR of 0.88 and FPR of 0.48 seems reasonable because the prophylaxis may\n",
    "# cause bleeding, but VTE is deadly, too. Get the threshold at this level\n",
    "fpr_tpr_thresh = pd.DataFrame({'fpr': lr_fpr, 'tpr': lr_tpr, 'thresh': threshold_array})\n",
    "fpr_tpr_thresh = fpr_tpr_thresh[(fpr_tpr_thresh['tpr'] < 0.88) & (fpr_tpr_thresh['tpr'] > 0.87)]\n",
    "print(fpr_tpr_thresh)"
   ]
  },
  {
   "cell_type": "code",
   "execution_count": null,
   "metadata": {
    "ExecuteTime": {
     "end_time": "2020-06-12T09:20:10.126410Z",
     "start_time": "2020-06-12T09:20:10.120516Z"
    }
   },
   "outputs": [],
   "source": [
    "fpr_tpr_thresh"
   ]
  },
  {
   "cell_type": "code",
   "execution_count": null,
   "metadata": {
    "ExecuteTime": {
     "end_time": "2020-06-11T19:18:40.643967Z",
     "start_time": "2020-06-11T19:18:40.640667Z"
    }
   },
   "outputs": [],
   "source": []
  },
  {
   "cell_type": "code",
   "execution_count": null,
   "metadata": {
    "ExecuteTime": {
     "end_time": "2020-06-12T09:20:10.610360Z",
     "start_time": "2020-06-12T09:20:10.127914Z"
    },
    "scrolled": true
   },
   "outputs": [],
   "source": [
    "Xt = X_test_sc\n",
    "yt = y_test\n",
    "\n",
    "THRESHOLD = [0.0017, 0.0018, 0.0019, 0.0020, 0.0021, 0.0022, 0.0023, 0.0024, 0.0025, 0.0026, 0.0027]\n",
    "for thresh in THRESHOLD:\n",
    "    print('-----------------')\n",
    "    print('THRESHOLD =  ' + str(thresh))\n",
    "    y_pred_thresh = np.where(clf_w_best_params.predict_proba(Xt)[:,1] > thresh, 1, 0)\n",
    "    print('F1: ' + str(f1_score(yt, y_pred_thresh)))\n",
    "    print('Precision: ' + str(precision_score(yt, y_pred_thresh)))\n",
    "    print('Recall: ' + str(recall_score(yt, y_pred_thresh)))\n",
    "    print(confusion_matrix(yt, y_pred_thresh, normalize='true'))"
   ]
  },
  {
   "cell_type": "code",
   "execution_count": null,
   "metadata": {},
   "outputs": [],
   "source": []
  },
  {
   "cell_type": "markdown",
   "metadata": {},
   "source": [
    "# Feature Weights"
   ]
  },
  {
   "cell_type": "code",
   "execution_count": null,
   "metadata": {
    "ExecuteTime": {
     "end_time": "2020-06-12T09:20:10.621972Z",
     "start_time": "2020-06-12T09:20:10.612186Z"
    }
   },
   "outputs": [],
   "source": [
    "# Get feature weights and put into dataframe\n",
    "mydict = {'feature': X_train.columns, 'coef': list(clf_w_best_params.coef_.reshape(-1,1).flatten())}\n",
    "features_weights = pd.DataFrame(mydict)\n",
    "features_weights = features_weights.assign(abs_weight=np.abs(features_weights['coef']))\n",
    "features_weights.head()"
   ]
  },
  {
   "cell_type": "code",
   "execution_count": null,
   "metadata": {
    "ExecuteTime": {
     "end_time": "2020-06-12T09:20:10.627148Z",
     "start_time": "2020-06-12T09:20:10.623647Z"
    }
   },
   "outputs": [],
   "source": [
    "fw = features_weights.sort_values(by='abs_weight', ascending=False)"
   ]
  },
  {
   "cell_type": "code",
   "execution_count": null,
   "metadata": {
    "ExecuteTime": {
     "end_time": "2020-06-12T10:27:09.377981Z",
     "start_time": "2020-06-12T10:27:09.370047Z"
    }
   },
   "outputs": [],
   "source": [
    "fw5 = fw.iloc[0:5]\n",
    "fw5"
   ]
  },
  {
   "cell_type": "code",
   "execution_count": null,
   "metadata": {},
   "outputs": [],
   "source": []
  }
 ],
 "metadata": {
  "kernelspec": {
   "display_name": "Python 3",
   "language": "python",
   "name": "python3"
  },
  "language_info": {
   "codemirror_mode": {
    "name": "ipython",
    "version": 3
   },
   "file_extension": ".py",
   "mimetype": "text/x-python",
   "name": "python",
   "nbconvert_exporter": "python",
   "pygments_lexer": "ipython3",
   "version": "3.7.7"
  },
  "toc": {
   "base_numbering": 1,
   "nav_menu": {},
   "number_sections": true,
   "sideBar": true,
   "skip_h1_title": false,
   "title_cell": "Table of Contents",
   "title_sidebar": "Contents",
   "toc_cell": false,
   "toc_position": {
    "height": "calc(100% - 180px)",
    "left": "10px",
    "top": "150px",
    "width": "165px"
   },
   "toc_section_display": true,
   "toc_window_display": true
  },
  "varInspector": {
   "cols": {
    "lenName": 16,
    "lenType": 16,
    "lenVar": 40
   },
   "kernels_config": {
    "python": {
     "delete_cmd_postfix": "",
     "delete_cmd_prefix": "del ",
     "library": "var_list.py",
     "varRefreshCmd": "print(var_dic_list())"
    },
    "r": {
     "delete_cmd_postfix": ") ",
     "delete_cmd_prefix": "rm(",
     "library": "var_list.r",
     "varRefreshCmd": "cat(var_dic_list()) "
    }
   },
   "position": {
    "height": "567px",
    "left": "1336px",
    "right": "20px",
    "top": "191px",
    "width": "592px"
   },
   "types_to_exclude": [
    "module",
    "function",
    "builtin_function_or_method",
    "instance",
    "_Feature"
   ],
   "window_display": false
  }
 },
 "nbformat": 4,
 "nbformat_minor": 4
}
