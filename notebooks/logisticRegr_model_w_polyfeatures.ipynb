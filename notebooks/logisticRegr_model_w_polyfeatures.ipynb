{
 "cells": [
  {
   "cell_type": "code",
   "execution_count": null,
   "metadata": {},
   "outputs": [],
   "source": []
  },
  {
   "cell_type": "code",
   "execution_count": 57,
   "metadata": {
    "ExecuteTime": {
     "end_time": "2020-06-13T23:42:38.232049Z",
     "start_time": "2020-06-13T23:42:38.226316Z"
    }
   },
   "outputs": [],
   "source": [
    "# 0 = no streamlit\n",
    "# 1 = test user inputs\n",
    "# 2 = run in streamlit\n",
    "streamlit_status = 0\n",
    "#file_name_pickle_read = 'model_2020_06_06_1105.pickle'\n",
    "do_plots = 1\n",
    "\n",
    "dir_read = '/Users/rachellehorwitz/Documents/ViTalErt/data/filtered05/'\n",
    "#dir_read = '/Users/rachellehorwitz/Documents/VTAlert/over18_eicu/'\n",
    "\n",
    "from sklearn import metrics\n",
    "from sklearn.linear_model import LogisticRegression\n",
    "from sklearn.metrics import auc, confusion_matrix, plot_confusion_matrix, f1_score, roc_auc_score, roc_curve\n",
    "from sklearn.model_selection import GridSearchCV, learning_curve, train_test_split, ShuffleSplit, StratifiedKFold\n",
    "from sklearn.preprocessing import StandardScaler, MinMaxScaler\n",
    "from sklearn.pipeline import make_pipeline\n",
    "import pandas as pd\n",
    "import numpy as np\n",
    "import seaborn as sns\n",
    "import matplotlib\n",
    "import matplotlib.pyplot as plt\n",
    "import streamlit as st\n",
    "import pickle\n",
    "from datetime import datetime\n",
    "import pyprojroot\n",
    "\n",
    "\n",
    "matplotlib.rcParams.update({'font.size': 22})"
   ]
  },
  {
   "cell_type": "markdown",
   "metadata": {},
   "source": [
    "# Function Definitions"
   ]
  },
  {
   "cell_type": "code",
   "execution_count": 58,
   "metadata": {
    "ExecuteTime": {
     "end_time": "2020-06-13T23:42:38.237601Z",
     "start_time": "2020-06-13T23:42:38.234172Z"
    }
   },
   "outputs": [],
   "source": [
    "def now_to_str():\n",
    "    now = str(datetime.now())\n",
    "    return now[0:4] + '_' + now[5:7] + '_' + now[8:10] + '_' + now[11:13] + now[14:16]"
   ]
  },
  {
   "cell_type": "markdown",
   "metadata": {},
   "source": [
    "# Defining X and y"
   ]
  },
  {
   "cell_type": "code",
   "execution_count": null,
   "metadata": {
    "ExecuteTime": {
     "end_time": "2020-06-12T00:08:40.144806Z",
     "start_time": "2020-06-12T00:08:39.886306Z"
    }
   },
   "outputs": [],
   "source": []
  },
  {
   "cell_type": "code",
   "execution_count": 59,
   "metadata": {
    "ExecuteTime": {
     "end_time": "2020-06-13T23:42:38.559577Z",
     "start_time": "2020-06-13T23:42:38.239127Z"
    }
   },
   "outputs": [
    {
     "data": {
      "text/plain": [
       "(30,)"
      ]
     },
     "execution_count": 59,
     "metadata": {},
     "output_type": "execute_result"
    }
   ],
   "source": [
    "Xy = pd.read_csv(dir_read + 'Xy_2020_06_12_1524.csv')\n",
    "Xy = Xy.set_index('patientunitstayid')\n",
    "y = Xy.pop('label')\n",
    "X = Xy.copy()\n",
    "X.columns.shape"
   ]
  },
  {
   "cell_type": "code",
   "execution_count": 60,
   "metadata": {
    "ExecuteTime": {
     "end_time": "2020-06-13T23:42:38.581249Z",
     "start_time": "2020-06-13T23:42:38.562702Z"
    }
   },
   "outputs": [
    {
     "data": {
      "text/html": [
       "<div>\n",
       "<style scoped>\n",
       "    .dataframe tbody tr th:only-of-type {\n",
       "        vertical-align: middle;\n",
       "    }\n",
       "\n",
       "    .dataframe tbody tr th {\n",
       "        vertical-align: top;\n",
       "    }\n",
       "\n",
       "    .dataframe thead th {\n",
       "        text-align: right;\n",
       "    }\n",
       "</style>\n",
       "<table border=\"1\" class=\"dataframe\">\n",
       "  <thead>\n",
       "    <tr style=\"text-align: right;\">\n",
       "      <th></th>\n",
       "      <th>age</th>\n",
       "      <th>admissionweight</th>\n",
       "      <th>admissionheight</th>\n",
       "      <th>bmi</th>\n",
       "      <th>gender_Female</th>\n",
       "      <th>ethnicity_African American</th>\n",
       "      <th>ethnicity_Asian</th>\n",
       "      <th>ethnicity_Caucasian</th>\n",
       "      <th>ethnicity_Hispanic</th>\n",
       "      <th>ethnicity_Native American</th>\n",
       "      <th>...</th>\n",
       "      <th>immunosuppression</th>\n",
       "      <th>cirrhosis</th>\n",
       "      <th>activetx</th>\n",
       "      <th>ima</th>\n",
       "      <th>midur</th>\n",
       "      <th>oobventday1</th>\n",
       "      <th>oobintubday1</th>\n",
       "      <th>diabetes</th>\n",
       "      <th>visitnumber</th>\n",
       "      <th>heartrate</th>\n",
       "    </tr>\n",
       "    <tr>\n",
       "      <th>patientunitstayid</th>\n",
       "      <th></th>\n",
       "      <th></th>\n",
       "      <th></th>\n",
       "      <th></th>\n",
       "      <th></th>\n",
       "      <th></th>\n",
       "      <th></th>\n",
       "      <th></th>\n",
       "      <th></th>\n",
       "      <th></th>\n",
       "      <th></th>\n",
       "      <th></th>\n",
       "      <th></th>\n",
       "      <th></th>\n",
       "      <th></th>\n",
       "      <th></th>\n",
       "      <th></th>\n",
       "      <th></th>\n",
       "      <th></th>\n",
       "      <th></th>\n",
       "      <th></th>\n",
       "    </tr>\n",
       "  </thead>\n",
       "  <tbody>\n",
       "    <tr>\n",
       "      <th>141168</th>\n",
       "      <td>70</td>\n",
       "      <td>84.3</td>\n",
       "      <td>152.4</td>\n",
       "      <td>36.295906</td>\n",
       "      <td>1</td>\n",
       "      <td>0</td>\n",
       "      <td>0</td>\n",
       "      <td>1</td>\n",
       "      <td>0</td>\n",
       "      <td>0</td>\n",
       "      <td>...</td>\n",
       "      <td>0</td>\n",
       "      <td>0</td>\n",
       "      <td>1</td>\n",
       "      <td>0</td>\n",
       "      <td>0</td>\n",
       "      <td>0</td>\n",
       "      <td>0</td>\n",
       "      <td>0</td>\n",
       "      <td>1</td>\n",
       "      <td>125.052830</td>\n",
       "    </tr>\n",
       "    <tr>\n",
       "      <th>141194</th>\n",
       "      <td>68</td>\n",
       "      <td>73.9</td>\n",
       "      <td>180.3</td>\n",
       "      <td>22.732803</td>\n",
       "      <td>0</td>\n",
       "      <td>0</td>\n",
       "      <td>0</td>\n",
       "      <td>1</td>\n",
       "      <td>0</td>\n",
       "      <td>0</td>\n",
       "      <td>...</td>\n",
       "      <td>0</td>\n",
       "      <td>0</td>\n",
       "      <td>0</td>\n",
       "      <td>0</td>\n",
       "      <td>0</td>\n",
       "      <td>0</td>\n",
       "      <td>0</td>\n",
       "      <td>1</td>\n",
       "      <td>1</td>\n",
       "      <td>86.860627</td>\n",
       "    </tr>\n",
       "    <tr>\n",
       "      <th>141197</th>\n",
       "      <td>71</td>\n",
       "      <td>102.1</td>\n",
       "      <td>162.6</td>\n",
       "      <td>38.617545</td>\n",
       "      <td>0</td>\n",
       "      <td>0</td>\n",
       "      <td>0</td>\n",
       "      <td>1</td>\n",
       "      <td>0</td>\n",
       "      <td>0</td>\n",
       "      <td>...</td>\n",
       "      <td>0</td>\n",
       "      <td>0</td>\n",
       "      <td>0</td>\n",
       "      <td>0</td>\n",
       "      <td>0</td>\n",
       "      <td>0</td>\n",
       "      <td>0</td>\n",
       "      <td>0</td>\n",
       "      <td>1</td>\n",
       "      <td>97.307692</td>\n",
       "    </tr>\n",
       "    <tr>\n",
       "      <th>141203</th>\n",
       "      <td>77</td>\n",
       "      <td>70.2</td>\n",
       "      <td>160.0</td>\n",
       "      <td>27.421875</td>\n",
       "      <td>1</td>\n",
       "      <td>0</td>\n",
       "      <td>0</td>\n",
       "      <td>1</td>\n",
       "      <td>0</td>\n",
       "      <td>0</td>\n",
       "      <td>...</td>\n",
       "      <td>0</td>\n",
       "      <td>0</td>\n",
       "      <td>1</td>\n",
       "      <td>0</td>\n",
       "      <td>0</td>\n",
       "      <td>1</td>\n",
       "      <td>0</td>\n",
       "      <td>1</td>\n",
       "      <td>1</td>\n",
       "      <td>91.543554</td>\n",
       "    </tr>\n",
       "    <tr>\n",
       "      <th>141208</th>\n",
       "      <td>25</td>\n",
       "      <td>95.3</td>\n",
       "      <td>172.7</td>\n",
       "      <td>31.952749</td>\n",
       "      <td>1</td>\n",
       "      <td>0</td>\n",
       "      <td>0</td>\n",
       "      <td>1</td>\n",
       "      <td>0</td>\n",
       "      <td>0</td>\n",
       "      <td>...</td>\n",
       "      <td>0</td>\n",
       "      <td>0</td>\n",
       "      <td>0</td>\n",
       "      <td>0</td>\n",
       "      <td>0</td>\n",
       "      <td>0</td>\n",
       "      <td>0</td>\n",
       "      <td>0</td>\n",
       "      <td>1</td>\n",
       "      <td>77.817460</td>\n",
       "    </tr>\n",
       "  </tbody>\n",
       "</table>\n",
       "<p>5 rows × 30 columns</p>\n",
       "</div>"
      ],
      "text/plain": [
       "                   age  admissionweight  admissionheight        bmi  \\\n",
       "patientunitstayid                                                     \n",
       "141168              70             84.3            152.4  36.295906   \n",
       "141194              68             73.9            180.3  22.732803   \n",
       "141197              71            102.1            162.6  38.617545   \n",
       "141203              77             70.2            160.0  27.421875   \n",
       "141208              25             95.3            172.7  31.952749   \n",
       "\n",
       "                   gender_Female  ethnicity_African American  ethnicity_Asian  \\\n",
       "patientunitstayid                                                               \n",
       "141168                         1                           0                0   \n",
       "141194                         0                           0                0   \n",
       "141197                         0                           0                0   \n",
       "141203                         1                           0                0   \n",
       "141208                         1                           0                0   \n",
       "\n",
       "                   ethnicity_Caucasian  ethnicity_Hispanic  \\\n",
       "patientunitstayid                                            \n",
       "141168                               1                   0   \n",
       "141194                               1                   0   \n",
       "141197                               1                   0   \n",
       "141203                               1                   0   \n",
       "141208                               1                   0   \n",
       "\n",
       "                   ethnicity_Native American  ...  immunosuppression  \\\n",
       "patientunitstayid                             ...                      \n",
       "141168                                     0  ...                  0   \n",
       "141194                                     0  ...                  0   \n",
       "141197                                     0  ...                  0   \n",
       "141203                                     0  ...                  0   \n",
       "141208                                     0  ...                  0   \n",
       "\n",
       "                   cirrhosis  activetx  ima  midur  oobventday1  oobintubday1  \\\n",
       "patientunitstayid                                                               \n",
       "141168                     0         1    0      0            0             0   \n",
       "141194                     0         0    0      0            0             0   \n",
       "141197                     0         0    0      0            0             0   \n",
       "141203                     0         1    0      0            1             0   \n",
       "141208                     0         0    0      0            0             0   \n",
       "\n",
       "                   diabetes  visitnumber   heartrate  \n",
       "patientunitstayid                                     \n",
       "141168                    0            1  125.052830  \n",
       "141194                    1            1   86.860627  \n",
       "141197                    0            1   97.307692  \n",
       "141203                    1            1   91.543554  \n",
       "141208                    0            1   77.817460  \n",
       "\n",
       "[5 rows x 30 columns]"
      ]
     },
     "execution_count": 60,
     "metadata": {},
     "output_type": "execute_result"
    }
   ],
   "source": [
    "X.head()"
   ]
  },
  {
   "cell_type": "code",
   "execution_count": 61,
   "metadata": {
    "ExecuteTime": {
     "end_time": "2020-06-13T23:42:38.586109Z",
     "start_time": "2020-06-13T23:42:38.583555Z"
    }
   },
   "outputs": [],
   "source": [
    "cols = list(X.columns)"
   ]
  },
  {
   "cell_type": "code",
   "execution_count": 62,
   "metadata": {
    "ExecuteTime": {
     "end_time": "2020-06-13T23:42:38.591448Z",
     "start_time": "2020-06-13T23:42:38.587788Z"
    },
    "scrolled": true
   },
   "outputs": [
    {
     "data": {
      "text/plain": [
       "['age',\n",
       " 'admissionweight',\n",
       " 'admissionheight',\n",
       " 'bmi',\n",
       " 'gender_Female',\n",
       " 'ethnicity_African American',\n",
       " 'ethnicity_Asian',\n",
       " 'ethnicity_Caucasian',\n",
       " 'ethnicity_Hispanic',\n",
       " 'ethnicity_Native American',\n",
       " 'ethnicity_Other/Unknown',\n",
       " 'verbal',\n",
       " 'motor',\n",
       " 'eyes',\n",
       " 'thrombolytics',\n",
       " 'aids',\n",
       " 'hepaticfailure',\n",
       " 'lymphoma',\n",
       " 'metastaticcancer',\n",
       " 'leukemia',\n",
       " 'immunosuppression',\n",
       " 'cirrhosis',\n",
       " 'activetx',\n",
       " 'ima',\n",
       " 'midur',\n",
       " 'oobventday1',\n",
       " 'oobintubday1',\n",
       " 'diabetes',\n",
       " 'visitnumber',\n",
       " 'heartrate']"
      ]
     },
     "execution_count": 62,
     "metadata": {},
     "output_type": "execute_result"
    }
   ],
   "source": [
    "cols"
   ]
  },
  {
   "cell_type": "code",
   "execution_count": 63,
   "metadata": {
    "ExecuteTime": {
     "end_time": "2020-06-13T23:42:38.596349Z",
     "start_time": "2020-06-13T23:42:38.593300Z"
    }
   },
   "outputs": [],
   "source": [
    "vars_categ = ['gender_Female', 'ethnicity_AfricanAmerican', 'ethnicity_Asian', 'ethnicity_Caucasian', \\\n",
    "             'ethnicity_Hispanic', 'ethnicity_NativeAmerican', 'ethnicity_Other/Unknown',\\\n",
    "              'unitstaytype_admit', 'unitstaytype_readmit', 'unitstaytype_transfer', \\\n",
    "             'thrombolytics', 'aids', 'hepaticfailure' 'lymphoma', 'metastiticcancer', 'leukemia', \\\n",
    "             'immunosuppression', 'cirrhosis', 'activetx', 'ima', 'midur',\n",
    "               'ventday1', 'oobventday1', 'oobintubday1', 'diabetes']"
   ]
  },
  {
   "cell_type": "code",
   "execution_count": 64,
   "metadata": {
    "ExecuteTime": {
     "end_time": "2020-06-13T23:42:38.601046Z",
     "start_time": "2020-06-13T23:42:38.598060Z"
    }
   },
   "outputs": [],
   "source": [
    "vars_cont = ['age', 'admissionweight', 'admissionheight', 'bmi', \\\n",
    "             'verbal', 'motor', 'eyes', 'visitnumber', 'heartrate']"
   ]
  },
  {
   "cell_type": "markdown",
   "metadata": {},
   "source": [
    "# Logistic Regression with Polynomial Features"
   ]
  },
  {
   "cell_type": "code",
   "execution_count": 65,
   "metadata": {
    "ExecuteTime": {
     "end_time": "2020-06-13T23:42:38.609749Z",
     "start_time": "2020-06-13T23:42:38.603065Z"
    }
   },
   "outputs": [],
   "source": [
    "def grid_search_wrapper(clf, X_train_sc, y_train, scoring):#, X_test_sc, y_test, scoring):\n",
    "    \"\"\"\n",
    "    fits a GridSearchCV classifier using refit_score for optimization\n",
    "    prints classifier performance metrics\n",
    "    \"\"\"\n",
    "    skf = StratifiedKFold(n_splits=5)    \n",
    "    \n",
    "    weights = np.array([0.001, \\\n",
    "                        y[y==1].shape[0] / (y[y==1].shape[0] + y.shape[0]), \\\n",
    "                        0.005, 0.01, 0.2, 0.5])\n",
    "    \n",
    "    hyperparam_grid = {'penalty': ['l1', 'l2'], \\\n",
    "                       'C': np.logspace(-3, 3, 5), \\\n",
    "                       #'class_weight': [{0: x,   1: 1-x} for x in weights], \\\n",
    "                       'fit_intercept': [True, False]}\n",
    "    #GridSearchCV(clf, param, scoring='f1_score',refit=True,cv=10)\n",
    "    \n",
    "    \n",
    "    grid_search = GridSearchCV(clf, scoring=scoring, param_grid=hyperparam_grid, refit=True,\n",
    "                           cv=skf, return_train_score=True, n_jobs=4)\n",
    "    grid_search.fit(X_train_sc, y_train)\n",
    "\n",
    "    # make the predictions\n",
    "    #y_pred = grid_search.predict(X_test_sc)\n",
    "\n",
    "    print('Best params for ' + scoring)\n",
    "    print(grid_search.best_params_)\n",
    "\n",
    "#     # confusion matrix on the test data.\n",
    "#     print('\\nConfusion matrix of Logistic Regression optimized')\n",
    "#     print(pd.DataFrame(confusion_matrix(y_test, y_pred),\n",
    "#                  columns=['pred_neg', 'pred_pos'], index=['neg', 'pos']))\n",
    "    return grid_search"
   ]
  },
  {
   "cell_type": "code",
   "execution_count": 66,
   "metadata": {
    "ExecuteTime": {
     "end_time": "2020-06-13T23:46:41.185335Z",
     "start_time": "2020-06-13T23:42:38.613479Z"
    },
    "scrolled": true
   },
   "outputs": [
    {
     "name": "stdout",
     "output_type": "stream",
     "text": [
      "Best params for roc_auc\n",
      "{'C': 0.001, 'fit_intercept': True, 'penalty': 'l2'}\n"
     ]
    }
   ],
   "source": [
    "from sklearn.preprocessing import PolynomialFeatures\n",
    "from sklearn.metrics import roc_curve, precision_recall_curve, auc, make_scorer, recall_score, accuracy_score, precision_score, confusion_matrix\n",
    "\n",
    "X_train, X_test, y_train, y_test = train_test_split(X, y, test_size=0.2, stratify=y, random_state=1)\n",
    "scaler = MinMaxScaler()\n",
    "X_train_sc = scaler.fit_transform(X_train)\n",
    "X_test_sc = scaler.transform(X_test)\n",
    "\n",
    "# transform X_train_sc to a higher degree\n",
    "poly_features = PolynomialFeatures(degree=2)\n",
    "X_train_poly = poly_features.fit_transform(X_train_sc)\n",
    "X_train_poly_colnames = poly_features.get_feature_names(X.columns)\n",
    "\n",
    "X_test_poly = poly_features.transform(X_test_sc)\n",
    "\n",
    "clf = LogisticRegression(class_weight = 'balanced')\n",
    "# clf.fit(X_train_sc, y_train)\n",
    "#grid_search_clf_rocauc, y_pred_rocauc = grid_search_wrapper(clf, X_train_sc, y_train, X_test_sc, y_test, 'roc_auc')\n",
    "grid_search_clf_rocauc = grid_search_wrapper(clf, X_train_poly, y_train, 'roc_auc')"
   ]
  },
  {
   "cell_type": "code",
   "execution_count": 133,
   "metadata": {
    "ExecuteTime": {
     "end_time": "2020-06-14T18:08:04.285178Z",
     "start_time": "2020-06-14T18:08:04.237965Z"
    }
   },
   "outputs": [
    {
     "data": {
      "text/html": [
       "<div>\n",
       "<style scoped>\n",
       "    .dataframe tbody tr th:only-of-type {\n",
       "        vertical-align: middle;\n",
       "    }\n",
       "\n",
       "    .dataframe tbody tr th {\n",
       "        vertical-align: top;\n",
       "    }\n",
       "\n",
       "    .dataframe thead th {\n",
       "        text-align: right;\n",
       "    }\n",
       "</style>\n",
       "<table border=\"1\" class=\"dataframe\">\n",
       "  <thead>\n",
       "    <tr style=\"text-align: right;\">\n",
       "      <th></th>\n",
       "      <th>age</th>\n",
       "      <th>admissionweight</th>\n",
       "      <th>admissionheight</th>\n",
       "      <th>bmi</th>\n",
       "      <th>gender_Female</th>\n",
       "      <th>ethnicity_African American</th>\n",
       "      <th>ethnicity_Asian</th>\n",
       "      <th>ethnicity_Caucasian</th>\n",
       "      <th>ethnicity_Hispanic</th>\n",
       "      <th>ethnicity_Native American</th>\n",
       "      <th>...</th>\n",
       "      <th>immunosuppression</th>\n",
       "      <th>cirrhosis</th>\n",
       "      <th>activetx</th>\n",
       "      <th>ima</th>\n",
       "      <th>midur</th>\n",
       "      <th>oobventday1</th>\n",
       "      <th>oobintubday1</th>\n",
       "      <th>diabetes</th>\n",
       "      <th>visitnumber</th>\n",
       "      <th>heartrate</th>\n",
       "    </tr>\n",
       "    <tr>\n",
       "      <th>patientunitstayid</th>\n",
       "      <th></th>\n",
       "      <th></th>\n",
       "      <th></th>\n",
       "      <th></th>\n",
       "      <th></th>\n",
       "      <th></th>\n",
       "      <th></th>\n",
       "      <th></th>\n",
       "      <th></th>\n",
       "      <th></th>\n",
       "      <th></th>\n",
       "      <th></th>\n",
       "      <th></th>\n",
       "      <th></th>\n",
       "      <th></th>\n",
       "      <th></th>\n",
       "      <th></th>\n",
       "      <th></th>\n",
       "      <th></th>\n",
       "      <th></th>\n",
       "      <th></th>\n",
       "    </tr>\n",
       "  </thead>\n",
       "  <tbody>\n",
       "    <tr>\n",
       "      <th>1055700</th>\n",
       "      <td>70</td>\n",
       "      <td>70.5</td>\n",
       "      <td>157.5</td>\n",
       "      <td>28.420257</td>\n",
       "      <td>1</td>\n",
       "      <td>0</td>\n",
       "      <td>0</td>\n",
       "      <td>1</td>\n",
       "      <td>0</td>\n",
       "      <td>0</td>\n",
       "      <td>...</td>\n",
       "      <td>0</td>\n",
       "      <td>0</td>\n",
       "      <td>1</td>\n",
       "      <td>0</td>\n",
       "      <td>0</td>\n",
       "      <td>0</td>\n",
       "      <td>0</td>\n",
       "      <td>0</td>\n",
       "      <td>1</td>\n",
       "      <td>68.186508</td>\n",
       "    </tr>\n",
       "    <tr>\n",
       "      <th>3237558</th>\n",
       "      <td>81</td>\n",
       "      <td>67.5</td>\n",
       "      <td>190.5</td>\n",
       "      <td>18.600037</td>\n",
       "      <td>0</td>\n",
       "      <td>0</td>\n",
       "      <td>0</td>\n",
       "      <td>1</td>\n",
       "      <td>0</td>\n",
       "      <td>0</td>\n",
       "      <td>...</td>\n",
       "      <td>0</td>\n",
       "      <td>0</td>\n",
       "      <td>1</td>\n",
       "      <td>0</td>\n",
       "      <td>0</td>\n",
       "      <td>1</td>\n",
       "      <td>1</td>\n",
       "      <td>0</td>\n",
       "      <td>1</td>\n",
       "      <td>79.018868</td>\n",
       "    </tr>\n",
       "    <tr>\n",
       "      <th>2723468</th>\n",
       "      <td>78</td>\n",
       "      <td>64.0</td>\n",
       "      <td>167.6</td>\n",
       "      <td>22.784104</td>\n",
       "      <td>0</td>\n",
       "      <td>0</td>\n",
       "      <td>0</td>\n",
       "      <td>1</td>\n",
       "      <td>0</td>\n",
       "      <td>0</td>\n",
       "      <td>...</td>\n",
       "      <td>0</td>\n",
       "      <td>0</td>\n",
       "      <td>1</td>\n",
       "      <td>0</td>\n",
       "      <td>0</td>\n",
       "      <td>1</td>\n",
       "      <td>1</td>\n",
       "      <td>0</td>\n",
       "      <td>1</td>\n",
       "      <td>73.627178</td>\n",
       "    </tr>\n",
       "    <tr>\n",
       "      <th>2264029</th>\n",
       "      <td>82</td>\n",
       "      <td>72.6</td>\n",
       "      <td>162.6</td>\n",
       "      <td>27.459684</td>\n",
       "      <td>1</td>\n",
       "      <td>0</td>\n",
       "      <td>0</td>\n",
       "      <td>1</td>\n",
       "      <td>0</td>\n",
       "      <td>0</td>\n",
       "      <td>...</td>\n",
       "      <td>0</td>\n",
       "      <td>0</td>\n",
       "      <td>1</td>\n",
       "      <td>0</td>\n",
       "      <td>0</td>\n",
       "      <td>0</td>\n",
       "      <td>0</td>\n",
       "      <td>0</td>\n",
       "      <td>1</td>\n",
       "      <td>99.789474</td>\n",
       "    </tr>\n",
       "    <tr>\n",
       "      <th>1603987</th>\n",
       "      <td>70</td>\n",
       "      <td>50.8</td>\n",
       "      <td>172.7</td>\n",
       "      <td>17.032525</td>\n",
       "      <td>1</td>\n",
       "      <td>0</td>\n",
       "      <td>0</td>\n",
       "      <td>1</td>\n",
       "      <td>0</td>\n",
       "      <td>0</td>\n",
       "      <td>...</td>\n",
       "      <td>0</td>\n",
       "      <td>0</td>\n",
       "      <td>1</td>\n",
       "      <td>0</td>\n",
       "      <td>0</td>\n",
       "      <td>1</td>\n",
       "      <td>1</td>\n",
       "      <td>0</td>\n",
       "      <td>1</td>\n",
       "      <td>89.993031</td>\n",
       "    </tr>\n",
       "    <tr>\n",
       "      <th>...</th>\n",
       "      <td>...</td>\n",
       "      <td>...</td>\n",
       "      <td>...</td>\n",
       "      <td>...</td>\n",
       "      <td>...</td>\n",
       "      <td>...</td>\n",
       "      <td>...</td>\n",
       "      <td>...</td>\n",
       "      <td>...</td>\n",
       "      <td>...</td>\n",
       "      <td>...</td>\n",
       "      <td>...</td>\n",
       "      <td>...</td>\n",
       "      <td>...</td>\n",
       "      <td>...</td>\n",
       "      <td>...</td>\n",
       "      <td>...</td>\n",
       "      <td>...</td>\n",
       "      <td>...</td>\n",
       "      <td>...</td>\n",
       "      <td>...</td>\n",
       "    </tr>\n",
       "    <tr>\n",
       "      <th>1688240</th>\n",
       "      <td>65</td>\n",
       "      <td>105.1</td>\n",
       "      <td>178.0</td>\n",
       "      <td>33.171317</td>\n",
       "      <td>0</td>\n",
       "      <td>1</td>\n",
       "      <td>0</td>\n",
       "      <td>0</td>\n",
       "      <td>0</td>\n",
       "      <td>0</td>\n",
       "      <td>...</td>\n",
       "      <td>0</td>\n",
       "      <td>0</td>\n",
       "      <td>1</td>\n",
       "      <td>0</td>\n",
       "      <td>0</td>\n",
       "      <td>0</td>\n",
       "      <td>0</td>\n",
       "      <td>0</td>\n",
       "      <td>1</td>\n",
       "      <td>83.542373</td>\n",
       "    </tr>\n",
       "    <tr>\n",
       "      <th>404042</th>\n",
       "      <td>69</td>\n",
       "      <td>92.0</td>\n",
       "      <td>165.1</td>\n",
       "      <td>33.751547</td>\n",
       "      <td>1</td>\n",
       "      <td>1</td>\n",
       "      <td>0</td>\n",
       "      <td>0</td>\n",
       "      <td>0</td>\n",
       "      <td>0</td>\n",
       "      <td>...</td>\n",
       "      <td>0</td>\n",
       "      <td>0</td>\n",
       "      <td>1</td>\n",
       "      <td>0</td>\n",
       "      <td>0</td>\n",
       "      <td>0</td>\n",
       "      <td>0</td>\n",
       "      <td>1</td>\n",
       "      <td>1</td>\n",
       "      <td>66.806324</td>\n",
       "    </tr>\n",
       "    <tr>\n",
       "      <th>2731140</th>\n",
       "      <td>82</td>\n",
       "      <td>53.6</td>\n",
       "      <td>160.0</td>\n",
       "      <td>20.937500</td>\n",
       "      <td>1</td>\n",
       "      <td>0</td>\n",
       "      <td>0</td>\n",
       "      <td>1</td>\n",
       "      <td>0</td>\n",
       "      <td>0</td>\n",
       "      <td>...</td>\n",
       "      <td>0</td>\n",
       "      <td>0</td>\n",
       "      <td>1</td>\n",
       "      <td>0</td>\n",
       "      <td>0</td>\n",
       "      <td>0</td>\n",
       "      <td>0</td>\n",
       "      <td>0</td>\n",
       "      <td>1</td>\n",
       "      <td>91.157343</td>\n",
       "    </tr>\n",
       "    <tr>\n",
       "      <th>2246784</th>\n",
       "      <td>38</td>\n",
       "      <td>139.3</td>\n",
       "      <td>160.0</td>\n",
       "      <td>54.414062</td>\n",
       "      <td>1</td>\n",
       "      <td>0</td>\n",
       "      <td>0</td>\n",
       "      <td>1</td>\n",
       "      <td>0</td>\n",
       "      <td>0</td>\n",
       "      <td>...</td>\n",
       "      <td>0</td>\n",
       "      <td>0</td>\n",
       "      <td>0</td>\n",
       "      <td>0</td>\n",
       "      <td>0</td>\n",
       "      <td>0</td>\n",
       "      <td>0</td>\n",
       "      <td>1</td>\n",
       "      <td>1</td>\n",
       "      <td>80.695455</td>\n",
       "    </tr>\n",
       "    <tr>\n",
       "      <th>1662873</th>\n",
       "      <td>69</td>\n",
       "      <td>85.7</td>\n",
       "      <td>167.6</td>\n",
       "      <td>30.509339</td>\n",
       "      <td>1</td>\n",
       "      <td>0</td>\n",
       "      <td>0</td>\n",
       "      <td>1</td>\n",
       "      <td>0</td>\n",
       "      <td>0</td>\n",
       "      <td>...</td>\n",
       "      <td>0</td>\n",
       "      <td>0</td>\n",
       "      <td>0</td>\n",
       "      <td>0</td>\n",
       "      <td>0</td>\n",
       "      <td>0</td>\n",
       "      <td>0</td>\n",
       "      <td>0</td>\n",
       "      <td>1</td>\n",
       "      <td>68.960000</td>\n",
       "    </tr>\n",
       "  </tbody>\n",
       "</table>\n",
       "<p>117013 rows × 30 columns</p>\n",
       "</div>"
      ],
      "text/plain": [
       "                   age  admissionweight  admissionheight        bmi  \\\n",
       "patientunitstayid                                                     \n",
       "1055700             70             70.5            157.5  28.420257   \n",
       "3237558             81             67.5            190.5  18.600037   \n",
       "2723468             78             64.0            167.6  22.784104   \n",
       "2264029             82             72.6            162.6  27.459684   \n",
       "1603987             70             50.8            172.7  17.032525   \n",
       "...                ...              ...              ...        ...   \n",
       "1688240             65            105.1            178.0  33.171317   \n",
       "404042              69             92.0            165.1  33.751547   \n",
       "2731140             82             53.6            160.0  20.937500   \n",
       "2246784             38            139.3            160.0  54.414062   \n",
       "1662873             69             85.7            167.6  30.509339   \n",
       "\n",
       "                   gender_Female  ethnicity_African American  ethnicity_Asian  \\\n",
       "patientunitstayid                                                               \n",
       "1055700                        1                           0                0   \n",
       "3237558                        0                           0                0   \n",
       "2723468                        0                           0                0   \n",
       "2264029                        1                           0                0   \n",
       "1603987                        1                           0                0   \n",
       "...                          ...                         ...              ...   \n",
       "1688240                        0                           1                0   \n",
       "404042                         1                           1                0   \n",
       "2731140                        1                           0                0   \n",
       "2246784                        1                           0                0   \n",
       "1662873                        1                           0                0   \n",
       "\n",
       "                   ethnicity_Caucasian  ethnicity_Hispanic  \\\n",
       "patientunitstayid                                            \n",
       "1055700                              1                   0   \n",
       "3237558                              1                   0   \n",
       "2723468                              1                   0   \n",
       "2264029                              1                   0   \n",
       "1603987                              1                   0   \n",
       "...                                ...                 ...   \n",
       "1688240                              0                   0   \n",
       "404042                               0                   0   \n",
       "2731140                              1                   0   \n",
       "2246784                              1                   0   \n",
       "1662873                              1                   0   \n",
       "\n",
       "                   ethnicity_Native American  ...  immunosuppression  \\\n",
       "patientunitstayid                             ...                      \n",
       "1055700                                    0  ...                  0   \n",
       "3237558                                    0  ...                  0   \n",
       "2723468                                    0  ...                  0   \n",
       "2264029                                    0  ...                  0   \n",
       "1603987                                    0  ...                  0   \n",
       "...                                      ...  ...                ...   \n",
       "1688240                                    0  ...                  0   \n",
       "404042                                     0  ...                  0   \n",
       "2731140                                    0  ...                  0   \n",
       "2246784                                    0  ...                  0   \n",
       "1662873                                    0  ...                  0   \n",
       "\n",
       "                   cirrhosis  activetx  ima  midur  oobventday1  oobintubday1  \\\n",
       "patientunitstayid                                                               \n",
       "1055700                    0         1    0      0            0             0   \n",
       "3237558                    0         1    0      0            1             1   \n",
       "2723468                    0         1    0      0            1             1   \n",
       "2264029                    0         1    0      0            0             0   \n",
       "1603987                    0         1    0      0            1             1   \n",
       "...                      ...       ...  ...    ...          ...           ...   \n",
       "1688240                    0         1    0      0            0             0   \n",
       "404042                     0         1    0      0            0             0   \n",
       "2731140                    0         1    0      0            0             0   \n",
       "2246784                    0         0    0      0            0             0   \n",
       "1662873                    0         0    0      0            0             0   \n",
       "\n",
       "                   diabetes  visitnumber  heartrate  \n",
       "patientunitstayid                                    \n",
       "1055700                   0            1  68.186508  \n",
       "3237558                   0            1  79.018868  \n",
       "2723468                   0            1  73.627178  \n",
       "2264029                   0            1  99.789474  \n",
       "1603987                   0            1  89.993031  \n",
       "...                     ...          ...        ...  \n",
       "1688240                   0            1  83.542373  \n",
       "404042                    1            1  66.806324  \n",
       "2731140                   0            1  91.157343  \n",
       "2246784                   1            1  80.695455  \n",
       "1662873                   0            1  68.960000  \n",
       "\n",
       "[117013 rows x 30 columns]"
      ]
     },
     "execution_count": 133,
     "metadata": {},
     "output_type": "execute_result"
    }
   ],
   "source": [
    "X_train"
   ]
  },
  {
   "cell_type": "code",
   "execution_count": 77,
   "metadata": {
    "ExecuteTime": {
     "end_time": "2020-06-13T23:57:02.251076Z",
     "start_time": "2020-06-13T23:57:02.248860Z"
    }
   },
   "outputs": [],
   "source": [
    "# C=0.001, fit_intercept=True, penalty='l2'\n",
    "clf_w_best_params = LogisticRegression(class_weight='balanced', C=0.001, fit_intercept=True, penalty='l2')\n"
   ]
  },
  {
   "cell_type": "code",
   "execution_count": 79,
   "metadata": {
    "ExecuteTime": {
     "end_time": "2020-06-13T23:57:27.020301Z",
     "start_time": "2020-06-13T23:57:22.251186Z"
    }
   },
   "outputs": [
    {
     "name": "stdout",
     "output_type": "stream",
     "text": [
      "Training AUC with all features is 0.7511785521064368\n"
     ]
    }
   ],
   "source": [
    "y_train_pred = clf_w_best_params.fit(X_train_poly, y_train)\n",
    "y_train_probs = clf_w_best_params.predict_proba(X_train_poly)[:,1]\n",
    "print('Training AUC with all features is ' + str(roc_auc_score(y_train, y_train_probs)))"
   ]
  },
  {
   "cell_type": "code",
   "execution_count": null,
   "metadata": {},
   "outputs": [],
   "source": []
  },
  {
   "cell_type": "code",
   "execution_count": null,
   "metadata": {},
   "outputs": [],
   "source": []
  },
  {
   "cell_type": "markdown",
   "metadata": {},
   "source": [
    "# What I had before"
   ]
  },
  {
   "cell_type": "code",
   "execution_count": null,
   "metadata": {
    "ExecuteTime": {
     "end_time": "2020-06-12T18:27:35.280527Z",
     "start_time": "2020-06-12T18:27:35.055239Z"
    }
   },
   "outputs": [],
   "source": [
    "# clf_w_best_params = LogisticRegression(C=0.01, fit_intercept=True, penalty='l2')\n",
    "\n",
    "# #clf_w_best_params = LogisticRegression(class_weight={0: 0.005, 1: 0.995}, C=0.01, fit_intercept=False, penalty='l2')\n",
    "# clf_w_best_params.fit(X_train_sc, y_train)\n",
    "# file_name_pickle = 'model_' + now_to_str() + '.pickle'\n",
    "# scaler_name_pickle = 'scaler_' + now_to_str() + '.pickle'\n",
    "# pickle.dump(clf_w_best_params, open(file_name_pickle, 'wb'))\n",
    "# pickle.dump(scaler, open(scaler_name_pickle, 'wb'))\n",
    "\n",
    "# y_pred = clf_w_best_params.predict(X_test_sc)\n",
    "# y_probs = clf_w_best_params.predict_proba(X_test_sc)[:,1]\n",
    "# # print('accuracy is ' + str(accuracy_score(y_test, y_pred)))\n",
    "# # print('precision is ' + str(precision_score(y_test, y_pred)))\n",
    "\n",
    "\n",
    "\n",
    "# # print('F1 score is ' + str(f1_score(y_test, y_pred_rocauc)))\n",
    "# print('AUC is ' + str(roc_auc_score(y_test,y_probs)))\n",
    "# # print('Min prob is ' + str(y_probs.min()))\n",
    "# # print('Max prob is ' + str(y_probs.max()))"
   ]
  },
  {
   "cell_type": "code",
   "execution_count": null,
   "metadata": {
    "ExecuteTime": {
     "end_time": "2020-06-12T18:27:45.092446Z",
     "start_time": "2020-06-12T18:27:45.089014Z"
    }
   },
   "outputs": [],
   "source": [
    "# y_probs.max()"
   ]
  },
  {
   "cell_type": "code",
   "execution_count": null,
   "metadata": {
    "ExecuteTime": {
     "end_time": "2020-06-12T09:20:10.111022Z",
     "start_time": "2020-06-12T09:20:09.021629Z"
    }
   },
   "outputs": [],
   "source": [
    "# %matplotlib qt\n",
    "\n",
    "\n",
    "# noskill_probs = [0 for _ in range(len(y_test))]\n",
    "# ns_fpr, ns_tpr, _ = roc_curve(y_test, noskill_probs)\n",
    "# lr_fpr, lr_tpr, threshold_array = roc_curve(y_test, clf_w_best_params.predict_proba(X_test_sc)[:,1])\n",
    "\n",
    "# y_pred_new = lr_tpr>0\n",
    "\n",
    "# logisticRegr_auc = roc_auc_score(y_test, y_probs)\n",
    "# print('Logistic: ROC AUC=%.3f' % (logisticRegr_auc))\n",
    "\n",
    "# plt.figure()\n",
    "# # plot the roc curve for the model\n",
    "# plt.plot(ns_fpr, ns_tpr, linestyle='--')\n",
    "# plt.plot(lr_fpr, lr_tpr, marker='.', label='Logistic Regr.')\n",
    "# # axis labels\n",
    "# plt.xlabel('False Positive Rate')\n",
    "# plt.ylabel('True Positive Rate')\n",
    "# # # show the legend\n",
    "# plt.legend()\n",
    "# # # show the plot\n",
    "# plt.show()"
   ]
  },
  {
   "cell_type": "code",
   "execution_count": null,
   "metadata": {
    "ExecuteTime": {
     "end_time": "2020-06-12T09:20:10.119066Z",
     "start_time": "2020-06-12T09:20:10.112393Z"
    }
   },
   "outputs": [],
   "source": [
    "# # Looking at ROC curve, a TPR of 0.88 and FPR of 0.48 seems reasonable because the prophylaxis may\n",
    "# # cause bleeding, but VTE is deadly, too. Get the threshold at this level\n",
    "# fpr_tpr_thresh = pd.DataFrame({'fpr': lr_fpr, 'tpr': lr_tpr, 'thresh': threshold_array})\n",
    "# fpr_tpr_thresh = fpr_tpr_thresh[(fpr_tpr_thresh['tpr'] < 0.88) & (fpr_tpr_thresh['tpr'] > 0.87)]\n",
    "# print(fpr_tpr_thresh)"
   ]
  },
  {
   "cell_type": "code",
   "execution_count": null,
   "metadata": {
    "ExecuteTime": {
     "end_time": "2020-06-12T09:20:10.610360Z",
     "start_time": "2020-06-12T09:20:10.127914Z"
    },
    "scrolled": true
   },
   "outputs": [],
   "source": [
    "# Xt = X_test_sc\n",
    "# yt = y_test\n",
    "\n",
    "# THRESHOLD = [0.0017, 0.0018, 0.0019, 0.0020, 0.0021, 0.0022, 0.0023, 0.0024, 0.0025, 0.0026, 0.0027]\n",
    "# for thresh in THRESHOLD:\n",
    "#     print('-----------------')\n",
    "#     print('THRESHOLD =  ' + str(thresh))\n",
    "#     y_pred_thresh = np.where(clf_w_best_params.predict_proba(Xt)[:,1] > thresh, 1, 0)\n",
    "#     print('F1: ' + str(f1_score(yt, y_pred_thresh)))\n",
    "#     print('Precision: ' + str(precision_score(yt, y_pred_thresh)))\n",
    "#     print('Recall: ' + str(recall_score(yt, y_pred_thresh)))\n",
    "#     print(confusion_matrix(yt, y_pred_thresh, normalize='true'))"
   ]
  },
  {
   "cell_type": "markdown",
   "metadata": {},
   "source": [
    "# Feature Weights"
   ]
  },
  {
   "cell_type": "code",
   "execution_count": 67,
   "metadata": {
    "ExecuteTime": {
     "end_time": "2020-06-13T23:47:14.795032Z",
     "start_time": "2020-06-13T23:47:14.778280Z"
    }
   },
   "outputs": [
    {
     "data": {
      "text/html": [
       "<div>\n",
       "<style scoped>\n",
       "    .dataframe tbody tr th:only-of-type {\n",
       "        vertical-align: middle;\n",
       "    }\n",
       "\n",
       "    .dataframe tbody tr th {\n",
       "        vertical-align: top;\n",
       "    }\n",
       "\n",
       "    .dataframe thead th {\n",
       "        text-align: right;\n",
       "    }\n",
       "</style>\n",
       "<table border=\"1\" class=\"dataframe\">\n",
       "  <thead>\n",
       "    <tr style=\"text-align: right;\">\n",
       "      <th></th>\n",
       "      <th>feature</th>\n",
       "      <th>coef</th>\n",
       "      <th>abs_weight</th>\n",
       "    </tr>\n",
       "  </thead>\n",
       "  <tbody>\n",
       "    <tr>\n",
       "      <th>0</th>\n",
       "      <td>1</td>\n",
       "      <td>-0.000003</td>\n",
       "      <td>0.000003</td>\n",
       "    </tr>\n",
       "    <tr>\n",
       "      <th>1</th>\n",
       "      <td>age</td>\n",
       "      <td>0.025936</td>\n",
       "      <td>0.025936</td>\n",
       "    </tr>\n",
       "    <tr>\n",
       "      <th>2</th>\n",
       "      <td>admissionweight</td>\n",
       "      <td>0.029186</td>\n",
       "      <td>0.029186</td>\n",
       "    </tr>\n",
       "    <tr>\n",
       "      <th>3</th>\n",
       "      <td>admissionheight</td>\n",
       "      <td>0.002115</td>\n",
       "      <td>0.002115</td>\n",
       "    </tr>\n",
       "    <tr>\n",
       "      <th>4</th>\n",
       "      <td>bmi</td>\n",
       "      <td>0.029475</td>\n",
       "      <td>0.029475</td>\n",
       "    </tr>\n",
       "  </tbody>\n",
       "</table>\n",
       "</div>"
      ],
      "text/plain": [
       "           feature      coef  abs_weight\n",
       "0                1 -0.000003    0.000003\n",
       "1              age  0.025936    0.025936\n",
       "2  admissionweight  0.029186    0.029186\n",
       "3  admissionheight  0.002115    0.002115\n",
       "4              bmi  0.029475    0.029475"
      ]
     },
     "execution_count": 67,
     "metadata": {},
     "output_type": "execute_result"
    }
   ],
   "source": [
    "# Get feature weights and put into dataframe\n",
    "mydict = {'feature': X_train_poly_colnames, 'coef': list(clf_w_best_params.coef_.reshape(-1,1).flatten())}\n",
    "features_weights = pd.DataFrame(mydict)\n",
    "features_weights = features_weights.assign(abs_weight=np.abs(features_weights['coef']))\n",
    "features_weights.head()"
   ]
  },
  {
   "cell_type": "code",
   "execution_count": 68,
   "metadata": {
    "ExecuteTime": {
     "end_time": "2020-06-13T23:47:17.734721Z",
     "start_time": "2020-06-13T23:47:17.721101Z"
    }
   },
   "outputs": [
    {
     "data": {
      "text/html": [
       "<div>\n",
       "<style scoped>\n",
       "    .dataframe tbody tr th:only-of-type {\n",
       "        vertical-align: middle;\n",
       "    }\n",
       "\n",
       "    .dataframe tbody tr th {\n",
       "        vertical-align: top;\n",
       "    }\n",
       "\n",
       "    .dataframe thead th {\n",
       "        text-align: right;\n",
       "    }\n",
       "</style>\n",
       "<table border=\"1\" class=\"dataframe\">\n",
       "  <thead>\n",
       "    <tr style=\"text-align: right;\">\n",
       "      <th></th>\n",
       "      <th>coef</th>\n",
       "      <th>abs_weight</th>\n",
       "    </tr>\n",
       "    <tr>\n",
       "      <th>feature</th>\n",
       "      <th></th>\n",
       "      <th></th>\n",
       "    </tr>\n",
       "  </thead>\n",
       "  <tbody>\n",
       "    <tr>\n",
       "      <th>heartrate</th>\n",
       "      <td>0.098791</td>\n",
       "      <td>0.098791</td>\n",
       "    </tr>\n",
       "    <tr>\n",
       "      <th>heartrate^2</th>\n",
       "      <td>0.070581</td>\n",
       "      <td>0.070581</td>\n",
       "    </tr>\n",
       "    <tr>\n",
       "      <th>activetx</th>\n",
       "      <td>0.064967</td>\n",
       "      <td>0.064967</td>\n",
       "    </tr>\n",
       "    <tr>\n",
       "      <th>oobintubday1^2</th>\n",
       "      <td>0.062797</td>\n",
       "      <td>0.062797</td>\n",
       "    </tr>\n",
       "    <tr>\n",
       "      <th>oobventday1</th>\n",
       "      <td>0.058392</td>\n",
       "      <td>0.058392</td>\n",
       "    </tr>\n",
       "    <tr>\n",
       "      <th>...</th>\n",
       "      <td>...</td>\n",
       "      <td>...</td>\n",
       "    </tr>\n",
       "    <tr>\n",
       "      <th>gender_Female aids</th>\n",
       "      <td>-0.000016</td>\n",
       "      <td>0.000016</td>\n",
       "    </tr>\n",
       "    <tr>\n",
       "      <th>aids cirrhosis</th>\n",
       "      <td>0.000012</td>\n",
       "      <td>0.000012</td>\n",
       "    </tr>\n",
       "    <tr>\n",
       "      <th>ethnicity_Hispanic ethnicity_Native American</th>\n",
       "      <td>-0.000009</td>\n",
       "      <td>0.000009</td>\n",
       "    </tr>\n",
       "    <tr>\n",
       "      <th>aids leukemia</th>\n",
       "      <td>0.000003</td>\n",
       "      <td>0.000003</td>\n",
       "    </tr>\n",
       "    <tr>\n",
       "      <th>1</th>\n",
       "      <td>-0.000003</td>\n",
       "      <td>0.000003</td>\n",
       "    </tr>\n",
       "  </tbody>\n",
       "</table>\n",
       "<p>496 rows × 2 columns</p>\n",
       "</div>"
      ],
      "text/plain": [
       "                                                  coef  abs_weight\n",
       "feature                                                           \n",
       "heartrate                                     0.098791    0.098791\n",
       "heartrate^2                                   0.070581    0.070581\n",
       "activetx                                      0.064967    0.064967\n",
       "oobintubday1^2                                0.062797    0.062797\n",
       "oobventday1                                   0.058392    0.058392\n",
       "...                                                ...         ...\n",
       "gender_Female aids                           -0.000016    0.000016\n",
       "aids cirrhosis                                0.000012    0.000012\n",
       "ethnicity_Hispanic ethnicity_Native American -0.000009    0.000009\n",
       "aids leukemia                                 0.000003    0.000003\n",
       "1                                            -0.000003    0.000003\n",
       "\n",
       "[496 rows x 2 columns]"
      ]
     },
     "execution_count": 68,
     "metadata": {},
     "output_type": "execute_result"
    }
   ],
   "source": [
    "features_weights = features_weights.sort_values(by='abs_weight', ascending=False)\n",
    "features_weights.set_index('feature')"
   ]
  },
  {
   "cell_type": "code",
   "execution_count": 69,
   "metadata": {
    "ExecuteTime": {
     "end_time": "2020-06-13T23:47:28.839943Z",
     "start_time": "2020-06-13T23:47:28.835984Z"
    },
    "scrolled": true
   },
   "outputs": [
    {
     "data": {
      "text/plain": [
       "(496, 3)"
      ]
     },
     "execution_count": 69,
     "metadata": {},
     "output_type": "execute_result"
    }
   ],
   "source": [
    "features_weights.shape"
   ]
  },
  {
   "cell_type": "code",
   "execution_count": 70,
   "metadata": {
    "ExecuteTime": {
     "end_time": "2020-06-13T23:47:30.799767Z",
     "start_time": "2020-06-13T23:47:30.788485Z"
    }
   },
   "outputs": [
    {
     "data": {
      "text/html": [
       "<div>\n",
       "<style scoped>\n",
       "    .dataframe tbody tr th:only-of-type {\n",
       "        vertical-align: middle;\n",
       "    }\n",
       "\n",
       "    .dataframe tbody tr th {\n",
       "        vertical-align: top;\n",
       "    }\n",
       "\n",
       "    .dataframe thead th {\n",
       "        text-align: right;\n",
       "    }\n",
       "</style>\n",
       "<table border=\"1\" class=\"dataframe\">\n",
       "  <thead>\n",
       "    <tr style=\"text-align: right;\">\n",
       "      <th></th>\n",
       "      <th>feature</th>\n",
       "      <th>coef</th>\n",
       "      <th>abs_weight</th>\n",
       "    </tr>\n",
       "  </thead>\n",
       "  <tbody>\n",
       "    <tr>\n",
       "      <th>30</th>\n",
       "      <td>heartrate</td>\n",
       "      <td>0.098791</td>\n",
       "      <td>0.098791</td>\n",
       "    </tr>\n",
       "    <tr>\n",
       "      <th>495</th>\n",
       "      <td>heartrate^2</td>\n",
       "      <td>0.070581</td>\n",
       "      <td>0.070581</td>\n",
       "    </tr>\n",
       "    <tr>\n",
       "      <th>23</th>\n",
       "      <td>activetx</td>\n",
       "      <td>0.064967</td>\n",
       "      <td>0.064967</td>\n",
       "    </tr>\n",
       "    <tr>\n",
       "      <th>486</th>\n",
       "      <td>oobintubday1^2</td>\n",
       "      <td>0.062797</td>\n",
       "      <td>0.062797</td>\n",
       "    </tr>\n",
       "    <tr>\n",
       "      <th>26</th>\n",
       "      <td>oobventday1</td>\n",
       "      <td>0.058392</td>\n",
       "      <td>0.058392</td>\n",
       "    </tr>\n",
       "    <tr>\n",
       "      <th>27</th>\n",
       "      <td>oobintubday1</td>\n",
       "      <td>0.055709</td>\n",
       "      <td>0.055709</td>\n",
       "    </tr>\n",
       "    <tr>\n",
       "      <th>482</th>\n",
       "      <td>oobventday1 oobintubday1</td>\n",
       "      <td>0.045794</td>\n",
       "      <td>0.045794</td>\n",
       "    </tr>\n",
       "    <tr>\n",
       "      <th>481</th>\n",
       "      <td>oobventday1^2</td>\n",
       "      <td>0.043053</td>\n",
       "      <td>0.043053</td>\n",
       "    </tr>\n",
       "    <tr>\n",
       "      <th>393</th>\n",
       "      <td>hepaticfailure metastaticcancer</td>\n",
       "      <td>0.041213</td>\n",
       "      <td>0.041213</td>\n",
       "    </tr>\n",
       "    <tr>\n",
       "      <th>31</th>\n",
       "      <td>age^2</td>\n",
       "      <td>-0.034779</td>\n",
       "      <td>0.034779</td>\n",
       "    </tr>\n",
       "    <tr>\n",
       "      <th>450</th>\n",
       "      <td>immunosuppression heartrate</td>\n",
       "      <td>-0.034629</td>\n",
       "      <td>0.034629</td>\n",
       "    </tr>\n",
       "    <tr>\n",
       "      <th>186</th>\n",
       "      <td>ethnicity_African American immunosuppression</td>\n",
       "      <td>0.034452</td>\n",
       "      <td>0.034452</td>\n",
       "    </tr>\n",
       "    <tr>\n",
       "      <th>468</th>\n",
       "      <td>ima^2</td>\n",
       "      <td>-0.033369</td>\n",
       "      <td>0.033369</td>\n",
       "    </tr>\n",
       "    <tr>\n",
       "      <th>110</th>\n",
       "      <td>admissionheight activetx</td>\n",
       "      <td>0.032854</td>\n",
       "      <td>0.032854</td>\n",
       "    </tr>\n",
       "    <tr>\n",
       "      <th>12</th>\n",
       "      <td>verbal</td>\n",
       "      <td>-0.032648</td>\n",
       "      <td>0.032648</td>\n",
       "    </tr>\n",
       "    <tr>\n",
       "      <th>442</th>\n",
       "      <td>immunosuppression cirrhosis</td>\n",
       "      <td>0.031018</td>\n",
       "      <td>0.031018</td>\n",
       "    </tr>\n",
       "    <tr>\n",
       "      <th>326</th>\n",
       "      <td>motor eyes</td>\n",
       "      <td>-0.030257</td>\n",
       "      <td>0.030257</td>\n",
       "    </tr>\n",
       "    <tr>\n",
       "      <th>4</th>\n",
       "      <td>bmi</td>\n",
       "      <td>0.029475</td>\n",
       "      <td>0.029475</td>\n",
       "    </tr>\n",
       "    <tr>\n",
       "      <th>2</th>\n",
       "      <td>admissionweight</td>\n",
       "      <td>0.029186</td>\n",
       "      <td>0.029186</td>\n",
       "    </tr>\n",
       "    <tr>\n",
       "      <th>187</th>\n",
       "      <td>ethnicity_African American cirrhosis</td>\n",
       "      <td>0.028168</td>\n",
       "      <td>0.028168</td>\n",
       "    </tr>\n",
       "    <tr>\n",
       "      <th>440</th>\n",
       "      <td>leukemia heartrate</td>\n",
       "      <td>-0.028004</td>\n",
       "      <td>0.028004</td>\n",
       "    </tr>\n",
       "    <tr>\n",
       "      <th>320</th>\n",
       "      <td>verbal oobventday1</td>\n",
       "      <td>0.027783</td>\n",
       "      <td>0.027783</td>\n",
       "    </tr>\n",
       "    <tr>\n",
       "      <th>152</th>\n",
       "      <td>gender_Female verbal</td>\n",
       "      <td>0.027487</td>\n",
       "      <td>0.027487</td>\n",
       "    </tr>\n",
       "    <tr>\n",
       "      <th>58</th>\n",
       "      <td>age diabetes</td>\n",
       "      <td>-0.026841</td>\n",
       "      <td>0.026841</td>\n",
       "    </tr>\n",
       "    <tr>\n",
       "      <th>400</th>\n",
       "      <td>hepaticfailure oobventday1</td>\n",
       "      <td>-0.026767</td>\n",
       "      <td>0.026767</td>\n",
       "    </tr>\n",
       "    <tr>\n",
       "      <th>479</th>\n",
       "      <td>midur visitnumber</td>\n",
       "      <td>0.026742</td>\n",
       "      <td>0.026742</td>\n",
       "    </tr>\n",
       "    <tr>\n",
       "      <th>438</th>\n",
       "      <td>leukemia diabetes</td>\n",
       "      <td>0.026523</td>\n",
       "      <td>0.026523</td>\n",
       "    </tr>\n",
       "    <tr>\n",
       "      <th>1</th>\n",
       "      <td>age</td>\n",
       "      <td>0.025936</td>\n",
       "      <td>0.025936</td>\n",
       "    </tr>\n",
       "    <tr>\n",
       "      <th>268</th>\n",
       "      <td>ethnicity_Native American motor</td>\n",
       "      <td>-0.025282</td>\n",
       "      <td>0.025282</td>\n",
       "    </tr>\n",
       "    <tr>\n",
       "      <th>89</th>\n",
       "      <td>admissionweight heartrate</td>\n",
       "      <td>0.025149</td>\n",
       "      <td>0.025149</td>\n",
       "    </tr>\n",
       "  </tbody>\n",
       "</table>\n",
       "</div>"
      ],
      "text/plain": [
       "                                          feature      coef  abs_weight\n",
       "30                                      heartrate  0.098791    0.098791\n",
       "495                                   heartrate^2  0.070581    0.070581\n",
       "23                                       activetx  0.064967    0.064967\n",
       "486                                oobintubday1^2  0.062797    0.062797\n",
       "26                                    oobventday1  0.058392    0.058392\n",
       "27                                   oobintubday1  0.055709    0.055709\n",
       "482                      oobventday1 oobintubday1  0.045794    0.045794\n",
       "481                                 oobventday1^2  0.043053    0.043053\n",
       "393               hepaticfailure metastaticcancer  0.041213    0.041213\n",
       "31                                          age^2 -0.034779    0.034779\n",
       "450                   immunosuppression heartrate -0.034629    0.034629\n",
       "186  ethnicity_African American immunosuppression  0.034452    0.034452\n",
       "468                                         ima^2 -0.033369    0.033369\n",
       "110                      admissionheight activetx  0.032854    0.032854\n",
       "12                                         verbal -0.032648    0.032648\n",
       "442                   immunosuppression cirrhosis  0.031018    0.031018\n",
       "326                                    motor eyes -0.030257    0.030257\n",
       "4                                             bmi  0.029475    0.029475\n",
       "2                                 admissionweight  0.029186    0.029186\n",
       "187          ethnicity_African American cirrhosis  0.028168    0.028168\n",
       "440                            leukemia heartrate -0.028004    0.028004\n",
       "320                            verbal oobventday1  0.027783    0.027783\n",
       "152                          gender_Female verbal  0.027487    0.027487\n",
       "58                                   age diabetes -0.026841    0.026841\n",
       "400                    hepaticfailure oobventday1 -0.026767    0.026767\n",
       "479                             midur visitnumber  0.026742    0.026742\n",
       "438                             leukemia diabetes  0.026523    0.026523\n",
       "1                                             age  0.025936    0.025936\n",
       "268               ethnicity_Native American motor -0.025282    0.025282\n",
       "89                      admissionweight heartrate  0.025149    0.025149"
      ]
     },
     "execution_count": 70,
     "metadata": {},
     "output_type": "execute_result"
    }
   ],
   "source": [
    "features_weights.head(30)"
   ]
  },
  {
   "cell_type": "code",
   "execution_count": 71,
   "metadata": {
    "ExecuteTime": {
     "end_time": "2020-06-13T23:47:34.331546Z",
     "start_time": "2020-06-13T23:47:34.327687Z"
    }
   },
   "outputs": [],
   "source": [
    "fw = features_weights[['feature', 'abs_weight']]"
   ]
  },
  {
   "cell_type": "code",
   "execution_count": 72,
   "metadata": {
    "ExecuteTime": {
     "end_time": "2020-06-13T23:47:36.107436Z",
     "start_time": "2020-06-13T23:47:36.097892Z"
    }
   },
   "outputs": [
    {
     "data": {
      "text/html": [
       "<div>\n",
       "<style scoped>\n",
       "    .dataframe tbody tr th:only-of-type {\n",
       "        vertical-align: middle;\n",
       "    }\n",
       "\n",
       "    .dataframe tbody tr th {\n",
       "        vertical-align: top;\n",
       "    }\n",
       "\n",
       "    .dataframe thead th {\n",
       "        text-align: right;\n",
       "    }\n",
       "</style>\n",
       "<table border=\"1\" class=\"dataframe\">\n",
       "  <thead>\n",
       "    <tr style=\"text-align: right;\">\n",
       "      <th></th>\n",
       "      <th>feature</th>\n",
       "      <th>abs_weight</th>\n",
       "    </tr>\n",
       "  </thead>\n",
       "  <tbody>\n",
       "    <tr>\n",
       "      <th>30</th>\n",
       "      <td>heartrate</td>\n",
       "      <td>0.098791</td>\n",
       "    </tr>\n",
       "    <tr>\n",
       "      <th>495</th>\n",
       "      <td>heartrate^2</td>\n",
       "      <td>0.070581</td>\n",
       "    </tr>\n",
       "    <tr>\n",
       "      <th>23</th>\n",
       "      <td>activetx</td>\n",
       "      <td>0.064967</td>\n",
       "    </tr>\n",
       "    <tr>\n",
       "      <th>486</th>\n",
       "      <td>oobintubday1^2</td>\n",
       "      <td>0.062797</td>\n",
       "    </tr>\n",
       "    <tr>\n",
       "      <th>26</th>\n",
       "      <td>oobventday1</td>\n",
       "      <td>0.058392</td>\n",
       "    </tr>\n",
       "    <tr>\n",
       "      <th>27</th>\n",
       "      <td>oobintubday1</td>\n",
       "      <td>0.055709</td>\n",
       "    </tr>\n",
       "    <tr>\n",
       "      <th>482</th>\n",
       "      <td>oobventday1 oobintubday1</td>\n",
       "      <td>0.045794</td>\n",
       "    </tr>\n",
       "    <tr>\n",
       "      <th>481</th>\n",
       "      <td>oobventday1^2</td>\n",
       "      <td>0.043053</td>\n",
       "    </tr>\n",
       "    <tr>\n",
       "      <th>393</th>\n",
       "      <td>hepaticfailure metastaticcancer</td>\n",
       "      <td>0.041213</td>\n",
       "    </tr>\n",
       "    <tr>\n",
       "      <th>31</th>\n",
       "      <td>age^2</td>\n",
       "      <td>0.034779</td>\n",
       "    </tr>\n",
       "    <tr>\n",
       "      <th>450</th>\n",
       "      <td>immunosuppression heartrate</td>\n",
       "      <td>0.034629</td>\n",
       "    </tr>\n",
       "    <tr>\n",
       "      <th>186</th>\n",
       "      <td>ethnicity_African American immunosuppression</td>\n",
       "      <td>0.034452</td>\n",
       "    </tr>\n",
       "    <tr>\n",
       "      <th>468</th>\n",
       "      <td>ima^2</td>\n",
       "      <td>0.033369</td>\n",
       "    </tr>\n",
       "    <tr>\n",
       "      <th>110</th>\n",
       "      <td>admissionheight activetx</td>\n",
       "      <td>0.032854</td>\n",
       "    </tr>\n",
       "    <tr>\n",
       "      <th>12</th>\n",
       "      <td>verbal</td>\n",
       "      <td>0.032648</td>\n",
       "    </tr>\n",
       "    <tr>\n",
       "      <th>442</th>\n",
       "      <td>immunosuppression cirrhosis</td>\n",
       "      <td>0.031018</td>\n",
       "    </tr>\n",
       "    <tr>\n",
       "      <th>326</th>\n",
       "      <td>motor eyes</td>\n",
       "      <td>0.030257</td>\n",
       "    </tr>\n",
       "    <tr>\n",
       "      <th>4</th>\n",
       "      <td>bmi</td>\n",
       "      <td>0.029475</td>\n",
       "    </tr>\n",
       "    <tr>\n",
       "      <th>2</th>\n",
       "      <td>admissionweight</td>\n",
       "      <td>0.029186</td>\n",
       "    </tr>\n",
       "    <tr>\n",
       "      <th>187</th>\n",
       "      <td>ethnicity_African American cirrhosis</td>\n",
       "      <td>0.028168</td>\n",
       "    </tr>\n",
       "    <tr>\n",
       "      <th>440</th>\n",
       "      <td>leukemia heartrate</td>\n",
       "      <td>0.028004</td>\n",
       "    </tr>\n",
       "    <tr>\n",
       "      <th>320</th>\n",
       "      <td>verbal oobventday1</td>\n",
       "      <td>0.027783</td>\n",
       "    </tr>\n",
       "    <tr>\n",
       "      <th>152</th>\n",
       "      <td>gender_Female verbal</td>\n",
       "      <td>0.027487</td>\n",
       "    </tr>\n",
       "    <tr>\n",
       "      <th>58</th>\n",
       "      <td>age diabetes</td>\n",
       "      <td>0.026841</td>\n",
       "    </tr>\n",
       "    <tr>\n",
       "      <th>400</th>\n",
       "      <td>hepaticfailure oobventday1</td>\n",
       "      <td>0.026767</td>\n",
       "    </tr>\n",
       "    <tr>\n",
       "      <th>479</th>\n",
       "      <td>midur visitnumber</td>\n",
       "      <td>0.026742</td>\n",
       "    </tr>\n",
       "    <tr>\n",
       "      <th>438</th>\n",
       "      <td>leukemia diabetes</td>\n",
       "      <td>0.026523</td>\n",
       "    </tr>\n",
       "    <tr>\n",
       "      <th>1</th>\n",
       "      <td>age</td>\n",
       "      <td>0.025936</td>\n",
       "    </tr>\n",
       "    <tr>\n",
       "      <th>268</th>\n",
       "      <td>ethnicity_Native American motor</td>\n",
       "      <td>0.025282</td>\n",
       "    </tr>\n",
       "    <tr>\n",
       "      <th>89</th>\n",
       "      <td>admissionweight heartrate</td>\n",
       "      <td>0.025149</td>\n",
       "    </tr>\n",
       "  </tbody>\n",
       "</table>\n",
       "</div>"
      ],
      "text/plain": [
       "                                          feature  abs_weight\n",
       "30                                      heartrate    0.098791\n",
       "495                                   heartrate^2    0.070581\n",
       "23                                       activetx    0.064967\n",
       "486                                oobintubday1^2    0.062797\n",
       "26                                    oobventday1    0.058392\n",
       "27                                   oobintubday1    0.055709\n",
       "482                      oobventday1 oobintubday1    0.045794\n",
       "481                                 oobventday1^2    0.043053\n",
       "393               hepaticfailure metastaticcancer    0.041213\n",
       "31                                          age^2    0.034779\n",
       "450                   immunosuppression heartrate    0.034629\n",
       "186  ethnicity_African American immunosuppression    0.034452\n",
       "468                                         ima^2    0.033369\n",
       "110                      admissionheight activetx    0.032854\n",
       "12                                         verbal    0.032648\n",
       "442                   immunosuppression cirrhosis    0.031018\n",
       "326                                    motor eyes    0.030257\n",
       "4                                             bmi    0.029475\n",
       "2                                 admissionweight    0.029186\n",
       "187          ethnicity_African American cirrhosis    0.028168\n",
       "440                            leukemia heartrate    0.028004\n",
       "320                            verbal oobventday1    0.027783\n",
       "152                          gender_Female verbal    0.027487\n",
       "58                                   age diabetes    0.026841\n",
       "400                    hepaticfailure oobventday1    0.026767\n",
       "479                             midur visitnumber    0.026742\n",
       "438                             leukemia diabetes    0.026523\n",
       "1                                             age    0.025936\n",
       "268               ethnicity_Native American motor    0.025282\n",
       "89                      admissionweight heartrate    0.025149"
      ]
     },
     "execution_count": 72,
     "metadata": {},
     "output_type": "execute_result"
    }
   ],
   "source": [
    "fw.head(30)"
   ]
  },
  {
   "cell_type": "code",
   "execution_count": 76,
   "metadata": {
    "ExecuteTime": {
     "end_time": "2020-06-13T23:48:59.207491Z",
     "start_time": "2020-06-13T23:48:58.612914Z"
    }
   },
   "outputs": [],
   "source": [
    "%matplotlib qt\n",
    "fw.plot.bar(x='feature', y='abs_weight')\n",
    "plt.xticks([])\n",
    "plt.xlabel('Polynomial Feature Index')\n",
    "plt.ylabel('Abs. Value of Coefficient')\n",
    "plt.tight_layout()\n",
    "plt.legend().set_visible(False)"
   ]
  },
  {
   "cell_type": "markdown",
   "metadata": {},
   "source": [
    "# Feature Selection"
   ]
  },
  {
   "cell_type": "code",
   "execution_count": 105,
   "metadata": {
    "ExecuteTime": {
     "end_time": "2020-06-14T13:04:55.551685Z",
     "start_time": "2020-06-14T03:08:10.045368Z"
    }
   },
   "outputs": [
    {
     "name": "stdout",
     "output_type": "stream",
     "text": [
      "Optimal number of features : 15\n"
     ]
    }
   ],
   "source": [
    "# https://scikit-learn.org/stable/modules/generated/sklearn.feature_selection.RFECV.html\n",
    "# https://scikit-learn.org/stable/auto_examples/feature_selection/plot_rfe_with_cross_validation.html#sphx-glr-auto-examples-feature-selection-plot-rfe-with-cross-validation-py\n",
    "from sklearn.feature_selection import RFECV\n",
    "rfecv = RFECV(clf_w_best_params, step=1, cv=StratifiedKFold(n_splits=5), n_jobs=4, scoring='roc_auc')\n",
    "rfecv.fit(X_train_poly, y_train)\n",
    "print(\"Optimal number of features : %d\" % rfecv.n_features_)\n",
    "\n"
   ]
  },
  {
   "cell_type": "code",
   "execution_count": 118,
   "metadata": {
    "ExecuteTime": {
     "end_time": "2020-06-14T15:11:36.449950Z",
     "start_time": "2020-06-14T15:11:36.446534Z"
    },
    "scrolled": true
   },
   "outputs": [],
   "source": [
    "pickle.dump(rfecv, open('../models/rfecv_logisticregr_poly' + now_to_str() + '.pickle', 'wb'))"
   ]
  },
  {
   "cell_type": "code",
   "execution_count": 119,
   "metadata": {
    "ExecuteTime": {
     "end_time": "2020-06-14T15:30:44.209891Z",
     "start_time": "2020-06-14T15:30:44.139518Z"
    }
   },
   "outputs": [],
   "source": [
    "# Plot number of features VS. cross-validation scores\n",
    "plt.figure()\n",
    "plt.xlabel(\"Number of features selected\")\n",
    "plt.ylabel(\"AUC\")\n",
    "plt.plot(range(1, len(rfecv.grid_scores_) + 1), rfecv.grid_scores_)\n",
    "plt.tight_layout()\n",
    "plt.show()"
   ]
  },
  {
   "cell_type": "code",
   "execution_count": 117,
   "metadata": {
    "ExecuteTime": {
     "end_time": "2020-06-14T15:08:56.985399Z",
     "start_time": "2020-06-14T15:08:56.980593Z"
    }
   },
   "outputs": [
    {
     "data": {
      "text/plain": [
       "0.71374286880329"
      ]
     },
     "execution_count": 117,
     "metadata": {},
     "output_type": "execute_result"
    }
   ],
   "source": [
    "rfecv.grid_scores_.max()"
   ]
  },
  {
   "cell_type": "code",
   "execution_count": 93,
   "metadata": {
    "ExecuteTime": {
     "end_time": "2020-06-14T00:40:03.225867Z",
     "start_time": "2020-06-14T00:40:03.152242Z"
    }
   },
   "outputs": [],
   "source": [
    "plt.figure()\n",
    "plt.xlabel(\"Number of features selected\")\n",
    "plt.ylabel(\"Cross validation score\")\n",
    "plt.plot(range(1, len(rfecv.grid_scores_) + 1), rfecv.grid_scores_)\n",
    "plt.tight_layout()\n",
    "plt.show()"
   ]
  },
  {
   "cell_type": "code",
   "execution_count": 121,
   "metadata": {
    "ExecuteTime": {
     "end_time": "2020-06-14T15:39:26.638743Z",
     "start_time": "2020-06-14T15:39:26.635134Z"
    }
   },
   "outputs": [
    {
     "data": {
      "text/plain": [
       "(117013, 496)"
      ]
     },
     "execution_count": 121,
     "metadata": {},
     "output_type": "execute_result"
    }
   ],
   "source": [
    "X_train_poly.shape"
   ]
  },
  {
   "cell_type": "code",
   "execution_count": 131,
   "metadata": {
    "ExecuteTime": {
     "end_time": "2020-06-14T17:56:40.257285Z",
     "start_time": "2020-06-14T17:56:40.180315Z"
    }
   },
   "outputs": [],
   "source": [
    "X_train_poly_15feats = rfecv.transform(X_train_poly)\n",
    "X_test_poly_15feats = rfecv.transform(X_test_poly)"
   ]
  },
  {
   "cell_type": "code",
   "execution_count": 130,
   "metadata": {
    "ExecuteTime": {
     "end_time": "2020-06-14T17:52:29.322024Z",
     "start_time": "2020-06-14T17:52:29.316681Z"
    }
   },
   "outputs": [
    {
     "name": "stdout",
     "output_type": "stream",
     "text": [
      "[(1, 'activetx heartrate'), (1, 'activetx ima'), (1, 'activetx oobintubday1'), (1, 'admissionheight activetx'), (1, 'admissionweight activetx'), (1, 'age heartrate'), (1, 'eyes heartrate'), (1, 'heartrate'), (1, 'heartrate^2'), (1, 'ima'), (1, 'ima^2'), (1, 'motor eyes'), (1, 'motor heartrate'), (1, 'verbal oobventday1'), (1, 'verbal^2'), (2, 'age diabetes'), (3, 'verbal heartrate'), (4, 'verbal motor'), (5, 'age ethnicity_African American'), (6, 'ethnicity_Caucasian heartrate'), (7, 'ima oobventday1'), (8, 'admissionheight heartrate'), (9, 'immunosuppression^2'), (10, 'bmi activetx'), (11, 'ima oobintubday1'), (12, 'verbal oobintubday1'), (13, 'verbal'), (14, 'admissionweight'), (15, 'age eyes'), (16, 'ethnicity_Hispanic verbal'), (17, 'ethnicity_African American^2'), (18, 'ethnicity_Caucasian activetx'), (19, 'motor^2'), (20, 'gender_Female heartrate'), (21, 'gender_Female activetx'), (22, 'gender_Female verbal'), (23, 'motor ima'), (24, 'oobintubday1'), (25, 'admissionweight heartrate'), (26, 'ethnicity_Caucasian eyes'), (27, 'bmi'), (28, 'age ethnicity_Caucasian'), (29, 'verbal activetx'), (30, 'leukemia diabetes'), (31, 'hepaticfailure oobventday1'), (32, 'ethnicity_African American heartrate'), (33, 'eyes ima'), (34, 'immunosuppression'), (35, 'ethnicity_Other/Unknown diabetes'), (36, 'ethnicity_Asian verbal'), (37, 'verbal eyes'), (38, 'bmi heartrate'), (39, 'oobintubday1 heartrate'), (40, 'ethnicity_Caucasian ima'), (41, 'ethnicity_Hispanic eyes'), (42, 'ima diabetes'), (43, 'admissionheight ethnicity_African American'), (44, 'age admissionweight'), (45, 'hepaticfailure metastaticcancer'), (46, 'ethnicity_African American immunosuppression'), (47, 'hepaticfailure oobintubday1'), (48, 'ethnicity_African American oobventday1'), (49, 'admissionweight oobventday1'), (50, 'motor'), (51, 'ethnicity_Hispanic diabetes'), (52, 'ethnicity_Other/Unknown verbal'), (53, 'activetx'), (54, 'admissionweight motor'), (55, 'diabetes^2'), (56, 'ethnicity_Asian^2'), (57, 'age'), (58, 'ethnicity_African American cirrhosis'), (59, 'admissionheight ima'), (60, 'oobventday1 oobintubday1'), (61, 'midur'), (62, 'bmi oobventday1'), (63, 'ethnicity_African American'), (64, 'ethnicity_Hispanic motor'), (65, 'eyes oobventday1'), (66, 'immunosuppression oobventday1'), (67, 'admissionweight admissionheight'), (68, 'gender_Female diabetes'), (69, 'age bmi'), (70, 'gender_Female ima'), (71, 'midur^2'), (72, 'oobventday1 heartrate'), (73, 'admissionweight eyes'), (74, 'diabetes'), (75, 'ethnicity_Caucasian diabetes'), (76, 'ethnicity_African American diabetes'), (77, 'motor diabetes'), (78, 'age ima'), (79, 'ethnicity_Caucasian cirrhosis'), (80, 'bmi ethnicity_Caucasian'), (81, 'age immunosuppression'), (82, 'ethnicity_Asian'), (83, 'gender_Female lymphoma'), (84, 'gender_Female eyes'), (85, 'gender_Female ethnicity_African American'), (86, 'gender_Female ethnicity_Caucasian'), (87, 'ethnicity_Other/Unknown eyes'), (88, 'ethnicity_Caucasian verbal'), (89, 'eyes'), (90, 'admissionweight ethnicity_Caucasian'), (91, 'activetx^2'), (92, 'cirrhosis oobventday1'), (93, 'verbal leukemia'), (94, 'activetx visitnumber'), (95, 'ethnicity_Native American motor'), (96, 'metastaticcancer immunosuppression'), (97, 'admissionheight bmi'), (98, 'gender_Female thrombolytics'), (99, 'verbal immunosuppression'), (100, 'ethnicity_Native American oobintubday1'), (101, 'ethnicity_Caucasian oobintubday1'), (102, 'age ethnicity_Other/Unknown'), (103, 'ethnicity_Other/Unknown oobventday1'), (104, 'ethnicity_Hispanic oobventday1'), (105, 'age motor'), (106, 'age activetx'), (107, 'lymphoma diabetes'), (108, 'gender_Female leukemia'), (109, 'visitnumber'), (110, 'hepaticfailure diabetes'), (111, 'oobintubday1^2'), (112, 'ima heartrate'), (113, 'immunosuppression oobintubday1'), (114, 'age admissionheight'), (115, 'activetx diabetes'), (116, 'admissionheight verbal'), (117, 'ethnicity_African American eyes'), (118, 'motor visitnumber'), (119, 'ethnicity_Native American oobventday1'), (120, 'ethnicity_African American hepaticfailure'), (121, 'motor midur'), (122, 'admissionweight diabetes'), (123, 'eyes lymphoma'), (124, 'age ethnicity_Asian'), (125, 'bmi motor'), (126, 'immunosuppression diabetes'), (127, 'hepaticfailure activetx'), (128, 'eyes visitnumber'), (129, 'gender_Female ethnicity_Hispanic'), (130, 'cirrhosis diabetes'), (131, 'eyes immunosuppression'), (132, 'ethnicity_African American metastaticcancer'), (133, 'ethnicity_Caucasian visitnumber'), (134, 'ethnicity_Caucasian lymphoma'), (135, 'eyes leukemia'), (136, 'verbal visitnumber'), (137, 'ethnicity_Asian heartrate'), (138, 'ethnicity_Caucasian midur'), (139, 'verbal ima'), (140, 'eyes activetx'), (141, 'ethnicity_Caucasian thrombolytics'), (142, 'ethnicity_Hispanic oobintubday1'), (143, 'eyes diabetes'), (144, 'admissionheight midur'), (145, 'ethnicity_Asian motor'), (146, 'age verbal'), (147, 'bmi eyes'), (148, 'cirrhosis oobintubday1'), (149, 'ethnicity_Asian diabetes'), (150, 'age visitnumber'), (151, 'midur diabetes'), (152, 'gender_Female ethnicity_Asian'), (153, 'activetx midur'), (154, 'motor leukemia'), (155, 'leukemia oobventday1'), (156, 'motor oobintubday1'), (157, 'midur heartrate'), (158, 'oobventday1 visitnumber'), (159, 'admissionweight^2'), (160, 'motor lymphoma'), (161, 'ethnicity_Other/Unknown'), (162, 'ethnicity_Native American verbal'), (163, 'admissionheight immunosuppression'), (164, 'metastaticcancer cirrhosis'), (165, 'gender_Female visitnumber'), (166, 'bmi oobintubday1'), (167, 'metastaticcancer diabetes'), (168, 'ethnicity_Native American diabetes'), (169, 'eyes midur'), (170, 'ethnicity_Caucasian leukemia'), (171, 'admissionheight ethnicity_Hispanic'), (172, 'eyes hepaticfailure'), (173, 'motor cirrhosis'), (174, 'gender_Female ethnicity_Other/Unknown'), (175, 'admissionheight ethnicity_Other/Unknown'), (176, 'admissionweight oobintubday1'), (177, 'admissionheight ethnicity_Caucasian'), (178, 'admissionweight verbal'), (179, 'eyes oobintubday1'), (180, 'ethnicity_Native American eyes'), (181, 'ethnicity_Other/Unknown^2'), (182, 'verbal lymphoma'), (183, 'age thrombolytics'), (184, 'admissionweight bmi'), (185, 'visitnumber heartrate'), (186, 'thrombolytics oobintubday1'), (187, 'ethnicity_Hispanic heartrate'), (188, 'bmi diabetes'), (189, 'immunosuppression cirrhosis'), (190, 'gender_Female metastaticcancer'), (191, 'leukemia immunosuppression'), (192, 'oobintubday1 visitnumber'), (193, 'thrombolytics oobventday1'), (194, 'age oobventday1'), (195, 'gender_Female hepaticfailure'), (196, 'admissionheight visitnumber'), (197, 'admissionweight ethnicity_African American'), (198, 'metastaticcancer heartrate'), (199, 'ethnicity_Caucasian hepaticfailure'), (200, 'thrombolytics diabetes'), (201, 'age midur'), (202, 'admissionheight ethnicity_Asian'), (203, 'ethnicity_African American activetx'), (204, 'oobventday1'), (205, 'ethnicity_Caucasian oobventday1'), (206, 'diabetes visitnumber'), (207, 'age^2'), (208, 'lymphoma'), (209, 'admissionheight oobintubday1'), (210, 'age ethnicity_Hispanic'), (211, 'ethnicity_Hispanic'), (212, 'verbal midur'), (213, 'ethnicity_African American ima'), (214, 'aids^2'), (215, 'admissionweight immunosuppression'), (216, 'oobventday1^2'), (217, 'motor oobventday1'), (218, 'bmi^2'), (219, 'aids'), (220, 'lymphoma^2'), (221, 'lymphoma activetx'), (222, 'leukemia'), (223, 'leukemia activetx'), (224, 'metastaticcancer oobintubday1'), (225, 'ethnicity_Other/Unknown heartrate'), (226, 'gender_Female immunosuppression'), (227, 'ethnicity_Other/Unknown motor'), (228, 'thrombolytics activetx'), (229, 'ethnicity_African American thrombolytics'), (230, 'leukemia^2'), (231, 'ethnicity_Asian oobventday1'), (232, 'ethnicity_Hispanic cirrhosis'), (233, 'leukemia oobintubday1'), (234, 'activetx oobventday1'), (235, 'bmi ima'), (236, 'ethnicity_Hispanic^2'), (237, 'ethnicity_African American verbal'), (238, 'bmi immunosuppression'), (239, 'verbal cirrhosis'), (240, 'cirrhosis'), (241, 'ethnicity_Other/Unknown immunosuppression'), (242, 'ethnicity_Hispanic immunosuppression'), (243, 'admissionweight ethnicity_Hispanic'), (244, 'admissionweight ima'), (245, 'motor aids'), (246, 'age lymphoma'), (247, 'admissionheight'), (248, 'hepaticfailure heartrate'), (249, 'oobventday1 diabetes'), (250, 'oobintubday1 diabetes'), (251, 'gender_Female motor'), (252, 'ethnicity_Hispanic hepaticfailure'), (253, 'aids activetx'), (254, 'admissionheight leukemia'), (255, 'cirrhosis^2'), (256, 'ethnicity_Native American activetx'), (257, 'eyes aids'), (258, 'ethnicity_Other/Unknown cirrhosis'), (259, 'cirrhosis heartrate'), (260, 'admissionheight diabetes'), (261, 'ima midur'), (262, 'motor metastaticcancer'), (263, 'ethnicity_Asian eyes'), (264, 'verbal aids'), (265, 'ethnicity_Hispanic metastaticcancer'), (266, 'admissionweight gender_Female'), (267, 'admissionweight thrombolytics'), (268, 'verbal hepaticfailure'), (269, 'midur visitnumber'), (270, 'ethnicity_Other/Unknown ima'), (271, 'metastaticcancer oobventday1'), (272, 'motor immunosuppression'), (273, 'bmi ethnicity_Other/Unknown'), (274, 'lymphoma heartrate'), (275, 'aids oobventday1'), (276, 'bmi verbal'), (277, 'admissionheight gender_Female'), (278, 'ethnicity_Native American cirrhosis'), (279, 'ethnicity_Other/Unknown thrombolytics'), (280, 'bmi ethnicity_Hispanic'), (281, 'hepaticfailure'), (282, 'gender_Female midur'), (283, 'admissionheight^2'), (284, 'admissionheight aids'), (285, 'aids heartrate'), (286, 'motor activetx'), (287, 'admissionheight metastaticcancer'), (288, 'ethnicity_African American midur'), (289, 'verbal metastaticcancer'), (290, 'age hepaticfailure'), (291, 'hepaticfailure^2'), (292, 'ethnicity_Other/Unknown hepaticfailure'), (293, 'lymphoma oobventday1'), (294, 'ethnicity_Hispanic ima'), (295, 'ethnicity_Other/Unknown activetx'), (296, 'ethnicity_Other/Unknown metastaticcancer'), (297, 'bmi thrombolytics'), (298, 'age metastaticcancer'), (299, 'hepaticfailure immunosuppression'), (300, 'gender_Female oobventday1'), (301, 'ethnicity_African American visitnumber'), (302, 'age leukemia'), (303, 'ethnicity_Caucasian aids'), (304, 'ethnicity_Native American hepaticfailure'), (305, 'eyes^2'), (306, 'ethnicity_Native American'), (307, 'aids oobintubday1'), (308, 'thrombolytics heartrate'), (309, 'ethnicity_Asian immunosuppression'), (310, 'ethnicity_African American oobintubday1'), (311, 'ethnicity_Native American^2'), (312, 'ethnicity_Caucasian immunosuppression'), (313, 'ethnicity_Asian activetx'), (314, 'age aids'), (315, 'ethnicity_African American aids'), (316, 'admissionheight cirrhosis'), (317, 'admissionweight midur'), (318, 'admissionheight thrombolytics'), (319, 'gender_Female^2'), (320, 'bmi gender_Female'), (321, 'ethnicity_Other/Unknown visitnumber'), (322, 'ethnicity_Hispanic visitnumber'), (323, 'metastaticcancer'), (324, 'ethnicity_Caucasian metastaticcancer'), (325, 'lymphoma oobintubday1'), (326, 'gender_Female ethnicity_Native American'), (327, 'ethnicity_African American lymphoma'), (328, 'ima visitnumber'), (329, 'ethnicity_Caucasian'), (330, 'bmi visitnumber'), (331, 'visitnumber^2'), (332, 'admissionheight eyes'), (333, 'gender_Female'), (334, 'age gender_Female'), (335, 'ethnicity_Caucasian motor'), (336, 'ethnicity_Caucasian^2'), (337, 'admissionweight visitnumber'), (338, 'metastaticcancer^2'), (339, 'bmi midur'), (340, 'ethnicity_Asian oobintubday1'), (341, 'age cirrhosis'), (342, 'eyes cirrhosis'), (343, 'thrombolytics midur'), (344, 'ethnicity_Hispanic leukemia'), (345, 'leukemia heartrate'), (346, 'lymphoma metastaticcancer'), (347, 'admissionweight leukemia'), (348, 'ethnicity_Asian metastaticcancer'), (349, 'eyes metastaticcancer'), (350, 'hepaticfailure cirrhosis'), (351, 'metastaticcancer leukemia'), (352, 'eyes thrombolytics'), (353, 'cirrhosis visitnumber'), (354, 'thrombolytics'), (355, 'gender_Female oobintubday1'), (356, 'ethnicity_Other/Unknown leukemia'), (357, 'motor hepaticfailure'), (358, 'gender_Female aids'), (359, 'ethnicity_Hispanic thrombolytics'), (360, 'admissionheight hepaticfailure'), (361, 'lymphoma immunosuppression'), (362, 'admissionheight motor'), (363, 'admissionweight ethnicity_Native American'), (364, 'admissionweight ethnicity_Other/Unknown'), (365, 'thrombolytics^2'), (366, 'metastaticcancer visitnumber'), (367, 'admissionheight ethnicity_Native American'), (368, 'midur oobintubday1'), (369, 'lymphoma leukemia'), (370, 'gender_Female cirrhosis'), (371, 'hepaticfailure visitnumber'), (372, 'metastaticcancer activetx'), (373, 'bmi ethnicity_Native American'), (374, 'ethnicity_African American leukemia'), (375, 'ethnicity_Hispanic midur'), (376, 'bmi leukemia'), (377, 'verbal diabetes'), (378, 'bmi lymphoma'), (379, 'midur oobventday1'), (380, 'ethnicity_Asian ima'), (381, 'ethnicity_Native American immunosuppression'), (382, 'ethnicity_Other/Unknown oobintubday1'), (383, 'bmi ethnicity_Asian'), (384, 'immunosuppression midur'), (385, 'age oobintubday1'), (386, 'ethnicity_Other/Unknown midur'), (387, 'admissionweight metastaticcancer'), (388, 'immunosuppression visitnumber'), (389, 'immunosuppression ima'), (390, 'immunosuppression heartrate'), (391, 'bmi hepaticfailure'), (392, 'ethnicity_Other/Unknown lymphoma'), (393, 'ethnicity_Hispanic activetx'), (394, 'thrombolytics immunosuppression'), (395, 'ethnicity_Asian hepaticfailure'), (396, 'ethnicity_Hispanic lymphoma'), (397, 'ethnicity_Asian cirrhosis'), (398, 'aids immunosuppression'), (399, 'lymphoma visitnumber'), (400, 'admissionheight lymphoma'), (401, 'lymphoma cirrhosis'), (402, 'diabetes heartrate'), (403, 'cirrhosis activetx'), (404, 'hepaticfailure leukemia'), (405, 'bmi ethnicity_African American'), (406, 'ethnicity_Asian midur'), (407, 'leukemia visitnumber'), (408, 'ethnicity_African American motor'), (409, 'ethnicity_Asian visitnumber'), (410, 'metastaticcancer midur'), (411, 'ethnicity_Asian leukemia'), (412, 'hepaticfailure midur'), (413, 'bmi aids'), (414, 'aids diabetes'), (415, 'ethnicity_Asian thrombolytics'), (416, 'leukemia cirrhosis'), (417, 'motor thrombolytics'), (418, 'ethnicity_Asian lymphoma'), (419, 'admissionweight aids'), (420, 'leukemia midur'), (421, 'cirrhosis midur'), (422, 'admissionweight cirrhosis'), (423, 'thrombolytics leukemia'), (424, 'ethnicity_Native American thrombolytics'), (425, 'leukemia ima'), (426, 'ethnicity_Native American leukemia'), (427, 'thrombolytics visitnumber'), (428, 'admissionheight oobventday1'), (429, 'thrombolytics metastaticcancer'), (430, 'ethnicity_Native American heartrate'), (431, 'ethnicity_Native American metastaticcancer'), (432, 'ethnicity_Native American visitnumber'), (433, 'ethnicity_Hispanic aids'), (434, 'ethnicity_Other/Unknown aids'), (435, 'lymphoma midur'), (436, 'metastaticcancer ima'), (437, 'hepaticfailure lymphoma'), (438, 'lymphoma ima'), (439, 'ethnicity_Native American ima'), (440, 'aids lymphoma'), (441, 'bmi metastaticcancer'), (442, 'thrombolytics cirrhosis'), (443, 'age ethnicity_Native American'), (444, 'thrombolytics hepaticfailure'), (445, 'thrombolytics lymphoma'), (446, 'admissionweight lymphoma'), (447, 'bmi cirrhosis'), (448, 'ethnicity_Native American aids'), (449, 'aids cirrhosis'), (450, 'aids metastaticcancer'), (451, 'immunosuppression activetx'), (452, 'hepaticfailure ima'), (453, 'cirrhosis ima'), (454, 'thrombolytics ima'), (455, 'ethnicity_Native American lymphoma'), (456, 'aids hepaticfailure'), (457, 'aids visitnumber'), (458, 'aids midur'), (459, 'admissionweight hepaticfailure'), (460, 'aids leukemia'), (461, 'ethnicity_Asian aids'), (462, 'ethnicity_Native American midur'), (463, '1'), (464, 'verbal thrombolytics'), (465, 'admissionweight ethnicity_Asian'), (466, 'ethnicity_African American ethnicity_Asian'), (467, 'ethnicity_African American ethnicity_Hispanic'), (468, 'ethnicity_Asian ethnicity_Caucasian'), (469, 'ethnicity_Asian ethnicity_Other/Unknown'), (470, 'ethnicity_Caucasian ethnicity_Hispanic'), (471, 'ethnicity_African American ethnicity_Caucasian'), (472, 'ethnicity_Asian ethnicity_Hispanic'), (473, 'ethnicity_Caucasian ethnicity_Native American'), (474, 'thrombolytics aids'), (475, 'ethnicity_Caucasian ethnicity_Other/Unknown'), (476, 'ethnicity_African American ethnicity_Other/Unknown'), (477, 'ethnicity_African American ethnicity_Native American'), (478, 'ethnicity_Hispanic ethnicity_Native American'), (479, 'ethnicity_Hispanic ethnicity_Other/Unknown'), (480, 'ethnicity_Asian ethnicity_Native American'), (481, 'aids ima'), (482, 'ethnicity_Native American ethnicity_Other/Unknown')]\n"
     ]
    }
   ],
   "source": [
    "print(sorted(zip(map(lambda x: round(x, 4), rfecv.ranking_), X_train_poly_colnames)))"
   ]
  },
  {
   "cell_type": "markdown",
   "metadata": {},
   "source": [
    "# Prediction With Most Important Features"
   ]
  },
  {
   "cell_type": "code",
   "execution_count": null,
   "metadata": {},
   "outputs": [],
   "source": [
    "clf_w_best_params = LogisticRegression(class_weight='balanced', C=0.001, fit_intercept=True, penalty='l2')\n",
    "\n",
    "#clf_w_best_params = LogisticRegression(class_weight={0: 0.005, 1: 0.995}, C=0.01, fit_intercept=False, penalty='l2')\n",
    "clf_w_best_params.fit(X_train_poly_15feats, y_train)\n",
    "# file_name_pickle = 'model_' + now_to_str() + '.pickle'\n",
    "# scaler_name_pickle = 'scaler_' + now_to_str() + '.pickle'\n",
    "# pickle.dump(clf_w_best_params, open(file_name_pickle, 'wb'))\n",
    "# pickle.dump(scaler, open(scaler_name_pickle, 'wb'))\n",
    "\n",
    "scaler = MinMaxScaler()\n",
    "X_train_sc = scaler.fit_transform(X_train)\n",
    "X_test_sc = scaler.transform(X_test)\n",
    "\n",
    "\n",
    "model_and_scaler = {'model': clf_w_best_params, 'scaler': scaler}\n",
    "pickle.dump(model_and_scaler, open('../models/model_scaler_' + now_to_str() + '.pickle', 'wb'))\n",
    "\n",
    "y_pred = clf_w_best_params.predict(X_test_sc)\n",
    "y_probs = clf_w_best_params.predict_proba(X_test_sc)[:,1]\n",
    "# print('accuracy is ' + str(accuracy_score(y_test, y_pred)))\n",
    "# print('precision is ' + str(precision_score(y_test, y_pred)))\n",
    "\n",
    "\n",
    "\n",
    "# print('F1 score is ' + str(f1_score(y_test, y_pred_rocauc)))\n",
    "print('AUC is ' + str(roc_auc_score(y_test,y_probs)))"
   ]
  }
 ],
 "metadata": {
  "kernelspec": {
   "display_name": "Python 3",
   "language": "python",
   "name": "python3"
  },
  "language_info": {
   "codemirror_mode": {
    "name": "ipython",
    "version": 3
   },
   "file_extension": ".py",
   "mimetype": "text/x-python",
   "name": "python",
   "nbconvert_exporter": "python",
   "pygments_lexer": "ipython3",
   "version": "3.7.7"
  },
  "toc": {
   "base_numbering": 1,
   "nav_menu": {},
   "number_sections": true,
   "sideBar": true,
   "skip_h1_title": false,
   "title_cell": "Table of Contents",
   "title_sidebar": "Contents",
   "toc_cell": false,
   "toc_position": {
    "height": "calc(100% - 180px)",
    "left": "10px",
    "top": "150px",
    "width": "165px"
   },
   "toc_section_display": true,
   "toc_window_display": true
  },
  "varInspector": {
   "cols": {
    "lenName": 16,
    "lenType": 16,
    "lenVar": 40
   },
   "kernels_config": {
    "python": {
     "delete_cmd_postfix": "",
     "delete_cmd_prefix": "del ",
     "library": "var_list.py",
     "varRefreshCmd": "print(var_dic_list())"
    },
    "r": {
     "delete_cmd_postfix": ") ",
     "delete_cmd_prefix": "rm(",
     "library": "var_list.r",
     "varRefreshCmd": "cat(var_dic_list()) "
    }
   },
   "position": {
    "height": "567px",
    "left": "1336px",
    "right": "20px",
    "top": "191px",
    "width": "592px"
   },
   "types_to_exclude": [
    "module",
    "function",
    "builtin_function_or_method",
    "instance",
    "_Feature"
   ],
   "window_display": false
  }
 },
 "nbformat": 4,
 "nbformat_minor": 4
}
