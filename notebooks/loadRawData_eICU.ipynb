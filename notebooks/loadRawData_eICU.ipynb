{
 "cells": [
  {
   "cell_type": "markdown",
   "metadata": {},
   "source": [
    "# Settings and Imports"
   ]
  },
  {
   "cell_type": "code",
   "execution_count": 1,
   "metadata": {
    "ExecuteTime": {
     "end_time": "2020-06-06T23:05:05.242162Z",
     "start_time": "2020-06-06T23:05:05.238759Z"
    }
   },
   "outputs": [],
   "source": [
    "write_over_18 = 0 # set to 1 if you want to write files for patients over 18\n",
    "write_filtered02 = 0 # set to 1 if you want to write files for patients who meet the following criteria:\n",
    "    # have age and admissionweight\n",
    "    # over 18\n",
    "    # Alive after 48 hours of ICU admission\n",
    "    # Known discharge status\n",
    "    # NOT admitted with VTE\n",
    "write_filtered03 = 1 # set to 1 if you want to write files for the patients who meet the following criteria:\n",
    "    # have age and admissionweight\n",
    "    # over 18\n",
    "    # Alive after 24 hours of ICU admission\n",
    "    # Known discharge status\n",
    "    # NOT admitted with VTE\n",
    "do_eda_admitdx = 0\n",
    "time_thresh = 24*60"
   ]
  },
  {
   "cell_type": "code",
   "execution_count": 2,
   "metadata": {
    "ExecuteTime": {
     "end_time": "2020-06-06T23:05:05.801844Z",
     "start_time": "2020-06-06T23:05:05.245010Z"
    }
   },
   "outputs": [],
   "source": [
    "import matplotlib.pyplot as plt\n",
    "import pandas as pd\n",
    "import glob, os\n",
    "import textwrap"
   ]
  },
  {
   "cell_type": "markdown",
   "metadata": {},
   "source": [
    "# Remove patients 18 & under"
   ]
  },
  {
   "cell_type": "code",
   "execution_count": 3,
   "metadata": {
    "ExecuteTime": {
     "end_time": "2020-06-06T23:05:05.806186Z",
     "start_time": "2020-06-06T23:05:05.803532Z"
    }
   },
   "outputs": [],
   "source": [
    "# EICU\n",
    "import pandas as pd\n",
    "pd.set_option('display.max_colwidth', None)\n",
    "dir_data_raw = \"/Users/rachellehorwitz/Documents/ViTalErt/data/raw_eicu/\"\n",
    "dir_data_over18 = \"/Users/rachellehorwitz/Documents/ViTalErt/data/over18_eicu/\"\n",
    "dir_data_write = \"/Users/rachellehorwitz/Documents/ViTalErt/data/filtered01/\"\n",
    "# admissiondx = pd.read_csv(dir_data_raw + 'admissionDx.csv')\n",
    "# apachePredVar = pd.read_csv(dir_data_raw + 'apachePredVar.csv')\n",
    "# diagnosis = pd.read_csv(dir_data_raw + 'diagnosis.csv')\n",
    "# customLab = pd.read_csv(dir_data_raw + 'customLab.csv')"
   ]
  },
  {
   "cell_type": "markdown",
   "metadata": {},
   "source": [
    "## Remove patients with age=NaN or admissionweight=NaN"
   ]
  },
  {
   "cell_type": "code",
   "execution_count": 4,
   "metadata": {
    "ExecuteTime": {
     "end_time": "2020-06-06T23:05:06.557833Z",
     "start_time": "2020-06-06T23:05:05.808129Z"
    }
   },
   "outputs": [
    {
     "name": "stdout",
     "output_type": "stream",
     "text": [
      "200859 u patientunitidstays read from raw csv\n",
      "184117 patientunitstayids with age & admissionweight not na\n"
     ]
    }
   ],
   "source": [
    "# Get patientUnitStayIds of patients who are >18 years old\n",
    "# everything except hospital.csv can be indexed by patientUnitStayID\n",
    "# patient.csv has age\n",
    "import glob, os\n",
    "import pandas as pd\n",
    "import numpy as np\n",
    "\n",
    "# Read raw patient.csv file\n",
    "patient_raw = pd.read_csv(dir_data_raw + 'patient.csv')\n",
    "print(str(patient_raw['patientunitstayid'].unique().shape[0]) + ' u patientunitidstays read from raw csv')\n",
    "\n",
    "# Remove patients with age and/or admissionweight NaN\n",
    "u_ptunitstayid_ageweight_na = patient_raw[(patient_raw['age'].isnull()) | \\\n",
    "                       (patient_raw['admissionweight'].isnull())]['patientunitstayid'].unique()\n",
    "patient = patient_raw[~patient_raw['patientunitstayid'].isin(u_ptunitstayid_ageweight_na)]\n",
    "print(str(patient.shape[0]) + ' patientunitstayids with age & admissionweight not na')"
   ]
  },
  {
   "cell_type": "markdown",
   "metadata": {
    "ExecuteTime": {
     "end_time": "2020-06-04T12:26:38.138155Z",
     "start_time": "2020-06-04T12:26:38.136199Z"
    }
   },
   "source": [
    "## Change age '> 89'  to '91' and convert to int"
   ]
  },
  {
   "cell_type": "code",
   "execution_count": 5,
   "metadata": {
    "ExecuteTime": {
     "end_time": "2020-06-06T23:05:06.727963Z",
     "start_time": "2020-06-06T23:05:06.559565Z"
    },
    "scrolled": true
   },
   "outputs": [
    {
     "name": "stdout",
     "output_type": "stream",
     "text": [
      "6458 patientunitstayids with age > 89. Changed to 91\n",
      "969 patients <=18 yo -- to remove\n",
      "183148 u patientunitidstays remaining. \n",
      "\t age >18, have admissionweight\n",
      "patientUnitStayIdKeep has 183148 elements\n"
     ]
    }
   ],
   "source": [
    "# Patients with age > 89 do not have their actual age. They are just listed as '> 89'\n",
    "# In MIMIC, it was known that the median age of patients > 89 was 91. Use that value here\n",
    "print(str(patient[patient['age']=='> 89'].shape[0]) + ' patientunitstayids with age > 89. Changed to 91')\n",
    "patient = patient.assign(age=patient.age.replace('> 89', '91').astype(int))\n",
    "print(str(patient[~(patient['age'] > 18)].shape[0]) + ' patients <=18 yo -- to remove')\n",
    "\n",
    "# Keep track of patients removing\n",
    "ptunitstayidG18_remove = patient.loc[~(patient['age'] > 18)]['patientunitstayid']\n",
    "ptunitstayidG18_remove = np.union1d(np.array(ptunitstayidG18_remove.unique()), \\\n",
    "                                    np.array(u_ptunitstayid_ageweight_na))\n",
    "\n",
    "# Remove patients\n",
    "patient = patient[~patient['patientunitstayid'].isin(ptunitstayidG18_remove)]\n",
    "print(str(patient['patientunitstayid'].unique().size) + ' u patientunitidstays remaining. \\n' \\\n",
    "     '\\t age >18, have admissionweight')\n",
    "\n",
    "# Write patients\n",
    "\n",
    "# patientunitidstays to keep\n",
    "patientUnitStayIdKeep = patient['patientunitstayid'].unique()\n",
    "print('patientUnitStayIdKeep has ' + str(patientUnitStayIdKeep.size) + ' elements')"
   ]
  },
  {
   "cell_type": "markdown",
   "metadata": {},
   "source": [
    "## For each csv file except hospital, keep only data for patients >18 who have admissionweight"
   ]
  },
  {
   "cell_type": "code",
   "execution_count": 6,
   "metadata": {
    "ExecuteTime": {
     "end_time": "2020-06-06T23:05:08.361066Z",
     "start_time": "2020-06-06T23:05:06.731935Z"
    }
   },
   "outputs": [
    {
     "name": "stdout",
     "output_type": "stream",
     "text": [
      "----------------------------------------\n",
      "FINISHED!\n"
     ]
    }
   ],
   "source": [
    "dir_write_to = dir_data_over18 #'/Users/rachellehorwitz/Documents/tmp/' #\n",
    "\n",
    "# First, write patients.csv\n",
    "patient.to_csv(dir_write_to + 'patient.csv', index=False)\n",
    "\n",
    "# Write other files\n",
    "import sys\n",
    "sys.path.insert(0, '/Users/rachellehorwitz/Documents/ViTalErt/src')\n",
    "\n",
    "# Get list of unique patientunitstayids to keep\n",
    "patientUnitStayIdKeep = patient['patientunitstayid'].unique()\n",
    "\n",
    "# # Get list of csvfiles to modify\n",
    "# csvfiles = []\n",
    "# for file in glob.glob(dir_data_raw + '*.csv'):\n",
    "#     csvfiles.append(file)\n",
    "#csvfiles.remove(dir_data_raw + 'patient.csv')\n",
    "\n",
    "csvfiles = [dir_data_raw + 'diagnosis.csv', dir_data_raw + 'admissiondx.csv', dir_data_raw + 'lab.csv']\n",
    "\n",
    "# If specified to write files, keep ONLY patientunitstayids for patients >18 and have admissionweight\n",
    "if write_over_18 == 1:\n",
    "    from rewrite_patientsOver18 import *\n",
    "    \n",
    "    #keepPtsOver18(csvfiles, patientUnitStayIdKeep, dir_write_to, dir_data_raw)\n",
    "    for csvfile in csvfiles:\n",
    "        print('------')\n",
    "        print('Working on ' + csvfile)\n",
    "        data_raw = pd.read_csv(csvfile)\n",
    "        data_keep = data_raw[data_raw['patientunitstayid'].isin(patientUnitStayIdKeep)]\n",
    "        base = os.path.basename(csvfile)\n",
    "        print(base)\n",
    "        newFileNameWithPath = dir_data_over18 + base\n",
    "        data_keep.to_csv(newFileNameWithPath, index=False)\n",
    "        print('Saved data to ' + newFileNameWithPath)\n",
    "        print('------')\n",
    "print('----------------------------------------')\n",
    "print('FINISHED!')"
   ]
  },
  {
   "cell_type": "markdown",
   "metadata": {},
   "source": [
    "# Eliminate Patients Who Died Too Soon Or Unkown Discharge Status"
   ]
  },
  {
   "cell_type": "code",
   "execution_count": 7,
   "metadata": {
    "ExecuteTime": {
     "end_time": "2020-06-06T23:05:09.100585Z",
     "start_time": "2020-06-06T23:05:08.364304Z"
    },
    "scrolled": true
   },
   "outputs": [
    {
     "name": "stdout",
     "output_type": "stream",
     "text": [
      "['Expired' 'Alive' nan]\n",
      "28 patientunitstayids with nan unitdischargestatus\n",
      "ptunitstayidG18_remove currently has 17739 u patientunitstayids\n"
     ]
    }
   ],
   "source": [
    "# Eliminate patientunitstayids with NaN unitdischargestatus\n",
    "dir_read = dir_data_over18\n",
    "patient = pd.read_csv(dir_data_over18 + 'patient.csv')\n",
    "patient_nandischarge = patient[patient['unitdischargestatus'].isnull()]\n",
    "print(patient['unitdischargestatus'].unique())\n",
    "print(str(patient_nandischarge.shape[0]) + ' patientunitstayids with nan unitdischargestatus')\n",
    "ptunitstayid_nandischarge = patient_nandischarge['patientunitstayid'].unique()\n",
    "ptunitstayidG18_remove = np.union1d(ptunitstayidG18_remove, ptunitstayid_nandischarge)\n",
    "print('ptunitstayidG18_remove currently has ' + \\\n",
    "      str(np.unique(ptunitstayidG18_remove).shape[0]) + ' u patientunitstayids')"
   ]
  },
  {
   "cell_type": "code",
   "execution_count": 8,
   "metadata": {
    "ExecuteTime": {
     "end_time": "2020-06-06T23:05:09.175172Z",
     "start_time": "2020-06-06T23:05:09.102101Z"
    },
    "scrolled": true
   },
   "outputs": [
    {
     "name": "stdout",
     "output_type": "stream",
     "text": [
      "3278 patientunitstayids died within 24 hours of admission to ICU\n",
      "ptunitstayidG18_remove currently has 17739 u patientunitstayids\n",
      "3278 patientunitstayids will be removed because of NaN dischargestatus or died within 24 hours of ICU admission\n",
      "21017 total patients SO FAR have been removed\n",
      "179842 patientunitstayids remaining\n"
     ]
    }
   ],
   "source": [
    "# Eliminate patientunitstayids for patients who died within 48 hours of admittance to ICU\n",
    "deathThreshHrs = 24\n",
    "patient_diedTooSoon = patient[(patient['unitdischargestatus']=='Expired') \\\n",
    "                     & (patient['unitdischargeoffset'] < deathThreshHrs*60)]\n",
    "print(str(patient_diedTooSoon.shape[0]) + ' patientunitstayids died within ' \\\n",
    "      +  str(deathThreshHrs) + ' hours of admission to ICU')\n",
    "patient_diedTooSoon = patient_diedTooSoon['patientunitstayid'].unique()\n",
    "print('ptunitstayidG18_remove currently has ' + str(np.unique(ptunitstayidG18_remove).shape[0]) + ' u patientunitstayids')\n",
    "print(str(patient_diedTooSoon.shape[0]) \\\n",
    "      + ' patientunitstayids will be removed because of NaN dischargestatus' \\\n",
    "                + ' or died within ' + str(deathThreshHrs) + ' hours of ICU admission')\n",
    "\n",
    "# Add patients who died to soon or have NaN discharge status to list of patients to remove\n",
    "ptunitstayidG18_remove = np.union1d(ptunitstayidG18_remove, patient_diedTooSoon)\n",
    "# patient = patient[~patient['patientunitstayid'].isin(ptunitstayidG18_remove)]\n",
    "# print(str(patient.shape[0]) + ' patientunitstayids remaining')\n",
    "patient = patient[~patient['patientunitstayid'].isin(ptunitstayidG18_remove)]\n",
    "print(str(ptunitstayidG18_remove.shape[0]) + ' total patients SO FAR have been removed') \n",
    "print(str(patient['patientunitstayid'].unique().shape[0]) + ' patientunitstayids remaining')"
   ]
  },
  {
   "cell_type": "code",
   "execution_count": null,
   "metadata": {},
   "outputs": [],
   "source": []
  },
  {
   "cell_type": "markdown",
   "metadata": {},
   "source": [
    "# Eliminate patients with NaN admissiondx OR have DVT/PE at admission"
   ]
  },
  {
   "cell_type": "code",
   "execution_count": 9,
   "metadata": {
    "ExecuteTime": {
     "end_time": "2020-06-06T23:05:09.787527Z",
     "start_time": "2020-06-06T23:05:09.177247Z"
    }
   },
   "outputs": [
    {
     "name": "stdout",
     "output_type": "stream",
     "text": [
      "171055 u patientunitstayids in admissiondx_over18\n"
     ]
    }
   ],
   "source": [
    "admissiondx = pd.read_csv(dir_data_over18 + 'admissiondx.csv')\n",
    "print(str(admissiondx['patientunitstayid'].unique().shape[0]) + \\\n",
    "      ' u patientunitstayids in admissiondx_over18')"
   ]
  },
  {
   "cell_type": "code",
   "execution_count": 10,
   "metadata": {
    "ExecuteTime": {
     "end_time": "2020-06-06T23:05:09.805012Z",
     "start_time": "2020-06-06T23:05:09.789246Z"
    },
    "scrolled": true
   },
   "outputs": [
    {
     "data": {
      "text/html": [
       "<div>\n",
       "<style scoped>\n",
       "    .dataframe tbody tr th:only-of-type {\n",
       "        vertical-align: middle;\n",
       "    }\n",
       "\n",
       "    .dataframe tbody tr th {\n",
       "        vertical-align: top;\n",
       "    }\n",
       "\n",
       "    .dataframe thead th {\n",
       "        text-align: right;\n",
       "    }\n",
       "</style>\n",
       "<table border=\"1\" class=\"dataframe\">\n",
       "  <thead>\n",
       "    <tr style=\"text-align: right;\">\n",
       "      <th></th>\n",
       "      <th>admissiondxid</th>\n",
       "      <th>patientunitstayid</th>\n",
       "      <th>admitdxenteredoffset</th>\n",
       "      <th>admitdxpath</th>\n",
       "      <th>admitdxname</th>\n",
       "      <th>admitdxtext</th>\n",
       "    </tr>\n",
       "  </thead>\n",
       "  <tbody>\n",
       "    <tr>\n",
       "      <th>0</th>\n",
       "      <td>8023778</td>\n",
       "      <td>2900217</td>\n",
       "      <td>62</td>\n",
       "      <td>admission diagnosis|Operative Organ Systems|Organ System|Cardiovascular</td>\n",
       "      <td>Cardiovascular</td>\n",
       "      <td>Cardiovascular</td>\n",
       "    </tr>\n",
       "    <tr>\n",
       "      <th>1</th>\n",
       "      <td>8023777</td>\n",
       "      <td>2900217</td>\n",
       "      <td>62</td>\n",
       "      <td>admission diagnosis|Was the patient admitted from the O.R. or went to the O.R. within 4 hours of admission?|Yes</td>\n",
       "      <td>Yes</td>\n",
       "      <td>Yes</td>\n",
       "    </tr>\n",
       "    <tr>\n",
       "      <th>2</th>\n",
       "      <td>8023779</td>\n",
       "      <td>2900217</td>\n",
       "      <td>62</td>\n",
       "      <td>admission diagnosis|All Diagnosis|Operative|Diagnosis|Cardiovascular|Aortic and Mitral valve replacement</td>\n",
       "      <td>Aortic and Mitral valve replacement</td>\n",
       "      <td>Aortic and Mitral valve replacement</td>\n",
       "    </tr>\n",
       "    <tr>\n",
       "      <th>3</th>\n",
       "      <td>7929318</td>\n",
       "      <td>2900240</td>\n",
       "      <td>53</td>\n",
       "      <td>admission diagnosis|Non-operative Organ Systems|Organ System|Gastrointestinal</td>\n",
       "      <td>Gastrointestinal</td>\n",
       "      <td>Gastrointestinal</td>\n",
       "    </tr>\n",
       "    <tr>\n",
       "      <th>4</th>\n",
       "      <td>7929317</td>\n",
       "      <td>2900240</td>\n",
       "      <td>53</td>\n",
       "      <td>admission diagnosis|Was the patient admitted from the O.R. or went to the O.R. within 4 hours of admission?|No</td>\n",
       "      <td>No</td>\n",
       "      <td>No</td>\n",
       "    </tr>\n",
       "    <tr>\n",
       "      <th>5</th>\n",
       "      <td>7929319</td>\n",
       "      <td>2900240</td>\n",
       "      <td>53</td>\n",
       "      <td>admission diagnosis|All Diagnosis|Non-operative|Diagnosis|Gastrointestinal|Bleeding, GI-location unknown</td>\n",
       "      <td>Bleeding, GI-location unknown</td>\n",
       "      <td>Bleeding, GI-location unknown</td>\n",
       "    </tr>\n",
       "    <tr>\n",
       "      <th>6</th>\n",
       "      <td>7912438</td>\n",
       "      <td>2900262</td>\n",
       "      <td>6</td>\n",
       "      <td>admission diagnosis|All Diagnosis|Non-operative|Diagnosis|Cardiovascular|Infarction, acute myocardial (MI)</td>\n",
       "      <td>Infarction, acute myocardial (MI)</td>\n",
       "      <td>Infarction, acute myocardial (MI)</td>\n",
       "    </tr>\n",
       "    <tr>\n",
       "      <th>7</th>\n",
       "      <td>7912437</td>\n",
       "      <td>2900262</td>\n",
       "      <td>6</td>\n",
       "      <td>admission diagnosis|Non-operative Organ Systems|Organ System|Cardiovascular</td>\n",
       "      <td>Cardiovascular</td>\n",
       "      <td>Cardiovascular</td>\n",
       "    </tr>\n",
       "    <tr>\n",
       "      <th>8</th>\n",
       "      <td>7912439</td>\n",
       "      <td>2900262</td>\n",
       "      <td>6</td>\n",
       "      <td>admission diagnosis|Additional APACHE  Information|Acute MI location|anterior</td>\n",
       "      <td>anterior</td>\n",
       "      <td>anterior</td>\n",
       "    </tr>\n",
       "    <tr>\n",
       "      <th>9</th>\n",
       "      <td>7912440</td>\n",
       "      <td>2900262</td>\n",
       "      <td>6</td>\n",
       "      <td>admission diagnosis|Additional APACHE  Information|Thrombolytic Therapy received within 24 hours|No</td>\n",
       "      <td>No</td>\n",
       "      <td>No</td>\n",
       "    </tr>\n",
       "    <tr>\n",
       "      <th>10</th>\n",
       "      <td>7912436</td>\n",
       "      <td>2900262</td>\n",
       "      <td>6</td>\n",
       "      <td>admission diagnosis|Was the patient admitted from the O.R. or went to the O.R. within 4 hours of admission?|No</td>\n",
       "      <td>No</td>\n",
       "      <td>No</td>\n",
       "    </tr>\n",
       "    <tr>\n",
       "      <th>11</th>\n",
       "      <td>7892343</td>\n",
       "      <td>2900292</td>\n",
       "      <td>914</td>\n",
       "      <td>admission diagnosis|Was the patient admitted from the O.R. or went to the O.R. within 4 hours of admission?|No</td>\n",
       "      <td>No</td>\n",
       "      <td>No</td>\n",
       "    </tr>\n",
       "    <tr>\n",
       "      <th>12</th>\n",
       "      <td>7892344</td>\n",
       "      <td>2900292</td>\n",
       "      <td>914</td>\n",
       "      <td>admission diagnosis|Non-operative Organ Systems|Organ System|Genitourinary</td>\n",
       "      <td>Genitourinary</td>\n",
       "      <td>Genitourinary</td>\n",
       "    </tr>\n",
       "    <tr>\n",
       "      <th>13</th>\n",
       "      <td>7892345</td>\n",
       "      <td>2900292</td>\n",
       "      <td>914</td>\n",
       "      <td>admission diagnosis|All Diagnosis|Non-operative|Diagnosis|Genitourinary|Renal failure, acute</td>\n",
       "      <td>Renal failure, acute</td>\n",
       "      <td>Renal failure, acute</td>\n",
       "    </tr>\n",
       "    <tr>\n",
       "      <th>14</th>\n",
       "      <td>7966580</td>\n",
       "      <td>2900317</td>\n",
       "      <td>16</td>\n",
       "      <td>admission diagnosis|All Diagnosis|Non-operative|Diagnosis|Respiratory|Emphysema/bronchitis</td>\n",
       "      <td>Emphysema/bronchitis</td>\n",
       "      <td>Emphysema/bronchitis</td>\n",
       "    </tr>\n",
       "    <tr>\n",
       "      <th>15</th>\n",
       "      <td>7966578</td>\n",
       "      <td>2900317</td>\n",
       "      <td>16</td>\n",
       "      <td>admission diagnosis|Was the patient admitted from the O.R. or went to the O.R. within 4 hours of admission?|No</td>\n",
       "      <td>No</td>\n",
       "      <td>No</td>\n",
       "    </tr>\n",
       "    <tr>\n",
       "      <th>16</th>\n",
       "      <td>7966579</td>\n",
       "      <td>2900317</td>\n",
       "      <td>16</td>\n",
       "      <td>admission diagnosis|Non-operative Organ Systems|Organ System|Respiratory</td>\n",
       "      <td>Respiratory</td>\n",
       "      <td>Respiratory</td>\n",
       "    </tr>\n",
       "    <tr>\n",
       "      <th>17</th>\n",
       "      <td>7972057</td>\n",
       "      <td>2900320</td>\n",
       "      <td>115</td>\n",
       "      <td>admission diagnosis|Was the patient admitted from the O.R. or went to the O.R. within 4 hours of admission?|No</td>\n",
       "      <td>No</td>\n",
       "      <td>No</td>\n",
       "    </tr>\n",
       "    <tr>\n",
       "      <th>18</th>\n",
       "      <td>7972059</td>\n",
       "      <td>2900320</td>\n",
       "      <td>115</td>\n",
       "      <td>admission diagnosis|All Diagnosis|Non-operative|Diagnosis|Gastrointestinal|Bleeding, upper GI</td>\n",
       "      <td>Bleeding, upper GI</td>\n",
       "      <td>Bleeding, upper GI</td>\n",
       "    </tr>\n",
       "    <tr>\n",
       "      <th>19</th>\n",
       "      <td>7972058</td>\n",
       "      <td>2900320</td>\n",
       "      <td>115</td>\n",
       "      <td>admission diagnosis|Non-operative Organ Systems|Organ System|Gastrointestinal</td>\n",
       "      <td>Gastrointestinal</td>\n",
       "      <td>Gastrointestinal</td>\n",
       "    </tr>\n",
       "    <tr>\n",
       "      <th>20</th>\n",
       "      <td>7898015</td>\n",
       "      <td>2900353</td>\n",
       "      <td>614</td>\n",
       "      <td>admission diagnosis|All Diagnosis|Non-operative|Diagnosis|Cardiovascular|Sepsis, GI</td>\n",
       "      <td>Sepsis, GI</td>\n",
       "      <td>Sepsis, GI</td>\n",
       "    </tr>\n",
       "    <tr>\n",
       "      <th>21</th>\n",
       "      <td>7898013</td>\n",
       "      <td>2900353</td>\n",
       "      <td>614</td>\n",
       "      <td>admission diagnosis|Was the patient admitted from the O.R. or went to the O.R. within 4 hours of admission?|No</td>\n",
       "      <td>No</td>\n",
       "      <td>No</td>\n",
       "    </tr>\n",
       "    <tr>\n",
       "      <th>22</th>\n",
       "      <td>7898014</td>\n",
       "      <td>2900353</td>\n",
       "      <td>614</td>\n",
       "      <td>admission diagnosis|Non-operative Organ Systems|Organ System|Cardiovascular</td>\n",
       "      <td>Cardiovascular</td>\n",
       "      <td>Cardiovascular</td>\n",
       "    </tr>\n",
       "    <tr>\n",
       "      <th>23</th>\n",
       "      <td>7953738</td>\n",
       "      <td>2900354</td>\n",
       "      <td>14</td>\n",
       "      <td>admission diagnosis|Non-operative Organ Systems|Organ System|Neurologic</td>\n",
       "      <td>Neurologic</td>\n",
       "      <td>Neurologic</td>\n",
       "    </tr>\n",
       "    <tr>\n",
       "      <th>24</th>\n",
       "      <td>7976126</td>\n",
       "      <td>2900354</td>\n",
       "      <td>14</td>\n",
       "      <td>admission diagnosis|All Diagnosis|Non-operative|Diagnosis|Neurology|Overdose, street drugs (opiates, cocaine, amphetamine)</td>\n",
       "      <td>Overdose, street drugs (opiates, cocaine, amphetamine)</td>\n",
       "      <td>Overdose, street drugs (opiates, cocaine, amphetamine)</td>\n",
       "    </tr>\n",
       "    <tr>\n",
       "      <th>25</th>\n",
       "      <td>7953737</td>\n",
       "      <td>2900354</td>\n",
       "      <td>14</td>\n",
       "      <td>admission diagnosis|Was the patient admitted from the O.R. or went to the O.R. within 4 hours of admission?|No</td>\n",
       "      <td>No</td>\n",
       "      <td>No</td>\n",
       "    </tr>\n",
       "    <tr>\n",
       "      <th>26</th>\n",
       "      <td>7988340</td>\n",
       "      <td>2900366</td>\n",
       "      <td>32</td>\n",
       "      <td>admission diagnosis|Was the patient admitted from the O.R. or went to the O.R. within 4 hours of admission?|No</td>\n",
       "      <td>No</td>\n",
       "      <td>No</td>\n",
       "    </tr>\n",
       "    <tr>\n",
       "      <th>27</th>\n",
       "      <td>7988342</td>\n",
       "      <td>2900366</td>\n",
       "      <td>32</td>\n",
       "      <td>admission diagnosis|All Diagnosis|Non-operative|Diagnosis|Cardiovascular|CHF, congestive heart failure</td>\n",
       "      <td>CHF, congestive heart failure</td>\n",
       "      <td>CHF, congestive heart failure</td>\n",
       "    </tr>\n",
       "    <tr>\n",
       "      <th>28</th>\n",
       "      <td>7988341</td>\n",
       "      <td>2900366</td>\n",
       "      <td>32</td>\n",
       "      <td>admission diagnosis|Non-operative Organ Systems|Organ System|Cardiovascular</td>\n",
       "      <td>Cardiovascular</td>\n",
       "      <td>Cardiovascular</td>\n",
       "    </tr>\n",
       "    <tr>\n",
       "      <th>29</th>\n",
       "      <td>7544547</td>\n",
       "      <td>2900375</td>\n",
       "      <td>37</td>\n",
       "      <td>admission diagnosis|Non-operative Organ Systems|Organ System|Respiratory</td>\n",
       "      <td>Respiratory</td>\n",
       "      <td>Respiratory</td>\n",
       "    </tr>\n",
       "  </tbody>\n",
       "</table>\n",
       "</div>"
      ],
      "text/plain": [
       "    admissiondxid  patientunitstayid  admitdxenteredoffset  \\\n",
       "0         8023778            2900217                    62   \n",
       "1         8023777            2900217                    62   \n",
       "2         8023779            2900217                    62   \n",
       "3         7929318            2900240                    53   \n",
       "4         7929317            2900240                    53   \n",
       "5         7929319            2900240                    53   \n",
       "6         7912438            2900262                     6   \n",
       "7         7912437            2900262                     6   \n",
       "8         7912439            2900262                     6   \n",
       "9         7912440            2900262                     6   \n",
       "10        7912436            2900262                     6   \n",
       "11        7892343            2900292                   914   \n",
       "12        7892344            2900292                   914   \n",
       "13        7892345            2900292                   914   \n",
       "14        7966580            2900317                    16   \n",
       "15        7966578            2900317                    16   \n",
       "16        7966579            2900317                    16   \n",
       "17        7972057            2900320                   115   \n",
       "18        7972059            2900320                   115   \n",
       "19        7972058            2900320                   115   \n",
       "20        7898015            2900353                   614   \n",
       "21        7898013            2900353                   614   \n",
       "22        7898014            2900353                   614   \n",
       "23        7953738            2900354                    14   \n",
       "24        7976126            2900354                    14   \n",
       "25        7953737            2900354                    14   \n",
       "26        7988340            2900366                    32   \n",
       "27        7988342            2900366                    32   \n",
       "28        7988341            2900366                    32   \n",
       "29        7544547            2900375                    37   \n",
       "\n",
       "                                                                                                                   admitdxpath  \\\n",
       "0                                                      admission diagnosis|Operative Organ Systems|Organ System|Cardiovascular   \n",
       "1              admission diagnosis|Was the patient admitted from the O.R. or went to the O.R. within 4 hours of admission?|Yes   \n",
       "2                     admission diagnosis|All Diagnosis|Operative|Diagnosis|Cardiovascular|Aortic and Mitral valve replacement   \n",
       "3                                                admission diagnosis|Non-operative Organ Systems|Organ System|Gastrointestinal   \n",
       "4               admission diagnosis|Was the patient admitted from the O.R. or went to the O.R. within 4 hours of admission?|No   \n",
       "5                     admission diagnosis|All Diagnosis|Non-operative|Diagnosis|Gastrointestinal|Bleeding, GI-location unknown   \n",
       "6                   admission diagnosis|All Diagnosis|Non-operative|Diagnosis|Cardiovascular|Infarction, acute myocardial (MI)   \n",
       "7                                                  admission diagnosis|Non-operative Organ Systems|Organ System|Cardiovascular   \n",
       "8                                                admission diagnosis|Additional APACHE  Information|Acute MI location|anterior   \n",
       "9                          admission diagnosis|Additional APACHE  Information|Thrombolytic Therapy received within 24 hours|No   \n",
       "10              admission diagnosis|Was the patient admitted from the O.R. or went to the O.R. within 4 hours of admission?|No   \n",
       "11              admission diagnosis|Was the patient admitted from the O.R. or went to the O.R. within 4 hours of admission?|No   \n",
       "12                                                  admission diagnosis|Non-operative Organ Systems|Organ System|Genitourinary   \n",
       "13                                admission diagnosis|All Diagnosis|Non-operative|Diagnosis|Genitourinary|Renal failure, acute   \n",
       "14                                  admission diagnosis|All Diagnosis|Non-operative|Diagnosis|Respiratory|Emphysema/bronchitis   \n",
       "15              admission diagnosis|Was the patient admitted from the O.R. or went to the O.R. within 4 hours of admission?|No   \n",
       "16                                                    admission diagnosis|Non-operative Organ Systems|Organ System|Respiratory   \n",
       "17              admission diagnosis|Was the patient admitted from the O.R. or went to the O.R. within 4 hours of admission?|No   \n",
       "18                               admission diagnosis|All Diagnosis|Non-operative|Diagnosis|Gastrointestinal|Bleeding, upper GI   \n",
       "19                                               admission diagnosis|Non-operative Organ Systems|Organ System|Gastrointestinal   \n",
       "20                                         admission diagnosis|All Diagnosis|Non-operative|Diagnosis|Cardiovascular|Sepsis, GI   \n",
       "21              admission diagnosis|Was the patient admitted from the O.R. or went to the O.R. within 4 hours of admission?|No   \n",
       "22                                                 admission diagnosis|Non-operative Organ Systems|Organ System|Cardiovascular   \n",
       "23                                                     admission diagnosis|Non-operative Organ Systems|Organ System|Neurologic   \n",
       "24  admission diagnosis|All Diagnosis|Non-operative|Diagnosis|Neurology|Overdose, street drugs (opiates, cocaine, amphetamine)   \n",
       "25              admission diagnosis|Was the patient admitted from the O.R. or went to the O.R. within 4 hours of admission?|No   \n",
       "26              admission diagnosis|Was the patient admitted from the O.R. or went to the O.R. within 4 hours of admission?|No   \n",
       "27                      admission diagnosis|All Diagnosis|Non-operative|Diagnosis|Cardiovascular|CHF, congestive heart failure   \n",
       "28                                                 admission diagnosis|Non-operative Organ Systems|Organ System|Cardiovascular   \n",
       "29                                                    admission diagnosis|Non-operative Organ Systems|Organ System|Respiratory   \n",
       "\n",
       "                                               admitdxname  \\\n",
       "0                                           Cardiovascular   \n",
       "1                                                      Yes   \n",
       "2                      Aortic and Mitral valve replacement   \n",
       "3                                         Gastrointestinal   \n",
       "4                                                       No   \n",
       "5                            Bleeding, GI-location unknown   \n",
       "6                        Infarction, acute myocardial (MI)   \n",
       "7                                           Cardiovascular   \n",
       "8                                                 anterior   \n",
       "9                                                       No   \n",
       "10                                                      No   \n",
       "11                                                      No   \n",
       "12                                           Genitourinary   \n",
       "13                                    Renal failure, acute   \n",
       "14                                    Emphysema/bronchitis   \n",
       "15                                                      No   \n",
       "16                                             Respiratory   \n",
       "17                                                      No   \n",
       "18                                      Bleeding, upper GI   \n",
       "19                                        Gastrointestinal   \n",
       "20                                              Sepsis, GI   \n",
       "21                                                      No   \n",
       "22                                          Cardiovascular   \n",
       "23                                              Neurologic   \n",
       "24  Overdose, street drugs (opiates, cocaine, amphetamine)   \n",
       "25                                                      No   \n",
       "26                                                      No   \n",
       "27                           CHF, congestive heart failure   \n",
       "28                                          Cardiovascular   \n",
       "29                                             Respiratory   \n",
       "\n",
       "                                               admitdxtext  \n",
       "0                                           Cardiovascular  \n",
       "1                                                      Yes  \n",
       "2                      Aortic and Mitral valve replacement  \n",
       "3                                         Gastrointestinal  \n",
       "4                                                       No  \n",
       "5                            Bleeding, GI-location unknown  \n",
       "6                        Infarction, acute myocardial (MI)  \n",
       "7                                           Cardiovascular  \n",
       "8                                                 anterior  \n",
       "9                                                       No  \n",
       "10                                                      No  \n",
       "11                                                      No  \n",
       "12                                           Genitourinary  \n",
       "13                                    Renal failure, acute  \n",
       "14                                    Emphysema/bronchitis  \n",
       "15                                                      No  \n",
       "16                                             Respiratory  \n",
       "17                                                      No  \n",
       "18                                      Bleeding, upper GI  \n",
       "19                                        Gastrointestinal  \n",
       "20                                              Sepsis, GI  \n",
       "21                                                      No  \n",
       "22                                          Cardiovascular  \n",
       "23                                              Neurologic  \n",
       "24  Overdose, street drugs (opiates, cocaine, amphetamine)  \n",
       "25                                                      No  \n",
       "26                                                      No  \n",
       "27                           CHF, congestive heart failure  \n",
       "28                                          Cardiovascular  \n",
       "29                                             Respiratory  "
      ]
     },
     "execution_count": 10,
     "metadata": {},
     "output_type": "execute_result"
    }
   ],
   "source": [
    "admissiondx.head(30)"
   ]
  },
  {
   "cell_type": "markdown",
   "metadata": {
    "ExecuteTime": {
     "end_time": "2020-06-02T23:37:46.458823Z",
     "start_time": "2020-06-02T23:37:46.456768Z"
    }
   },
   "source": [
    "## Eliminate patients who do not have an admissiondx"
   ]
  },
  {
   "cell_type": "code",
   "execution_count": 11,
   "metadata": {
    "ExecuteTime": {
     "end_time": "2020-06-06T23:05:10.182410Z",
     "start_time": "2020-06-06T23:05:09.806734Z"
    },
    "scrolled": true
   },
   "outputs": [
    {
     "name": "stdout",
     "output_type": "stream",
     "text": [
      "592405 admissiondx entries for patients >18, and with ok discharge\n",
      "167985 unique patientunitstayids in admissionsdx\n",
      "167985 unique patientunitstayids who meet previous critera and have admissionsdx\n",
      "11857 u patientunitstayids that dont have admissiondx\n",
      "32874 u patientstayids who have unknown discharge status, died too early, and/or do not have admissiondx\n",
      "167985 u patientunitidstays remaining in admissiondx\n",
      "167985 u patientunitidstays remaining in patient\n"
     ]
    }
   ],
   "source": [
    "# Eliminate patients who died too soon or have unknown discharge status\n",
    "admissiondx = admissiondx[~admissiondx['patientunitstayid'].isin(ptunitstayidG18_remove)]\n",
    "print(str(admissiondx.shape[0]) + ' admissiondx entries for patients >18,' \\\n",
    "     ' and with ok discharge')\n",
    "print(str(admissiondx['patientunitstayid'].unique().shape[0]) + \\\n",
    "      ' unique patientunitstayids in admissionsdx')\n",
    "\n",
    "# Get patientunitstayids to keep (the ones in both admissiondx_okdischarge AND patient)\n",
    "ptunitstayid_keep = list(set(patient['patientunitstayid']) &\\\n",
    "                                 set(admissiondx['patientunitstayid'].unique()))\n",
    "ptunitstayid_keep = np.array(ptunitstayid_keep)\n",
    "print(str(int(np.unique(ptunitstayid_keep.shape[0]))) + ' unique patientunitstayids who meet previous critera and' \\\n",
    "     ' have admissionsdx')\n",
    "\n",
    "# Add to ptunitstayidG18_remove\n",
    "ptunitstayid_nodx = list(set(patient['patientunitstayid'].unique()) - \\\n",
    "                         set(admissiondx['patientunitstayid'].unique()))\n",
    "ptunitstayid_nodx = np.array(ptunitstayid_nodx)\n",
    "print(str(np.unique(ptunitstayid_nodx).shape[0]) + ' u patientunitstayids that don''t have admissiondx')\n",
    "ptunitstayidG18_remove = np.union1d(ptunitstayidG18_remove, ptunitstayid_nodx)\n",
    "print(str(np.unique(ptunitstayidG18_remove).shape[0]) + ' u patientstayids who' \\\n",
    "     ' have unknown discharge status, died too early, and/or do not have admissiondx')\n",
    "\n",
    "# Remove patientunitstayids\n",
    "patient = patient[~patient['patientunitstayid'].isin(ptunitstayidG18_remove)]\n",
    "admissiondx = admissiondx[~admissiondx['patientunitstayid'].isin(ptunitstayidG18_remove)]\n",
    "print(str(admissiondx['patientunitstayid'].unique().shape[0]) + ' u patientunitidstays remaining in admissiondx')\n",
    "print(str(patient['patientunitstayid'].unique().shape[0]) + ' u patientunitidstays remaining in patient')"
   ]
  },
  {
   "cell_type": "markdown",
   "metadata": {},
   "source": [
    "## Eliminate patients diagnosed with DVT/PE at admission"
   ]
  },
  {
   "cell_type": "markdown",
   "metadata": {},
   "source": [
    "### Eliminate patients diagnosed with DVT at admission"
   ]
  },
  {
   "cell_type": "code",
   "execution_count": 12,
   "metadata": {
    "ExecuteTime": {
     "end_time": "2020-06-06T23:05:10.556982Z",
     "start_time": "2020-06-06T23:05:10.184371Z"
    }
   },
   "outputs": [
    {
     "name": "stdout",
     "output_type": "stream",
     "text": [
      "474 patientunitstayids were diagnosed with \"Thrombosis, vascular\" upon admission\n"
     ]
    }
   ],
   "source": [
    "# Eliminate patientunitstayids who were diagnosed with DVT upon admission to ICU\n",
    "dvt_admissiondx = admissiondx[admissiondx['admitdxname'].str.contains('Thrombosis, vascular', case=False)]\n",
    "ptunitstayid_dvt_admission = dvt_admissiondx['patientunitstayid'].unique()\n",
    "print(str(ptunitstayid_dvt_admission.shape[0]) + ' patientunitstayids were diagnosed with \"Thrombosis, vascular\" upon admission')\n",
    "ptunitstayidG18_remove = np.union1d(ptunitstayidG18_remove, ptunitstayid_dvt_admission)\n",
    "patient = patient[~patient['patientunitstayid'].isin(ptunitstayidG18_remove)]\n",
    "admissiondx = admissiondx[~admissiondx['patientunitstayid'].isin(ptunitstayidG18_remove)]\n",
    "\n",
    "# Take union(patientunitstayids diagnosed with DVT upon admission to ICU ||\n",
    "#.           patientunitstayids diagnosed with DVT shortly after ICU admission (within time_thresh))\n",
    "#ptunitstayid_dvt_too_early = np.union1d(u_vte_lessThanTime_patientunitstayid, ptunitstayid_dvt_admission)\n",
    "#ptunitstayid_dvt_too_early.shape[0]\n",
    "#print(str(ptunitstayid_dvt_too_early.shape[0]) + ' patientunitstayids had \"Thrombosis, vascular\" upon admission \\n and/or diagnosed with VTE within timeThresh')"
   ]
  },
  {
   "cell_type": "markdown",
   "metadata": {
    "ExecuteTime": {
     "end_time": "2020-06-03T01:46:35.534625Z",
     "start_time": "2020-06-03T01:46:35.515473Z"
    }
   },
   "source": [
    "### EDA on types of admission diagnoses "
   ]
  },
  {
   "cell_type": "code",
   "execution_count": 13,
   "metadata": {
    "ExecuteTime": {
     "end_time": "2020-06-06T23:05:10.561032Z",
     "start_time": "2020-06-06T23:05:10.558735Z"
    }
   },
   "outputs": [],
   "source": [
    "if do_eda_admitdx == 1:\n",
    "    admissiondx_eval = admissiondx.copy()"
   ]
  },
  {
   "cell_type": "code",
   "execution_count": 14,
   "metadata": {
    "ExecuteTime": {
     "end_time": "2020-06-06T23:05:10.565156Z",
     "start_time": "2020-06-06T23:05:10.562748Z"
    }
   },
   "outputs": [],
   "source": [
    "if do_eda_admitdx == 1:\n",
    "    n = 30\n",
    "    admissiondx_eval['admitdxpath'].value_counts()[:n].to_dict()"
   ]
  },
  {
   "cell_type": "code",
   "execution_count": 15,
   "metadata": {
    "ExecuteTime": {
     "end_time": "2020-06-06T23:05:10.570225Z",
     "start_time": "2020-06-06T23:05:10.566646Z"
    }
   },
   "outputs": [],
   "source": [
    "if do_eda_admitdx == 1:\n",
    "    admissiondx_eval[(admissiondx_eval['admitdxpath'].str.contains('pulmonary')) \\\n",
    "                     & ~(admissiondx_eval['admitdxpath'].str.contains('Sepsis')) \\\n",
    "                    & ~(admissiondx_eval['admitdxpath'].str.contains('ARDS')) \\\n",
    "                    & ~(admissiondx_eval['admitdxpath'].str.contains('Hemorrhage')) \\\n",
    "                    & ~(admissiondx_eval['admitdxpath'].str.contains('Restrictive lung disease'))]"
   ]
  },
  {
   "cell_type": "code",
   "execution_count": 16,
   "metadata": {
    "ExecuteTime": {
     "end_time": "2020-06-06T23:05:10.573824Z",
     "start_time": "2020-06-06T23:05:10.571580Z"
    }
   },
   "outputs": [],
   "source": [
    "if do_eda_admitdx == 1:\n",
    "    admissiondx_eval[admissiondx_eval['admitdxpath'].str.contains('Embolus, pulmonary', case=False)]"
   ]
  },
  {
   "cell_type": "markdown",
   "metadata": {},
   "source": [
    "### Eliminate patients diagnosed with PE at admission"
   ]
  },
  {
   "cell_type": "code",
   "execution_count": 17,
   "metadata": {
    "ExecuteTime": {
     "end_time": "2020-06-06T23:05:11.946531Z",
     "start_time": "2020-06-06T23:05:10.575047Z"
    }
   },
   "outputs": [
    {
     "name": "stdout",
     "output_type": "stream",
     "text": [
      "1612 u patientunitstayids with PE at admission that will be removed\n",
      "165899 u patientunitstayids remaining in \"patient\"\n",
      "165899 u patientunitstayids remaining in \"admissiondx\"\n"
     ]
    }
   ],
   "source": [
    "# Get patientunitidstays with PE at admission\n",
    "admissiondx_no_pe = admissiondx[~admissiondx['admitdxpath'].str.contains('Embolus, pulmonary', case=False)]\n",
    "admissiondx_pe = admissiondx[admissiondx['admitdxpath'].str.contains('Embolus, pulmonary', case=False)]\n",
    "ptunitstayids_no_pe = admissiondx_no_pe['patientunitstayid'].unique()\n",
    "ptunitstayids_pe = admissiondx_pe['patientunitstayid'].unique()\n",
    "print(str(ptunitstayids_pe.shape[0]) + ' u patientunitstayids with PE at admission that will be removed')\n",
    "\n",
    "# Add new patientunitidstays with PE to the list of patientunitidstays to remove\n",
    "ptunitstayidG18_remove = np.union1d(ptunitstayidG18_remove, ptunitstayids_pe)\n",
    "\n",
    "# Remove patientunitidstays from admissiondx and patient\n",
    "admissiondx = admissiondx[~admissiondx['patientunitstayid'].isin(ptunitstayidG18_remove)]\n",
    "patient = patient[~patient['patientunitstayid'].isin(ptunitstayidG18_remove)]\n",
    "print(str(patient['patientunitstayid'].unique().shape[0]) + ' u patientunitstayids remaining in \"patient\"')\n",
    "print(str(admissiondx['patientunitstayid'].unique().shape[0]) + ' u patientunitstayids remaining in \"admissiondx\"')"
   ]
  },
  {
   "cell_type": "markdown",
   "metadata": {},
   "source": [
    "# Get Patients Diagnosed with VTE in ICU"
   ]
  },
  {
   "cell_type": "code",
   "execution_count": 18,
   "metadata": {
    "ExecuteTime": {
     "end_time": "2020-06-06T23:05:14.176056Z",
     "start_time": "2020-06-06T23:05:11.948131Z"
    }
   },
   "outputs": [
    {
     "name": "stdout",
     "output_type": "stream",
     "text": [
      "After removing patientunitstayids that were removed from \"patient.csv\" and \"admitdx.csv\",159567 u patientunitstayids \n",
      " and 2576098 rows are left in diagnosis.csv\n",
      "['415.1', '415.10', '415.11', '415.13', '415.19', '451.0', '451.1', '451.10', '451.11', '451.19', '451.2', '451.20', '451.81', '451.89', '451.9', '451.90', '453.1', '453.10', '453.2', '453.20', '453.4', '453.40', '453.41', '453.42', '453.6', '453.60', '453.8', '453.80', '453.89', '453.9', '453.90']\n"
     ]
    }
   ],
   "source": [
    "diagnosis = pd.read_csv(dir_data_over18 + 'diagnosis.csv')\n",
    "\n",
    "# Remove patientunitstayids from diagnosis that we already know we're removing\n",
    "diagnosis = diagnosis[~diagnosis['patientunitstayid'].isin(ptunitstayidG18_remove)]\n",
    "print('After removing patientunitstayids that were removed from \"patient.csv\" and \"admitdx.csv\",' \\\n",
    "     + str(diagnosis['patientunitstayid'].unique().shape[0]) + ' u patientunitstayids \\n and ' \\\n",
    "      + str(diagnosis.shape[0]) + ' rows are left in diagnosis.csv')\n",
    "diagnosis.head()\n",
    "\n",
    "# # Add ICD9 codes for diseases that clearly have them\n",
    "# # diabetes melitus --> 250.xx\n",
    "# diagnosis.loc[(diagnosis.diagnosisstring.str.contains('diabetes')) & \\\n",
    "#               (pd.isnull(diagnosis.icd9code)), 'icd9code']= '250.xx'\n",
    "# # cardiomyopathy --> 425.xx\n",
    "# diagnosis.loc[(diagnosis.diagnosisstring.str.contains('cardiomyopathy')) & \\\n",
    "#               (pd.isnull(diagnosis.icd9code)), 'icd9code']= '425.xx'\n",
    "\n",
    "# Import ICD9 codes for VTE\n",
    "from icd9codes import *\n",
    "icd9_vte = getVTEicd9codes()\n",
    "print(icd9_vte)\n"
   ]
  },
  {
   "cell_type": "code",
   "execution_count": 19,
   "metadata": {
    "ExecuteTime": {
     "end_time": "2020-06-06T23:05:37.197393Z",
     "start_time": "2020-06-06T23:05:14.177662Z"
    },
    "scrolled": true
   },
   "outputs": [
    {
     "name": "stdout",
     "output_type": "stream",
     "text": [
      "415.1\n",
      "415.10\n",
      "415.11\n",
      "415.13\n",
      "415.19\n",
      "451.0\n",
      "451.1\n",
      "451.10\n",
      "451.11\n",
      "451.19\n",
      "451.2\n",
      "451.20\n",
      "451.81\n",
      "451.89\n",
      "451.9\n",
      "451.90\n",
      "453.1\n",
      "453.10\n",
      "453.2\n",
      "453.20\n",
      "453.4\n",
      "453.40\n",
      "453.41\n",
      "453.42\n",
      "453.6\n",
      "453.60\n",
      "453.8\n",
      "453.80\n",
      "453.89\n",
      "453.9\n",
      "453.90\n",
      "1549 unique patientunitstayids with ICD9 and VTE\n",
      "626 unique patientunitstayids with NULL icd9 AND DVT\n",
      "2028 u patientunitidstays with VTE diagnosed ever\n"
     ]
    }
   ],
   "source": [
    "# Find patientunitstayIDs in pos and neg classes\n",
    "# NON-NULL ICD9 CODES: find those diagnoses with VTE within 48 hours of ICU admission and remove them \n",
    "diagnosis_hasicd9 = diagnosis[~diagnosis['icd9code'].isnull()]\n",
    "diagnosis_hasicd9_vte = pd.DataFrame()\n",
    "\n",
    "for code in icd9_vte:\n",
    "    print(str(code))\n",
    "    rows = diagnosis_hasicd9[diagnosis_hasicd9['icd9code'].str.contains(code)]\n",
    "    diagnosis_hasicd9_vte = pd.concat([rows, diagnosis_hasicd9_vte])\n",
    "    diagnosis_hasicd9_vte = diagnosis_hasicd9_vte.loc[~diagnosis_hasicd9_vte.index.duplicated(keep='first')]\n",
    "\n",
    "idx_diagnosis_hasicd9_vte =  diagnosis_hasicd9_vte.index   \n",
    "u_ptunitstayid_diagnosis_hasicd9_vte = diagnosis_hasicd9_vte['patientunitstayid'].unique()\n",
    "print(str(u_ptunitstayid_diagnosis_hasicd9_vte.shape[0]) + ' unique patientunitstayids with ICD9 and VTE')\n",
    "\n",
    "# Find patientunitstayids that have DVT in name\n",
    "diagnosis_nullicd9 = diagnosis[diagnosis['icd9code'].isnull()]\n",
    "diagnosis_DVT_nullicd9 = diagnosis_nullicd9[diagnosis_nullicd9['diagnosisstring'].str.contains('DVT')]\n",
    "idx_diagnosis_DVT_nullicd9 = diagnosis_DVT_nullicd9.index\n",
    "u_ptunitstayid_DVT_nullicd9 = diagnosis_DVT_nullicd9['patientunitstayid'].unique()\n",
    "print(str(u_ptunitstayid_DVT_nullicd9.shape[0]) + ' unique patientunitstayids with NULL icd9 AND DVT')\n",
    "\n",
    "# Take union to get patientunitstayids that have VTE\n",
    "idx_VTE = idx_diagnosis_hasicd9_vte.union(idx_diagnosis_DVT_nullicd9)\n",
    "ptunitstayid_vte = np.union1d(u_ptunitstayid_diagnosis_hasicd9_vte, u_ptunitstayid_DVT_nullicd9)\n",
    "print(str(np.count_nonzero(np.unique(ptunitstayid_vte))) + ' u patientunitidstays with VTE diagnosed ever')\n",
    "ptunitstayid_vte_series = pd.Series(ptunitstayid_vte) # make it a series\n",
    "ptunitstayid_vte_series.name = 'patientunitstayid'\n",
    "\n",
    "\n",
    "diagnosis_vte_ever = diagnosis.loc[diagnosis['patientunitstayid'].isin(ptunitstayid_vte)]"
   ]
  },
  {
   "cell_type": "code",
   "execution_count": 20,
   "metadata": {
    "ExecuteTime": {
     "end_time": "2020-06-06T23:05:48.384194Z",
     "start_time": "2020-06-06T23:05:37.199101Z"
    }
   },
   "outputs": [],
   "source": [
    "if write_filtered03 == 1:\n",
    "    dir_write_filtered = '/Users/rachellehorwitz/Documents/ViTalErt/data/filtered03/'\n",
    "    ptunitstayid_vte_series.to_csv(dir_write_filtered + 'pos_ptunitstayid.csv', index=False)\n",
    "    patient.to_csv(dir_write_filtered + 'patient.csv', index=False)\n",
    "    diagnosis.to_csv(dir_write_filtered + 'diagnosis.csv', index=False)\n",
    "    admissiondx.to_csv(dir_write_filtered + 'admissiondx.csv', index=False)"
   ]
  },
  {
   "cell_type": "code",
   "execution_count": 21,
   "metadata": {
    "ExecuteTime": {
     "end_time": "2020-06-06T23:05:48.395431Z",
     "start_time": "2020-06-06T23:05:48.385532Z"
    }
   },
   "outputs": [
    {
     "data": {
      "text/plain": [
       "165899"
      ]
     },
     "execution_count": 21,
     "metadata": {},
     "output_type": "execute_result"
    }
   ],
   "source": [
    "patient['patientunitstayid'].unique().shape[0]"
   ]
  },
  {
   "cell_type": "code",
   "execution_count": 22,
   "metadata": {
    "ExecuteTime": {
     "end_time": "2020-06-06T23:05:48.401157Z",
     "start_time": "2020-06-06T23:05:48.397607Z"
    }
   },
   "outputs": [
    {
     "data": {
      "text/plain": [
       "182130"
      ]
     },
     "execution_count": 22,
     "metadata": {},
     "output_type": "execute_result"
    }
   ],
   "source": [
    "(184117 - 1987)"
   ]
  },
  {
   "cell_type": "markdown",
   "metadata": {
    "ExecuteTime": {
     "end_time": "2020-06-03T02:54:49.842373Z",
     "start_time": "2020-06-03T02:54:49.833352Z"
    }
   },
   "source": [
    "# Do NOT run code below this line"
   ]
  },
  {
   "cell_type": "code",
   "execution_count": null,
   "metadata": {
    "ExecuteTime": {
     "end_time": "2020-06-04T18:25:01.628118Z",
     "start_time": "2020-06-04T18:25:01.624389Z"
    }
   },
   "outputs": [],
   "source": [
    "print(ptunitstayid_vte_series)"
   ]
  },
  {
   "cell_type": "code",
   "execution_count": null,
   "metadata": {
    "ExecuteTime": {
     "end_time": "2020-06-04T18:25:31.168350Z",
     "start_time": "2020-06-04T18:25:31.159297Z"
    }
   },
   "outputs": [],
   "source": [
    "ptunitstayid_vte_series.columns"
   ]
  },
  {
   "cell_type": "code",
   "execution_count": null,
   "metadata": {},
   "outputs": [],
   "source": []
  },
  {
   "cell_type": "code",
   "execution_count": null,
   "metadata": {},
   "outputs": [],
   "source": []
  },
  {
   "cell_type": "code",
   "execution_count": null,
   "metadata": {
    "ExecuteTime": {
     "end_time": "2020-06-04T13:39:43.593740Z",
     "start_time": "2020-06-04T13:39:43.440540Z"
    }
   },
   "outputs": [],
   "source": [
    "diagnosis_vte_ever = diagnosis.loc[diagnosis['patientunitstayid'].isin(ptunitstayid_vte)]"
   ]
  },
  {
   "cell_type": "code",
   "execution_count": null,
   "metadata": {
    "ExecuteTime": {
     "end_time": "2020-06-04T13:39:51.705863Z",
     "start_time": "2020-06-04T13:39:51.689434Z"
    }
   },
   "outputs": [],
   "source": [
    "diagnosis_vte_ever.head(30)"
   ]
  },
  {
   "cell_type": "code",
   "execution_count": null,
   "metadata": {
    "ExecuteTime": {
     "end_time": "2020-06-04T13:46:54.719475Z",
     "start_time": "2020-06-04T13:46:54.713318Z"
    }
   },
   "outputs": [],
   "source": [
    "idx_VTE = idx_diagnosis_hasicd9_vte.union(idx_diagnosis_DVT_nullicd9)\n",
    "idx_VTE\n",
    "#diagnosis.iloc[idx_VTE]"
   ]
  },
  {
   "cell_type": "code",
   "execution_count": null,
   "metadata": {
    "ExecuteTime": {
     "end_time": "2020-06-04T13:47:19.632980Z",
     "start_time": "2020-06-04T13:47:19.629045Z"
    }
   },
   "outputs": [],
   "source": [
    "diagnosis.index.max"
   ]
  },
  {
   "cell_type": "code",
   "execution_count": null,
   "metadata": {
    "ExecuteTime": {
     "end_time": "2020-06-04T13:42:20.090944Z",
     "start_time": "2020-06-04T13:42:20.086973Z"
    }
   },
   "outputs": [],
   "source": [
    "idx_diagnosis_hasicd9_vte =  diagnosis_hasicd9_vte.index  \n",
    "idx_diagnosis_hasicd9_vte"
   ]
  },
  {
   "cell_type": "code",
   "execution_count": null,
   "metadata": {
    "ExecuteTime": {
     "end_time": "2020-06-04T13:25:06.762568Z",
     "start_time": "2020-06-04T13:25:06.760093Z"
    }
   },
   "outputs": [],
   "source": [
    "# diagnosis_vte_ever           = diagnosis[diagnosis['patientunitstayid'].isin(ptunitstayid_vte)]\n",
    "# diagnosis_no_vte             = diagnosis[~diagnosis['patientunitstayid'].isin(ptunitstayid_vte)]\n",
    "# patient_vte_ever             = patient[patient['patientunitstayid'].isin(ptunitstayid_vte)]\n",
    "# patient_no_vte_ever          = patient[~patient['patientunitstayid'].isin(ptunitstayid_vte)]\n",
    "# admissiondx_vte_ever         = diagnosis[diagnosis['patientunitstayid'].isin(ptunitstayid_vte)]\n",
    "# admissiondx_no_vte_ever      = diagnosis[~diagnosis['patientunitstayid'].isin(ptunitstayid_vte)]\n",
    "\n",
    "# diagnosis_vte_ever.to_csv(dir_data_write + 'diagnosis_vte_ever.csv', index=False)\n",
    "# diagnosis_no_vte.to_csv(dir_data_write + 'diagnosis_no_vte.csv', index=False)\n",
    "# patient_vte_ever.to_csv(dir_data_write + 'patient_vte_ever.csv', index=False)\n",
    "# patient_no_vte_ever.to_csv(dir_data_write + 'patient_no_vte_ever.csv', index=False)\n",
    "# admissiondx_vte_ever.to_csv(dir_data_write + 'admissiondx_vte_ever.csv', index=False)\n",
    "# admissiondx_no_vte_ever.to_csv(dir_data_write + 'admissiondx_no_vte_ever.csv', index=False)"
   ]
  },
  {
   "cell_type": "code",
   "execution_count": null,
   "metadata": {
    "ExecuteTime": {
     "end_time": "2020-06-04T13:31:47.827283Z",
     "start_time": "2020-06-04T13:31:47.688175Z"
    }
   },
   "outputs": [],
   "source": [
    "diagnosis_index_vte_ever = diagnosis.loc[diagnosis['patientunitstayid'].isin(ptunitstayid_vte)].index"
   ]
  },
  {
   "cell_type": "code",
   "execution_count": null,
   "metadata": {
    "ExecuteTime": {
     "end_time": "2020-06-04T13:32:20.289876Z",
     "start_time": "2020-06-04T13:32:20.285793Z"
    }
   },
   "outputs": [],
   "source": [
    "diagnosis_index_vte_ever"
   ]
  },
  {
   "cell_type": "code",
   "execution_count": null,
   "metadata": {
    "ExecuteTime": {
     "end_time": "2020-06-04T13:29:56.501969Z",
     "start_time": "2020-06-04T13:29:56.490636Z"
    }
   },
   "outputs": [],
   "source": [
    "diagnosis_vte_ever.head(10)"
   ]
  },
  {
   "cell_type": "code",
   "execution_count": null,
   "metadata": {
    "ExecuteTime": {
     "end_time": "2020-06-04T13:26:47.297300Z",
     "start_time": "2020-06-04T13:26:47.277953Z"
    }
   },
   "outputs": [],
   "source": [
    "# diagnosis_hasicd9_pos = diagnosis_hasicd9_vte[diagnosis_hasicd9_vte['diagnosisoffset'] > time_thresh]\n",
    "# print(str(diagnosis_hasicd9_pos['patientunitstayid'].unique().shape[0]) + ' unique patientunitstayids that' \\\n",
    "#      + ' meet inclusion/exclusion criteria for age, discharge, admitdx AND have ICD9 AND \\n' \\\n",
    "#       + ' VTE diagnosed AFTER ' + str(time_thresh) + ' min of ICU admit')\n",
    "\n",
    "\n",
    "remove_ptunitstayid_dxtooearly = diagnosis[diagnosis['diagnosisoffset'] <= time_thresh, 'patientunitstayid']\n",
    "print(str(remove_ptunitstayid_dxtooearly['patientunitstayid'].unique().shape[0]) + ' diagnosed with VTE at time < ' + str(time_thresh))"
   ]
  },
  {
   "cell_type": "code",
   "execution_count": null,
   "metadata": {
    "ExecuteTime": {
     "end_time": "2020-06-04T02:23:29.378458Z",
     "start_time": "2020-06-04T02:23:21.036Z"
    }
   },
   "outputs": [],
   "source": [
    "\n",
    "diagnosis_hasicd9_vte['diagnosisoffset_hrs'] = diagnosis_hasicd9_vte['diagnosisoffset']/60\n",
    "diagnosis_hasicd9_vte['diagnosisoffset_hrs'].hist(bins=100)\n",
    "plt.xlabel('Time in ICU (hrs)')\n",
    "plt.ylabel('Number of unique patientunitstayids')"
   ]
  },
  {
   "cell_type": "code",
   "execution_count": null,
   "metadata": {
    "ExecuteTime": {
     "end_time": "2020-06-04T02:23:29.376488Z",
     "start_time": "2020-06-04T02:23:21.026Z"
    }
   },
   "outputs": [],
   "source": [
    "277/(277+162997)"
   ]
  },
  {
   "cell_type": "code",
   "execution_count": null,
   "metadata": {
    "ExecuteTime": {
     "end_time": "2020-06-04T02:23:29.412992Z",
     "start_time": "2020-06-04T02:23:21.154Z"
    }
   },
   "outputs": [],
   "source": [
    "# # Re-write csv files, elimiating ptunitstayid_dvt_too_early\n",
    "# def eliminatePtsWithVTETooEarly(csvfiles, ptunitstayid_eliminate, dir_write, dir_read):\n",
    "#   import pandas as pd\n",
    "#   import os\n",
    "#   #csvfiles.remove(dir_data_raw + 'hospital.csv') # no patientunitstayid\n",
    "#   for csvfile in csvfiles:\n",
    "#       print('------')\n",
    "#       print('Working on ' + csvfile)\n",
    "#       data_in = pd.read_csv(csvfile)\n",
    "#       data_out = data_in[~data_in['patientunitstayid'].isin(ptunitstayid_dvt_too_early)]\n",
    "#       base = os.path.basename(csvfile)\n",
    "#       print(base)\n",
    "#       newFileNameWithPath = dir_write + base\n",
    "#       data_out.to_csv(newFileNameWithPath, index=False)\n",
    "#       print('Saved data to ' + newFileNameWithPath)\n",
    "#       print('------')\n",
    "\n",
    "# csvfiles = []\n",
    "# for file in glob.glob(dir_data_over18 + '*.csv'):\n",
    "#     csvfiles.append(file)\n",
    "# dir_write = '/Users/rachellehorwitz/Documents/ViTalErt/data/over18_no_vte_tooearly/'\n",
    "# eliminatePtsWithVTETooEarly(csvfiles, ptunitstayid_dvt_too_early, dir_write, dir_data_over18)"
   ]
  },
  {
   "cell_type": "code",
   "execution_count": null,
   "metadata": {},
   "outputs": [],
   "source": []
  },
  {
   "cell_type": "code",
   "execution_count": null,
   "metadata": {},
   "outputs": [],
   "source": []
  },
  {
   "cell_type": "code",
   "execution_count": null,
   "metadata": {},
   "outputs": [],
   "source": []
  },
  {
   "cell_type": "code",
   "execution_count": null,
   "metadata": {
    "ExecuteTime": {
     "end_time": "2020-06-04T02:23:29.379471Z",
     "start_time": "2020-06-04T02:23:21.039Z"
    }
   },
   "outputs": [],
   "source": [
    "diagnosis_nullicd9 = diagnosis[diagnosis['icd9code'].isnull()]\n",
    "diagnosis_DVT_nullicd9 = diagnosis_nullicd9[diagnosis_nullicd9['diagnosisstring'].str.contains('DVT')]\n",
    "u_ptunitstayid_DVT_nullicd9 = diagnosis_DVT_nullicd9['patientunitstayid'].unique()\n",
    "ptunitstaid_vte = np.union1d(u_ptunitstayid_diagnosis_hasicd9_vte, u_ptunitstayid_DVT_nullicd9)\n",
    "ptunitstaid_vte.shape[0]"
   ]
  },
  {
   "cell_type": "code",
   "execution_count": null,
   "metadata": {
    "ExecuteTime": {
     "end_time": "2020-06-03T17:53:55.919800Z",
     "start_time": "2020-06-03T17:53:55.913047Z"
    },
    "scrolled": true
   },
   "outputs": [],
   "source": []
  },
  {
   "cell_type": "code",
   "execution_count": null,
   "metadata": {
    "ExecuteTime": {
     "end_time": "2020-06-04T02:23:29.380394Z",
     "start_time": "2020-06-04T02:23:21.043Z"
    }
   },
   "outputs": [],
   "source": [
    "diagnosis_nullicd9[diagnosis_nullicd9['diagnosisstring'].str.contains('PE')]"
   ]
  },
  {
   "cell_type": "code",
   "execution_count": null,
   "metadata": {
    "ExecuteTime": {
     "end_time": "2020-06-04T02:23:29.381262Z",
     "start_time": "2020-06-04T02:23:21.045Z"
    }
   },
   "outputs": [],
   "source": [
    "diagnosis_nullicd9[(diagnosis_nullicd9['diagnosisstring'].str.contains('Thrombo', case=False)) & \\\n",
    "                  (~diagnosis_nullicd9['diagnosisstring'].str.contains('arter', case=False)) & \\\n",
    "                  (~diagnosis_nullicd9['diagnosisstring'].str.contains('therapy', case=False))& \\\n",
    "                  (~diagnosis_nullicd9['diagnosisstring'].str.contains('PTCA', case=False))& \\\n",
    "                  (~diagnosis_nullicd9['diagnosisstring'].str.contains('thrombolytics given within', case=False)) &\\\n",
    "                  (~diagnosis_nullicd9['diagnosisstring'].str.contains('suspected', case=False)) &\\\n",
    "                  (~diagnosis_nullicd9['diagnosisstring'].str.contains('antithrombotics', case=False))]"
   ]
  },
  {
   "cell_type": "code",
   "execution_count": null,
   "metadata": {
    "ExecuteTime": {
     "end_time": "2020-06-04T02:23:29.382314Z",
     "start_time": "2020-06-04T02:23:21.047Z"
    }
   },
   "outputs": [],
   "source": [
    "diagnosis_nullicd9[(diagnosis_nullicd9['diagnosisstring'].str.contains('DVT'))]"
   ]
  },
  {
   "cell_type": "code",
   "execution_count": null,
   "metadata": {
    "ExecuteTime": {
     "end_time": "2020-06-04T02:23:29.383277Z",
     "start_time": "2020-06-04T02:23:21.050Z"
    },
    "scrolled": true
   },
   "outputs": [],
   "source": [
    "diagnosis_nullicd9[(diagnosis_nullicd9['diagnosisstring'].str.contains('Thrombo', case=False)) & \\\n",
    "                  (~diagnosis_nullicd9['diagnosisstring'].str.contains('arter', case=False)) & \\\n",
    "                  (~diagnosis_nullicd9['diagnosisstring'].str.contains('therapy', case=False))& \\\n",
    "                  (~diagnosis_nullicd9['diagnosisstring'].str.contains('PTCA', case=False))& \\\n",
    "                  (~diagnosis_nullicd9['diagnosisstring'].str.contains('thrombolytics given within', case=False)) &\\\n",
    "                  (~diagnosis_nullicd9['diagnosisstring'].str.contains('suspected', case=False)) &\\\n",
    "                  (~diagnosis_nullicd9['diagnosisstring'].str.contains('antithrombotics', case=False))]"
   ]
  },
  {
   "cell_type": "code",
   "execution_count": null,
   "metadata": {
    "ExecuteTime": {
     "end_time": "2020-06-04T02:23:29.384210Z",
     "start_time": "2020-06-04T02:23:21.052Z"
    },
    "scrolled": true
   },
   "outputs": [],
   "source": [
    "d_ruledout = diagnosis_nullicd9[(diagnosis_nullicd9['diagnosisstring'].str.contains('Embol', case=False)) & \\\n",
    "                  (~diagnosis_nullicd9['diagnosisstring'].str.contains('suspected', case=False)) & \\\n",
    "                  (~diagnosis_nullicd9['diagnosisstring'].str.contains('arterial thromboembolism', case=False)) & \\\n",
    "                  (~diagnosis_nullicd9['diagnosisstring'].str.contains('r/o pulmonary embolism', case=False)) & \\\n",
    "                  (~diagnosis_nullicd9['diagnosisstring'].str.contains('s/p embolectomy', case=False)) ]"
   ]
  },
  {
   "cell_type": "code",
   "execution_count": null,
   "metadata": {
    "ExecuteTime": {
     "end_time": "2020-06-04T02:23:29.385138Z",
     "start_time": "2020-06-04T02:23:21.055Z"
    }
   },
   "outputs": [],
   "source": [
    "d_ruledout['diagnosisstring'].unique()"
   ]
  },
  {
   "cell_type": "code",
   "execution_count": null,
   "metadata": {
    "ExecuteTime": {
     "end_time": "2020-06-04T02:23:29.386125Z",
     "start_time": "2020-06-04T02:23:21.057Z"
    }
   },
   "outputs": [],
   "source": [
    "1302/162997"
   ]
  },
  {
   "cell_type": "code",
   "execution_count": null,
   "metadata": {
    "ExecuteTime": {
     "end_time": "2020-06-04T02:23:29.387065Z",
     "start_time": "2020-06-04T02:23:21.060Z"
    }
   },
   "outputs": [],
   "source": [
    "diagnosis_nullicd9 = diagnosis[diagnosis['icd9code'].isnull()]\n",
    "print(str(diagnosis_nullicd9['patientunitstayid'].unique().shape[0]) + \\\n",
    "      ' NULL ICD9 u patientunitstayids in diagnosis')"
   ]
  },
  {
   "cell_type": "code",
   "execution_count": null,
   "metadata": {},
   "outputs": [],
   "source": []
  },
  {
   "cell_type": "code",
   "execution_count": null,
   "metadata": {
    "ExecuteTime": {
     "end_time": "2020-06-04T02:23:29.387933Z",
     "start_time": "2020-06-04T02:23:21.065Z"
    }
   },
   "outputs": [],
   "source": [
    "diagnosis.shape[0]"
   ]
  },
  {
   "cell_type": "code",
   "execution_count": null,
   "metadata": {},
   "outputs": [],
   "source": []
  },
  {
   "cell_type": "code",
   "execution_count": null,
   "metadata": {},
   "outputs": [],
   "source": []
  },
  {
   "cell_type": "code",
   "execution_count": null,
   "metadata": {},
   "outputs": [],
   "source": []
  },
  {
   "cell_type": "code",
   "execution_count": null,
   "metadata": {},
   "outputs": [],
   "source": []
  },
  {
   "cell_type": "code",
   "execution_count": null,
   "metadata": {},
   "outputs": [],
   "source": []
  },
  {
   "cell_type": "code",
   "execution_count": null,
   "metadata": {},
   "outputs": [],
   "source": []
  },
  {
   "cell_type": "code",
   "execution_count": null,
   "metadata": {},
   "outputs": [],
   "source": []
  },
  {
   "cell_type": "code",
   "execution_count": null,
   "metadata": {},
   "outputs": [],
   "source": []
  },
  {
   "cell_type": "code",
   "execution_count": null,
   "metadata": {},
   "outputs": [],
   "source": []
  },
  {
   "cell_type": "code",
   "execution_count": null,
   "metadata": {},
   "outputs": [],
   "source": []
  },
  {
   "cell_type": "code",
   "execution_count": null,
   "metadata": {},
   "outputs": [],
   "source": []
  },
  {
   "cell_type": "code",
   "execution_count": null,
   "metadata": {},
   "outputs": [],
   "source": []
  },
  {
   "cell_type": "code",
   "execution_count": null,
   "metadata": {},
   "outputs": [],
   "source": []
  },
  {
   "cell_type": "code",
   "execution_count": null,
   "metadata": {
    "ExecuteTime": {
     "end_time": "2020-06-04T02:23:29.394149Z",
     "start_time": "2020-06-04T02:23:21.103Z"
    }
   },
   "outputs": [],
   "source": [
    "diagnosis_null = diagnosis[diagnosis['icd9code'].isnull()]\n",
    "print(str(diagnosis_null.shape[0]) + ' diagnosis rows with NULL icd9code')\n",
    "diagnosis_null.head()"
   ]
  },
  {
   "cell_type": "code",
   "execution_count": null,
   "metadata": {
    "ExecuteTime": {
     "end_time": "2020-06-04T02:23:29.395216Z",
     "start_time": "2020-06-04T02:23:21.105Z"
    }
   },
   "outputs": [],
   "source": [
    "diagnosis = pd.read_csv(dir_data_over18 + 'diagnosis.csv')\n",
    "\n",
    "# diabetes melitus --> 250.xx\n",
    "diagnosis.loc[(diagnosis.diagnosisstring.str.contains('diabetes')) & \\\n",
    "              (pd.isnull(diagnosis.icd9code)), 'icd9code']= '250.xx'\n",
    "\n",
    "# cardiomyopathy --> 425.xx\n",
    "diagnosis.loc[(diagnosis.diagnosisstring.str.contains('cardiomyopathy')) & \\\n",
    "              (pd.isnull(diagnosis.icd9code)), 'icd9code']= '425.xx'"
   ]
  },
  {
   "cell_type": "code",
   "execution_count": null,
   "metadata": {
    "ExecuteTime": {
     "end_time": "2020-06-04T02:23:29.400874Z",
     "start_time": "2020-06-04T02:23:21.122Z"
    }
   },
   "outputs": [],
   "source": [
    "diagnosis_notnull = diagnosis[~diagnosis['icd9code'].isnull()]\n",
    "diagnosis_null = diagnosis[diagnosis['icd9code'].isnull()]\n",
    "print(str(diagnosis_notnull.shape[0]) + ' diagnosis rows with icd9code')\n",
    "print(str(diagnosis_null.shape[0]) + ' diagnosis rows with NULL icd9code')"
   ]
  },
  {
   "cell_type": "code",
   "execution_count": null,
   "metadata": {
    "ExecuteTime": {
     "end_time": "2020-06-04T02:23:29.401750Z",
     "start_time": "2020-06-04T02:23:21.124Z"
    }
   },
   "outputs": [],
   "source": [
    "diagnosis_null[diagnosis_null['diagnosisstring'].str.contains('pulmonary embolism')]"
   ]
  },
  {
   "cell_type": "code",
   "execution_count": null,
   "metadata": {
    "ExecuteTime": {
     "end_time": "2020-06-04T02:23:29.402814Z",
     "start_time": "2020-06-04T02:23:21.127Z"
    }
   },
   "outputs": [],
   "source": [
    "from icd9codes import *\n",
    "icd9_vte = getVTEicd9codes()"
   ]
  },
  {
   "cell_type": "code",
   "execution_count": null,
   "metadata": {
    "ExecuteTime": {
     "end_time": "2020-06-04T02:23:29.403707Z",
     "start_time": "2020-06-04T02:23:21.129Z"
    },
    "scrolled": true
   },
   "outputs": [],
   "source": [
    "diagnosis_vte = pd.DataFrame()\n",
    "for code in icd9_vte:\n",
    "    print(str(code))\n",
    "    rows = diagnosis[diagnosis['icd9code'].str.contains(code)]\n",
    "    diagnosis_vte = pd.concat([rows, diagnosis_vte])\n",
    "    diagnosis_vte = diagnosis_vte.loc[~diagnosis_vte.index.duplicated(keep='first')]"
   ]
  },
  {
   "cell_type": "code",
   "execution_count": null,
   "metadata": {
    "ExecuteTime": {
     "end_time": "2020-06-04T02:23:29.404661Z",
     "start_time": "2020-06-04T02:23:21.132Z"
    }
   },
   "outputs": [],
   "source": [
    "diagnosis_vte.shape"
   ]
  },
  {
   "cell_type": "code",
   "execution_count": null,
   "metadata": {
    "ExecuteTime": {
     "end_time": "2020-06-04T02:23:29.405570Z",
     "start_time": "2020-06-04T02:23:21.134Z"
    }
   },
   "outputs": [],
   "source": [
    "diagnosis_vte.head(5)"
   ]
  },
  {
   "cell_type": "code",
   "execution_count": null,
   "metadata": {
    "ExecuteTime": {
     "end_time": "2020-06-04T02:23:29.406681Z",
     "start_time": "2020-06-04T02:23:21.137Z"
    }
   },
   "outputs": [],
   "source": [
    "%matplotlib notebook\n",
    "diagnosis_vte['diagnosisoffset'].hist(bins=500)"
   ]
  },
  {
   "cell_type": "code",
   "execution_count": null,
   "metadata": {
    "ExecuteTime": {
     "end_time": "2020-06-04T02:23:29.407570Z",
     "start_time": "2020-06-04T02:23:21.139Z"
    }
   },
   "outputs": [],
   "source": [
    "import numpy as np\n",
    "# Don't look at patients who are entering the ICU for PE/DVT, so threshold by time\n",
    "print('time_thresh is ' + str(time_thresh))\n",
    "vte_greaterThanTime = diagnosis_vte[diagnosis_vte['diagnosisoffset']>=time_thresh]\n",
    "vte_lessThanTime = diagnosis_vte[diagnosis_vte['diagnosisoffset']<time_thresh]\n",
    "print(str(vte_greaterThanTime.shape[0]) + ' visits are included for time_thresh=' + str(time_thresh))\n",
    "print(str(vte_lessThanTime.shape[0]) + ' visits are eliminated for time_thresh=' + str(time_thresh))\n",
    "\n",
    "# Look for duplicates in patientunitstayid in vte_greaterThanTime and vte_lessThanTime to see if some people were diagnosed more than once\n",
    "u_vte_greaterThanTime_patientunitstayid = vte_greaterThanTime['patientunitstayid'].unique()\n",
    "print(str(u_vte_greaterThanTime_patientunitstayid.shape[0]) + ' unique patientunitstayids in greaterThanTime')\n",
    "u_vte_lessThanTime_patientunitstayid = vte_lessThanTime['patientunitstayid'].unique()\n",
    "print(str(u_vte_lessThanTime_patientunitstayid.shape[0]) + ' unique patientunitstayids in lessThanTime')\n",
    "type(u_vte_lessThanTime_patientunitstayid)\n",
    "ptunitstayid_intersect = np.intersect1d(u_vte_greaterThanTime_patientunitstayid, u_vte_lessThanTime_patientunitstayid)\n",
    "print(str(ptunitstayid_intersect.shape[0]) + ' patientunitstayids in both')\n",
    "\n",
    "# # Eliminate patients who had VTE diagnosed shortly after they were admitted to the ICU\n",
    "# diagnosis_vte_eliminateLessThan = diagnosis_vte \\\n",
    "#                                 [~diagnosis_vte['patientunitstayid'].isin(u_vte_lessThanTime_patientunitstayid)]\n",
    "# diagnosis_vte_eliminateLessThan.head(10)"
   ]
  },
  {
   "cell_type": "code",
   "execution_count": null,
   "metadata": {
    "ExecuteTime": {
     "end_time": "2020-06-04T02:23:29.408563Z",
     "start_time": "2020-06-04T02:23:21.141Z"
    }
   },
   "outputs": [],
   "source": [
    "# Eliminate patientunitstayids who were diagnosed with DVT upon admission to ICU\n",
    "dvt_admissiondx = admissiondx[admissiondx['admitdxname'].str.contains('Thrombosis, vascular', case=False)]\n",
    "ptunitstayid_dvt_admission = dvt_admissiondx['patientunitstayid'].unique()\n",
    "print(str(ptunitstayid_dvt_admission.shape[0]) + ' patientunitstayids were diagnosed with \"Thrombosis, vascular\" upon admission')\n",
    "\n",
    "# Take union(patientunitstayids diagnosed with DVT upon admission to ICU ||\n",
    "#.           patientunitstayids diagnosed with DVT shortly after ICU admission (within time_thresh))\n",
    "ptunitstayid_dvt_too_early = np.union1d(u_vte_lessThanTime_patientunitstayid, ptunitstayid_dvt_admission)\n",
    "ptunitstayid_dvt_too_early.shape[0]\n",
    "print(str(ptunitstayid_dvt_too_early.shape[0]) + ' patientunitstayids had \"Thrombosis, vascular\" upon admission \\n and/or diagnosed with VTE within timeThresh')"
   ]
  },
  {
   "cell_type": "code",
   "execution_count": null,
   "metadata": {
    "ExecuteTime": {
     "end_time": "2020-06-04T02:23:29.409425Z",
     "start_time": "2020-06-04T02:23:21.144Z"
    },
    "scrolled": true
   },
   "outputs": [],
   "source": [
    "# Union of ptunitstayids to eliminate\n",
    "ptunitstayid_toEliminate = [list(ptunitstayid_diedWithinDeathThresh), list(ptunitstayid_dvt_admission), \\\n",
    "         list(ptunitstayid_dvt_too_early), list(ptunitstayid_nandischarge)] # ptunitstayid_intersect is already in ptunitstayid_dvt_tooearly\n",
    "ptunitstayid_toEliminate = list(set().union(*ptunitstayid_toEliminate))\n",
    "ptunitstayid_toEliminate = np.array(ptunitstayid_toEliminate)\n",
    "print(str(ptunitstayid_toEliminate.shape[0]) + ' patientunitstayids to eliminate')\n",
    "print('hello')"
   ]
  },
  {
   "cell_type": "code",
   "execution_count": null,
   "metadata": {
    "ExecuteTime": {
     "end_time": "2020-06-04T02:23:29.410352Z",
     "start_time": "2020-06-04T02:23:21.147Z"
    }
   },
   "outputs": [],
   "source": [
    "# I may have left some patients in who were admitted with pulmonary embolism. See how many there are\n",
    "admissiondx_clean1 = admissiondx[~admissiondx['patientunitstayid'].isin(ptunitstayid_toEliminate)]\n",
    "admissiondx_clean1.head()\n",
    "admissiondx_clean1['patientunitstayid'].unique().shape[0]\n",
    "admissiondx_clean1[admissiondx_clean1['admitdxpath'].str.contains('card', case=False)]\n"
   ]
  },
  {
   "cell_type": "markdown",
   "metadata": {},
   "source": [
    "After creating a list of patients to eliminate based on the following criteria:\n",
    "- < 19 years old\n",
    "- Died within 48 hours of admission to ICU\n",
    "- Diagnosed with \n",
    "- Fourth item"
   ]
  },
  {
   "cell_type": "code",
   "execution_count": null,
   "metadata": {
    "ExecuteTime": {
     "end_time": "2020-06-04T02:23:29.411218Z",
     "start_time": "2020-06-04T02:23:21.149Z"
    }
   },
   "outputs": [],
   "source": [
    "admissiondx_clean1.columns"
   ]
  },
  {
   "cell_type": "code",
   "execution_count": null,
   "metadata": {
    "ExecuteTime": {
     "end_time": "2020-06-04T02:23:29.412115Z",
     "start_time": "2020-06-04T02:23:21.152Z"
    }
   },
   "outputs": [],
   "source": [
    "admissiondx['patientunitstayid'].unique().shape[0]"
   ]
  }
 ],
 "metadata": {
  "kernelspec": {
   "display_name": "Python 3",
   "language": "python",
   "name": "python3"
  },
  "language_info": {
   "codemirror_mode": {
    "name": "ipython",
    "version": 3
   },
   "file_extension": ".py",
   "mimetype": "text/x-python",
   "name": "python",
   "nbconvert_exporter": "python",
   "pygments_lexer": "ipython3",
   "version": "3.7.7"
  },
  "toc": {
   "base_numbering": 1,
   "nav_menu": {},
   "number_sections": true,
   "sideBar": true,
   "skip_h1_title": false,
   "title_cell": "Table of Contents",
   "title_sidebar": "Contents",
   "toc_cell": false,
   "toc_position": {
    "height": "calc(100% - 180px)",
    "left": "10px",
    "top": "150px",
    "width": "165px"
   },
   "toc_section_display": true,
   "toc_window_display": true
  },
  "varInspector": {
   "cols": {
    "lenName": 16,
    "lenType": 16,
    "lenVar": 40
   },
   "kernels_config": {
    "python": {
     "delete_cmd_postfix": "",
     "delete_cmd_prefix": "del ",
     "library": "var_list.py",
     "varRefreshCmd": "print(var_dic_list())"
    },
    "r": {
     "delete_cmd_postfix": ") ",
     "delete_cmd_prefix": "rm(",
     "library": "var_list.r",
     "varRefreshCmd": "cat(var_dic_list()) "
    }
   },
   "position": {
    "height": "768px",
    "left": "624px",
    "right": "20px",
    "top": "118px",
    "width": "763px"
   },
   "types_to_exclude": [
    "module",
    "function",
    "builtin_function_or_method",
    "instance",
    "_Feature"
   ],
   "window_display": false
  }
 },
 "nbformat": 4,
 "nbformat_minor": 4
}
