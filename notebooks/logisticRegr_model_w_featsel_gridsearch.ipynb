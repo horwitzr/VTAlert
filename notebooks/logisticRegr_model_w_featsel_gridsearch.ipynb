{
 "cells": [
  {
   "cell_type": "code",
   "execution_count": 1,
   "metadata": {
    "ExecuteTime": {
     "end_time": "2020-06-27T19:23:15.236856Z",
     "start_time": "2020-06-27T19:23:15.220504Z"
    }
   },
   "outputs": [],
   "source": [
    "%load_ext autoreload\n",
    "%autoreload 2"
   ]
  },
  {
   "cell_type": "markdown",
   "metadata": {
    "ExecuteTime": {
     "end_time": "2020-06-04T23:26:49.428774Z",
     "start_time": "2020-06-04T23:26:49.426270Z"
    }
   },
   "source": [
    "# Settings, Directory Specs, and Imports"
   ]
  },
  {
   "cell_type": "code",
   "execution_count": 2,
   "metadata": {
    "ExecuteTime": {
     "end_time": "2020-06-27T19:23:16.502825Z",
     "start_time": "2020-06-27T19:23:15.238787Z"
    }
   },
   "outputs": [],
   "source": [
    "dir_read = '../data/preprocessed/' # contains csv file you're reading from. See README for the format\n",
    "filename_Xy = 'Xy_2020_06_20_2258.csv'\n",
    "from sklearn import metrics\n",
    "from sklearn.linear_model import LogisticRegression\n",
    "from sklearn.metrics import auc, confusion_matrix, plot_confusion_matrix, f1_score, roc_auc_score, roc_curve\n",
    "from sklearn.model_selection import GridSearchCV, learning_curve, train_test_split, ShuffleSplit, StratifiedKFold\n",
    "from sklearn.preprocessing import StandardScaler\n",
    "from sklearn.preprocessing import MinMaxScaler\n",
    "from sklearn.pipeline import make_pipeline\n",
    "from sklearn.utils import check_random_state\n",
    "import pandas as pd\n",
    "import numpy as np\n",
    "import seaborn as sns\n",
    "import matplotlib\n",
    "import matplotlib.pyplot as plt\n",
    "import streamlit as st\n",
    "import pickle\n",
    "from datetime import datetime\n",
    "from sklearn.model_selection._split import _BaseKFold\n",
    "from sklearn.model_selection._split import _RepeatedSplits\n",
    "from collections import defaultdict\n",
    "from collections import Counter\n",
    "import sys\n",
    "sys.path.insert(1, '../src')\n",
    "from utils import *\n",
    "\n",
    "matplotlib.rcParams.update({'font.size': 22})"
   ]
  },
  {
   "cell_type": "markdown",
   "metadata": {},
   "source": [
    "# Defining X and y, train/val and test"
   ]
  },
  {
   "cell_type": "code",
   "execution_count": 3,
   "metadata": {
    "ExecuteTime": {
     "end_time": "2020-06-27T19:23:17.104113Z",
     "start_time": "2020-06-27T19:23:16.504779Z"
    }
   },
   "outputs": [
    {
     "name": "stdout",
     "output_type": "stream",
     "text": [
      "There are 21 categorical features\n",
      "There are 9 continuous features\n"
     ]
    },
    {
     "data": {
      "text/html": [
       "<div>\n",
       "<style scoped>\n",
       "    .dataframe tbody tr th:only-of-type {\n",
       "        vertical-align: middle;\n",
       "    }\n",
       "\n",
       "    .dataframe tbody tr th {\n",
       "        vertical-align: top;\n",
       "    }\n",
       "\n",
       "    .dataframe thead th {\n",
       "        text-align: right;\n",
       "    }\n",
       "</style>\n",
       "<table border=\"1\" class=\"dataframe\">\n",
       "  <thead>\n",
       "    <tr style=\"text-align: right;\">\n",
       "      <th></th>\n",
       "      <th>age</th>\n",
       "      <th>admissionweight</th>\n",
       "      <th>admissionheight</th>\n",
       "      <th>bmi</th>\n",
       "      <th>verbal</th>\n",
       "      <th>motor</th>\n",
       "      <th>eyes</th>\n",
       "      <th>visitnumber</th>\n",
       "      <th>heartrate</th>\n",
       "      <th>gender_Female</th>\n",
       "      <th>...</th>\n",
       "      <th>metastaticcancer</th>\n",
       "      <th>leukemia</th>\n",
       "      <th>immunosuppression</th>\n",
       "      <th>cirrhosis</th>\n",
       "      <th>activetx</th>\n",
       "      <th>ima</th>\n",
       "      <th>midur</th>\n",
       "      <th>oobventday1</th>\n",
       "      <th>oobintubday1</th>\n",
       "      <th>diabetes</th>\n",
       "    </tr>\n",
       "    <tr>\n",
       "      <th>patientunitstayid</th>\n",
       "      <th></th>\n",
       "      <th></th>\n",
       "      <th></th>\n",
       "      <th></th>\n",
       "      <th></th>\n",
       "      <th></th>\n",
       "      <th></th>\n",
       "      <th></th>\n",
       "      <th></th>\n",
       "      <th></th>\n",
       "      <th></th>\n",
       "      <th></th>\n",
       "      <th></th>\n",
       "      <th></th>\n",
       "      <th></th>\n",
       "      <th></th>\n",
       "      <th></th>\n",
       "      <th></th>\n",
       "      <th></th>\n",
       "      <th></th>\n",
       "      <th></th>\n",
       "    </tr>\n",
       "  </thead>\n",
       "  <tbody>\n",
       "    <tr>\n",
       "      <th>141168</th>\n",
       "      <td>70</td>\n",
       "      <td>84.3</td>\n",
       "      <td>152.4</td>\n",
       "      <td>36.295906</td>\n",
       "      <td>5</td>\n",
       "      <td>6</td>\n",
       "      <td>4</td>\n",
       "      <td>1</td>\n",
       "      <td>125.052830</td>\n",
       "      <td>1</td>\n",
       "      <td>...</td>\n",
       "      <td>0</td>\n",
       "      <td>0</td>\n",
       "      <td>0</td>\n",
       "      <td>0</td>\n",
       "      <td>1</td>\n",
       "      <td>0</td>\n",
       "      <td>0</td>\n",
       "      <td>0</td>\n",
       "      <td>0</td>\n",
       "      <td>0</td>\n",
       "    </tr>\n",
       "    <tr>\n",
       "      <th>141194</th>\n",
       "      <td>68</td>\n",
       "      <td>73.9</td>\n",
       "      <td>180.3</td>\n",
       "      <td>22.732803</td>\n",
       "      <td>4</td>\n",
       "      <td>6</td>\n",
       "      <td>3</td>\n",
       "      <td>1</td>\n",
       "      <td>86.860627</td>\n",
       "      <td>0</td>\n",
       "      <td>...</td>\n",
       "      <td>0</td>\n",
       "      <td>0</td>\n",
       "      <td>0</td>\n",
       "      <td>0</td>\n",
       "      <td>0</td>\n",
       "      <td>0</td>\n",
       "      <td>0</td>\n",
       "      <td>0</td>\n",
       "      <td>0</td>\n",
       "      <td>1</td>\n",
       "    </tr>\n",
       "    <tr>\n",
       "      <th>141197</th>\n",
       "      <td>71</td>\n",
       "      <td>102.1</td>\n",
       "      <td>162.6</td>\n",
       "      <td>38.617545</td>\n",
       "      <td>5</td>\n",
       "      <td>6</td>\n",
       "      <td>4</td>\n",
       "      <td>1</td>\n",
       "      <td>97.307692</td>\n",
       "      <td>0</td>\n",
       "      <td>...</td>\n",
       "      <td>0</td>\n",
       "      <td>0</td>\n",
       "      <td>0</td>\n",
       "      <td>0</td>\n",
       "      <td>0</td>\n",
       "      <td>0</td>\n",
       "      <td>0</td>\n",
       "      <td>0</td>\n",
       "      <td>0</td>\n",
       "      <td>0</td>\n",
       "    </tr>\n",
       "    <tr>\n",
       "      <th>141203</th>\n",
       "      <td>77</td>\n",
       "      <td>70.2</td>\n",
       "      <td>160.0</td>\n",
       "      <td>27.421875</td>\n",
       "      <td>1</td>\n",
       "      <td>3</td>\n",
       "      <td>1</td>\n",
       "      <td>1</td>\n",
       "      <td>91.543554</td>\n",
       "      <td>1</td>\n",
       "      <td>...</td>\n",
       "      <td>0</td>\n",
       "      <td>0</td>\n",
       "      <td>0</td>\n",
       "      <td>0</td>\n",
       "      <td>1</td>\n",
       "      <td>0</td>\n",
       "      <td>0</td>\n",
       "      <td>1</td>\n",
       "      <td>0</td>\n",
       "      <td>1</td>\n",
       "    </tr>\n",
       "    <tr>\n",
       "      <th>141208</th>\n",
       "      <td>25</td>\n",
       "      <td>95.3</td>\n",
       "      <td>172.7</td>\n",
       "      <td>31.952749</td>\n",
       "      <td>5</td>\n",
       "      <td>6</td>\n",
       "      <td>3</td>\n",
       "      <td>1</td>\n",
       "      <td>77.817460</td>\n",
       "      <td>1</td>\n",
       "      <td>...</td>\n",
       "      <td>0</td>\n",
       "      <td>0</td>\n",
       "      <td>0</td>\n",
       "      <td>0</td>\n",
       "      <td>0</td>\n",
       "      <td>0</td>\n",
       "      <td>0</td>\n",
       "      <td>0</td>\n",
       "      <td>0</td>\n",
       "      <td>0</td>\n",
       "    </tr>\n",
       "  </tbody>\n",
       "</table>\n",
       "<p>5 rows × 30 columns</p>\n",
       "</div>"
      ],
      "text/plain": [
       "                   age  admissionweight  admissionheight        bmi  verbal  \\\n",
       "patientunitstayid                                                             \n",
       "141168              70             84.3            152.4  36.295906       5   \n",
       "141194              68             73.9            180.3  22.732803       4   \n",
       "141197              71            102.1            162.6  38.617545       5   \n",
       "141203              77             70.2            160.0  27.421875       1   \n",
       "141208              25             95.3            172.7  31.952749       5   \n",
       "\n",
       "                   motor  eyes  visitnumber   heartrate  gender_Female  ...  \\\n",
       "patientunitstayid                                                       ...   \n",
       "141168                 6     4            1  125.052830              1  ...   \n",
       "141194                 6     3            1   86.860627              0  ...   \n",
       "141197                 6     4            1   97.307692              0  ...   \n",
       "141203                 3     1            1   91.543554              1  ...   \n",
       "141208                 6     3            1   77.817460              1  ...   \n",
       "\n",
       "                   metastaticcancer  leukemia  immunosuppression  cirrhosis  \\\n",
       "patientunitstayid                                                             \n",
       "141168                            0         0                  0          0   \n",
       "141194                            0         0                  0          0   \n",
       "141197                            0         0                  0          0   \n",
       "141203                            0         0                  0          0   \n",
       "141208                            0         0                  0          0   \n",
       "\n",
       "                   activetx  ima  midur  oobventday1  oobintubday1  diabetes  \n",
       "patientunitstayid                                                             \n",
       "141168                    1    0      0            0             0         0  \n",
       "141194                    0    0      0            0             0         1  \n",
       "141197                    0    0      0            0             0         0  \n",
       "141203                    1    0      0            1             0         1  \n",
       "141208                    0    0      0            0             0         0  \n",
       "\n",
       "[5 rows x 30 columns]"
      ]
     },
     "execution_count": 3,
     "metadata": {},
     "output_type": "execute_result"
    }
   ],
   "source": [
    "X, y, Xy, groups, vars_categ, vars_cont = createXy(dir_read, filename_Xy)\n",
    "X.head()"
   ]
  },
  {
   "cell_type": "code",
   "execution_count": 4,
   "metadata": {
    "ExecuteTime": {
     "end_time": "2020-06-27T19:23:54.568423Z",
     "start_time": "2020-06-27T19:23:17.105641Z"
    }
   },
   "outputs": [
    {
     "name": "stdout",
     "output_type": "stream",
     "text": [
      "X_trainval has 116993 unique patientstayids\n",
      "X_test has 29249 unique patientstayids\n"
     ]
    }
   ],
   "source": [
    "# Split into 80/20 train&val/test using StratifiedGroupKFold()\n",
    "cv, X_trainval, y_trainval, X_test, y_test = train_test_split_StratifiedGroupKFold(X, y, groups, 5, 1)"
   ]
  },
  {
   "cell_type": "markdown",
   "metadata": {},
   "source": [
    "# Feature Selection"
   ]
  },
  {
   "cell_type": "code",
   "execution_count": 5,
   "metadata": {
    "ExecuteTime": {
     "end_time": "2020-06-27T19:24:47.243979Z",
     "start_time": "2020-06-27T19:23:54.570243Z"
    }
   },
   "outputs": [
    {
     "name": "stderr",
     "output_type": "stream",
     "text": [
      "/Users/rachellehorwitz/opt/anaconda3/envs/insight/lib/python3.7/site-packages/sklearn/linear_model/_logistic.py:940: ConvergenceWarning: lbfgs failed to converge (status=1):\n",
      "STOP: TOTAL NO. of ITERATIONS REACHED LIMIT.\n",
      "\n",
      "Increase the number of iterations (max_iter) or scale the data as shown in:\n",
      "    https://scikit-learn.org/stable/modules/preprocessing.html\n",
      "Please also refer to the documentation for alternative solver options:\n",
      "    https://scikit-learn.org/stable/modules/linear_model.html#logistic-regression\n",
      "  extra_warning_msg=_LOGISTIC_SOLVER_CONVERGENCE_MSG)\n",
      "/Users/rachellehorwitz/opt/anaconda3/envs/insight/lib/python3.7/site-packages/sklearn/linear_model/_logistic.py:940: ConvergenceWarning: lbfgs failed to converge (status=1):\n",
      "STOP: TOTAL NO. of ITERATIONS REACHED LIMIT.\n",
      "\n",
      "Increase the number of iterations (max_iter) or scale the data as shown in:\n",
      "    https://scikit-learn.org/stable/modules/preprocessing.html\n",
      "Please also refer to the documentation for alternative solver options:\n",
      "    https://scikit-learn.org/stable/modules/linear_model.html#logistic-regression\n",
      "  extra_warning_msg=_LOGISTIC_SOLVER_CONVERGENCE_MSG)\n",
      "/Users/rachellehorwitz/opt/anaconda3/envs/insight/lib/python3.7/site-packages/sklearn/linear_model/_logistic.py:940: ConvergenceWarning: lbfgs failed to converge (status=1):\n",
      "STOP: TOTAL NO. of ITERATIONS REACHED LIMIT.\n",
      "\n",
      "Increase the number of iterations (max_iter) or scale the data as shown in:\n",
      "    https://scikit-learn.org/stable/modules/preprocessing.html\n",
      "Please also refer to the documentation for alternative solver options:\n",
      "    https://scikit-learn.org/stable/modules/linear_model.html#logistic-regression\n",
      "  extra_warning_msg=_LOGISTIC_SOLVER_CONVERGENCE_MSG)\n",
      "/Users/rachellehorwitz/opt/anaconda3/envs/insight/lib/python3.7/site-packages/sklearn/linear_model/_logistic.py:940: ConvergenceWarning: lbfgs failed to converge (status=1):\n",
      "STOP: TOTAL NO. of ITERATIONS REACHED LIMIT.\n",
      "\n",
      "Increase the number of iterations (max_iter) or scale the data as shown in:\n",
      "    https://scikit-learn.org/stable/modules/preprocessing.html\n",
      "Please also refer to the documentation for alternative solver options:\n",
      "    https://scikit-learn.org/stable/modules/linear_model.html#logistic-regression\n",
      "  extra_warning_msg=_LOGISTIC_SOLVER_CONVERGENCE_MSG)\n",
      "/Users/rachellehorwitz/opt/anaconda3/envs/insight/lib/python3.7/site-packages/sklearn/linear_model/_logistic.py:940: ConvergenceWarning: lbfgs failed to converge (status=1):\n",
      "STOP: TOTAL NO. of ITERATIONS REACHED LIMIT.\n",
      "\n",
      "Increase the number of iterations (max_iter) or scale the data as shown in:\n",
      "    https://scikit-learn.org/stable/modules/preprocessing.html\n",
      "Please also refer to the documentation for alternative solver options:\n",
      "    https://scikit-learn.org/stable/modules/linear_model.html#logistic-regression\n",
      "  extra_warning_msg=_LOGISTIC_SOLVER_CONVERGENCE_MSG)\n",
      "/Users/rachellehorwitz/opt/anaconda3/envs/insight/lib/python3.7/site-packages/sklearn/linear_model/_logistic.py:940: ConvergenceWarning: lbfgs failed to converge (status=1):\n",
      "STOP: TOTAL NO. of ITERATIONS REACHED LIMIT.\n",
      "\n",
      "Increase the number of iterations (max_iter) or scale the data as shown in:\n",
      "    https://scikit-learn.org/stable/modules/preprocessing.html\n",
      "Please also refer to the documentation for alternative solver options:\n",
      "    https://scikit-learn.org/stable/modules/linear_model.html#logistic-regression\n",
      "  extra_warning_msg=_LOGISTIC_SOLVER_CONVERGENCE_MSG)\n",
      "/Users/rachellehorwitz/opt/anaconda3/envs/insight/lib/python3.7/site-packages/sklearn/linear_model/_logistic.py:940: ConvergenceWarning: lbfgs failed to converge (status=1):\n",
      "STOP: TOTAL NO. of ITERATIONS REACHED LIMIT.\n",
      "\n",
      "Increase the number of iterations (max_iter) or scale the data as shown in:\n",
      "    https://scikit-learn.org/stable/modules/preprocessing.html\n",
      "Please also refer to the documentation for alternative solver options:\n",
      "    https://scikit-learn.org/stable/modules/linear_model.html#logistic-regression\n",
      "  extra_warning_msg=_LOGISTIC_SOLVER_CONVERGENCE_MSG)\n",
      "/Users/rachellehorwitz/opt/anaconda3/envs/insight/lib/python3.7/site-packages/sklearn/linear_model/_logistic.py:940: ConvergenceWarning: lbfgs failed to converge (status=1):\n",
      "STOP: TOTAL NO. of ITERATIONS REACHED LIMIT.\n",
      "\n",
      "Increase the number of iterations (max_iter) or scale the data as shown in:\n",
      "    https://scikit-learn.org/stable/modules/preprocessing.html\n",
      "Please also refer to the documentation for alternative solver options:\n",
      "    https://scikit-learn.org/stable/modules/linear_model.html#logistic-regression\n",
      "  extra_warning_msg=_LOGISTIC_SOLVER_CONVERGENCE_MSG)\n",
      "/Users/rachellehorwitz/opt/anaconda3/envs/insight/lib/python3.7/site-packages/sklearn/linear_model/_logistic.py:940: ConvergenceWarning: lbfgs failed to converge (status=1):\n",
      "STOP: TOTAL NO. of ITERATIONS REACHED LIMIT.\n",
      "\n",
      "Increase the number of iterations (max_iter) or scale the data as shown in:\n",
      "    https://scikit-learn.org/stable/modules/preprocessing.html\n",
      "Please also refer to the documentation for alternative solver options:\n",
      "    https://scikit-learn.org/stable/modules/linear_model.html#logistic-regression\n",
      "  extra_warning_msg=_LOGISTIC_SOLVER_CONVERGENCE_MSG)\n",
      "/Users/rachellehorwitz/opt/anaconda3/envs/insight/lib/python3.7/site-packages/sklearn/linear_model/_logistic.py:940: ConvergenceWarning: lbfgs failed to converge (status=1):\n",
      "STOP: TOTAL NO. of ITERATIONS REACHED LIMIT.\n",
      "\n",
      "Increase the number of iterations (max_iter) or scale the data as shown in:\n",
      "    https://scikit-learn.org/stable/modules/preprocessing.html\n",
      "Please also refer to the documentation for alternative solver options:\n",
      "    https://scikit-learn.org/stable/modules/linear_model.html#logistic-regression\n",
      "  extra_warning_msg=_LOGISTIC_SOLVER_CONVERGENCE_MSG)\n",
      "/Users/rachellehorwitz/opt/anaconda3/envs/insight/lib/python3.7/site-packages/sklearn/linear_model/_logistic.py:940: ConvergenceWarning: lbfgs failed to converge (status=1):\n",
      "STOP: TOTAL NO. of ITERATIONS REACHED LIMIT.\n",
      "\n",
      "Increase the number of iterations (max_iter) or scale the data as shown in:\n",
      "    https://scikit-learn.org/stable/modules/preprocessing.html\n",
      "Please also refer to the documentation for alternative solver options:\n",
      "    https://scikit-learn.org/stable/modules/linear_model.html#logistic-regression\n",
      "  extra_warning_msg=_LOGISTIC_SOLVER_CONVERGENCE_MSG)\n",
      "/Users/rachellehorwitz/opt/anaconda3/envs/insight/lib/python3.7/site-packages/sklearn/linear_model/_logistic.py:940: ConvergenceWarning: lbfgs failed to converge (status=1):\n",
      "STOP: TOTAL NO. of ITERATIONS REACHED LIMIT.\n",
      "\n",
      "Increase the number of iterations (max_iter) or scale the data as shown in:\n",
      "    https://scikit-learn.org/stable/modules/preprocessing.html\n",
      "Please also refer to the documentation for alternative solver options:\n",
      "    https://scikit-learn.org/stable/modules/linear_model.html#logistic-regression\n",
      "  extra_warning_msg=_LOGISTIC_SOLVER_CONVERGENCE_MSG)\n",
      "/Users/rachellehorwitz/opt/anaconda3/envs/insight/lib/python3.7/site-packages/sklearn/linear_model/_logistic.py:940: ConvergenceWarning: lbfgs failed to converge (status=1):\n",
      "STOP: TOTAL NO. of ITERATIONS REACHED LIMIT.\n",
      "\n",
      "Increase the number of iterations (max_iter) or scale the data as shown in:\n",
      "    https://scikit-learn.org/stable/modules/preprocessing.html\n",
      "Please also refer to the documentation for alternative solver options:\n",
      "    https://scikit-learn.org/stable/modules/linear_model.html#logistic-regression\n",
      "  extra_warning_msg=_LOGISTIC_SOLVER_CONVERGENCE_MSG)\n",
      "/Users/rachellehorwitz/opt/anaconda3/envs/insight/lib/python3.7/site-packages/sklearn/linear_model/_logistic.py:940: ConvergenceWarning: lbfgs failed to converge (status=1):\n",
      "STOP: TOTAL NO. of ITERATIONS REACHED LIMIT.\n",
      "\n",
      "Increase the number of iterations (max_iter) or scale the data as shown in:\n",
      "    https://scikit-learn.org/stable/modules/preprocessing.html\n",
      "Please also refer to the documentation for alternative solver options:\n",
      "    https://scikit-learn.org/stable/modules/linear_model.html#logistic-regression\n",
      "  extra_warning_msg=_LOGISTIC_SOLVER_CONVERGENCE_MSG)\n"
     ]
    },
    {
     "name": "stdout",
     "output_type": "stream",
     "text": [
      "Optimal number of features : 8\n",
      "['age', 'admissionweight', 'visitnumber', 'heartrate', 'aids', 'ima', 'midur', 'oobintubday1']\n"
     ]
    }
   ],
   "source": [
    "from sklearn.feature_selection import RFECV\n",
    "\n",
    "# For logistic regression, scale the data\n",
    "scaler = MinMaxScaler()\n",
    "X_trainval_sc = np.concatenate([scaler.fit_transform(X_trainval[vars_cont]), \\\n",
    "                             X_trainval[vars_categ].to_numpy()], axis=1)\n",
    "X_test_sc = np.concatenate([scaler.transform(X_test[vars_cont]), \\\n",
    "                             X_test[vars_categ].to_numpy()], axis=1)\n",
    "\n",
    "# Create Logistic Regression classifier\n",
    "clf = LogisticRegression(class_weight='balanced')\n",
    "\n",
    "# Perform recursive feature elimination\n",
    "rfecv = RFECV(estimator=clf,\n",
    "              step=1,\n",
    "              cv=StratifiedKFold(n_splits=5),\n",
    "              n_jobs=4,\n",
    "              scoring='roc_auc')\n",
    "rfecv.fit(X_trainval_sc, y_trainval)\n",
    "print(\"Optimal number of features : %d\" % rfecv.n_features_)\n",
    "\n",
    "# Get the names of features to keep\n",
    "feature_names = X.columns\n",
    "feature_importance = list(zip(feature_names, rfecv.support_))\n",
    "new_features = []\n",
    "for key,value in enumerate(feature_importance):\n",
    "    if(value[1]) == True:\n",
    "        new_features.append(value[0])\n",
    "        \n",
    "print(new_features)"
   ]
  },
  {
   "cell_type": "code",
   "execution_count": 6,
   "metadata": {
    "ExecuteTime": {
     "end_time": "2020-06-27T19:24:47.280249Z",
     "start_time": "2020-06-27T19:24:47.245912Z"
    }
   },
   "outputs": [],
   "source": [
    "# Use only the important features\n",
    "X_trainval_imp = X_trainval_sc[:, rfecv.support_]\n",
    "X_test_imp = X_test_sc[:, rfecv.support_]"
   ]
  },
  {
   "cell_type": "markdown",
   "metadata": {},
   "source": [
    "# Hyperparameter Tuning"
   ]
  },
  {
   "cell_type": "code",
   "execution_count": 7,
   "metadata": {
    "ExecuteTime": {
     "end_time": "2020-06-27T19:25:02.684805Z",
     "start_time": "2020-06-27T19:24:47.284652Z"
    }
   },
   "outputs": [
    {
     "name": "stdout",
     "output_type": "stream",
     "text": [
      "The best parameters from grid search are:\n",
      "{'C': 0.01, 'fit_intercept': True, 'penalty': 'l2'}\n"
     ]
    }
   ],
   "source": [
    "from sklearn.metrics import roc_curve, precision_recall_curve, auc, make_scorer, recall_score, accuracy_score, precision_score, confusion_matrix\n",
    "\n",
    "# Create base classifier\n",
    "clf = LogisticRegression(class_weight='balanced')\n",
    "\n",
    "# StratifiedGroupKFold takes a long time, so for tuning hyperparameters, just use StratifiedKFold\n",
    "skf = StratifiedKFold(n_splits=10)\n",
    "\n",
    "# Create grid of hyperparameters\n",
    "hyperparam_grid = {'penalty': ['l1', 'l2'], \\\n",
    "                   'C': np.logspace(-6, 3, 10), \\\n",
    "                   #'C': [0.001, 0.01], \\\n",
    "                   'fit_intercept': [True, False]}\n",
    "\n",
    "# Perform grid search\n",
    "grid_search = GridSearchCV(clf,\n",
    "                           scoring='roc_auc',\n",
    "                           param_grid=hyperparam_grid,\n",
    "                           refit=True,\n",
    "                           cv=skf,\n",
    "                           return_train_score=True,\n",
    "                           n_jobs=-1)\n",
    "grid_search.fit(X_trainval_imp, y_trainval)\n",
    "\n",
    "print('The best parameters from grid search are:')\n",
    "print(grid_search.best_params_)"
   ]
  },
  {
   "cell_type": "code",
   "execution_count": 8,
   "metadata": {
    "ExecuteTime": {
     "end_time": "2020-06-27T19:25:02.926883Z",
     "start_time": "2020-06-27T19:25:02.688018Z"
    },
    "scrolled": true
   },
   "outputs": [
    {
     "name": "stdout",
     "output_type": "stream",
     "text": [
      "Test AUC is 0.7284276872726011\n",
      "Min. probability is 0.0407\n",
      "Mean probability is 0.4376\n",
      "Max. probability is 0.9043\n",
      "--------------\n",
      "Train AUC is 0.7244975269897372\n",
      "Min. probability is 0.0500\n",
      "Max. probability is 0.9173\n"
     ]
    }
   ],
   "source": [
    "# Create classifier with tuned hyperparameters\n",
    "clf_w_best_params = LogisticRegression(class_weight = 'balanced', \\\n",
    "                                       C = grid_search.best_params_['C'], \\\n",
    "                                       fit_intercept = grid_search.best_params_['fit_intercept'], \\\n",
    "                                       penalty = grid_search.best_params_['penalty'])\n",
    "clf_w_best_params.fit(X_trainval_imp,\n",
    "                      y_trainval)  # Fit classifier to train & validation data\n",
    "\n",
    "y_pred = clf_w_best_params.predict(\n",
    "    X_test_imp)  # binary classification of test data\n",
    "y_probs = clf_w_best_params.predict_proba(\n",
    "    X_test_imp)[:, 1]  # probabilities of test data\n",
    "\n",
    "y_probs_TRAIN = clf_w_best_params.predict_proba(\n",
    "    X_trainval_imp)[:, 1]  # probabilities of training data\n",
    "\n",
    "# Pickle model and scaler\n",
    "model_and_scaler = {'model': clf_w_best_params,\n",
    "                    'scaler': scaler, \\\n",
    "                    'feature_mask': rfecv.support_, \\\n",
    "                    'vars_cont': vars_cont,\n",
    "                    'vars_categ': vars_categ,\n",
    "                    'y_probs_TRAIN_mean': y_probs_TRAIN.mean()}\n",
    "pickle.dump(model_and_scaler, \\\n",
    "            open('../models/model_scaler_logRegr_featsel' + now_to_str() + '.pickle', 'wb'))\n",
    "\n",
    "# Print results\n",
    "print('Test AUC is ' + str(roc_auc_score(y_test, y_probs)))\n",
    "print('Min. probability is {:.4f}'.format(y_probs.min()))\n",
    "print('Mean probability is {:.4f}'.format(y_probs_TRAIN.mean()))\n",
    "print('Max. probability is {:.4f}'.format(y_probs.max()))\n",
    "print('--------------')\n",
    "print('Train AUC is ' + str(roc_auc_score(y_trainval, y_probs_TRAIN)))\n",
    "print('Min. probability is {:.4f}'.format(y_probs_TRAIN.min()))\n",
    "print('Max. probability is {:.4f}'.format(y_probs_TRAIN.max()))"
   ]
  },
  {
   "cell_type": "code",
   "execution_count": 9,
   "metadata": {
    "ExecuteTime": {
     "end_time": "2020-06-27T19:25:03.371774Z",
     "start_time": "2020-06-27T19:25:02.928759Z"
    },
    "scrolled": true
   },
   "outputs": [
    {
     "name": "stdout",
     "output_type": "stream",
     "text": [
      "Average probability of VTE is 0.437\n"
     ]
    }
   ],
   "source": [
    "%matplotlib qt\n",
    "\n",
    "# Plot \n",
    "plt.figure()\n",
    "plt.hist(y_probs, bins=20)\n",
    "plt.xlabel('Probability of VTE')\n",
    "plt.ylabel('Number of patient stays')\n",
    "plt.tight_layout()\n",
    "print('Average probability of VTE is {:.3f}'.format(y_probs.mean()))"
   ]
  },
  {
   "cell_type": "code",
   "execution_count": 10,
   "metadata": {
    "ExecuteTime": {
     "end_time": "2020-06-27T19:25:03.495388Z",
     "start_time": "2020-06-27T19:25:03.373322Z"
    }
   },
   "outputs": [
    {
     "name": "stdout",
     "output_type": "stream",
     "text": [
      "Logistic: ROC AUC=0.728\n"
     ]
    }
   ],
   "source": [
    "# Plot ROC curve\n",
    "# Code modified from https://machinelearningmastery.com/roc-curves-and-precision-recall-curves-for-imbalanced-classification/#:~:text=An%20ROC%20curve%20(or%20receiver,True%20Positive%20Rate%20(y).\n",
    "noskill_probs = [0 for _ in range(len(y_test))]\n",
    "ns_fpr, ns_tpr, _ = roc_curve(y_test, noskill_probs)\n",
    "lr_fpr, lr_tpr, threshold_array = roc_curve(\n",
    "    y_test,\n",
    "    clf_w_best_params.predict_proba(X_test_imp)[:, 1])\n",
    "\n",
    "y_pred_new = lr_tpr > 0\n",
    "\n",
    "logisticRegr_auc = roc_auc_score(y_test, y_probs)\n",
    "print('Logistic: ROC AUC=%.3f' % (logisticRegr_auc))\n",
    "\n",
    "plt.figure()\n",
    "# plot the roc curve for the model\n",
    "plt.plot(ns_fpr, ns_tpr, linestyle='--')\n",
    "plt.plot(lr_fpr, lr_tpr, marker='.', label='Logistic Regr.')\n",
    "# axis labels\n",
    "plt.xlabel('False Positive Rate')\n",
    "plt.ylabel('True Positive Rate')\n",
    "# # show the legend\n",
    "#plt.legend()\n",
    "plt.tight_layout()\n",
    "# # show the plot\n",
    "plt.show()\n",
    "plt.title('Logistic Regression: ROC AUC=%.3f' % (logisticRegr_auc))\n",
    "plt.tight_layout()"
   ]
  },
  {
   "cell_type": "code",
   "execution_count": 11,
   "metadata": {
    "ExecuteTime": {
     "end_time": "2020-06-27T19:25:03.525359Z",
     "start_time": "2020-06-27T19:25:03.497196Z"
    }
   },
   "outputs": [
    {
     "data": {
      "text/plain": [
       "array([0.44075921])"
      ]
     },
     "execution_count": 11,
     "metadata": {},
     "output_type": "execute_result"
    }
   ],
   "source": [
    "# Determine which threshold to use. After consulting with Sonam Dilwali, M.D., Ph.D.,\n",
    "# a reasonable threshold is TRP ~ 0.75, FPR ~0.4\n",
    "threshold_array[(lr_tpr>0.75) & (lr_fpr<0.39)]"
   ]
  },
  {
   "cell_type": "markdown",
   "metadata": {},
   "source": [
    "# Feature Weights"
   ]
  },
  {
   "cell_type": "code",
   "execution_count": 12,
   "metadata": {
    "ExecuteTime": {
     "end_time": "2020-06-27T19:25:03.560328Z",
     "start_time": "2020-06-27T19:25:03.527015Z"
    }
   },
   "outputs": [
    {
     "data": {
      "text/html": [
       "<div>\n",
       "<style scoped>\n",
       "    .dataframe tbody tr th:only-of-type {\n",
       "        vertical-align: middle;\n",
       "    }\n",
       "\n",
       "    .dataframe tbody tr th {\n",
       "        vertical-align: top;\n",
       "    }\n",
       "\n",
       "    .dataframe thead th {\n",
       "        text-align: right;\n",
       "    }\n",
       "</style>\n",
       "<table border=\"1\" class=\"dataframe\">\n",
       "  <thead>\n",
       "    <tr style=\"text-align: right;\">\n",
       "      <th></th>\n",
       "      <th>feature</th>\n",
       "      <th>coef</th>\n",
       "      <th>abs_weight</th>\n",
       "    </tr>\n",
       "  </thead>\n",
       "  <tbody>\n",
       "    <tr>\n",
       "      <th>0</th>\n",
       "      <td>age</td>\n",
       "      <td>0.525954</td>\n",
       "      <td>0.525954</td>\n",
       "    </tr>\n",
       "    <tr>\n",
       "      <th>1</th>\n",
       "      <td>admissionweight</td>\n",
       "      <td>1.508892</td>\n",
       "      <td>1.508892</td>\n",
       "    </tr>\n",
       "    <tr>\n",
       "      <th>2</th>\n",
       "      <td>visitnumber</td>\n",
       "      <td>1.177785</td>\n",
       "      <td>1.177785</td>\n",
       "    </tr>\n",
       "    <tr>\n",
       "      <th>3</th>\n",
       "      <td>heartrate</td>\n",
       "      <td>3.439470</td>\n",
       "      <td>3.439470</td>\n",
       "    </tr>\n",
       "    <tr>\n",
       "      <th>4</th>\n",
       "      <td>aids</td>\n",
       "      <td>-0.276730</td>\n",
       "      <td>0.276730</td>\n",
       "    </tr>\n",
       "  </tbody>\n",
       "</table>\n",
       "</div>"
      ],
      "text/plain": [
       "           feature      coef  abs_weight\n",
       "0              age  0.525954    0.525954\n",
       "1  admissionweight  1.508892    1.508892\n",
       "2      visitnumber  1.177785    1.177785\n",
       "3        heartrate  3.439470    3.439470\n",
       "4             aids -0.276730    0.276730"
      ]
     },
     "execution_count": 12,
     "metadata": {},
     "output_type": "execute_result"
    }
   ],
   "source": [
    "# Get feature weights and put into dataframe\n",
    "mydict = {'feature': new_features, 'coef': list(clf_w_best_params.coef_.reshape(-1,1).flatten())}\n",
    "features_weights = pd.DataFrame(mydict)\n",
    "features_weights = features_weights.assign(abs_weight=np.abs(features_weights['coef']))\n",
    "features_weights.head()"
   ]
  },
  {
   "cell_type": "code",
   "execution_count": 13,
   "metadata": {
    "ExecuteTime": {
     "end_time": "2020-06-27T19:25:03.595676Z",
     "start_time": "2020-06-27T19:25:03.562090Z"
    }
   },
   "outputs": [
    {
     "data": {
      "text/html": [
       "<div>\n",
       "<style scoped>\n",
       "    .dataframe tbody tr th:only-of-type {\n",
       "        vertical-align: middle;\n",
       "    }\n",
       "\n",
       "    .dataframe tbody tr th {\n",
       "        vertical-align: top;\n",
       "    }\n",
       "\n",
       "    .dataframe thead th {\n",
       "        text-align: right;\n",
       "    }\n",
       "</style>\n",
       "<table border=\"1\" class=\"dataframe\">\n",
       "  <thead>\n",
       "    <tr style=\"text-align: right;\">\n",
       "      <th></th>\n",
       "      <th>coef</th>\n",
       "    </tr>\n",
       "    <tr>\n",
       "      <th>feature</th>\n",
       "      <th></th>\n",
       "    </tr>\n",
       "  </thead>\n",
       "  <tbody>\n",
       "    <tr>\n",
       "      <th>Avg. HR\\nDuring\\nFirst 24\\n Hours</th>\n",
       "      <td>3.439470</td>\n",
       "    </tr>\n",
       "    <tr>\n",
       "      <th>Internal \\nMammary \\nArtery Graft</th>\n",
       "      <td>-1.509630</td>\n",
       "    </tr>\n",
       "    <tr>\n",
       "      <th>Admission\\nWeight</th>\n",
       "      <td>1.508892</td>\n",
       "    </tr>\n",
       "    <tr>\n",
       "      <th>Visit Number</th>\n",
       "      <td>1.177785</td>\n",
       "    </tr>\n",
       "    <tr>\n",
       "      <th>Intubated</th>\n",
       "      <td>1.170120</td>\n",
       "    </tr>\n",
       "    <tr>\n",
       "      <th>Heart Attack \\nwithin 6 Mths</th>\n",
       "      <td>-0.672236</td>\n",
       "    </tr>\n",
       "    <tr>\n",
       "      <th>Age</th>\n",
       "      <td>0.525954</td>\n",
       "    </tr>\n",
       "    <tr>\n",
       "      <th>AIDS</th>\n",
       "      <td>-0.276730</td>\n",
       "    </tr>\n",
       "  </tbody>\n",
       "</table>\n",
       "</div>"
      ],
      "text/plain": [
       "                                       coef\n",
       "feature                                    \n",
       "Avg. HR\\nDuring\\nFirst 24\\n Hours  3.439470\n",
       "Internal \\nMammary \\nArtery Graft -1.509630\n",
       "Admission\\nWeight                  1.508892\n",
       "Visit Number                       1.177785\n",
       "Intubated                          1.170120\n",
       "Heart Attack \\nwithin 6 Mths      -0.672236\n",
       "Age                                0.525954\n",
       "AIDS                              -0.276730"
      ]
     },
     "execution_count": 13,
     "metadata": {},
     "output_type": "execute_result"
    }
   ],
   "source": [
    "# Wrangle feature importances\n",
    "fw = features_weights.sort_values(by='abs_weight', ascending=False)\n",
    "fw = fw[['feature', 'coef']]\n",
    "fw = fw.set_index('feature')\n",
    "fw = fw.rename({'heartrate': 'Avg. HR\\nDuring\\nFirst 24\\n Hours', \\\n",
    "               'ima': 'Internal \\nMammary \\nArtery Graft', \\\n",
    "               'admissionweight': 'Admission\\nWeight', \\\n",
    "               'visitnumber': 'Visit Number', \\\n",
    "               'oobintubday1': 'Intubated', \\\n",
    "               'midur': 'Heart Attack \\nwithin 6 Mths', \\\n",
    "               'age': 'Age', \\\n",
    "               'aids': 'AIDS'})\n",
    "fw"
   ]
  },
  {
   "cell_type": "code",
   "execution_count": 14,
   "metadata": {
    "ExecuteTime": {
     "end_time": "2020-06-27T19:25:03.692139Z",
     "start_time": "2020-06-27T19:25:03.597479Z"
    },
    "scrolled": true
   },
   "outputs": [],
   "source": [
    "# Create plot of feature importances\n",
    "fig = plt.figure(figsize=(17.5, 5))\n",
    "matplotlib.rcParams.update({'font.size': 16})\n",
    "plt.bar(np.arange(0, fw.shape[0]), fw['coef'].values, tick_label=list(fw.index))\n",
    "plt.axhline(y=0, color='black')\n",
    "plt.xticks(rotation=0)\n",
    "plt.xlabel('')\n",
    "plt.ylabel('Coefficient')\n",
    "plt.tight_layout()"
   ]
  }
 ],
 "metadata": {
  "kernelspec": {
   "display_name": "Python 3",
   "language": "python",
   "name": "python3"
  },
  "language_info": {
   "codemirror_mode": {
    "name": "ipython",
    "version": 3
   },
   "file_extension": ".py",
   "mimetype": "text/x-python",
   "name": "python",
   "nbconvert_exporter": "python",
   "pygments_lexer": "ipython3",
   "version": "3.7.7"
  },
  "toc": {
   "base_numbering": 1,
   "nav_menu": {},
   "number_sections": true,
   "sideBar": true,
   "skip_h1_title": false,
   "title_cell": "Table of Contents",
   "title_sidebar": "Contents",
   "toc_cell": false,
   "toc_position": {
    "height": "calc(100% - 180px)",
    "left": "10px",
    "top": "150px",
    "width": "165px"
   },
   "toc_section_display": true,
   "toc_window_display": true
  },
  "varInspector": {
   "cols": {
    "lenName": 16,
    "lenType": 16,
    "lenVar": 40
   },
   "kernels_config": {
    "python": {
     "delete_cmd_postfix": "",
     "delete_cmd_prefix": "del ",
     "library": "var_list.py",
     "varRefreshCmd": "print(var_dic_list())"
    },
    "r": {
     "delete_cmd_postfix": ") ",
     "delete_cmd_prefix": "rm(",
     "library": "var_list.r",
     "varRefreshCmd": "cat(var_dic_list()) "
    }
   },
   "position": {
    "height": "567px",
    "left": "1336px",
    "right": "20px",
    "top": "191px",
    "width": "592px"
   },
   "types_to_exclude": [
    "module",
    "function",
    "builtin_function_or_method",
    "instance",
    "_Feature"
   ],
   "window_display": false
  }
 },
 "nbformat": 4,
 "nbformat_minor": 4
}
