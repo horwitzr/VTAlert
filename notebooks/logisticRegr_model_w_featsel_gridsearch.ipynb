{
 "cells": [
  {
   "cell_type": "code",
   "execution_count": 1,
   "metadata": {
    "ExecuteTime": {
     "end_time": "2020-06-19T10:07:32.222866Z",
     "start_time": "2020-06-19T10:07:32.205475Z"
    }
   },
   "outputs": [],
   "source": [
    "%load_ext autoreload\n",
    "%autoreload 2\n",
    "\n",
    "# import imp\n",
    "# import utils\n",
    "# imp.reload(utils)\n",
    "# import utils"
   ]
  },
  {
   "cell_type": "markdown",
   "metadata": {
    "ExecuteTime": {
     "end_time": "2020-06-04T23:26:49.428774Z",
     "start_time": "2020-06-04T23:26:49.426270Z"
    }
   },
   "source": [
    "# Settings, Directory Specs, and Imports"
   ]
  },
  {
   "cell_type": "code",
   "execution_count": 2,
   "metadata": {
    "ExecuteTime": {
     "end_time": "2020-06-19T10:07:33.914194Z",
     "start_time": "2020-06-19T10:07:32.224874Z"
    }
   },
   "outputs": [],
   "source": [
    "# 0 = no streamlit\n",
    "# 1 = test user inputs\n",
    "# 2 = run in streamlit\n",
    "streamlit_status = 0\n",
    "#file_name_pickle_read = 'model_2020_06_06_1105.pickle'\n",
    "do_plots = 1\n",
    "\n",
    "dir_read = '/Users/rachellehorwitz/Documents/ViTalErt/data/filtered05/'\n",
    "#dir_read = '/Users/rachellehorwitz/Documents/VTAlert/over18_eicu/'\n",
    "\n",
    "from sklearn import metrics\n",
    "from sklearn.linear_model import LogisticRegression\n",
    "from sklearn.metrics import auc, confusion_matrix, plot_confusion_matrix, f1_score, roc_auc_score, roc_curve\n",
    "from sklearn.model_selection import GridSearchCV, learning_curve, train_test_split, ShuffleSplit, StratifiedKFold\n",
    "from sklearn.preprocessing import StandardScaler\n",
    "from sklearn.preprocessing import MinMaxScaler\n",
    "from sklearn.pipeline import make_pipeline\n",
    "from sklearn.utils import check_random_state\n",
    "import pandas as pd\n",
    "import numpy as np\n",
    "import seaborn as sns\n",
    "import matplotlib\n",
    "import matplotlib.pyplot as plt\n",
    "import streamlit as st\n",
    "import pickle\n",
    "from datetime import datetime\n",
    "from sklearn.model_selection._split import _BaseKFold\n",
    "from sklearn.model_selection._split import _RepeatedSplits\n",
    "from collections import defaultdict\n",
    "from collections import Counter\n",
    "import sys\n",
    "sys.path.insert(1, '../src')\n",
    "from utils import *\n",
    "\n",
    "\n",
    "\n",
    "\n",
    "matplotlib.rcParams.update({'font.size': 22})"
   ]
  },
  {
   "cell_type": "markdown",
   "metadata": {},
   "source": [
    "# Defining X and y"
   ]
  },
  {
   "cell_type": "code",
   "execution_count": 3,
   "metadata": {
    "ExecuteTime": {
     "end_time": "2020-06-19T10:07:34.545882Z",
     "start_time": "2020-06-19T10:07:33.916481Z"
    }
   },
   "outputs": [
    {
     "name": "stdout",
     "output_type": "stream",
     "text": [
      "There are 21 categorical features\n",
      "There are 9 continuous features\n"
     ]
    },
    {
     "data": {
      "text/html": [
       "<div>\n",
       "<style scoped>\n",
       "    .dataframe tbody tr th:only-of-type {\n",
       "        vertical-align: middle;\n",
       "    }\n",
       "\n",
       "    .dataframe tbody tr th {\n",
       "        vertical-align: top;\n",
       "    }\n",
       "\n",
       "    .dataframe thead th {\n",
       "        text-align: right;\n",
       "    }\n",
       "</style>\n",
       "<table border=\"1\" class=\"dataframe\">\n",
       "  <thead>\n",
       "    <tr style=\"text-align: right;\">\n",
       "      <th></th>\n",
       "      <th>age</th>\n",
       "      <th>admissionweight</th>\n",
       "      <th>admissionheight</th>\n",
       "      <th>bmi</th>\n",
       "      <th>verbal</th>\n",
       "      <th>motor</th>\n",
       "      <th>eyes</th>\n",
       "      <th>visitnumber</th>\n",
       "      <th>heartrate</th>\n",
       "      <th>gender_Female</th>\n",
       "      <th>...</th>\n",
       "      <th>metastaticcancer</th>\n",
       "      <th>leukemia</th>\n",
       "      <th>immunosuppression</th>\n",
       "      <th>cirrhosis</th>\n",
       "      <th>activetx</th>\n",
       "      <th>ima</th>\n",
       "      <th>midur</th>\n",
       "      <th>oobventday1</th>\n",
       "      <th>oobintubday1</th>\n",
       "      <th>diabetes</th>\n",
       "    </tr>\n",
       "    <tr>\n",
       "      <th>patientunitstayid</th>\n",
       "      <th></th>\n",
       "      <th></th>\n",
       "      <th></th>\n",
       "      <th></th>\n",
       "      <th></th>\n",
       "      <th></th>\n",
       "      <th></th>\n",
       "      <th></th>\n",
       "      <th></th>\n",
       "      <th></th>\n",
       "      <th></th>\n",
       "      <th></th>\n",
       "      <th></th>\n",
       "      <th></th>\n",
       "      <th></th>\n",
       "      <th></th>\n",
       "      <th></th>\n",
       "      <th></th>\n",
       "      <th></th>\n",
       "      <th></th>\n",
       "      <th></th>\n",
       "    </tr>\n",
       "  </thead>\n",
       "  <tbody>\n",
       "    <tr>\n",
       "      <th>141168</th>\n",
       "      <td>70</td>\n",
       "      <td>84.3</td>\n",
       "      <td>152.4</td>\n",
       "      <td>36.295906</td>\n",
       "      <td>5</td>\n",
       "      <td>6</td>\n",
       "      <td>4</td>\n",
       "      <td>1</td>\n",
       "      <td>125.052830</td>\n",
       "      <td>1</td>\n",
       "      <td>...</td>\n",
       "      <td>0</td>\n",
       "      <td>0</td>\n",
       "      <td>0</td>\n",
       "      <td>0</td>\n",
       "      <td>1</td>\n",
       "      <td>0</td>\n",
       "      <td>0</td>\n",
       "      <td>0</td>\n",
       "      <td>0</td>\n",
       "      <td>0</td>\n",
       "    </tr>\n",
       "    <tr>\n",
       "      <th>141194</th>\n",
       "      <td>68</td>\n",
       "      <td>73.9</td>\n",
       "      <td>180.3</td>\n",
       "      <td>22.732803</td>\n",
       "      <td>4</td>\n",
       "      <td>6</td>\n",
       "      <td>3</td>\n",
       "      <td>1</td>\n",
       "      <td>86.860627</td>\n",
       "      <td>0</td>\n",
       "      <td>...</td>\n",
       "      <td>0</td>\n",
       "      <td>0</td>\n",
       "      <td>0</td>\n",
       "      <td>0</td>\n",
       "      <td>0</td>\n",
       "      <td>0</td>\n",
       "      <td>0</td>\n",
       "      <td>0</td>\n",
       "      <td>0</td>\n",
       "      <td>1</td>\n",
       "    </tr>\n",
       "    <tr>\n",
       "      <th>141197</th>\n",
       "      <td>71</td>\n",
       "      <td>102.1</td>\n",
       "      <td>162.6</td>\n",
       "      <td>38.617545</td>\n",
       "      <td>5</td>\n",
       "      <td>6</td>\n",
       "      <td>4</td>\n",
       "      <td>1</td>\n",
       "      <td>97.307692</td>\n",
       "      <td>0</td>\n",
       "      <td>...</td>\n",
       "      <td>0</td>\n",
       "      <td>0</td>\n",
       "      <td>0</td>\n",
       "      <td>0</td>\n",
       "      <td>0</td>\n",
       "      <td>0</td>\n",
       "      <td>0</td>\n",
       "      <td>0</td>\n",
       "      <td>0</td>\n",
       "      <td>0</td>\n",
       "    </tr>\n",
       "    <tr>\n",
       "      <th>141203</th>\n",
       "      <td>77</td>\n",
       "      <td>70.2</td>\n",
       "      <td>160.0</td>\n",
       "      <td>27.421875</td>\n",
       "      <td>1</td>\n",
       "      <td>3</td>\n",
       "      <td>1</td>\n",
       "      <td>1</td>\n",
       "      <td>91.543554</td>\n",
       "      <td>1</td>\n",
       "      <td>...</td>\n",
       "      <td>0</td>\n",
       "      <td>0</td>\n",
       "      <td>0</td>\n",
       "      <td>0</td>\n",
       "      <td>1</td>\n",
       "      <td>0</td>\n",
       "      <td>0</td>\n",
       "      <td>1</td>\n",
       "      <td>0</td>\n",
       "      <td>1</td>\n",
       "    </tr>\n",
       "    <tr>\n",
       "      <th>141208</th>\n",
       "      <td>25</td>\n",
       "      <td>95.3</td>\n",
       "      <td>172.7</td>\n",
       "      <td>31.952749</td>\n",
       "      <td>5</td>\n",
       "      <td>6</td>\n",
       "      <td>3</td>\n",
       "      <td>1</td>\n",
       "      <td>77.817460</td>\n",
       "      <td>1</td>\n",
       "      <td>...</td>\n",
       "      <td>0</td>\n",
       "      <td>0</td>\n",
       "      <td>0</td>\n",
       "      <td>0</td>\n",
       "      <td>0</td>\n",
       "      <td>0</td>\n",
       "      <td>0</td>\n",
       "      <td>0</td>\n",
       "      <td>0</td>\n",
       "      <td>0</td>\n",
       "    </tr>\n",
       "  </tbody>\n",
       "</table>\n",
       "<p>5 rows × 30 columns</p>\n",
       "</div>"
      ],
      "text/plain": [
       "                   age  admissionweight  admissionheight        bmi  verbal  \\\n",
       "patientunitstayid                                                             \n",
       "141168              70             84.3            152.4  36.295906       5   \n",
       "141194              68             73.9            180.3  22.732803       4   \n",
       "141197              71            102.1            162.6  38.617545       5   \n",
       "141203              77             70.2            160.0  27.421875       1   \n",
       "141208              25             95.3            172.7  31.952749       5   \n",
       "\n",
       "                   motor  eyes  visitnumber   heartrate  gender_Female  ...  \\\n",
       "patientunitstayid                                                       ...   \n",
       "141168                 6     4            1  125.052830              1  ...   \n",
       "141194                 6     3            1   86.860627              0  ...   \n",
       "141197                 6     4            1   97.307692              0  ...   \n",
       "141203                 3     1            1   91.543554              1  ...   \n",
       "141208                 6     3            1   77.817460              1  ...   \n",
       "\n",
       "                   metastaticcancer  leukemia  immunosuppression  cirrhosis  \\\n",
       "patientunitstayid                                                             \n",
       "141168                            0         0                  0          0   \n",
       "141194                            0         0                  0          0   \n",
       "141197                            0         0                  0          0   \n",
       "141203                            0         0                  0          0   \n",
       "141208                            0         0                  0          0   \n",
       "\n",
       "                   activetx  ima  midur  oobventday1  oobintubday1  diabetes  \n",
       "patientunitstayid                                                             \n",
       "141168                    1    0      0            0             0         0  \n",
       "141194                    0    0      0            0             0         1  \n",
       "141197                    0    0      0            0             0         0  \n",
       "141203                    1    0      0            1             0         1  \n",
       "141208                    0    0      0            0             0         0  \n",
       "\n",
       "[5 rows x 30 columns]"
      ]
     },
     "execution_count": 3,
     "metadata": {},
     "output_type": "execute_result"
    }
   ],
   "source": [
    "Xy = pd.read_csv(dir_read + 'Xy_2020_06_15_1449.csv')\n",
    "Xy = Xy.set_index('patientunitstayid')\n",
    "y = Xy.pop('label')\n",
    "X = Xy.copy()\n",
    "groups = Xy['uniquepid'].astype('category').cat.codes # each uniquepid is now a unique number\n",
    "X = X.drop(columns='uniquepid', axis=1) # remove uniquepid as a feature because it's a group\n",
    "\n",
    "vars_categ = ['gender_Female', 'ethnicity_African American', 'ethnicity_Asian', 'ethnicity_Caucasian', \\\n",
    "             'ethnicity_Hispanic', 'ethnicity_Native American', 'ethnicity_Other/Unknown',\\\n",
    "             'thrombolytics', 'aids', 'hepaticfailure', 'lymphoma', 'metastaticcancer', 'leukemia', \\\n",
    "             'immunosuppression', 'cirrhosis', 'activetx', 'ima', 'midur',\n",
    "             'oobventday1', 'oobintubday1', 'diabetes']\n",
    "vars_cont = ['age', 'admissionweight', 'admissionheight', 'bmi', \\\n",
    "             'verbal', 'motor', 'eyes', 'visitnumber', 'heartrate']\n",
    "print('There are ' + str(len(vars_categ)) + ' categorical features')\n",
    "print('There are ' + str(len(vars_cont)) + ' continuous features')\n",
    "X = pd.concat([X[vars_cont], X[vars_categ]], axis=1)\n",
    "X.head()"
   ]
  },
  {
   "cell_type": "markdown",
   "metadata": {
    "ExecuteTime": {
     "end_time": "2020-06-15T23:19:08.742118Z",
     "start_time": "2020-06-15T23:19:08.703758Z"
    }
   },
   "source": [
    "## Split into X_trainval, y_trainval, X_test, y_test using StratifiedGroupKFold()"
   ]
  },
  {
   "cell_type": "code",
   "execution_count": 4,
   "metadata": {
    "ExecuteTime": {
     "end_time": "2020-06-19T10:08:10.976920Z",
     "start_time": "2020-06-19T10:07:34.547346Z"
    }
   },
   "outputs": [],
   "source": [
    "# Split into 80/20 train&val/test using StratifiedGroupKFold(). Since \n",
    "cv = StratifiedGroupKFold(n_splits = 5, shuffle=True, random_state=1)\n",
    "trainval_idx, test_idx = next(cv.split(X, y, groups))\n",
    "X_trainval = X.iloc[trainval_idx]\n",
    "y_trainval = y.iloc[trainval_idx]\n",
    "X_test = X.iloc[test_idx]\n",
    "y_test = y.iloc[test_idx]"
   ]
  },
  {
   "cell_type": "code",
   "execution_count": 5,
   "metadata": {
    "ExecuteTime": {
     "end_time": "2020-06-19T10:08:11.007629Z",
     "start_time": "2020-06-19T10:08:10.978607Z"
    }
   },
   "outputs": [
    {
     "data": {
      "text/plain": [
       "(117006, 30)"
      ]
     },
     "execution_count": 5,
     "metadata": {},
     "output_type": "execute_result"
    }
   ],
   "source": [
    "X_trainval.shape"
   ]
  },
  {
   "cell_type": "code",
   "execution_count": 6,
   "metadata": {
    "ExecuteTime": {
     "end_time": "2020-06-19T10:08:11.036302Z",
     "start_time": "2020-06-19T10:08:11.009019Z"
    }
   },
   "outputs": [
    {
     "data": {
      "text/plain": [
       "(29253, 30)"
      ]
     },
     "execution_count": 6,
     "metadata": {},
     "output_type": "execute_result"
    }
   ],
   "source": [
    "X_test.shape"
   ]
  },
  {
   "cell_type": "markdown",
   "metadata": {},
   "source": [
    "# Feature Selection"
   ]
  },
  {
   "cell_type": "code",
   "execution_count": 7,
   "metadata": {
    "ExecuteTime": {
     "end_time": "2020-06-19T10:08:58.143214Z",
     "start_time": "2020-06-19T10:08:11.039736Z"
    }
   },
   "outputs": [
    {
     "name": "stderr",
     "output_type": "stream",
     "text": [
      "/Users/rachellehorwitz/opt/anaconda3/envs/insight/lib/python3.7/site-packages/sklearn/linear_model/_logistic.py:940: ConvergenceWarning: lbfgs failed to converge (status=1):\n",
      "STOP: TOTAL NO. of ITERATIONS REACHED LIMIT.\n",
      "\n",
      "Increase the number of iterations (max_iter) or scale the data as shown in:\n",
      "    https://scikit-learn.org/stable/modules/preprocessing.html\n",
      "Please also refer to the documentation for alternative solver options:\n",
      "    https://scikit-learn.org/stable/modules/linear_model.html#logistic-regression\n",
      "  extra_warning_msg=_LOGISTIC_SOLVER_CONVERGENCE_MSG)\n",
      "/Users/rachellehorwitz/opt/anaconda3/envs/insight/lib/python3.7/site-packages/sklearn/linear_model/_logistic.py:940: ConvergenceWarning: lbfgs failed to converge (status=1):\n",
      "STOP: TOTAL NO. of ITERATIONS REACHED LIMIT.\n",
      "\n",
      "Increase the number of iterations (max_iter) or scale the data as shown in:\n",
      "    https://scikit-learn.org/stable/modules/preprocessing.html\n",
      "Please also refer to the documentation for alternative solver options:\n",
      "    https://scikit-learn.org/stable/modules/linear_model.html#logistic-regression\n",
      "  extra_warning_msg=_LOGISTIC_SOLVER_CONVERGENCE_MSG)\n",
      "/Users/rachellehorwitz/opt/anaconda3/envs/insight/lib/python3.7/site-packages/sklearn/linear_model/_logistic.py:940: ConvergenceWarning: lbfgs failed to converge (status=1):\n",
      "STOP: TOTAL NO. of ITERATIONS REACHED LIMIT.\n",
      "\n",
      "Increase the number of iterations (max_iter) or scale the data as shown in:\n",
      "    https://scikit-learn.org/stable/modules/preprocessing.html\n",
      "Please also refer to the documentation for alternative solver options:\n",
      "    https://scikit-learn.org/stable/modules/linear_model.html#logistic-regression\n",
      "  extra_warning_msg=_LOGISTIC_SOLVER_CONVERGENCE_MSG)\n",
      "/Users/rachellehorwitz/opt/anaconda3/envs/insight/lib/python3.7/site-packages/sklearn/linear_model/_logistic.py:940: ConvergenceWarning: lbfgs failed to converge (status=1):\n",
      "STOP: TOTAL NO. of ITERATIONS REACHED LIMIT.\n",
      "\n",
      "Increase the number of iterations (max_iter) or scale the data as shown in:\n",
      "    https://scikit-learn.org/stable/modules/preprocessing.html\n",
      "Please also refer to the documentation for alternative solver options:\n",
      "    https://scikit-learn.org/stable/modules/linear_model.html#logistic-regression\n",
      "  extra_warning_msg=_LOGISTIC_SOLVER_CONVERGENCE_MSG)\n",
      "/Users/rachellehorwitz/opt/anaconda3/envs/insight/lib/python3.7/site-packages/sklearn/linear_model/_logistic.py:940: ConvergenceWarning: lbfgs failed to converge (status=1):\n",
      "STOP: TOTAL NO. of ITERATIONS REACHED LIMIT.\n",
      "\n",
      "Increase the number of iterations (max_iter) or scale the data as shown in:\n",
      "    https://scikit-learn.org/stable/modules/preprocessing.html\n",
      "Please also refer to the documentation for alternative solver options:\n",
      "    https://scikit-learn.org/stable/modules/linear_model.html#logistic-regression\n",
      "  extra_warning_msg=_LOGISTIC_SOLVER_CONVERGENCE_MSG)\n",
      "/Users/rachellehorwitz/opt/anaconda3/envs/insight/lib/python3.7/site-packages/sklearn/linear_model/_logistic.py:940: ConvergenceWarning: lbfgs failed to converge (status=1):\n",
      "STOP: TOTAL NO. of ITERATIONS REACHED LIMIT.\n",
      "\n",
      "Increase the number of iterations (max_iter) or scale the data as shown in:\n",
      "    https://scikit-learn.org/stable/modules/preprocessing.html\n",
      "Please also refer to the documentation for alternative solver options:\n",
      "    https://scikit-learn.org/stable/modules/linear_model.html#logistic-regression\n",
      "  extra_warning_msg=_LOGISTIC_SOLVER_CONVERGENCE_MSG)\n",
      "/Users/rachellehorwitz/opt/anaconda3/envs/insight/lib/python3.7/site-packages/sklearn/linear_model/_logistic.py:940: ConvergenceWarning: lbfgs failed to converge (status=1):\n",
      "STOP: TOTAL NO. of ITERATIONS REACHED LIMIT.\n",
      "\n",
      "Increase the number of iterations (max_iter) or scale the data as shown in:\n",
      "    https://scikit-learn.org/stable/modules/preprocessing.html\n",
      "Please also refer to the documentation for alternative solver options:\n",
      "    https://scikit-learn.org/stable/modules/linear_model.html#logistic-regression\n",
      "  extra_warning_msg=_LOGISTIC_SOLVER_CONVERGENCE_MSG)\n",
      "/Users/rachellehorwitz/opt/anaconda3/envs/insight/lib/python3.7/site-packages/sklearn/linear_model/_logistic.py:940: ConvergenceWarning: lbfgs failed to converge (status=1):\n",
      "STOP: TOTAL NO. of ITERATIONS REACHED LIMIT.\n",
      "\n",
      "Increase the number of iterations (max_iter) or scale the data as shown in:\n",
      "    https://scikit-learn.org/stable/modules/preprocessing.html\n",
      "Please also refer to the documentation for alternative solver options:\n",
      "    https://scikit-learn.org/stable/modules/linear_model.html#logistic-regression\n",
      "  extra_warning_msg=_LOGISTIC_SOLVER_CONVERGENCE_MSG)\n"
     ]
    },
    {
     "name": "stdout",
     "output_type": "stream",
     "text": [
      "Optimal number of features : 8\n",
      "[ True  True False False False False False  True  True False False False\n",
      " False False False False False  True False False False False False False\n",
      " False  True  True False  True False]\n",
      "[ 1  1  3 16 12 20 18  1  1 21  5  9 15 19 10  8  2  1 11 22  7 13 14 23\n",
      "  4  1  1 17  1  6]\n"
     ]
    }
   ],
   "source": [
    "from sklearn.feature_selection import RFECV\n",
    "\n",
    "# For logistic regression, scale the data\n",
    "scaler = MinMaxScaler()\n",
    "X_trainval_sc = np.concatenate([scaler.fit_transform(X_trainval[vars_cont]), \\\n",
    "                             X_trainval[vars_categ].to_numpy()], axis=1)\n",
    "X_test_sc = np.concatenate([scaler.transform(X_test[vars_cont]), \\\n",
    "                             X_test[vars_categ].to_numpy()], axis=1)\n",
    "\n",
    "# Create Logistic Regression classifier\n",
    "clf = LogisticRegression(class_weight='balanced')\n",
    "\n",
    "# Perform feature elimination\n",
    "rfecv = RFECV(estimator=clf, step=1, cv=StratifiedKFold(n_splits=5), n_jobs=4, scoring='roc_auc')\n",
    "rfecv.fit(X_trainval_sc, y_trainval)\n",
    "print(\"Optimal number of features : %d\" % rfecv.n_features_)\n",
    "print(rfecv.support_)\n",
    "print(rfecv.ranking_)"
   ]
  },
  {
   "cell_type": "code",
   "execution_count": 8,
   "metadata": {
    "ExecuteTime": {
     "end_time": "2020-06-19T10:08:58.179498Z",
     "start_time": "2020-06-19T10:08:58.146463Z"
    },
    "scrolled": true
   },
   "outputs": [
    {
     "name": "stdout",
     "output_type": "stream",
     "text": [
      "['age', 'admissionweight', 'visitnumber', 'heartrate', 'aids', 'ima', 'midur', 'oobintubday1']\n"
     ]
    }
   ],
   "source": [
    "feature_names = X.columns\n",
    "feature_importance = list(zip(feature_names, rfecv.support_))\n",
    "new_features = []\n",
    "for key,value in enumerate(feature_importance):\n",
    "    if(value[1]) == True:\n",
    "        new_features.append(value[0])\n",
    "        \n",
    "print(new_features)"
   ]
  },
  {
   "cell_type": "code",
   "execution_count": 9,
   "metadata": {
    "ExecuteTime": {
     "end_time": "2020-06-19T10:08:58.212080Z",
     "start_time": "2020-06-19T10:08:58.181268Z"
    }
   },
   "outputs": [],
   "source": [
    "X_trainval_imp = X_trainval_sc[:,rfecv.support_]\n",
    "X_test_imp     = X_test_sc[:,rfecv.support_]"
   ]
  },
  {
   "cell_type": "code",
   "execution_count": 10,
   "metadata": {
    "ExecuteTime": {
     "end_time": "2020-06-19T10:08:58.244902Z",
     "start_time": "2020-06-19T10:08:58.214262Z"
    }
   },
   "outputs": [
    {
     "data": {
      "text/plain": [
       "array([ True,  True, False, False, False, False, False,  True,  True,\n",
       "       False, False, False, False, False, False, False, False,  True,\n",
       "       False, False, False, False, False, False, False,  True,  True,\n",
       "       False,  True, False])"
      ]
     },
     "execution_count": 10,
     "metadata": {},
     "output_type": "execute_result"
    }
   ],
   "source": [
    "rfecv.support_"
   ]
  },
  {
   "cell_type": "markdown",
   "metadata": {},
   "source": [
    "# Hyperparameter Tuning"
   ]
  },
  {
   "cell_type": "code",
   "execution_count": 11,
   "metadata": {
    "ExecuteTime": {
     "end_time": "2020-06-19T10:09:13.278354Z",
     "start_time": "2020-06-19T10:08:58.246889Z"
    }
   },
   "outputs": [
    {
     "name": "stdout",
     "output_type": "stream",
     "text": [
      "{'C': 0.01, 'fit_intercept': True, 'penalty': 'l2'}\n"
     ]
    }
   ],
   "source": [
    "from sklearn.metrics import roc_curve, precision_recall_curve, auc, make_scorer, recall_score, accuracy_score, precision_score, confusion_matrix\n",
    "\n",
    "# Create base classifier\n",
    "clf = LogisticRegression(class_weight='balanced')\n",
    "\n",
    "# StratifiedGroupKFold takes a long time, so for tuning hyperparameters, just use StratifiedKFold    \n",
    "skf = StratifiedKFold(n_splits=10) \n",
    "    \n",
    "# Create grid of hyperparameters\n",
    "hyperparam_grid = {'penalty': ['l1', 'l2'], \\\n",
    "                   'C': np.logspace(-6, 3, 10), \\\n",
    "                   #'C': [0.001, 0.01], \\\n",
    "                   'fit_intercept': [True, False]}\n",
    "\n",
    "# Perform grid search\n",
    "grid_search = GridSearchCV(clf, scoring='roc_auc', param_grid=hyperparam_grid, refit=True,\n",
    "                       cv=skf, return_train_score=True, n_jobs=-1)\n",
    "grid_search.fit(X_trainval_imp, y_trainval)\n",
    "\n",
    "print(grid_search.best_params_)\n",
    "\n",
    "#grid_search_clf_rocauc = grid_search_wrapper(clf, X_train_sc, y_train, 'roc_auc')"
   ]
  },
  {
   "cell_type": "code",
   "execution_count": 12,
   "metadata": {
    "ExecuteTime": {
     "end_time": "2020-06-19T10:09:13.552311Z",
     "start_time": "2020-06-19T10:09:13.280318Z"
    }
   },
   "outputs": [
    {
     "name": "stdout",
     "output_type": "stream",
     "text": [
      "Test AUC is 0.7089215907198213\n",
      "Min. probability is 0.0451\n",
      "Mean probability is 0.4325\n",
      "Max. probability is 0.9043\n",
      "--------------\n",
      "Train AUC is 0.7301254403914428\n",
      "Min. probability is 0.0348\n",
      "Max. probability is 0.9108\n"
     ]
    }
   ],
   "source": [
    "#C=0.01, fit_intercept=True, penalty='l2'\n",
    "#C=0.0001, fit_intercept=False, penalty='l2'\n",
    "clf_w_best_params = LogisticRegression(class_weight = 'balanced', \\\n",
    "                                       C=0.01, fit_intercept=True, penalty='l2')\n",
    "clf_w_best_params.fit(X_trainval_imp, y_trainval)\n",
    "\n",
    "\n",
    "\n",
    "y_pred = clf_w_best_params.predict(X_test_imp)\n",
    "y_probs = clf_w_best_params.predict_proba(X_test_imp)[:,1]\n",
    "\n",
    "y_probs_TRAIN = clf_w_best_params.predict_proba(X_trainval_imp)[:,1]\n",
    "\n",
    "\n",
    "\n",
    "model_and_scaler = {'model': clf_w_best_params, \n",
    "                    'scaler': scaler, \\\n",
    "                    'feature_mask': rfecv.support_, \\\n",
    "                    'vars_cont': vars_cont, \n",
    "                    'vars_categ': vars_categ, \n",
    "                    'y_probs_TRAIN_mean': y_probs_TRAIN.mean()}\n",
    "pickle.dump(model_and_scaler, \\\n",
    "            open('../models/model_scaler_logRegr_featsel' + now_to_str() + '.pickle', 'wb'))\n",
    "\n",
    "print('Test AUC is ' + str(roc_auc_score(y_test,y_probs)))\n",
    "print('Min. probability is {:.4f}'.format(y_probs.min()))\n",
    "print('Mean probability is {:.4f}'.format(y_probs_TRAIN.mean()))\n",
    "print('Max. probability is {:.4f}'.format(y_probs.max()))\n",
    "print('--------------')\n",
    "print('Train AUC is ' + str(roc_auc_score(y_trainval ,y_probs_TRAIN)))\n",
    "print('Min. probability is {:.4f}'.format(y_probs_TRAIN.min()))\n",
    "print('Max. probability is {:.4f}'.format(y_probs_TRAIN.max()))"
   ]
  },
  {
   "cell_type": "code",
   "execution_count": null,
   "metadata": {},
   "outputs": [],
   "source": []
  },
  {
   "cell_type": "code",
   "execution_count": 13,
   "metadata": {
    "ExecuteTime": {
     "end_time": "2020-06-19T10:09:13.708061Z",
     "start_time": "2020-06-19T10:09:13.554207Z"
    },
    "scrolled": true
   },
   "outputs": [
    {
     "data": {
      "text/plain": [
       "(array([  21.,   56.,   68.,  321., 1442., 3579., 4953., 4642., 3460.,\n",
       "        2159., 1268.,  780.,  848., 1166., 1562., 1438.,  887.,  455.,\n",
       "         129.,   19.]),\n",
       " array([0.04513346, 0.08809402, 0.13105457, 0.17401512, 0.21697568,\n",
       "        0.25993623, 0.30289678, 0.34585734, 0.38881789, 0.43177844,\n",
       "        0.474739  , 0.51769955, 0.5606601 , 0.60362065, 0.64658121,\n",
       "        0.68954176, 0.73250231, 0.77546287, 0.81842342, 0.86138397,\n",
       "        0.90434453]),\n",
       " <a list of 20 Patch objects>)"
      ]
     },
     "execution_count": 13,
     "metadata": {},
     "output_type": "execute_result"
    },
    {
     "data": {
      "image/png": "[encoded data removed]",
      "text/plain": [
       "<Figure size 432x288 with 1 Axes>"
      ]
     },
     "metadata": {
      "needs_background": "light"
     },
     "output_type": "display_data"
    }
   ],
   "source": [
    "plt.hist(y_probs, bins=20)"
   ]
  },
  {
   "cell_type": "code",
   "execution_count": 14,
   "metadata": {
    "ExecuteTime": {
     "end_time": "2020-06-19T10:09:13.739690Z",
     "start_time": "2020-06-19T10:09:13.710408Z"
    }
   },
   "outputs": [
    {
     "data": {
      "text/plain": [
       "0.43202006286716405"
      ]
     },
     "execution_count": 14,
     "metadata": {},
     "output_type": "execute_result"
    }
   ],
   "source": [
    "y_probs.mean()"
   ]
  },
  {
   "cell_type": "code",
   "execution_count": 15,
   "metadata": {
    "ExecuteTime": {
     "end_time": "2020-06-19T10:09:14.291273Z",
     "start_time": "2020-06-19T10:09:13.741106Z"
    }
   },
   "outputs": [
    {
     "name": "stdout",
     "output_type": "stream",
     "text": [
      "Logistic: ROC AUC=0.709\n"
     ]
    }
   ],
   "source": [
    "%matplotlib qt\n",
    "\n",
    "\n",
    "noskill_probs = [0 for _ in range(len(y_test))]\n",
    "ns_fpr, ns_tpr, _ = roc_curve(y_test, noskill_probs)\n",
    "lr_fpr, lr_tpr, threshold_array = roc_curve(y_test, clf_w_best_params.predict_proba(X_test_imp)[:,1])\n",
    "\n",
    "y_pred_new = lr_tpr>0\n",
    "\n",
    "logisticRegr_auc = roc_auc_score(y_test, y_probs)\n",
    "print('Logistic: ROC AUC=%.3f' % (logisticRegr_auc))\n",
    "\n",
    "plt.figure()\n",
    "# plot the roc curve for the model\n",
    "plt.plot(ns_fpr, ns_tpr, linestyle='--')\n",
    "plt.plot(lr_fpr, lr_tpr, marker='.', label='Logistic Regr.')\n",
    "# axis labels\n",
    "plt.xlabel('False Positive Rate')\n",
    "plt.ylabel('True Positive Rate')\n",
    "# # show the legend\n",
    "plt.legend()\n",
    "plt.tight_layout()\n",
    "# # show the plot\n",
    "plt.show()\n",
    "plt.title('Logistic: ROC AUC=%.3f' % (logisticRegr_auc))\n",
    "plt.tight_layout()"
   ]
  },
  {
   "cell_type": "code",
   "execution_count": 16,
   "metadata": {
    "ExecuteTime": {
     "end_time": "2020-06-19T10:09:14.322491Z",
     "start_time": "2020-06-19T10:09:14.292637Z"
    }
   },
   "outputs": [
    {
     "data": {
      "text/plain": [
       "array([0.38370095, 0.38071453, 0.38071288])"
      ]
     },
     "execution_count": 16,
     "metadata": {},
     "output_type": "execute_result"
    }
   ],
   "source": [
    "# Determine which threshold to use. After consulting with Sonam Dilwali, M.D., Ph.D.,\n",
    "# a reasonable threshold is TRP = 0.8, FPR = 0.52\n",
    "threshold_array[(lr_tpr>0.81) & (lr_fpr<0.52)]"
   ]
  },
  {
   "cell_type": "markdown",
   "metadata": {},
   "source": [
    "# Feature Weights"
   ]
  },
  {
   "cell_type": "code",
   "execution_count": 17,
   "metadata": {
    "ExecuteTime": {
     "end_time": "2020-06-19T10:09:14.358732Z",
     "start_time": "2020-06-19T10:09:14.323931Z"
    }
   },
   "outputs": [
    {
     "data": {
      "text/html": [
       "<div>\n",
       "<style scoped>\n",
       "    .dataframe tbody tr th:only-of-type {\n",
       "        vertical-align: middle;\n",
       "    }\n",
       "\n",
       "    .dataframe tbody tr th {\n",
       "        vertical-align: top;\n",
       "    }\n",
       "\n",
       "    .dataframe thead th {\n",
       "        text-align: right;\n",
       "    }\n",
       "</style>\n",
       "<table border=\"1\" class=\"dataframe\">\n",
       "  <thead>\n",
       "    <tr style=\"text-align: right;\">\n",
       "      <th></th>\n",
       "      <th>feature</th>\n",
       "      <th>coef</th>\n",
       "      <th>abs_weight</th>\n",
       "    </tr>\n",
       "  </thead>\n",
       "  <tbody>\n",
       "    <tr>\n",
       "      <th>0</th>\n",
       "      <td>age</td>\n",
       "      <td>0.613966</td>\n",
       "      <td>0.613966</td>\n",
       "    </tr>\n",
       "    <tr>\n",
       "      <th>1</th>\n",
       "      <td>admissionweight</td>\n",
       "      <td>1.605844</td>\n",
       "      <td>1.605844</td>\n",
       "    </tr>\n",
       "    <tr>\n",
       "      <th>2</th>\n",
       "      <td>visitnumber</td>\n",
       "      <td>1.034758</td>\n",
       "      <td>1.034758</td>\n",
       "    </tr>\n",
       "    <tr>\n",
       "      <th>3</th>\n",
       "      <td>heartrate</td>\n",
       "      <td>3.117676</td>\n",
       "      <td>3.117676</td>\n",
       "    </tr>\n",
       "    <tr>\n",
       "      <th>4</th>\n",
       "      <td>aids</td>\n",
       "      <td>-0.272629</td>\n",
       "      <td>0.272629</td>\n",
       "    </tr>\n",
       "  </tbody>\n",
       "</table>\n",
       "</div>"
      ],
      "text/plain": [
       "           feature      coef  abs_weight\n",
       "0              age  0.613966    0.613966\n",
       "1  admissionweight  1.605844    1.605844\n",
       "2      visitnumber  1.034758    1.034758\n",
       "3        heartrate  3.117676    3.117676\n",
       "4             aids -0.272629    0.272629"
      ]
     },
     "execution_count": 17,
     "metadata": {},
     "output_type": "execute_result"
    }
   ],
   "source": [
    "# Get feature weights and put into dataframe\n",
    "mydict = {'feature': new_features, 'coef': list(clf_w_best_params.coef_.reshape(-1,1).flatten())}\n",
    "features_weights = pd.DataFrame(mydict)\n",
    "features_weights = features_weights.assign(abs_weight=np.abs(features_weights['coef']))\n",
    "features_weights.head()"
   ]
  },
  {
   "cell_type": "code",
   "execution_count": 18,
   "metadata": {
    "ExecuteTime": {
     "end_time": "2020-06-19T10:09:14.388865Z",
     "start_time": "2020-06-19T10:09:14.360280Z"
    }
   },
   "outputs": [],
   "source": [
    "fw = features_weights.sort_values(by='abs_weight', ascending=False)"
   ]
  },
  {
   "cell_type": "code",
   "execution_count": 19,
   "metadata": {
    "ExecuteTime": {
     "end_time": "2020-06-19T10:09:14.422293Z",
     "start_time": "2020-06-19T10:09:14.390387Z"
    }
   },
   "outputs": [
    {
     "data": {
      "text/html": [
       "<div>\n",
       "<style scoped>\n",
       "    .dataframe tbody tr th:only-of-type {\n",
       "        vertical-align: middle;\n",
       "    }\n",
       "\n",
       "    .dataframe tbody tr th {\n",
       "        vertical-align: top;\n",
       "    }\n",
       "\n",
       "    .dataframe thead th {\n",
       "        text-align: right;\n",
       "    }\n",
       "</style>\n",
       "<table border=\"1\" class=\"dataframe\">\n",
       "  <thead>\n",
       "    <tr style=\"text-align: right;\">\n",
       "      <th></th>\n",
       "      <th>feature</th>\n",
       "      <th>coef</th>\n",
       "      <th>abs_weight</th>\n",
       "    </tr>\n",
       "  </thead>\n",
       "  <tbody>\n",
       "    <tr>\n",
       "      <th>3</th>\n",
       "      <td>heartrate</td>\n",
       "      <td>3.117676</td>\n",
       "      <td>3.117676</td>\n",
       "    </tr>\n",
       "    <tr>\n",
       "      <th>5</th>\n",
       "      <td>ima</td>\n",
       "      <td>-1.695062</td>\n",
       "      <td>1.695062</td>\n",
       "    </tr>\n",
       "    <tr>\n",
       "      <th>1</th>\n",
       "      <td>admissionweight</td>\n",
       "      <td>1.605844</td>\n",
       "      <td>1.605844</td>\n",
       "    </tr>\n",
       "    <tr>\n",
       "      <th>7</th>\n",
       "      <td>oobintubday1</td>\n",
       "      <td>1.260701</td>\n",
       "      <td>1.260701</td>\n",
       "    </tr>\n",
       "    <tr>\n",
       "      <th>2</th>\n",
       "      <td>visitnumber</td>\n",
       "      <td>1.034758</td>\n",
       "      <td>1.034758</td>\n",
       "    </tr>\n",
       "  </tbody>\n",
       "</table>\n",
       "</div>"
      ],
      "text/plain": [
       "           feature      coef  abs_weight\n",
       "3        heartrate  3.117676    3.117676\n",
       "5              ima -1.695062    1.695062\n",
       "1  admissionweight  1.605844    1.605844\n",
       "7     oobintubday1  1.260701    1.260701\n",
       "2      visitnumber  1.034758    1.034758"
      ]
     },
     "execution_count": 19,
     "metadata": {},
     "output_type": "execute_result"
    }
   ],
   "source": [
    "fw5 = fw.iloc[0:5]\n",
    "fw5"
   ]
  }
 ],
 "metadata": {
  "kernelspec": {
   "display_name": "Python 3",
   "language": "python",
   "name": "python3"
  },
  "language_info": {
   "codemirror_mode": {
    "name": "ipython",
    "version": 3
   },
   "file_extension": ".py",
   "mimetype": "text/x-python",
   "name": "python",
   "nbconvert_exporter": "python",
   "pygments_lexer": "ipython3",
   "version": "3.7.7"
  },
  "toc": {
   "base_numbering": 1,
   "nav_menu": {},
   "number_sections": true,
   "sideBar": true,
   "skip_h1_title": false,
   "title_cell": "Table of Contents",
   "title_sidebar": "Contents",
   "toc_cell": false,
   "toc_position": {
    "height": "calc(100% - 180px)",
    "left": "10px",
    "top": "150px",
    "width": "165px"
   },
   "toc_section_display": true,
   "toc_window_display": true
  },
  "varInspector": {
   "cols": {
    "lenName": 16,
    "lenType": 16,
    "lenVar": 40
   },
   "kernels_config": {
    "python": {
     "delete_cmd_postfix": "",
     "delete_cmd_prefix": "del ",
     "library": "var_list.py",
     "varRefreshCmd": "print(var_dic_list())"
    },
    "r": {
     "delete_cmd_postfix": ") ",
     "delete_cmd_prefix": "rm(",
     "library": "var_list.r",
     "varRefreshCmd": "cat(var_dic_list()) "
    }
   },
   "position": {
    "height": "567px",
    "left": "1336px",
    "right": "20px",
    "top": "191px",
    "width": "592px"
   },
   "types_to_exclude": [
    "module",
    "function",
    "builtin_function_or_method",
    "instance",
    "_Feature"
   ],
   "window_display": false
  }
 },
 "nbformat": 4,
 "nbformat_minor": 4
}
