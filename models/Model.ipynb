{
 "cells": [
  {
   "cell_type": "code",
   "execution_count": null,
   "metadata": {
    "ExecuteTime": {
     "end_time": "2020-06-04T03:33:57.166823Z",
     "start_time": "2020-06-04T03:33:57.164362Z"
    }
   },
   "outputs": [],
   "source": [
    "dir_read = '/Users/rachellehorwitz/Documents/VTAlert/data/filtered01/'\n",
    "dir_read = '/Users/rachellehorwitz/Documents/VTAlert/over18_eicu/'"
   ]
  },
  {
   "cell_type": "code",
   "execution_count": null,
   "metadata": {
    "ExecuteTime": {
     "end_time": "2020-06-04T03:33:58.054609Z",
     "start_time": "2020-06-04T03:33:57.168839Z"
    }
   },
   "outputs": [],
   "source": [
    "from sklearn.linear_model import LogisticRegression\n",
    "from sklearn.model_selection import train_test_split\n",
    "import pandas as pd\n",
    "import numpy as np\n",
    "import seaborn as sns"
   ]
  },
  {
   "cell_type": "code",
   "execution_count": null,
   "metadata": {
    "ExecuteTime": {
     "end_time": "2020-06-04T03:33:58.258791Z",
     "start_time": "2020-06-04T03:33:58.057108Z"
    }
   },
   "outputs": [],
   "source": [
    "diagnosis_pos = pd.read_csv(dir_read + 'diagnosis_vte_ever.csv')\n",
    "diagnosis_neg = pd.read_csv(dir_read + 'diagnosis_no_vte.csv')\n",
    "\n",
    "patient_pos = pd.read_csv(dir_read + 'patient_vte_ever.csv')\n",
    "patient_neg = pd.read_csv(dir_read + 'patient_no_vte_ever.csv')"
   ]
  },
  {
   "cell_type": "code",
   "execution_count": null,
   "metadata": {
    "ExecuteTime": {
     "end_time": "2020-06-04T03:33:58.261500Z",
     "start_time": "2020-06-04T03:33:57.167Z"
    }
   },
   "outputs": [],
   "source": [
    "patient_pos[patient_pos['age']==91]"
   ]
  },
  {
   "cell_type": "code",
   "execution_count": null,
   "metadata": {
    "ExecuteTime": {
     "end_time": "2020-06-04T03:33:58.262614Z",
     "start_time": "2020-06-04T03:33:57.169Z"
    }
   },
   "outputs": [],
   "source": [
    "patient_neg[patient_neg['age']==91]"
   ]
  },
  {
   "cell_type": "code",
   "execution_count": null,
   "metadata": {
    "ExecuteTime": {
     "end_time": "2020-06-03T23:21:33.850777Z",
     "start_time": "2020-06-03T23:21:33.847645Z"
    }
   },
   "outputs": [],
   "source": [
    "def convertAgeToNum(df_pt):\n",
    "    # Replace '> 89' with '91'\n",
    "    over89 = df_pt[df_pt['age']=='> 89']\n",
    "    print(str(over89.shape[0]) + ' patientunitstayids with age > 89 out of ' + str(df_pt.shape[0]))\n",
    "    df_pt['age'] = df_pt['age'].replace('> 89', '91').astype(int)\n",
    "    return df_pt"
   ]
  },
  {
   "cell_type": "code",
   "execution_count": null,
   "metadata": {
    "ExecuteTime": {
     "end_time": "2020-06-03T23:21:33.907588Z",
     "start_time": "2020-06-03T23:21:33.852241Z"
    }
   },
   "outputs": [],
   "source": [
    "patient_pos = convertAgeToNum(patient_pos)\n",
    "patient_pos['label'] = 1\n",
    "\n",
    "patient_neg = convertAgeToNum(patient_neg)\n",
    "patient_neg['label'] = 0"
   ]
  },
  {
   "cell_type": "code",
   "execution_count": null,
   "metadata": {
    "ExecuteTime": {
     "end_time": "2020-06-03T23:21:33.958672Z",
     "start_time": "2020-06-03T23:21:33.909125Z"
    }
   },
   "outputs": [],
   "source": [
    "patient_pos[patient_pos['age']==91]"
   ]
  },
  {
   "cell_type": "code",
   "execution_count": null,
   "metadata": {
    "ExecuteTime": {
     "end_time": "2020-06-03T23:21:33.992816Z",
     "start_time": "2020-06-03T23:21:33.960109Z"
    }
   },
   "outputs": [],
   "source": [
    "patient_pos[patient_neg['age']==91]"
   ]
  },
  {
   "cell_type": "code",
   "execution_count": null,
   "metadata": {
    "ExecuteTime": {
     "end_time": "2020-06-03T23:21:34.173622Z",
     "start_time": "2020-06-03T23:21:33.995850Z"
    }
   },
   "outputs": [],
   "source": [
    "%matplotlib notebook\n",
    "p1 = sns.kdeplot(patient_neg['admissionweight'], shade=True, color='b')\n",
    "p2 = sns.kdeplot(patient_pos['admissionweight'], shade=True, color='r')"
   ]
  },
  {
   "cell_type": "code",
   "execution_count": null,
   "metadata": {
    "ExecuteTime": {
     "end_time": "2020-06-03T23:21:34.180397Z",
     "start_time": "2020-06-03T23:21:34.176724Z"
    }
   },
   "outputs": [],
   "source": [
    "diagnosis_pos.shape[0]"
   ]
  },
  {
   "cell_type": "code",
   "execution_count": null,
   "metadata": {
    "ExecuteTime": {
     "end_time": "2020-06-03T23:21:34.185959Z",
     "start_time": "2020-06-03T23:21:34.182142Z"
    }
   },
   "outputs": [],
   "source": [
    "diagnosis_neg.shape[0]"
   ]
  },
  {
   "cell_type": "code",
   "execution_count": null,
   "metadata": {
    "ExecuteTime": {
     "end_time": "2020-06-03T23:21:34.191923Z",
     "start_time": "2020-06-03T23:21:34.187839Z"
    }
   },
   "outputs": [],
   "source": [
    "patient_pos.shape[0]"
   ]
  },
  {
   "cell_type": "code",
   "execution_count": null,
   "metadata": {
    "ExecuteTime": {
     "end_time": "2020-06-03T23:21:34.197681Z",
     "start_time": "2020-06-03T23:21:34.194036Z"
    }
   },
   "outputs": [],
   "source": [
    "patient_neg.shape[0]"
   ]
  },
  {
   "cell_type": "code",
   "execution_count": null,
   "metadata": {
    "ExecuteTime": {
     "end_time": "2020-06-03T23:13:18.201420Z",
     "start_time": "2020-06-03T23:13:18.197614Z"
    }
   },
   "outputs": [],
   "source": []
  },
  {
   "cell_type": "code",
   "execution_count": null,
   "metadata": {
    "ExecuteTime": {
     "end_time": "2020-06-03T23:21:34.202621Z",
     "start_time": "2020-06-03T23:21:34.199432Z"
    }
   },
   "outputs": [],
   "source": [
    "cols_origorder = patient_neg.columns[0:-1].tolist()\n",
    "cols_reorder = ['label'] + cols_origorder"
   ]
  },
  {
   "cell_type": "code",
   "execution_count": null,
   "metadata": {
    "ExecuteTime": {
     "end_time": "2020-06-03T23:21:34.294113Z",
     "start_time": "2020-06-03T23:21:34.204689Z"
    }
   },
   "outputs": [],
   "source": [
    "patient_neg.reindex(columns=cols_reorder)\n",
    "patient_pos.reindex(columns=cols_reorder)"
   ]
  },
  {
   "cell_type": "code",
   "execution_count": null,
   "metadata": {
    "ExecuteTime": {
     "end_time": "2020-06-03T23:21:34.366507Z",
     "start_time": "2020-06-03T23:21:34.295477Z"
    }
   },
   "outputs": [],
   "source": [
    "patient = pd.concat([patient_neg, patient_pos])\n",
    "#patient = convertAgeToNum(patient)"
   ]
  },
  {
   "cell_type": "code",
   "execution_count": null,
   "metadata": {
    "ExecuteTime": {
     "end_time": "2020-06-03T23:21:34.449005Z",
     "start_time": "2020-06-03T23:21:34.368006Z"
    }
   },
   "outputs": [],
   "source": [
    "# Concatenate to get X and y\n",
    "patient = pd.concat([patient_pos, patient_neg])"
   ]
  },
  {
   "cell_type": "code",
   "execution_count": null,
   "metadata": {
    "ExecuteTime": {
     "end_time": "2020-06-03T23:21:34.562921Z",
     "start_time": "2020-06-03T23:21:34.450362Z"
    }
   },
   "outputs": [],
   "source": [
    "# Drop patients who don't have height or weight\n",
    "patient = patient[~patient['admissionweight'].isnull()]"
   ]
  },
  {
   "cell_type": "code",
   "execution_count": null,
   "metadata": {},
   "outputs": [],
   "source": []
  },
  {
   "cell_type": "code",
   "execution_count": null,
   "metadata": {
    "ExecuteTime": {
     "end_time": "2020-06-03T23:21:34.588494Z",
     "start_time": "2020-06-03T23:21:34.564362Z"
    }
   },
   "outputs": [],
   "source": [
    "patient.shape[0]\n",
    "patient.head(10)"
   ]
  },
  {
   "cell_type": "code",
   "execution_count": null,
   "metadata": {
    "ExecuteTime": {
     "end_time": "2020-06-03T23:21:34.592935Z",
     "start_time": "2020-06-03T23:21:34.589887Z"
    }
   },
   "outputs": [],
   "source": [
    "patient['patientunitstayid'].shape[0]"
   ]
  },
  {
   "cell_type": "code",
   "execution_count": null,
   "metadata": {
    "ExecuteTime": {
     "end_time": "2020-06-03T23:21:34.603296Z",
     "start_time": "2020-06-03T23:21:34.594456Z"
    }
   },
   "outputs": [],
   "source": [
    "patient['patientunitstayid'].unique().shape[0]"
   ]
  },
  {
   "cell_type": "code",
   "execution_count": null,
   "metadata": {
    "ExecuteTime": {
     "end_time": "2020-06-03T23:21:34.614417Z",
     "start_time": "2020-06-03T23:21:34.604810Z"
    }
   },
   "outputs": [],
   "source": [
    "# Define X\n",
    "X = patient[['age', 'admissionweight']].copy()\n",
    "y = np.array(patient['label'])\n",
    "type(X.age[0])"
   ]
  },
  {
   "cell_type": "code",
   "execution_count": null,
   "metadata": {
    "ExecuteTime": {
     "end_time": "2020-06-03T23:21:34.618410Z",
     "start_time": "2020-06-03T23:21:34.615870Z"
    }
   },
   "outputs": [],
   "source": [
    "# Create labels for each class\n",
    "y = patient['label'].copy()"
   ]
  },
  {
   "cell_type": "code",
   "execution_count": null,
   "metadata": {
    "ExecuteTime": {
     "end_time": "2020-06-03T23:36:28.756329Z",
     "start_time": "2020-06-03T23:36:28.703522Z"
    }
   },
   "outputs": [],
   "source": [
    "# Baseline if always predict 0: wrong only for when y is 1\n",
    "N0_bl = patient[patient['label']==0].shape[0]\n",
    "N1_bl = patient[patient['label']==1].shape[0]\n",
    "N0_bl/(N0_bl + N1_bl)\n",
    "print(str(N0_bl))\n",
    "print(str(N1_bl))"
   ]
  },
  {
   "cell_type": "code",
   "execution_count": null,
   "metadata": {
    "ExecuteTime": {
     "end_time": "2020-06-03T23:21:34.842973Z",
     "start_time": "2020-06-03T23:21:34.623618Z"
    }
   },
   "outputs": [],
   "source": [
    "X_train, X_test, y_train, y_test = train_test_split(X, y, test_size = 0.2)\n",
    "logisticRegr = LogisticRegression()\n",
    "logisticRegr.fit(X_train, y_train)\n",
    "predictions = logisticRegr.predict(X_test)\n",
    "score = logisticRegr.score(X_test, y_test)\n",
    "print(score)"
   ]
  },
  {
   "cell_type": "code",
   "execution_count": null,
   "metadata": {
    "ExecuteTime": {
     "end_time": "2020-06-03T23:21:34.976124Z",
     "start_time": "2020-06-03T23:21:34.974109Z"
    }
   },
   "outputs": [],
   "source": [
    "# # Remove patientunitstayids that are over 350 kg (770 lbs)\n",
    "# ptunitstayid_tooheavy = patient_neg[patient]"
   ]
  }
 ],
 "metadata": {
  "kernelspec": {
   "display_name": "Python [conda env:insight] *",
   "language": "python",
   "name": "conda-env-insight-py"
  },
  "language_info": {
   "codemirror_mode": {
    "name": "ipython",
    "version": 3
   },
   "file_extension": ".py",
   "mimetype": "text/x-python",
   "name": "python",
   "nbconvert_exporter": "python",
   "pygments_lexer": "ipython3",
   "version": "3.7.7"
  },
  "toc": {
   "base_numbering": 1,
   "nav_menu": {},
   "number_sections": true,
   "sideBar": true,
   "skip_h1_title": false,
   "title_cell": "Table of Contents",
   "title_sidebar": "Contents",
   "toc_cell": false,
   "toc_position": {},
   "toc_section_display": true,
   "toc_window_display": false
  },
  "varInspector": {
   "cols": {
    "lenName": 16,
    "lenType": 16,
    "lenVar": 40
   },
   "kernels_config": {
    "python": {
     "delete_cmd_postfix": "",
     "delete_cmd_prefix": "del ",
     "library": "var_list.py",
     "varRefreshCmd": "print(var_dic_list())"
    },
    "r": {
     "delete_cmd_postfix": ") ",
     "delete_cmd_prefix": "rm(",
     "library": "var_list.r",
     "varRefreshCmd": "cat(var_dic_list()) "
    }
   },
   "position": {
    "height": "567px",
    "left": "1029px",
    "right": "20px",
    "top": "76px",
    "width": "536px"
   },
   "types_to_exclude": [
    "module",
    "function",
    "builtin_function_or_method",
    "instance",
    "_Feature"
   ],
   "window_display": false
  }
 },
 "nbformat": 4,
 "nbformat_minor": 4
}
