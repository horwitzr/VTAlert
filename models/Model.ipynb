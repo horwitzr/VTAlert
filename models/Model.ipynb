{
 "cells": [
  {
   "cell_type": "markdown",
   "metadata": {
    "ExecuteTime": {
     "end_time": "2020-06-04T23:26:49.428774Z",
     "start_time": "2020-06-04T23:26:49.426270Z"
    }
   },
   "source": [
    "# Settings, Directory Specs, and Imports"
   ]
  },
  {
   "cell_type": "code",
   "execution_count": 1,
   "metadata": {
    "ExecuteTime": {
     "end_time": "2020-06-06T15:49:50.623705Z",
     "start_time": "2020-06-06T15:49:49.478298Z"
    }
   },
   "outputs": [],
   "source": [
    "# 0 = no streamlit\n",
    "# 1 = test user inputs\n",
    "# 2 = run in streamlit\n",
    "streamlit_status = 0\n",
    "#file_name_pickle_read = 'model_2020_06_06_1105.pickle'\n",
    "do_plots = 0\n",
    "\n",
    "dir_read = '/Users/rachellehorwitz/Documents/ViTalErt/data/filtered02/'\n",
    "#dir_read = '/Users/rachellehorwitz/Documents/VTAlert/over18_eicu/'\n",
    "\n",
    "from sklearn.linear_model import LogisticRegression\n",
    "from sklearn.model_selection import train_test_split\n",
    "from sklearn.preprocessing import StandardScaler\n",
    "from sklearn.pipeline import make_pipeline\n",
    "import pandas as pd\n",
    "import numpy as np\n",
    "import seaborn as sns\n",
    "import matplotlib\n",
    "import matplotlib.pyplot as plt\n",
    "import streamlit as st\n",
    "from sklearn.metrics import confusion_matrix\n",
    "from sklearn.metrics import plot_confusion_matrix\n",
    "import pickle\n",
    "from datetime import datetime\n",
    "\n",
    "matplotlib.rcParams.update({'font.size': 22})"
   ]
  },
  {
   "cell_type": "code",
   "execution_count": 2,
   "metadata": {
    "ExecuteTime": {
     "end_time": "2020-06-06T15:49:50.630505Z",
     "start_time": "2020-06-06T15:49:50.625549Z"
    }
   },
   "outputs": [
    {
     "data": {
      "text/plain": [
       "<streamlit.DeltaGenerator.DeltaGenerator at 0x7fb2ae61b310>"
      ]
     },
     "execution_count": 2,
     "metadata": {},
     "output_type": "execute_result"
    }
   ],
   "source": [
    "st.title('ViTalErt: Risk Monitoring for Venous Thromboembolism in ICU Patients')"
   ]
  },
  {
   "cell_type": "markdown",
   "metadata": {},
   "source": [
    "# Function Definitions"
   ]
  },
  {
   "cell_type": "code",
   "execution_count": 3,
   "metadata": {
    "ExecuteTime": {
     "end_time": "2020-06-06T15:49:50.635562Z",
     "start_time": "2020-06-06T15:49:50.632042Z"
    }
   },
   "outputs": [],
   "source": [
    "def now_to_str():\n",
    "    now = str(datetime.now())\n",
    "    return now[0:4] + '_' + now[5:7] + '_' + now[8:10] + '_' + now[11:13] + now[14:16]"
   ]
  },
  {
   "cell_type": "markdown",
   "metadata": {},
   "source": [
    "# eICU Data Wrangling"
   ]
  },
  {
   "cell_type": "code",
   "execution_count": 4,
   "metadata": {
    "ExecuteTime": {
     "end_time": "2020-06-06T15:49:53.704277Z",
     "start_time": "2020-06-06T15:49:50.637683Z"
    },
    "scrolled": true
   },
   "outputs": [],
   "source": [
    "# Read files from csv\n",
    "patient = pd.read_csv(dir_read + 'patient.csv')\n",
    "admissiondx = pd.read_csv(dir_read + 'admissiondx.csv')\n",
    "diagnosis = pd.read_csv(dir_read + 'diagnosis.csv')\n",
    "ptusid_pos = pd.read_csv(dir_read + 'pos_ptunitstayid.csv')\n",
    "\n",
    "# Create dataframe of patientunitstayids in negative class\n",
    "tmp = patient[~patient['patientunitstayid'].isin(ptusid_pos['patientunitstayid'])]\n",
    "ptusid_neg = tmp[['patientunitstayid']]\n",
    "\n",
    "# Create labels\n",
    "ptusid_neg = ptusid_neg.assign(label=0)\n",
    "ptusid_pos = ptusid_pos.assign(label=1)\n",
    "\n",
    "# Add labels to \"patient\" dataframe and move 'label' column to left\n",
    "ptusid_w_label = pd.concat([ptusid_pos, ptusid_neg])\n",
    "ptusid_w_label.shape[0]\n",
    "ptusid_w_label = ptusid_w_label.set_index('patientunitstayid')\n",
    "patient = patient.set_index('patientunitstayid')\n",
    "patient = patient.join(ptusid_w_label)\n",
    "\n",
    "# Move 'label' column to left\n",
    "cols = list(patient.columns)\n",
    "cols = [cols[-1]] + cols[:-1]\n",
    "patient = patient[cols]\n",
    "\n",
    "# Remove patients who weigh less than 40 kg or more than 400 kg\n",
    "patient = patient[(patient['admissionweight'] > 40) & \\\n",
    "                   (patient['admissionweight'] < 400)]"
   ]
  },
  {
   "cell_type": "code",
   "execution_count": 5,
   "metadata": {
    "ExecuteTime": {
     "end_time": "2020-06-06T15:49:53.741028Z",
     "start_time": "2020-06-06T15:49:53.708076Z"
    }
   },
   "outputs": [
    {
     "data": {
      "text/plain": [
       "1970"
      ]
     },
     "execution_count": 5,
     "metadata": {},
     "output_type": "execute_result"
    }
   ],
   "source": [
    "patient_pos = patient[patient['label']==1]\n",
    "patient_neg = patient[patient['label']==0]\n",
    "patient[patient['label']==1].shape[0]"
   ]
  },
  {
   "cell_type": "markdown",
   "metadata": {},
   "source": [
    "# Defining X and y"
   ]
  },
  {
   "cell_type": "code",
   "execution_count": 6,
   "metadata": {
    "ExecuteTime": {
     "end_time": "2020-06-06T15:49:53.763374Z",
     "start_time": "2020-06-06T15:49:53.744702Z"
    }
   },
   "outputs": [],
   "source": [
    "# Define X and y\n",
    "X = patient[['age', 'admissionweight']]\n",
    "y = patient['label']\n",
    "\n",
    "# Partition and train model\n",
    "X_train, X_test, y_train, y_test = train_test_split(X, y, test_size = 0.2)"
   ]
  },
  {
   "cell_type": "code",
   "execution_count": 7,
   "metadata": {
    "ExecuteTime": {
     "end_time": "2020-06-06T15:49:53.776227Z",
     "start_time": "2020-06-06T15:49:53.765144Z"
    },
    "scrolled": false
   },
   "outputs": [],
   "source": [
    "if do_plots == 1:\n",
    "    %matplotlib notebook\n",
    "    import seaborn as sns\n",
    "\n",
    "    sns.distplot(patient['age'], bins=15)\n",
    "    plt.xlabel('Age (yrs)')\n",
    "    plt.title('Distribution of Age Among All Patients')\n",
    "\n",
    "    plt.figure()\n",
    "    sns.distplot(patient['admissionweight'], bins=200)\n",
    "    plt.xlabel('Admission Weight (kg)')\n",
    "    plt.title('Distribution of Weight Among All Patients')\n",
    "\n",
    "    plt.figure()\n",
    "    sns.distplot(patient_pos['admissionweight'], color='red')\n",
    "    sns.distplot(patient_neg['admissionweight'], color='blue')\n",
    "    plt.xlabel('Admission Weight (kg)')\n",
    "    plt.legend('VTE', 'No VTE')\n",
    "\n",
    "    plt.figure()\n",
    "    sns.distplot(patient_pos['age'], color='red', bins=15)\n",
    "    sns.distplot(patient_neg['age'], color='blue', bins=15)\n",
    "    plt.xlabel('Age (years)')\n",
    "\n",
    "    plt.figure()\n",
    "    sns.distplot(patient_pos['admissionweight'], color='red', bins=100)\n",
    "    sns.distplot(patient_neg['admissionweight'], color='blue', bins=200)\n",
    "    plt.xlabel('Admission Weight (kg)')"
   ]
  },
  {
   "cell_type": "code",
   "execution_count": 8,
   "metadata": {
    "ExecuteTime": {
     "end_time": "2020-06-06T15:49:53.781872Z",
     "start_time": "2020-06-06T15:49:53.777941Z"
    }
   },
   "outputs": [],
   "source": [
    "if streamlit_status == 1:\n",
    "    age = 30\n",
    "    admissionweight = 50\n",
    "\n",
    "if streamlit_status == 2:\n",
    "    age = st.slider('Age', 19, 90)\n",
    "    admissionweight = st.slider('Admission Weight (kg)', 40, 300)\n",
    "\n",
    "if (streamlit_status == 1) | (streamlit_status == 2): \n",
    "    input_data = {'age': [age], 'admissionweight': [admissionweight]}\n",
    "    X_test = pd.DataFrame(input_data, columns=['age', 'admissionweight'])"
   ]
  },
  {
   "cell_type": "markdown",
   "metadata": {},
   "source": [
    "# Model and Predict"
   ]
  },
  {
   "cell_type": "code",
   "execution_count": 9,
   "metadata": {
    "ExecuteTime": {
     "end_time": "2020-06-06T15:49:53.864493Z",
     "start_time": "2020-06-06T15:49:53.783414Z"
    }
   },
   "outputs": [
    {
     "name": "stdout",
     "output_type": "stream",
     "text": [
      "0.5361682529935523\n"
     ]
    }
   ],
   "source": [
    "logisticRegr_sc = make_pipeline(StandardScaler(), LogisticRegression(class_weight='balanced'))\n",
    "logisticRegr_sc.fit(X_train, y_train)\n",
    "file_name_pickle = 'model_' + now_to_str() + '.pickle'\n",
    "pickle.dump(logisticRegr_sc, open(file_name_pickle, 'wb'))\n",
    "\n",
    "# if (streamlit_status == 1) | (streamlit_status == 2):\n",
    "#     logisticRegr_sc = pickle.load(open(file_name_pickle_read, 'rb'))\n",
    "\n",
    "predictions_sc = logisticRegr_sc.predict(X_test)\n",
    "prob_sc = logisticRegr_sc.predict_proba(X_test)[:,1]\n",
    "#lprob_sc = logisticRegr_sc.predict_log_proba(X_test)[:,1]\n",
    "\n",
    "scores_sc = logisticRegr_sc.score(X_test, y_test)\n",
    "print(scores_sc)"
   ]
  },
  {
   "cell_type": "code",
   "execution_count": 10,
   "metadata": {
    "ExecuteTime": {
     "end_time": "2020-06-06T15:49:53.870262Z",
     "start_time": "2020-06-06T15:49:53.866633Z"
    },
    "scrolled": true
   },
   "outputs": [
    {
     "name": "stdout",
     "output_type": "stream",
     "text": [
      "prob_sc:  min = 0.3726293872831279\n",
      "\t    max = 0.7923519647394158\n"
     ]
    }
   ],
   "source": [
    "print('prob_sc:  min = ' + str(np.min(prob_sc)))\n",
    "print('\\t    max = ' + str(np.max(prob_sc)))"
   ]
  },
  {
   "cell_type": "code",
   "execution_count": 11,
   "metadata": {
    "ExecuteTime": {
     "end_time": "2020-06-06T15:49:54.252105Z",
     "start_time": "2020-06-06T15:49:53.872437Z"
    }
   },
   "outputs": [
    {
     "name": "stdout",
     "output_type": "stream",
     "text": [
      "160880 patients in negative class\n",
      "1970 patients in positive class\n",
      "If you predict 0 all the time, accuracy is 0.98790%\n"
     ]
    },
    {
     "data": {
      "text/plain": [
       "<sklearn.metrics._plot.confusion_matrix.ConfusionMatrixDisplay at 0x7fb2840290d0>"
      ]
     },
     "execution_count": 11,
     "metadata": {},
     "output_type": "execute_result"
    },
    {
     "data": {
      "image/png": "[encoded data removed]",
      "text/plain": [
       "<Figure size 432x288 with 2 Axes>"
      ]
     },
     "metadata": {
      "needs_background": "light"
     },
     "output_type": "display_data"
    },
    {
     "data": {
      "image/png": "[encoded data removed]",
      "text/plain": [
       "<Figure size 432x288 with 2 Axes>"
      ]
     },
     "metadata": {
      "needs_background": "light"
     },
     "output_type": "display_data"
    }
   ],
   "source": [
    "# Print baseline accuracy\n",
    "N0_bl = patient[patient['label']==0].shape[0]\n",
    "N1_bl = patient[patient['label']==1].shape[0]\n",
    "print('{:d} patients in negative class'.format(N0_bl))\n",
    "print('{:d} patients in positive class'.format(N1_bl))\n",
    "print('If you predict 0 all the time, accuracy is {:.5f}%'.format(N0_bl/(N0_bl+N1_bl)))\n",
    "\n",
    "cm = confusion_matrix(list(y_test), predictions_sc)\n",
    "plot_confusion_matrix(logisticRegr_sc, X_test, list(y_test))\n",
    "plot_confusion_matrix(logisticRegr_sc, X_test, list(y_test),  normalize='true')"
   ]
  },
  {
   "cell_type": "code",
   "execution_count": null,
   "metadata": {
    "ExecuteTime": {
     "end_time": "2020-06-05T12:37:29.377567Z",
     "start_time": "2020-06-05T12:37:29.043910Z"
    }
   },
   "outputs": [],
   "source": [
    "\n"
   ]
  },
  {
   "cell_type": "code",
   "execution_count": null,
   "metadata": {},
   "outputs": [],
   "source": []
  },
  {
   "cell_type": "code",
   "execution_count": null,
   "metadata": {},
   "outputs": [],
   "source": []
  },
  {
   "cell_type": "markdown",
   "metadata": {},
   "source": [
    "# Breakpoint"
   ]
  },
  {
   "cell_type": "code",
   "execution_count": null,
   "metadata": {},
   "outputs": [],
   "source": []
  },
  {
   "cell_type": "code",
   "execution_count": null,
   "metadata": {},
   "outputs": [],
   "source": []
  },
  {
   "cell_type": "code",
   "execution_count": null,
   "metadata": {},
   "outputs": [],
   "source": []
  },
  {
   "cell_type": "code",
   "execution_count": null,
   "metadata": {},
   "outputs": [],
   "source": []
  },
  {
   "cell_type": "code",
   "execution_count": null,
   "metadata": {},
   "outputs": [],
   "source": []
  },
  {
   "cell_type": "code",
   "execution_count": null,
   "metadata": {},
   "outputs": [],
   "source": []
  },
  {
   "cell_type": "code",
   "execution_count": null,
   "metadata": {},
   "outputs": [],
   "source": []
  },
  {
   "cell_type": "code",
   "execution_count": null,
   "metadata": {},
   "outputs": [],
   "source": []
  },
  {
   "cell_type": "code",
   "execution_count": null,
   "metadata": {},
   "outputs": [],
   "source": []
  },
  {
   "cell_type": "code",
   "execution_count": null,
   "metadata": {},
   "outputs": [],
   "source": []
  },
  {
   "cell_type": "code",
   "execution_count": null,
   "metadata": {},
   "outputs": [],
   "source": []
  },
  {
   "cell_type": "code",
   "execution_count": null,
   "metadata": {},
   "outputs": [],
   "source": []
  },
  {
   "cell_type": "code",
   "execution_count": null,
   "metadata": {},
   "outputs": [],
   "source": []
  },
  {
   "cell_type": "code",
   "execution_count": null,
   "metadata": {},
   "outputs": [],
   "source": []
  },
  {
   "cell_type": "code",
   "execution_count": null,
   "metadata": {},
   "outputs": [],
   "source": []
  },
  {
   "cell_type": "code",
   "execution_count": null,
   "metadata": {},
   "outputs": [],
   "source": []
  },
  {
   "cell_type": "code",
   "execution_count": null,
   "metadata": {},
   "outputs": [],
   "source": []
  }
 ],
 "metadata": {
  "kernelspec": {
   "display_name": "Python 3",
   "language": "python",
   "name": "python3"
  },
  "language_info": {
   "codemirror_mode": {
    "name": "ipython",
    "version": 3
   },
   "file_extension": ".py",
   "mimetype": "text/x-python",
   "name": "python",
   "nbconvert_exporter": "python",
   "pygments_lexer": "ipython3",
   "version": "3.7.7"
  },
  "toc": {
   "base_numbering": 1,
   "nav_menu": {},
   "number_sections": true,
   "sideBar": true,
   "skip_h1_title": false,
   "title_cell": "Table of Contents",
   "title_sidebar": "Contents",
   "toc_cell": false,
   "toc_position": {
    "height": "calc(100% - 180px)",
    "left": "10px",
    "top": "150px",
    "width": "165px"
   },
   "toc_section_display": true,
   "toc_window_display": true
  },
  "varInspector": {
   "cols": {
    "lenName": 16,
    "lenType": 16,
    "lenVar": 40
   },
   "kernels_config": {
    "python": {
     "delete_cmd_postfix": "",
     "delete_cmd_prefix": "del ",
     "library": "var_list.py",
     "varRefreshCmd": "print(var_dic_list())"
    },
    "r": {
     "delete_cmd_postfix": ") ",
     "delete_cmd_prefix": "rm(",
     "library": "var_list.r",
     "varRefreshCmd": "cat(var_dic_list()) "
    }
   },
   "position": {
    "height": "567px",
    "left": "690px",
    "right": "20px",
    "top": "8px",
    "width": "536px"
   },
   "types_to_exclude": [
    "module",
    "function",
    "builtin_function_or_method",
    "instance",
    "_Feature"
   ],
   "window_display": false
  }
 },
 "nbformat": 4,
 "nbformat_minor": 4
}
