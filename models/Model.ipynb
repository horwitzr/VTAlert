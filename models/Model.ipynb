{
 "cells": [
  {
   "cell_type": "code",
   "execution_count": 1,
   "metadata": {
    "ExecuteTime": {
     "end_time": "2020-06-04T23:23:10.142882Z",
     "start_time": "2020-06-04T23:23:09.421705Z"
    }
   },
   "outputs": [],
   "source": [
    "dir_read = '/Users/rachellehorwitz/Documents/VTAlert/data/filtered02/'\n",
    "#dir_read = '/Users/rachellehorwitz/Documents/VTAlert/over18_eicu/'\n",
    "\n",
    "from sklearn.linear_model import LogisticRegression\n",
    "from sklearn.model_selection import train_test_split\n",
    "from sklearn.preprocessing import StandardScaler\n",
    "from sklearn.pipeline import make_pipeline\n",
    "import pandas as pd\n",
    "import numpy as np\n",
    "import seaborn as sns\n",
    "import matplotlib.pyplot as plt\n",
    "import streamlit as st"
   ]
  },
  {
   "cell_type": "code",
   "execution_count": 2,
   "metadata": {
    "ExecuteTime": {
     "end_time": "2020-06-04T23:23:13.194550Z",
     "start_time": "2020-06-04T23:23:10.144800Z"
    },
    "scrolled": true
   },
   "outputs": [
    {
     "name": "stderr",
     "output_type": "stream",
     "text": [
      "/Users/rachellehorwitz/opt/anaconda3/envs/insight/lib/python3.7/site-packages/pandas/core/indexing.py:845: SettingWithCopyWarning: \n",
      "A value is trying to be set on a copy of a slice from a DataFrame.\n",
      "Try using .loc[row_indexer,col_indexer] = value instead\n",
      "\n",
      "See the caveats in the documentation: https://pandas.pydata.org/pandas-docs/stable/user_guide/indexing.html#returning-a-view-versus-a-copy\n",
      "  self.obj[key] = _infer_fill_value(value)\n",
      "/Users/rachellehorwitz/opt/anaconda3/envs/insight/lib/python3.7/site-packages/pandas/core/indexing.py:966: SettingWithCopyWarning: \n",
      "A value is trying to be set on a copy of a slice from a DataFrame.\n",
      "Try using .loc[row_indexer,col_indexer] = value instead\n",
      "\n",
      "See the caveats in the documentation: https://pandas.pydata.org/pandas-docs/stable/user_guide/indexing.html#returning-a-view-versus-a-copy\n",
      "  self.obj[item] = s\n"
     ]
    }
   ],
   "source": [
    "# Read files from csv\n",
    "patient = pd.read_csv(dir_read + 'patient.csv')\n",
    "admissiondx = pd.read_csv(dir_read + 'admissiondx.csv')\n",
    "diagnosis = pd.read_csv(dir_read + 'diagnosis.csv')\n",
    "ptusid_pos = pd.read_csv(dir_read + 'pos_ptunitstayid.csv')\n",
    "\n",
    "# Create dataframe of patientunitstayids in negative class\n",
    "tmp = patient[~patient['patientunitstayid'].isin(ptusid_pos['patientunitstayid'])]\n",
    "ptusid_neg = tmp[['patientunitstayid']]\n",
    "\n",
    "# Create labels\n",
    "ptusid_neg.loc[:,'label'] = 0\n",
    "ptusid_pos.loc[:,'label'] = 1\n",
    "\n",
    "# Add labels to \"patient\" dataframe and move 'label' column to left\n",
    "ptusid_w_label = pd.concat([ptusid_pos, ptusid_neg])\n",
    "ptusid_w_label.shape[0]\n",
    "ptusid_w_label = ptusid_w_label.set_index('patientunitstayid')\n",
    "patient = patient.set_index('patientunitstayid')\n",
    "patient = patient.join(ptusid_w_label)\n",
    "\n",
    "# Move 'label' column to left\n",
    "cols = list(patient.columns)\n",
    "cols = [cols[-1]] + cols[:-1]\n",
    "patient = patient[cols]"
   ]
  },
  {
   "cell_type": "code",
   "execution_count": 3,
   "metadata": {
    "ExecuteTime": {
     "end_time": "2020-06-04T23:23:13.220404Z",
     "start_time": "2020-06-04T23:23:13.196231Z"
    }
   },
   "outputs": [
    {
     "data": {
      "text/html": [
       "<div>\n",
       "<style scoped>\n",
       "    .dataframe tbody tr th:only-of-type {\n",
       "        vertical-align: middle;\n",
       "    }\n",
       "\n",
       "    .dataframe tbody tr th {\n",
       "        vertical-align: top;\n",
       "    }\n",
       "\n",
       "    .dataframe thead th {\n",
       "        text-align: right;\n",
       "    }\n",
       "</style>\n",
       "<table border=\"1\" class=\"dataframe\">\n",
       "  <thead>\n",
       "    <tr style=\"text-align: right;\">\n",
       "      <th></th>\n",
       "      <th>label</th>\n",
       "      <th>patienthealthsystemstayid</th>\n",
       "      <th>gender</th>\n",
       "      <th>age</th>\n",
       "      <th>ethnicity</th>\n",
       "      <th>hospitalid</th>\n",
       "      <th>wardid</th>\n",
       "      <th>apacheadmissiondx</th>\n",
       "      <th>admissionheight</th>\n",
       "      <th>hospitaladmittime24</th>\n",
       "      <th>...</th>\n",
       "      <th>unitadmitsource</th>\n",
       "      <th>unitvisitnumber</th>\n",
       "      <th>unitstaytype</th>\n",
       "      <th>admissionweight</th>\n",
       "      <th>dischargeweight</th>\n",
       "      <th>unitdischargetime24</th>\n",
       "      <th>unitdischargeoffset</th>\n",
       "      <th>unitdischargelocation</th>\n",
       "      <th>unitdischargestatus</th>\n",
       "      <th>uniquepid</th>\n",
       "    </tr>\n",
       "    <tr>\n",
       "      <th>patientunitstayid</th>\n",
       "      <th></th>\n",
       "      <th></th>\n",
       "      <th></th>\n",
       "      <th></th>\n",
       "      <th></th>\n",
       "      <th></th>\n",
       "      <th></th>\n",
       "      <th></th>\n",
       "      <th></th>\n",
       "      <th></th>\n",
       "      <th></th>\n",
       "      <th></th>\n",
       "      <th></th>\n",
       "      <th></th>\n",
       "      <th></th>\n",
       "      <th></th>\n",
       "      <th></th>\n",
       "      <th></th>\n",
       "      <th></th>\n",
       "      <th></th>\n",
       "      <th></th>\n",
       "    </tr>\n",
       "  </thead>\n",
       "  <tbody>\n",
       "    <tr>\n",
       "      <th>141168</th>\n",
       "      <td>0</td>\n",
       "      <td>128919</td>\n",
       "      <td>Female</td>\n",
       "      <td>70</td>\n",
       "      <td>Caucasian</td>\n",
       "      <td>59</td>\n",
       "      <td>91</td>\n",
       "      <td>Rhythm disturbance (atrial, supraventricular)</td>\n",
       "      <td>152.4</td>\n",
       "      <td>15:54:00</td>\n",
       "      <td>...</td>\n",
       "      <td>Direct Admit</td>\n",
       "      <td>1</td>\n",
       "      <td>admit</td>\n",
       "      <td>84.3</td>\n",
       "      <td>85.8</td>\n",
       "      <td>03:50:00</td>\n",
       "      <td>3596</td>\n",
       "      <td>Death</td>\n",
       "      <td>Expired</td>\n",
       "      <td>002-34851</td>\n",
       "    </tr>\n",
       "    <tr>\n",
       "      <th>141194</th>\n",
       "      <td>0</td>\n",
       "      <td>128941</td>\n",
       "      <td>Male</td>\n",
       "      <td>68</td>\n",
       "      <td>Caucasian</td>\n",
       "      <td>73</td>\n",
       "      <td>92</td>\n",
       "      <td>Sepsis, renal/UTI (including bladder)</td>\n",
       "      <td>180.3</td>\n",
       "      <td>18:18:40</td>\n",
       "      <td>...</td>\n",
       "      <td>Floor</td>\n",
       "      <td>1</td>\n",
       "      <td>admit</td>\n",
       "      <td>73.9</td>\n",
       "      <td>76.7</td>\n",
       "      <td>15:31:00</td>\n",
       "      <td>4813</td>\n",
       "      <td>Floor</td>\n",
       "      <td>Alive</td>\n",
       "      <td>002-5276</td>\n",
       "    </tr>\n",
       "    <tr>\n",
       "      <th>141197</th>\n",
       "      <td>0</td>\n",
       "      <td>128943</td>\n",
       "      <td>Male</td>\n",
       "      <td>71</td>\n",
       "      <td>Caucasian</td>\n",
       "      <td>67</td>\n",
       "      <td>109</td>\n",
       "      <td>Sepsis, pulmonary</td>\n",
       "      <td>162.6</td>\n",
       "      <td>20:21:00</td>\n",
       "      <td>...</td>\n",
       "      <td>Emergency Department</td>\n",
       "      <td>1</td>\n",
       "      <td>admit</td>\n",
       "      <td>102.1</td>\n",
       "      <td>102.1</td>\n",
       "      <td>22:00:00</td>\n",
       "      <td>74</td>\n",
       "      <td>Step-Down Unit (SDU)</td>\n",
       "      <td>Alive</td>\n",
       "      <td>002-37665</td>\n",
       "    </tr>\n",
       "    <tr>\n",
       "      <th>141203</th>\n",
       "      <td>0</td>\n",
       "      <td>128948</td>\n",
       "      <td>Female</td>\n",
       "      <td>77</td>\n",
       "      <td>Caucasian</td>\n",
       "      <td>66</td>\n",
       "      <td>90</td>\n",
       "      <td>Arrest, respiratory (without cardiac arrest)</td>\n",
       "      <td>160.0</td>\n",
       "      <td>22:23:00</td>\n",
       "      <td>...</td>\n",
       "      <td>Floor</td>\n",
       "      <td>1</td>\n",
       "      <td>admit</td>\n",
       "      <td>70.2</td>\n",
       "      <td>70.3</td>\n",
       "      <td>03:48:00</td>\n",
       "      <td>1869</td>\n",
       "      <td>Floor</td>\n",
       "      <td>Alive</td>\n",
       "      <td>002-23234</td>\n",
       "    </tr>\n",
       "    <tr>\n",
       "      <th>141208</th>\n",
       "      <td>0</td>\n",
       "      <td>128952</td>\n",
       "      <td>Female</td>\n",
       "      <td>25</td>\n",
       "      <td>Caucasian</td>\n",
       "      <td>73</td>\n",
       "      <td>93</td>\n",
       "      <td>Overdose, sedatives, hypnotics, antipsychotics...</td>\n",
       "      <td>172.7</td>\n",
       "      <td>11:23:00</td>\n",
       "      <td>...</td>\n",
       "      <td>Emergency Department</td>\n",
       "      <td>1</td>\n",
       "      <td>admit</td>\n",
       "      <td>95.3</td>\n",
       "      <td>95.3</td>\n",
       "      <td>23:24:00</td>\n",
       "      <td>720</td>\n",
       "      <td>Home</td>\n",
       "      <td>Alive</td>\n",
       "      <td>002-34521</td>\n",
       "    </tr>\n",
       "  </tbody>\n",
       "</table>\n",
       "<p>5 rows × 29 columns</p>\n",
       "</div>"
      ],
      "text/plain": [
       "                   label  patienthealthsystemstayid  gender  age  ethnicity  \\\n",
       "patientunitstayid                                                             \n",
       "141168                 0                     128919  Female   70  Caucasian   \n",
       "141194                 0                     128941    Male   68  Caucasian   \n",
       "141197                 0                     128943    Male   71  Caucasian   \n",
       "141203                 0                     128948  Female   77  Caucasian   \n",
       "141208                 0                     128952  Female   25  Caucasian   \n",
       "\n",
       "                   hospitalid  wardid  \\\n",
       "patientunitstayid                       \n",
       "141168                     59      91   \n",
       "141194                     73      92   \n",
       "141197                     67     109   \n",
       "141203                     66      90   \n",
       "141208                     73      93   \n",
       "\n",
       "                                                   apacheadmissiondx  \\\n",
       "patientunitstayid                                                      \n",
       "141168                 Rhythm disturbance (atrial, supraventricular)   \n",
       "141194                         Sepsis, renal/UTI (including bladder)   \n",
       "141197                                             Sepsis, pulmonary   \n",
       "141203                  Arrest, respiratory (without cardiac arrest)   \n",
       "141208             Overdose, sedatives, hypnotics, antipsychotics...   \n",
       "\n",
       "                   admissionheight hospitaladmittime24  ...  \\\n",
       "patientunitstayid                                       ...   \n",
       "141168                       152.4            15:54:00  ...   \n",
       "141194                       180.3            18:18:40  ...   \n",
       "141197                       162.6            20:21:00  ...   \n",
       "141203                       160.0            22:23:00  ...   \n",
       "141208                       172.7            11:23:00  ...   \n",
       "\n",
       "                        unitadmitsource unitvisitnumber  unitstaytype  \\\n",
       "patientunitstayid                                                       \n",
       "141168                     Direct Admit               1         admit   \n",
       "141194                            Floor               1         admit   \n",
       "141197             Emergency Department               1         admit   \n",
       "141203                            Floor               1         admit   \n",
       "141208             Emergency Department               1         admit   \n",
       "\n",
       "                  admissionweight  dischargeweight unitdischargetime24  \\\n",
       "patientunitstayid                                                        \n",
       "141168                       84.3             85.8            03:50:00   \n",
       "141194                       73.9             76.7            15:31:00   \n",
       "141197                      102.1            102.1            22:00:00   \n",
       "141203                       70.2             70.3            03:48:00   \n",
       "141208                       95.3             95.3            23:24:00   \n",
       "\n",
       "                  unitdischargeoffset unitdischargelocation  \\\n",
       "patientunitstayid                                             \n",
       "141168                           3596                 Death   \n",
       "141194                           4813                 Floor   \n",
       "141197                             74  Step-Down Unit (SDU)   \n",
       "141203                           1869                 Floor   \n",
       "141208                            720                  Home   \n",
       "\n",
       "                  unitdischargestatus  uniquepid  \n",
       "patientunitstayid                                 \n",
       "141168                        Expired  002-34851  \n",
       "141194                          Alive   002-5276  \n",
       "141197                          Alive  002-37665  \n",
       "141203                          Alive  002-23234  \n",
       "141208                          Alive  002-34521  \n",
       "\n",
       "[5 rows x 29 columns]"
      ]
     },
     "execution_count": 3,
     "metadata": {},
     "output_type": "execute_result"
    }
   ],
   "source": [
    "patient.head(5)"
   ]
  },
  {
   "cell_type": "code",
   "execution_count": null,
   "metadata": {},
   "outputs": [],
   "source": []
  },
  {
   "cell_type": "code",
   "execution_count": 4,
   "metadata": {
    "ExecuteTime": {
     "end_time": "2020-06-04T23:23:13.236610Z",
     "start_time": "2020-06-04T23:23:13.221960Z"
    }
   },
   "outputs": [],
   "source": [
    "# Define X and y\n",
    "X = patient[['age', 'admissionweight']]\n",
    "y = patient['label']\n",
    "\n",
    "# Partition and train model\n",
    "X_train, X_test, y_train, y_test = train_test_split(X, y, test_size = 0.2)"
   ]
  },
  {
   "cell_type": "code",
   "execution_count": 5,
   "metadata": {
    "ExecuteTime": {
     "end_time": "2020-06-04T23:23:13.246129Z",
     "start_time": "2020-06-04T23:23:13.239931Z"
    }
   },
   "outputs": [
    {
     "data": {
      "text/html": [
       "<div>\n",
       "<style scoped>\n",
       "    .dataframe tbody tr th:only-of-type {\n",
       "        vertical-align: middle;\n",
       "    }\n",
       "\n",
       "    .dataframe tbody tr th {\n",
       "        vertical-align: top;\n",
       "    }\n",
       "\n",
       "    .dataframe thead th {\n",
       "        text-align: right;\n",
       "    }\n",
       "</style>\n",
       "<table border=\"1\" class=\"dataframe\">\n",
       "  <thead>\n",
       "    <tr style=\"text-align: right;\">\n",
       "      <th></th>\n",
       "      <th>age</th>\n",
       "      <th>admissionweight</th>\n",
       "    </tr>\n",
       "    <tr>\n",
       "      <th>patientunitstayid</th>\n",
       "      <th></th>\n",
       "      <th></th>\n",
       "    </tr>\n",
       "  </thead>\n",
       "  <tbody>\n",
       "    <tr>\n",
       "      <th>141168</th>\n",
       "      <td>70</td>\n",
       "      <td>84.3</td>\n",
       "    </tr>\n",
       "    <tr>\n",
       "      <th>141194</th>\n",
       "      <td>68</td>\n",
       "      <td>73.9</td>\n",
       "    </tr>\n",
       "    <tr>\n",
       "      <th>141197</th>\n",
       "      <td>71</td>\n",
       "      <td>102.1</td>\n",
       "    </tr>\n",
       "    <tr>\n",
       "      <th>141203</th>\n",
       "      <td>77</td>\n",
       "      <td>70.2</td>\n",
       "    </tr>\n",
       "    <tr>\n",
       "      <th>141208</th>\n",
       "      <td>25</td>\n",
       "      <td>95.3</td>\n",
       "    </tr>\n",
       "  </tbody>\n",
       "</table>\n",
       "</div>"
      ],
      "text/plain": [
       "                   age  admissionweight\n",
       "patientunitstayid                      \n",
       "141168              70             84.3\n",
       "141194              68             73.9\n",
       "141197              71            102.1\n",
       "141203              77             70.2\n",
       "141208              25             95.3"
      ]
     },
     "execution_count": 5,
     "metadata": {},
     "output_type": "execute_result"
    }
   ],
   "source": [
    "X.head()"
   ]
  },
  {
   "cell_type": "code",
   "execution_count": 6,
   "metadata": {
    "ExecuteTime": {
     "end_time": "2020-06-04T23:23:13.257574Z",
     "start_time": "2020-06-04T23:23:13.249339Z"
    }
   },
   "outputs": [
    {
     "data": {
      "text/html": [
       "<div>\n",
       "<style scoped>\n",
       "    .dataframe tbody tr th:only-of-type {\n",
       "        vertical-align: middle;\n",
       "    }\n",
       "\n",
       "    .dataframe tbody tr th {\n",
       "        vertical-align: top;\n",
       "    }\n",
       "\n",
       "    .dataframe thead th {\n",
       "        text-align: right;\n",
       "    }\n",
       "</style>\n",
       "<table border=\"1\" class=\"dataframe\">\n",
       "  <thead>\n",
       "    <tr style=\"text-align: right;\">\n",
       "      <th></th>\n",
       "      <th>age</th>\n",
       "      <th>admissionweight</th>\n",
       "    </tr>\n",
       "    <tr>\n",
       "      <th>patientunitstayid</th>\n",
       "      <th></th>\n",
       "      <th></th>\n",
       "    </tr>\n",
       "  </thead>\n",
       "  <tbody>\n",
       "    <tr>\n",
       "      <th>1224402</th>\n",
       "      <td>84</td>\n",
       "      <td>94.1</td>\n",
       "    </tr>\n",
       "    <tr>\n",
       "      <th>1116074</th>\n",
       "      <td>50</td>\n",
       "      <td>91.0</td>\n",
       "    </tr>\n",
       "    <tr>\n",
       "      <th>1593370</th>\n",
       "      <td>71</td>\n",
       "      <td>58.5</td>\n",
       "    </tr>\n",
       "    <tr>\n",
       "      <th>1842744</th>\n",
       "      <td>75</td>\n",
       "      <td>125.1</td>\n",
       "    </tr>\n",
       "    <tr>\n",
       "      <th>3182842</th>\n",
       "      <td>39</td>\n",
       "      <td>48.2</td>\n",
       "    </tr>\n",
       "    <tr>\n",
       "      <th>...</th>\n",
       "      <td>...</td>\n",
       "      <td>...</td>\n",
       "    </tr>\n",
       "    <tr>\n",
       "      <th>1341158</th>\n",
       "      <td>80</td>\n",
       "      <td>68.7</td>\n",
       "    </tr>\n",
       "    <tr>\n",
       "      <th>2902515</th>\n",
       "      <td>46</td>\n",
       "      <td>150.2</td>\n",
       "    </tr>\n",
       "    <tr>\n",
       "      <th>2729632</th>\n",
       "      <td>77</td>\n",
       "      <td>64.4</td>\n",
       "    </tr>\n",
       "    <tr>\n",
       "      <th>2810322</th>\n",
       "      <td>38</td>\n",
       "      <td>79.6</td>\n",
       "    </tr>\n",
       "    <tr>\n",
       "      <th>1660293</th>\n",
       "      <td>32</td>\n",
       "      <td>95.0</td>\n",
       "    </tr>\n",
       "  </tbody>\n",
       "</table>\n",
       "<p>32831 rows × 2 columns</p>\n",
       "</div>"
      ],
      "text/plain": [
       "                   age  admissionweight\n",
       "patientunitstayid                      \n",
       "1224402             84             94.1\n",
       "1116074             50             91.0\n",
       "1593370             71             58.5\n",
       "1842744             75            125.1\n",
       "3182842             39             48.2\n",
       "...                ...              ...\n",
       "1341158             80             68.7\n",
       "2902515             46            150.2\n",
       "2729632             77             64.4\n",
       "2810322             38             79.6\n",
       "1660293             32             95.0\n",
       "\n",
       "[32831 rows x 2 columns]"
      ]
     },
     "execution_count": 6,
     "metadata": {},
     "output_type": "execute_result"
    }
   ],
   "source": [
    "X_test"
   ]
  },
  {
   "cell_type": "code",
   "execution_count": 7,
   "metadata": {
    "ExecuteTime": {
     "end_time": "2020-06-04T23:23:13.260992Z",
     "start_time": "2020-06-04T23:23:13.259172Z"
    }
   },
   "outputs": [],
   "source": [
    "# X_test.iloc[0]"
   ]
  },
  {
   "cell_type": "code",
   "execution_count": 8,
   "metadata": {
    "ExecuteTime": {
     "end_time": "2020-06-04T23:23:13.264172Z",
     "start_time": "2020-06-04T23:23:13.262275Z"
    }
   },
   "outputs": [],
   "source": [
    "# age = 33\n",
    "# admissionweight = 50\n",
    "# input_data = {'age': [age], 'admissionweight': [admissionweight]}\n",
    "# X_test = pd.DataFrame(input_data, columns=['age', 'admissionweight'])\n"
   ]
  },
  {
   "cell_type": "code",
   "execution_count": 9,
   "metadata": {
    "ExecuteTime": {
     "end_time": "2020-06-04T23:23:13.267439Z",
     "start_time": "2020-06-04T23:23:13.265551Z"
    }
   },
   "outputs": [],
   "source": [
    "# X_test.iloc[0]"
   ]
  },
  {
   "cell_type": "code",
   "execution_count": 10,
   "metadata": {
    "ExecuteTime": {
     "end_time": "2020-06-04T23:23:13.350585Z",
     "start_time": "2020-06-04T23:23:13.268962Z"
    }
   },
   "outputs": [
    {
     "name": "stdout",
     "output_type": "stream",
     "text": [
      "0.5396728701532089\n"
     ]
    }
   ],
   "source": [
    "\n",
    "logisticRegr_sc = make_pipeline(StandardScaler(), LogisticRegression(class_weight='balanced'))\n",
    "logisticRegr_sc.fit(X_train, y_train)\n",
    "\n",
    "# Test model and calculate outputs\n",
    "predictions_sc = logisticRegr_sc.predict(X_test)\n",
    "prob_sc = logisticRegr_sc.predict_proba(X_test)[:,1]\n",
    "lprob_sc = logisticRegr_sc.predict_log_proba(X_test)[:,1]\n",
    "scores_sc = logisticRegr_sc.score(X_test, y_test)\n",
    "print(scores_sc)"
   ]
  },
  {
   "cell_type": "code",
   "execution_count": 11,
   "metadata": {
    "ExecuteTime": {
     "end_time": "2020-06-04T23:23:13.356587Z",
     "start_time": "2020-06-04T23:23:13.352504Z"
    }
   },
   "outputs": [
    {
     "data": {
      "text/plain": [
       "array([0, 1])"
      ]
     },
     "execution_count": 11,
     "metadata": {},
     "output_type": "execute_result"
    }
   ],
   "source": [
    "np.unique(predictions_sc)"
   ]
  },
  {
   "cell_type": "code",
   "execution_count": 12,
   "metadata": {
    "ExecuteTime": {
     "end_time": "2020-06-04T23:23:13.362324Z",
     "start_time": "2020-06-04T23:23:13.358448Z"
    }
   },
   "outputs": [
    {
     "data": {
      "text/plain": [
       "(array([    0,     3,     5, ..., 32822, 32823, 32827]),)"
      ]
     },
     "execution_count": 12,
     "metadata": {},
     "output_type": "execute_result"
    }
   ],
   "source": [
    "np.where(predictions_sc==1)"
   ]
  },
  {
   "cell_type": "code",
   "execution_count": 13,
   "metadata": {
    "ExecuteTime": {
     "end_time": "2020-06-04T23:23:13.367529Z",
     "start_time": "2020-06-04T23:23:13.364126Z"
    }
   },
   "outputs": [
    {
     "name": "stdout",
     "output_type": "stream",
     "text": [
      "prob_sc:  min = 0.3729853784561912\n",
      "\t    max = 0.9729283126050523\n"
     ]
    }
   ],
   "source": [
    "print('prob_sc:  min = ' + str(np.min(prob_sc)))\n",
    "print('\\t    max = ' + str(np.max(prob_sc)))"
   ]
  },
  {
   "cell_type": "code",
   "execution_count": 14,
   "metadata": {
    "ExecuteTime": {
     "end_time": "2020-06-04T23:23:13.373034Z",
     "start_time": "2020-06-04T23:23:13.369482Z"
    }
   },
   "outputs": [
    {
     "data": {
      "text/plain": [
       "0.5296695506882767"
      ]
     },
     "execution_count": 14,
     "metadata": {},
     "output_type": "execute_result"
    }
   ],
   "source": [
    "prob_sc[0]"
   ]
  },
  {
   "cell_type": "code",
   "execution_count": 15,
   "metadata": {
    "ExecuteTime": {
     "end_time": "2020-06-04T23:23:13.422917Z",
     "start_time": "2020-06-04T23:23:13.375719Z"
    }
   },
   "outputs": [
    {
     "name": "stdout",
     "output_type": "stream",
     "text": [
      "162165\n",
      "1987\n",
      "0.987895365271212\n"
     ]
    }
   ],
   "source": [
    "# Baseline if always predict 0: wrong only for when y is 1\n",
    "N0_bl = patient[patient['label']==0].shape[0]\n",
    "N1_bl = patient[patient['label']==1].shape[0]\n",
    "\n",
    "print(str(N0_bl))\n",
    "print(str(N1_bl))\n",
    "print(N0_bl/(N0_bl + N1_bl))"
   ]
  },
  {
   "cell_type": "code",
   "execution_count": null,
   "metadata": {},
   "outputs": [],
   "source": []
  },
  {
   "cell_type": "code",
   "execution_count": null,
   "metadata": {},
   "outputs": [],
   "source": []
  },
  {
   "cell_type": "code",
   "execution_count": null,
   "metadata": {},
   "outputs": [],
   "source": []
  },
  {
   "cell_type": "code",
   "execution_count": null,
   "metadata": {},
   "outputs": [],
   "source": []
  },
  {
   "cell_type": "code",
   "execution_count": null,
   "metadata": {},
   "outputs": [],
   "source": []
  },
  {
   "cell_type": "code",
   "execution_count": null,
   "metadata": {},
   "outputs": [],
   "source": []
  },
  {
   "cell_type": "code",
   "execution_count": null,
   "metadata": {},
   "outputs": [],
   "source": []
  },
  {
   "cell_type": "code",
   "execution_count": null,
   "metadata": {},
   "outputs": [],
   "source": []
  }
 ],
 "metadata": {
  "kernelspec": {
   "display_name": "Python [conda env:insight] *",
   "language": "python",
   "name": "conda-env-insight-py"
  },
  "language_info": {
   "codemirror_mode": {
    "name": "ipython",
    "version": 3
   },
   "file_extension": ".py",
   "mimetype": "text/x-python",
   "name": "python",
   "nbconvert_exporter": "python",
   "pygments_lexer": "ipython3",
   "version": "3.7.7"
  },
  "toc": {
   "base_numbering": 1,
   "nav_menu": {},
   "number_sections": true,
   "sideBar": true,
   "skip_h1_title": false,
   "title_cell": "Table of Contents",
   "title_sidebar": "Contents",
   "toc_cell": false,
   "toc_position": {},
   "toc_section_display": true,
   "toc_window_display": false
  },
  "varInspector": {
   "cols": {
    "lenName": 16,
    "lenType": 16,
    "lenVar": 40
   },
   "kernels_config": {
    "python": {
     "delete_cmd_postfix": "",
     "delete_cmd_prefix": "del ",
     "library": "var_list.py",
     "varRefreshCmd": "print(var_dic_list())"
    },
    "r": {
     "delete_cmd_postfix": ") ",
     "delete_cmd_prefix": "rm(",
     "library": "var_list.r",
     "varRefreshCmd": "cat(var_dic_list()) "
    }
   },
   "position": {
    "height": "567px",
    "left": "1245px",
    "right": "20px",
    "top": "93px",
    "width": "536px"
   },
   "types_to_exclude": [
    "module",
    "function",
    "builtin_function_or_method",
    "instance",
    "_Feature"
   ],
   "window_display": false
  }
 },
 "nbformat": 4,
 "nbformat_minor": 4
}
