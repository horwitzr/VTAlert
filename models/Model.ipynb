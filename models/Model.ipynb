{
 "cells": [
  {
   "cell_type": "code",
   "execution_count": null,
   "metadata": {},
   "outputs": [],
   "source": []
  },
  {
   "cell_type": "markdown",
   "metadata": {
    "ExecuteTime": {
     "end_time": "2020-06-04T23:26:49.428774Z",
     "start_time": "2020-06-04T23:26:49.426270Z"
    }
   },
   "source": [
    "# Settings, Directory Specs, and Imports"
   ]
  },
  {
   "cell_type": "code",
   "execution_count": 1,
   "metadata": {
    "ExecuteTime": {
     "end_time": "2020-06-09T13:06:11.653915Z",
     "start_time": "2020-06-09T13:06:10.298277Z"
    }
   },
   "outputs": [],
   "source": [
    "# 0 = no streamlit\n",
    "# 1 = test user inputs\n",
    "# 2 = run in streamlit\n",
    "streamlit_status = 0\n",
    "#file_name_pickle_read = 'model_2020_06_06_1105.pickle'\n",
    "do_plots = 1\n",
    "\n",
    "dir_read = '/Users/rachellehorwitz/Documents/ViTalErt/data/filtered05/'\n",
    "#dir_read = '/Users/rachellehorwitz/Documents/VTAlert/over18_eicu/'\n",
    "\n",
    "from sklearn import metrics\n",
    "from sklearn.linear_model import LogisticRegression\n",
    "from sklearn.metrics import auc, confusion_matrix, plot_confusion_matrix, f1_score, roc_auc_score, roc_curve\n",
    "from sklearn.model_selection import train_test_split\n",
    "from sklearn.preprocessing import StandardScaler\n",
    "from sklearn.pipeline import make_pipeline\n",
    "import pandas as pd\n",
    "import numpy as np\n",
    "import seaborn as sns\n",
    "import matplotlib\n",
    "import matplotlib.pyplot as plt\n",
    "import streamlit as st\n",
    "import pickle\n",
    "from datetime import datetime\n",
    "import pyprojroot\n",
    "\n",
    "\n",
    "matplotlib.rcParams.update({'font.size': 22})"
   ]
  },
  {
   "cell_type": "markdown",
   "metadata": {},
   "source": [
    "# Function Definitions"
   ]
  },
  {
   "cell_type": "code",
   "execution_count": 2,
   "metadata": {
    "ExecuteTime": {
     "end_time": "2020-06-09T13:06:11.658566Z",
     "start_time": "2020-06-09T13:06:11.655571Z"
    }
   },
   "outputs": [],
   "source": [
    "def now_to_str():\n",
    "    now = str(datetime.now())\n",
    "    return now[0:4] + '_' + now[5:7] + '_' + now[8:10] + '_' + now[11:13] + now[14:16]"
   ]
  },
  {
   "cell_type": "code",
   "execution_count": 15,
   "metadata": {
    "ExecuteTime": {
     "end_time": "2020-06-09T13:17:50.747979Z",
     "start_time": "2020-06-09T13:17:50.383108Z"
    }
   },
   "outputs": [
    {
     "data": {
      "text/plain": [
       "Index(['patientunitstayid', 'patienthealthsystemstayid', 'age',\n",
       "       'admissionweight', 'admissionheight', 'bmi', 'gender_Female',\n",
       "       'ethnicity_African American', 'ethnicity_Asian', 'ethnicity_Caucasian',\n",
       "       'ethnicity_Hispanic', 'ethnicity_Native American',\n",
       "       'ethnicity_Other/Unknown', 'unitstaytype_admit', 'unitstaytype_readmit',\n",
       "       'unitstaytype_stepdown/other', 'unitstaytype_transfer', 'verbal',\n",
       "       'motor', 'eyes', 'thrombolytics', 'aids', 'hepaticfailure', 'lymphoma',\n",
       "       'metastaticcancer', 'leukemia', 'immunosuppression', 'cirrhosis',\n",
       "       'activetx', 'ima', 'midur', 'ventday1', 'oobventday1', 'oobintubday1',\n",
       "       'diabetes', 'creatinine', 'visitnumber'],\n",
       "      dtype='object')"
      ]
     },
     "execution_count": 15,
     "metadata": {},
     "output_type": "execute_result"
    }
   ],
   "source": [
    "Xy = pd.read_csv('/Users/rachellehorwitz/Documents/ViTalErt/notebooks/Xy_2020_06_09_0915.csv')\n",
    "y = Xy.pop('label')\n",
    "X = Xy.copy()\n",
    "X.columns"
   ]
  },
  {
   "cell_type": "markdown",
   "metadata": {},
   "source": [
    "# eICU Data Wrangling"
   ]
  },
  {
   "cell_type": "code",
   "execution_count": 3,
   "metadata": {
    "ExecuteTime": {
     "end_time": "2020-06-09T13:06:11.663752Z",
     "start_time": "2020-06-09T13:06:11.660685Z"
    },
    "scrolled": true
   },
   "outputs": [],
   "source": [
    "# # Read files from csv\n",
    "# patient = pd.read_csv(dir_read + 'patient.csv')\n",
    "# admissiondx = pd.read_csv(dir_read + 'admissiondx.csv')\n",
    "# diagnosis = pd.read_csv(dir_read + 'diagnosis.csv')\n",
    "# ptusid_pos = pd.read_csv(dir_read + 'pos_ptunitstayid.csv')\n",
    "\n",
    "# # Create dataframe of patientunitstayids in negative class\n",
    "# tmp = patient[~patient['patientunitstayid'].isin(ptusid_pos['patientunitstayid'])]\n",
    "# ptusid_neg = tmp[['patientunitstayid']]\n",
    "\n",
    "# # Create labels\n",
    "# ptusid_neg = ptusid_neg.assign(label=0)\n",
    "# ptusid_pos = ptusid_pos.assign(label=1)\n",
    "\n",
    "# # Add labels to \"patient\" dataframe and move 'label' column to left\n",
    "# ptusid_w_label = pd.concat([ptusid_pos, ptusid_neg])\n",
    "# ptusid_w_label.shape[0]\n",
    "# ptusid_w_label = ptusid_w_label.set_index('patientunitstayid')\n",
    "# patient = patient.set_index('patientunitstayid')\n",
    "# patient = patient.join(ptusid_w_label)\n",
    "\n",
    "# # Move 'label' column to left\n",
    "# cols = list(patient.columns)\n",
    "# cols = [cols[-1]] + cols[:-1]\n",
    "# patient = patient[cols]\n",
    "\n",
    "# # Remove patients who weigh less than 40 kg or more than 400 kg\n",
    "# patient = patient[(patient['admissionweight'] > 40) & \\\n",
    "#                    (patient['admissionweight'] < 400)]\n",
    "\n",
    "# # Remove patients who are shorter than 100 cm (3.2 ft) or taller than 230 cm (~7.5 ft)\n",
    "# patient = patient[(patient['admissionheight'] > 100 ) & (patient['admissionheight'] < 230)]\n",
    "# # Drop unneeded columns of patient\n",
    "# patient = patient.drop(columns=['hospitalid', 'wardid', 'dischargeweight', 'unitdischargetime24', \\\n",
    "#                                 'unitdischargeoffset', 'unitdischargelocation'])\n",
    "\n",
    "#  # Add BMI column to patient\n",
    "# patient = patient.assign(bmi=lambda x: x.admissionweight/((x.admissionheight/100)**2))"
   ]
  },
  {
   "cell_type": "code",
   "execution_count": 4,
   "metadata": {
    "ExecuteTime": {
     "end_time": "2020-06-09T13:06:11.667377Z",
     "start_time": "2020-06-09T13:06:11.665718Z"
    }
   },
   "outputs": [],
   "source": [
    "# # Dummy variables for gender, ethnicity, unitstaytype\n",
    "# patient = pd.concat([patient, pd.get_dummies(patient['gender'], prefix='gender')], axis=1)\n",
    "# patient = pd.concat([patient, pd.get_dummies(patient['ethnicity'], prefix='ethnicity')], axis=1)\n",
    "# patient = pd.concat([patient, pd.get_dummies(patient['unitstaytype'], prefix='unitstaytype')], axis=1)"
   ]
  },
  {
   "cell_type": "code",
   "execution_count": 5,
   "metadata": {
    "ExecuteTime": {
     "end_time": "2020-06-09T13:06:11.670838Z",
     "start_time": "2020-06-09T13:06:11.669142Z"
    }
   },
   "outputs": [],
   "source": [
    "# nstds = 5\n",
    "# print(str(169+nstds*patient['admissionheight'].std()))\n",
    "# print(str(169-nstds*patient['admissionheight'].std()))"
   ]
  },
  {
   "cell_type": "code",
   "execution_count": 6,
   "metadata": {
    "ExecuteTime": {
     "end_time": "2020-06-09T13:06:11.674004Z",
     "start_time": "2020-06-09T13:06:11.672285Z"
    }
   },
   "outputs": [],
   "source": [
    "# patient_pos = patient[patient['label']==1]\n",
    "# patient_neg = patient[patient['label']==0]\n",
    "# patient[patient['label']==1].shape[0]"
   ]
  },
  {
   "cell_type": "code",
   "execution_count": null,
   "metadata": {},
   "outputs": [],
   "source": []
  },
  {
   "cell_type": "markdown",
   "metadata": {},
   "source": [
    "# Defining X and y"
   ]
  },
  {
   "cell_type": "code",
   "execution_count": null,
   "metadata": {},
   "outputs": [],
   "source": []
  },
  {
   "cell_type": "code",
   "execution_count": 20,
   "metadata": {
    "ExecuteTime": {
     "end_time": "2020-06-09T13:22:05.657739Z",
     "start_time": "2020-06-09T13:22:05.490263Z"
    }
   },
   "outputs": [
    {
     "data": {
      "text/html": [
       "<div>\n",
       "<style scoped>\n",
       "    .dataframe tbody tr th:only-of-type {\n",
       "        vertical-align: middle;\n",
       "    }\n",
       "\n",
       "    .dataframe tbody tr th {\n",
       "        vertical-align: top;\n",
       "    }\n",
       "\n",
       "    .dataframe thead th {\n",
       "        text-align: right;\n",
       "    }\n",
       "</style>\n",
       "<table border=\"1\" class=\"dataframe\">\n",
       "  <thead>\n",
       "    <tr style=\"text-align: right;\">\n",
       "      <th></th>\n",
       "      <th>patientunitstayid</th>\n",
       "      <th>patienthealthsystemstayid</th>\n",
       "      <th>age</th>\n",
       "      <th>admissionweight</th>\n",
       "      <th>admissionheight</th>\n",
       "      <th>bmi</th>\n",
       "      <th>gender_Female</th>\n",
       "      <th>ethnicity_African American</th>\n",
       "      <th>ethnicity_Asian</th>\n",
       "      <th>ethnicity_Caucasian</th>\n",
       "      <th>...</th>\n",
       "      <th>cirrhosis</th>\n",
       "      <th>activetx</th>\n",
       "      <th>ima</th>\n",
       "      <th>midur</th>\n",
       "      <th>ventday1</th>\n",
       "      <th>oobventday1</th>\n",
       "      <th>oobintubday1</th>\n",
       "      <th>diabetes</th>\n",
       "      <th>creatinine</th>\n",
       "      <th>visitnumber</th>\n",
       "    </tr>\n",
       "  </thead>\n",
       "  <tbody>\n",
       "    <tr>\n",
       "      <th>132916</th>\n",
       "      <td>3122357</td>\n",
       "      <td>2537750</td>\n",
       "      <td>79</td>\n",
       "      <td>60.30</td>\n",
       "      <td>160.2</td>\n",
       "      <td>23.495911</td>\n",
       "      <td>1</td>\n",
       "      <td>0</td>\n",
       "      <td>0</td>\n",
       "      <td>1</td>\n",
       "      <td>...</td>\n",
       "      <td>0</td>\n",
       "      <td>1</td>\n",
       "      <td>0</td>\n",
       "      <td>0</td>\n",
       "      <td>1</td>\n",
       "      <td>1</td>\n",
       "      <td>1</td>\n",
       "      <td>0</td>\n",
       "      <td>0.40</td>\n",
       "      <td>1</td>\n",
       "    </tr>\n",
       "    <tr>\n",
       "      <th>122390</th>\n",
       "      <td>2935005</td>\n",
       "      <td>2380377</td>\n",
       "      <td>56</td>\n",
       "      <td>173.00</td>\n",
       "      <td>168.0</td>\n",
       "      <td>61.295351</td>\n",
       "      <td>1</td>\n",
       "      <td>0</td>\n",
       "      <td>0</td>\n",
       "      <td>1</td>\n",
       "      <td>...</td>\n",
       "      <td>0</td>\n",
       "      <td>1</td>\n",
       "      <td>0</td>\n",
       "      <td>0</td>\n",
       "      <td>0</td>\n",
       "      <td>0</td>\n",
       "      <td>0</td>\n",
       "      <td>0</td>\n",
       "      <td>0.69</td>\n",
       "      <td>1</td>\n",
       "    </tr>\n",
       "    <tr>\n",
       "      <th>100927</th>\n",
       "      <td>2483164</td>\n",
       "      <td>1973410</td>\n",
       "      <td>56</td>\n",
       "      <td>77.10</td>\n",
       "      <td>165.1</td>\n",
       "      <td>28.285264</td>\n",
       "      <td>1</td>\n",
       "      <td>0</td>\n",
       "      <td>0</td>\n",
       "      <td>1</td>\n",
       "      <td>...</td>\n",
       "      <td>0</td>\n",
       "      <td>1</td>\n",
       "      <td>0</td>\n",
       "      <td>0</td>\n",
       "      <td>1</td>\n",
       "      <td>1</td>\n",
       "      <td>1</td>\n",
       "      <td>0</td>\n",
       "      <td>0.33</td>\n",
       "      <td>1</td>\n",
       "    </tr>\n",
       "    <tr>\n",
       "      <th>29777</th>\n",
       "      <td>801234</td>\n",
       "      <td>611216</td>\n",
       "      <td>33</td>\n",
       "      <td>85.00</td>\n",
       "      <td>179.0</td>\n",
       "      <td>26.528510</td>\n",
       "      <td>1</td>\n",
       "      <td>0</td>\n",
       "      <td>0</td>\n",
       "      <td>1</td>\n",
       "      <td>...</td>\n",
       "      <td>0</td>\n",
       "      <td>1</td>\n",
       "      <td>0</td>\n",
       "      <td>0</td>\n",
       "      <td>1</td>\n",
       "      <td>1</td>\n",
       "      <td>1</td>\n",
       "      <td>0</td>\n",
       "      <td>0.80</td>\n",
       "      <td>1</td>\n",
       "    </tr>\n",
       "    <tr>\n",
       "      <th>135421</th>\n",
       "      <td>3146656</td>\n",
       "      <td>2558487</td>\n",
       "      <td>67</td>\n",
       "      <td>86.00</td>\n",
       "      <td>173.9</td>\n",
       "      <td>28.438016</td>\n",
       "      <td>0</td>\n",
       "      <td>0</td>\n",
       "      <td>0</td>\n",
       "      <td>1</td>\n",
       "      <td>...</td>\n",
       "      <td>0</td>\n",
       "      <td>1</td>\n",
       "      <td>0</td>\n",
       "      <td>0</td>\n",
       "      <td>0</td>\n",
       "      <td>0</td>\n",
       "      <td>0</td>\n",
       "      <td>0</td>\n",
       "      <td>1.05</td>\n",
       "      <td>1</td>\n",
       "    </tr>\n",
       "    <tr>\n",
       "      <th>...</th>\n",
       "      <td>...</td>\n",
       "      <td>...</td>\n",
       "      <td>...</td>\n",
       "      <td>...</td>\n",
       "      <td>...</td>\n",
       "      <td>...</td>\n",
       "      <td>...</td>\n",
       "      <td>...</td>\n",
       "      <td>...</td>\n",
       "      <td>...</td>\n",
       "      <td>...</td>\n",
       "      <td>...</td>\n",
       "      <td>...</td>\n",
       "      <td>...</td>\n",
       "      <td>...</td>\n",
       "      <td>...</td>\n",
       "      <td>...</td>\n",
       "      <td>...</td>\n",
       "      <td>...</td>\n",
       "      <td>...</td>\n",
       "      <td>...</td>\n",
       "    </tr>\n",
       "    <tr>\n",
       "      <th>9289</th>\n",
       "      <td>265597</td>\n",
       "      <td>228382</td>\n",
       "      <td>47</td>\n",
       "      <td>82.55</td>\n",
       "      <td>177.8</td>\n",
       "      <td>26.112807</td>\n",
       "      <td>0</td>\n",
       "      <td>0</td>\n",
       "      <td>0</td>\n",
       "      <td>1</td>\n",
       "      <td>...</td>\n",
       "      <td>0</td>\n",
       "      <td>0</td>\n",
       "      <td>0</td>\n",
       "      <td>0</td>\n",
       "      <td>0</td>\n",
       "      <td>0</td>\n",
       "      <td>0</td>\n",
       "      <td>0</td>\n",
       "      <td>5.50</td>\n",
       "      <td>1</td>\n",
       "    </tr>\n",
       "    <tr>\n",
       "      <th>17048</th>\n",
       "      <td>457269</td>\n",
       "      <td>388563</td>\n",
       "      <td>72</td>\n",
       "      <td>62.50</td>\n",
       "      <td>165.1</td>\n",
       "      <td>22.929040</td>\n",
       "      <td>0</td>\n",
       "      <td>0</td>\n",
       "      <td>0</td>\n",
       "      <td>0</td>\n",
       "      <td>...</td>\n",
       "      <td>0</td>\n",
       "      <td>1</td>\n",
       "      <td>0</td>\n",
       "      <td>0</td>\n",
       "      <td>1</td>\n",
       "      <td>1</td>\n",
       "      <td>1</td>\n",
       "      <td>0</td>\n",
       "      <td>-1.00</td>\n",
       "      <td>1</td>\n",
       "    </tr>\n",
       "    <tr>\n",
       "      <th>30452</th>\n",
       "      <td>820917</td>\n",
       "      <td>623061</td>\n",
       "      <td>78</td>\n",
       "      <td>86.80</td>\n",
       "      <td>182.8</td>\n",
       "      <td>25.975705</td>\n",
       "      <td>0</td>\n",
       "      <td>0</td>\n",
       "      <td>0</td>\n",
       "      <td>1</td>\n",
       "      <td>...</td>\n",
       "      <td>0</td>\n",
       "      <td>1</td>\n",
       "      <td>0</td>\n",
       "      <td>0</td>\n",
       "      <td>0</td>\n",
       "      <td>0</td>\n",
       "      <td>0</td>\n",
       "      <td>0</td>\n",
       "      <td>-1.00</td>\n",
       "      <td>1</td>\n",
       "    </tr>\n",
       "    <tr>\n",
       "      <th>17846</th>\n",
       "      <td>480885</td>\n",
       "      <td>407607</td>\n",
       "      <td>66</td>\n",
       "      <td>80.00</td>\n",
       "      <td>177.8</td>\n",
       "      <td>25.306173</td>\n",
       "      <td>0</td>\n",
       "      <td>0</td>\n",
       "      <td>0</td>\n",
       "      <td>0</td>\n",
       "      <td>...</td>\n",
       "      <td>0</td>\n",
       "      <td>0</td>\n",
       "      <td>0</td>\n",
       "      <td>0</td>\n",
       "      <td>0</td>\n",
       "      <td>0</td>\n",
       "      <td>0</td>\n",
       "      <td>0</td>\n",
       "      <td>5.40</td>\n",
       "      <td>1</td>\n",
       "    </tr>\n",
       "    <tr>\n",
       "      <th>144850</th>\n",
       "      <td>3328771</td>\n",
       "      <td>2721044</td>\n",
       "      <td>69</td>\n",
       "      <td>127.30</td>\n",
       "      <td>167.6</td>\n",
       "      <td>45.319006</td>\n",
       "      <td>1</td>\n",
       "      <td>0</td>\n",
       "      <td>0</td>\n",
       "      <td>1</td>\n",
       "      <td>...</td>\n",
       "      <td>0</td>\n",
       "      <td>0</td>\n",
       "      <td>0</td>\n",
       "      <td>0</td>\n",
       "      <td>0</td>\n",
       "      <td>0</td>\n",
       "      <td>0</td>\n",
       "      <td>1</td>\n",
       "      <td>1.29</td>\n",
       "      <td>1</td>\n",
       "    </tr>\n",
       "  </tbody>\n",
       "</table>\n",
       "<p>118662 rows × 37 columns</p>\n",
       "</div>"
      ],
      "text/plain": [
       "        patientunitstayid  patienthealthsystemstayid  age  admissionweight  \\\n",
       "132916            3122357                    2537750   79            60.30   \n",
       "122390            2935005                    2380377   56           173.00   \n",
       "100927            2483164                    1973410   56            77.10   \n",
       "29777              801234                     611216   33            85.00   \n",
       "135421            3146656                    2558487   67            86.00   \n",
       "...                   ...                        ...  ...              ...   \n",
       "9289               265597                     228382   47            82.55   \n",
       "17048              457269                     388563   72            62.50   \n",
       "30452              820917                     623061   78            86.80   \n",
       "17846              480885                     407607   66            80.00   \n",
       "144850            3328771                    2721044   69           127.30   \n",
       "\n",
       "        admissionheight        bmi  gender_Female  ethnicity_African American  \\\n",
       "132916            160.2  23.495911              1                           0   \n",
       "122390            168.0  61.295351              1                           0   \n",
       "100927            165.1  28.285264              1                           0   \n",
       "29777             179.0  26.528510              1                           0   \n",
       "135421            173.9  28.438016              0                           0   \n",
       "...                 ...        ...            ...                         ...   \n",
       "9289              177.8  26.112807              0                           0   \n",
       "17048             165.1  22.929040              0                           0   \n",
       "30452             182.8  25.975705              0                           0   \n",
       "17846             177.8  25.306173              0                           0   \n",
       "144850            167.6  45.319006              1                           0   \n",
       "\n",
       "        ethnicity_Asian  ethnicity_Caucasian  ...  cirrhosis  activetx  ima  \\\n",
       "132916                0                    1  ...          0         1    0   \n",
       "122390                0                    1  ...          0         1    0   \n",
       "100927                0                    1  ...          0         1    0   \n",
       "29777                 0                    1  ...          0         1    0   \n",
       "135421                0                    1  ...          0         1    0   \n",
       "...                 ...                  ...  ...        ...       ...  ...   \n",
       "9289                  0                    1  ...          0         0    0   \n",
       "17048                 0                    0  ...          0         1    0   \n",
       "30452                 0                    1  ...          0         1    0   \n",
       "17846                 0                    0  ...          0         0    0   \n",
       "144850                0                    1  ...          0         0    0   \n",
       "\n",
       "        midur  ventday1  oobventday1  oobintubday1  diabetes  creatinine  \\\n",
       "132916      0         1            1             1         0        0.40   \n",
       "122390      0         0            0             0         0        0.69   \n",
       "100927      0         1            1             1         0        0.33   \n",
       "29777       0         1            1             1         0        0.80   \n",
       "135421      0         0            0             0         0        1.05   \n",
       "...       ...       ...          ...           ...       ...         ...   \n",
       "9289        0         0            0             0         0        5.50   \n",
       "17048       0         1            1             1         0       -1.00   \n",
       "30452       0         0            0             0         0       -1.00   \n",
       "17846       0         0            0             0         0        5.40   \n",
       "144850      0         0            0             0         1        1.29   \n",
       "\n",
       "        visitnumber  \n",
       "132916            1  \n",
       "122390            1  \n",
       "100927            1  \n",
       "29777             1  \n",
       "135421            1  \n",
       "...             ...  \n",
       "9289              1  \n",
       "17048             1  \n",
       "30452             1  \n",
       "17846             1  \n",
       "144850            1  \n",
       "\n",
       "[118662 rows x 37 columns]"
      ]
     },
     "execution_count": 20,
     "metadata": {},
     "output_type": "execute_result"
    }
   ],
   "source": [
    "# # Define X and y\n",
    "# #tmp1 = patient[['age', 'admissionweight', 'admissionheight']]\n",
    "# X = pd.concat([patient[['age', 'admissionweight', 'admissionheight']], \\\n",
    "#                patient.filter(like='gender_'), \\\n",
    "#                patient.filter(like='unitstaytype_'), \\\n",
    "#                patient.filter(like='ethnicity_')], axis=1)\n",
    "# #X = X.assign(bmi=lambda x: x.admissionweight/((x.admissionheight/100)**2))\n",
    "\n",
    "# y = patient['label']\n",
    "\n",
    "# # Partition and train model\n",
    "X_train, X_test, y_train, y_test = train_test_split(X, y, test_size = 0.2, stratify=y)\n",
    "X_train"
   ]
  },
  {
   "cell_type": "code",
   "execution_count": 21,
   "metadata": {
    "ExecuteTime": {
     "end_time": "2020-06-09T13:22:07.777472Z",
     "start_time": "2020-06-09T13:22:07.772570Z"
    }
   },
   "outputs": [
    {
     "data": {
      "text/plain": [
       "109473    1\n",
       "131869    1\n",
       "1073      1\n",
       "143372    1\n",
       "48477     1\n",
       "         ..\n",
       "41235     1\n",
       "14425     1\n",
       "40476     1\n",
       "116868    1\n",
       "119352    1\n",
       "Name: label, Length: 364, dtype: int64"
      ]
     },
     "execution_count": 21,
     "metadata": {},
     "output_type": "execute_result"
    }
   ],
   "source": [
    "y_train[y_train==1]"
   ]
  },
  {
   "cell_type": "code",
   "execution_count": null,
   "metadata": {},
   "outputs": [],
   "source": []
  },
  {
   "cell_type": "markdown",
   "metadata": {},
   "source": [
    "# Breakpoint"
   ]
  },
  {
   "cell_type": "code",
   "execution_count": null,
   "metadata": {
    "ExecuteTime": {
     "end_time": "2020-06-09T00:06:34.017706Z",
     "start_time": "2020-06-09T00:06:34.012003Z"
    }
   },
   "outputs": [],
   "source": [
    "if streamlit_status == 1:\n",
    "    age = 30\n",
    "    admissionweight = 50\n",
    "if streamlit_status == 2:\n",
    "    age = st.slider('Age', 19, 90)\n",
    "    admissionweight = st.slider('Admission Weight (kg)', 40, 300)\n",
    "if (streamlit_status == 1) | (streamlit_status == 2): \n",
    "    input_data = {'age': [age], 'admissionweight': [admissionweight]}\n",
    "    X_test = pd.DataFrame(input_data, columns=['age', 'admissionweight'])"
   ]
  },
  {
   "cell_type": "markdown",
   "metadata": {},
   "source": [
    "# Model and Predict"
   ]
  },
  {
   "cell_type": "code",
   "execution_count": null,
   "metadata": {
    "ExecuteTime": {
     "end_time": "2020-06-09T00:06:34.023147Z",
     "start_time": "2020-06-09T00:06:34.019789Z"
    }
   },
   "outputs": [],
   "source": [
    "# THRESHOLD = 0.01\n",
    "# y_pred = np.where(log_clf.predict_proba(x_train)[:,1] > THRESHOLD, 1, 0) # log_clf: classifier. \n",
    "# # [:,1]: picking out positive probabilities. where that's true, insert value of 1, otherwise 0"
   ]
  },
  {
   "cell_type": "code",
   "execution_count": 23,
   "metadata": {
    "ExecuteTime": {
     "end_time": "2020-06-09T13:23:08.907828Z",
     "start_time": "2020-06-09T13:23:07.655651Z"
    },
    "scrolled": false
   },
   "outputs": [
    {
     "name": "stdout",
     "output_type": "stream",
     "text": [
      "0.6832063641879593\n",
      "F1 score is: 0.012815126050420168\n",
      "No Skill: ROC AUC=0.500\n",
      "Logistic: ROC AUC=0.718\n"
     ]
    },
    {
     "data": {
      "image/png": "[encoded data removed]",
      "text/plain": [
       "<Figure size 432x288 with 2 Axes>"
      ]
     },
     "metadata": {
      "needs_background": "light"
     },
     "output_type": "display_data"
    },
    {
     "data": {
      "image/png": "[encoded data removed]",
      "text/plain": [
       "<Figure size 432x288 with 2 Axes>"
      ]
     },
     "metadata": {
      "needs_background": "light"
     },
     "output_type": "display_data"
    },
    {
     "data": {
      "image/png": "[encoded data removed]",
      "text/plain": [
       "<Figure size 432x288 with 1 Axes>"
      ]
     },
     "metadata": {
      "needs_background": "light"
     },
     "output_type": "display_data"
    },
    {
     "name": "stdout",
     "output_type": "stream",
     "text": [
      "prob_sc:  min = 2.034634375032777e-17\n",
      "\t    max = 0.9659187302416279\n"
     ]
    }
   ],
   "source": [
    "# Logistic Regression - basic form\n",
    "\n",
    "logisticRegr_sc = make_pipeline(StandardScaler(), LogisticRegression(class_weight='balanced'))\n",
    "logisticRegr_sc.fit(X_train, y_train)\n",
    "file_name_pickle = 'model_' + now_to_str() + '.pickle'\n",
    "pickle.dump(logisticRegr_sc, open(file_name_pickle, 'wb'))\n",
    "\n",
    "# if (streamlit_status == 1) | (streamlit_status == 2):\n",
    "#     logisticRegr_sc = pickle.load(open(file_name_pickle_read, 'rb'))\n",
    "\n",
    "yhat_logisticRegr_sc = logisticRegr_sc.predict(X_test)\n",
    "prob_logisticRegr_sc = logisticRegr_sc.predict_proba(X_test)[:,1]\n",
    "#lprob_sc = logisticRegr_sc.predict_log_proba(X_test)[:,1]\n",
    "\n",
    "scores_sc = logisticRegr_sc.score(X_test, y_test)\n",
    "print(scores_sc)\n",
    "print('F1 score is: ' + str(f1_score(y_test, yhat_logisticRegr_sc)))\n",
    "\n",
    "# # Print baseline accuracy\n",
    "# N0_bl = patient[patient['label']==0].shape[0]\n",
    "# N1_bl = patient[patient['label']==1].shape[0]\n",
    "# print('{:d} patients in negative class'.format(N0_bl))\n",
    "# print('{:d} patients in positive class'.format(N1_bl))\n",
    "# print('If you predict 0 all the time, accuracy is {:.5f}%'.format(N0_bl/(N0_bl+N1_bl)))\n",
    "\n",
    "cm = confusion_matrix(list(y_test), yhat_logisticRegr_sc)\n",
    "plot_confusion_matrix(logisticRegr_sc, X_test, list(y_test))\n",
    "plot_confusion_matrix(logisticRegr_sc, X_test, list(y_test),  normalize='true')\n",
    "\n",
    "# ROC curve (https://machinelearningmastery.com/roc-curves-and-precision-recall-curves-for-classification-in-python/)\n",
    "noskill_probs = [0 for _ in range(len(y_test))]\n",
    "noskill_auc = roc_auc_score(y_test, noskill_probs)\n",
    "logisticRegr_auc = roc_auc_score(y_test, prob_logisticRegr_sc)\n",
    "print('No Skill: ROC AUC=%.3f' % (noskill_auc))\n",
    "print('Logistic: ROC AUC=%.3f' % (logisticRegr_auc))\n",
    "ns_fpr, ns_tpr, _ = roc_curve(y_test, noskill_probs)\n",
    "lr_fpr, lr_tpr, _ = roc_curve(y_test, prob_logisticRegr_sc)\n",
    "\n",
    "plt.figure()\n",
    "# plot the roc curve for the model\n",
    "plt.plot(ns_fpr, ns_tpr, linestyle='--')\n",
    "plt.plot(lr_fpr, lr_tpr, marker='.', label='Logistic Regr.')\n",
    "# axis labels\n",
    "plt.xlabel('False Positive Rate')\n",
    "plt.ylabel('True Positive Rate')\n",
    "# show the legend\n",
    "plt.legend()\n",
    "# show the plot\n",
    "plt.show()\n",
    "\n",
    "print('prob_sc:  min = ' + str(np.min(prob_logisticRegr_sc)))\n",
    "print('\\t    max = ' + str(np.max(prob_logisticRegr_sc)))"
   ]
  },
  {
   "cell_type": "code",
   "execution_count": null,
   "metadata": {},
   "outputs": [],
   "source": []
  },
  {
   "cell_type": "code",
   "execution_count": null,
   "metadata": {
    "ExecuteTime": {
     "end_time": "2020-06-09T00:06:46.190883Z",
     "start_time": "2020-06-09T00:06:34.571166Z"
    }
   },
   "outputs": [],
   "source": [
    "# Random Forest Classification - basic form\n",
    "from sklearn.ensemble import RandomForestClassifier\n",
    "rfc_vanilla = RandomForestClassifier(n_estimators=100, criterion='entropy', random_state=0)\n",
    "rfc_vanilla.fit(X_train, y_train)"
   ]
  },
  {
   "cell_type": "code",
   "execution_count": null,
   "metadata": {},
   "outputs": [],
   "source": []
  },
  {
   "cell_type": "code",
   "execution_count": null,
   "metadata": {
    "ExecuteTime": {
     "end_time": "2020-06-09T00:06:46.745375Z",
     "start_time": "2020-06-09T00:06:46.192667Z"
    },
    "scrolled": true
   },
   "outputs": [],
   "source": [
    "logisticRegr_sc = make_pipeline(StandardScaler(), LogisticRegression())\n",
    "logisticRegr_sc.fit(X_train, y_train)\n",
    "file_name_pickle = 'model_' + now_to_str() + '.pickle'\n",
    "pickle.dump(logisticRegr_sc, open(file_name_pickle, 'wb'))\n",
    "\n",
    "# if (streamlit_status == 1) | (streamlit_status == 2):\n",
    "#     logisticRegr_sc = pickle.load(open(file_name_pickle_read, 'rb'))\n",
    "\n",
    "yhat_logisticRegr_sc = logisticRegr_sc.predict(X_test)\n",
    "prob_logisticRegr_sc = logisticRegr_sc.predict_proba(X_test)[:,1]\n",
    "#lprob_sc = logisticRegr_sc.predict_log_proba(X_test)[:,1]\n",
    "\n",
    "scores_sc = logisticRegr_sc.score(X_test, y_test)\n",
    "print(scores_sc)\n",
    "print('F1 score is: ' + str(f1_score(y_test, yhat_logisticRegr_sc)))\n",
    "\n",
    "# Print baseline accuracy\n",
    "N0_bl = patient[patient['label']==0].shape[0]\n",
    "N1_bl = patient[patient['label']==1].shape[0]\n",
    "print('{:d} patients in negative class'.format(N0_bl))\n",
    "print('{:d} patients in positive class'.format(N1_bl))\n",
    "print('If you predict 0 all the time, accuracy is {:.5f}%'.format(N0_bl/(N0_bl+N1_bl)))\n",
    "\n",
    "cm = confusion_matrix(list(y_test), yhat_logisticRegr_sc)\n",
    "plot_confusion_matrix(logisticRegr_sc, X_test, list(y_test))\n",
    "plot_confusion_matrix(logisticRegr_sc, X_test, list(y_test),  normalize='true')\n",
    "\n",
    "# ROC curve (https://machinelearningmastery.com/roc-curves-and-precision-recall-curves-for-classification-in-python/)\n",
    "noskill_probs = [0 for _ in range(len(y_test))]\n",
    "noskill_auc = roc_auc_score(y_test, noskill_probs)\n",
    "logisticRegr_auc = roc_auc_score(y_test, prob_logisticRegr_sc)\n",
    "print('No Skill: ROC AUC=%.3f' % (noskill_auc))\n",
    "print('Logistic: ROC AUC=%.3f' % (logisticRegr_auc))\n",
    "ns_fpr, ns_tpr, _ = roc_curve(y_test, noskill_probs)\n",
    "lr_fpr, lr_tpr, _ = roc_curve(y_test, prob_logisticRegr_sc)\n",
    "\n",
    "plt.figure()\n",
    "# plot the roc curve for the model\n",
    "plt.plot(ns_fpr, ns_tpr, linestyle='--')\n",
    "plt.plot(lr_fpr, lr_tpr, marker='.', label='Logistic Regr.')\n",
    "# axis labels\n",
    "plt.xlabel('False Positive Rate')\n",
    "plt.ylabel('True Positive Rate')\n",
    "# show the legend\n",
    "plt.legend()\n",
    "# show the plot\n",
    "plt.show()\n",
    "\n",
    "print('prob_sc:  min = ' + str(np.min(prob_logisticRegr_sc)))\n",
    "print('\\t    max = ' + str(np.max(prob_logisticRegr_sc)))"
   ]
  },
  {
   "cell_type": "code",
   "execution_count": null,
   "metadata": {
    "ExecuteTime": {
     "end_time": "2020-06-05T12:37:29.377567Z",
     "start_time": "2020-06-05T12:37:29.043910Z"
    }
   },
   "outputs": [],
   "source": [
    "\n"
   ]
  },
  {
   "cell_type": "code",
   "execution_count": null,
   "metadata": {},
   "outputs": [],
   "source": []
  },
  {
   "cell_type": "code",
   "execution_count": null,
   "metadata": {},
   "outputs": [],
   "source": []
  },
  {
   "cell_type": "markdown",
   "metadata": {},
   "source": [
    "# Breakpoint"
   ]
  },
  {
   "cell_type": "code",
   "execution_count": null,
   "metadata": {},
   "outputs": [],
   "source": []
  },
  {
   "cell_type": "code",
   "execution_count": null,
   "metadata": {},
   "outputs": [],
   "source": []
  }
 ],
 "metadata": {
  "kernelspec": {
   "display_name": "Python 3",
   "language": "python",
   "name": "python3"
  },
  "language_info": {
   "codemirror_mode": {
    "name": "ipython",
    "version": 3
   },
   "file_extension": ".py",
   "mimetype": "text/x-python",
   "name": "python",
   "nbconvert_exporter": "python",
   "pygments_lexer": "ipython3",
   "version": "3.7.7"
  },
  "toc": {
   "base_numbering": 1,
   "nav_menu": {},
   "number_sections": true,
   "sideBar": true,
   "skip_h1_title": false,
   "title_cell": "Table of Contents",
   "title_sidebar": "Contents",
   "toc_cell": false,
   "toc_position": {
    "height": "calc(100% - 180px)",
    "left": "10px",
    "top": "150px",
    "width": "165px"
   },
   "toc_section_display": true,
   "toc_window_display": true
  },
  "varInspector": {
   "cols": {
    "lenName": 16,
    "lenType": 16,
    "lenVar": 40
   },
   "kernels_config": {
    "python": {
     "delete_cmd_postfix": "",
     "delete_cmd_prefix": "del ",
     "library": "var_list.py",
     "varRefreshCmd": "print(var_dic_list())"
    },
    "r": {
     "delete_cmd_postfix": ") ",
     "delete_cmd_prefix": "rm(",
     "library": "var_list.r",
     "varRefreshCmd": "cat(var_dic_list()) "
    }
   },
   "position": {
    "height": "567px",
    "left": "690px",
    "right": "20px",
    "top": "8px",
    "width": "536px"
   },
   "types_to_exclude": [
    "module",
    "function",
    "builtin_function_or_method",
    "instance",
    "_Feature"
   ],
   "window_display": false
  }
 },
 "nbformat": 4,
 "nbformat_minor": 4
}
