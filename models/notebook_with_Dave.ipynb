{
 "cells": [
  {
   "cell_type": "code",
   "execution_count": null,
   "metadata": {},
   "outputs": [],
   "source": []
  },
  {
   "cell_type": "markdown",
   "metadata": {
    "ExecuteTime": {
     "end_time": "2020-06-04T23:26:49.428774Z",
     "start_time": "2020-06-04T23:26:49.426270Z"
    }
   },
   "source": [
    "# Settings, Directory Specs, and Imports"
   ]
  },
  {
   "cell_type": "code",
   "execution_count": 1,
   "metadata": {
    "ExecuteTime": {
     "end_time": "2020-06-11T17:31:10.851821Z",
     "start_time": "2020-06-11T17:31:09.259797Z"
    }
   },
   "outputs": [],
   "source": [
    "# 0 = no streamlit\n",
    "# 1 = test user inputs\n",
    "# 2 = run in streamlit\n",
    "streamlit_status = 0\n",
    "#file_name_pickle_read = 'model_2020_06_06_1105.pickle'\n",
    "do_plots = 1\n",
    "\n",
    "dir_read = '/Users/rachellehorwitz/Documents/ViTalErt/data/filtered05/'\n",
    "#dir_read = '/Users/rachellehorwitz/Documents/VTAlert/over18_eicu/'\n",
    "\n",
    "from sklearn import metrics\n",
    "from sklearn.linear_model import LogisticRegression\n",
    "from sklearn.metrics import auc, confusion_matrix, plot_confusion_matrix, f1_score, roc_auc_score, roc_curve\n",
    "from sklearn.model_selection import GridSearchCV, learning_curve, train_test_split, ShuffleSplit, StratifiedKFold\n",
    "from sklearn.preprocessing import StandardScaler\n",
    "from sklearn.pipeline import make_pipeline\n",
    "import pandas as pd\n",
    "import numpy as np\n",
    "import seaborn as sns\n",
    "import matplotlib\n",
    "import matplotlib.pyplot as plt\n",
    "import streamlit as st\n",
    "import pickle\n",
    "from datetime import datetime\n",
    "import pyprojroot\n",
    "\n",
    "\n",
    "matplotlib.rcParams.update({'font.size': 22})"
   ]
  },
  {
   "cell_type": "markdown",
   "metadata": {},
   "source": [
    "# Function Definitions"
   ]
  },
  {
   "cell_type": "code",
   "execution_count": 2,
   "metadata": {
    "ExecuteTime": {
     "end_time": "2020-06-11T17:31:10.856353Z",
     "start_time": "2020-06-11T17:31:10.853443Z"
    }
   },
   "outputs": [],
   "source": [
    "def now_to_str():\n",
    "    now = str(datetime.now())\n",
    "    return now[0:4] + '_' + now[5:7] + '_' + now[8:10] + '_' + now[11:13] + now[14:16]"
   ]
  },
  {
   "cell_type": "markdown",
   "metadata": {},
   "source": [
    "# Defining X and y"
   ]
  },
  {
   "cell_type": "code",
   "execution_count": 3,
   "metadata": {
    "ExecuteTime": {
     "end_time": "2020-06-11T17:31:11.215519Z",
     "start_time": "2020-06-11T17:31:10.858476Z"
    }
   },
   "outputs": [
    {
     "data": {
      "text/plain": [
       "(34,)"
      ]
     },
     "execution_count": 3,
     "metadata": {},
     "output_type": "execute_result"
    }
   ],
   "source": [
    "Xy = pd.read_csv('/Users/rachellehorwitz/Documents/ViTalErt/notebooks/Xy_2020_06_10_1425.csv')\n",
    "Xy = Xy.set_index('patientunitstayid')\n",
    "y = Xy.pop('label')\n",
    "X = Xy.copy()\n",
    "X.columns.shape"
   ]
  },
  {
   "cell_type": "code",
   "execution_count": 4,
   "metadata": {
    "ExecuteTime": {
     "end_time": "2020-06-11T17:31:11.220194Z",
     "start_time": "2020-06-11T17:31:11.217694Z"
    }
   },
   "outputs": [],
   "source": [
    "cols = list(X.columns)"
   ]
  },
  {
   "cell_type": "code",
   "execution_count": 5,
   "metadata": {
    "ExecuteTime": {
     "end_time": "2020-06-11T17:31:11.224973Z",
     "start_time": "2020-06-11T17:31:11.221811Z"
    }
   },
   "outputs": [],
   "source": [
    "vars_categ = ['gender_Female', 'ethnicity_AfricanAmerican', 'ethnicity_Asian', 'ethnicity_Caucasian', \\\n",
    "             'ethnicity_Hispanic', 'ethnicity_NativeAmerican', 'ethnicity_Other/Unknown',\\\n",
    "              'unitstaytype_admit', 'unitstaytype_readmit', 'unitstaytype_transfer', \\\n",
    "             'thrombolytics', 'aids', 'hepaticfailure' 'lymphoma', 'metastiticcancer', 'leukemia', \\\n",
    "             'immunosuppression', 'cirrhosis', 'activetx', 'ima', 'midur',\n",
    "               'ventday1', 'oobventday1', 'oobintubday1', 'diabetes']"
   ]
  },
  {
   "cell_type": "code",
   "execution_count": 6,
   "metadata": {
    "ExecuteTime": {
     "end_time": "2020-06-11T17:31:11.228928Z",
     "start_time": "2020-06-11T17:31:11.226640Z"
    }
   },
   "outputs": [],
   "source": [
    "vars_cont = ['age', 'admissionweight', 'admissionheight', 'bmi', \\\n",
    "             'verbal', 'motor', 'eyes', 'visitnumber', 'heartrate']"
   ]
  },
  {
   "cell_type": "code",
   "execution_count": 7,
   "metadata": {
    "ExecuteTime": {
     "end_time": "2020-06-11T17:31:11.238579Z",
     "start_time": "2020-06-11T17:31:11.230600Z"
    }
   },
   "outputs": [],
   "source": [
    "def grid_search_wrapper(clf, X_train_sc, y_train, X_test_sc, y_test, scoring):\n",
    "    \"\"\"\n",
    "    fits a GridSearchCV classifier using refit_score for optimization\n",
    "    prints classifier performance metrics\n",
    "    \"\"\"\n",
    "    skf = StratifiedKFold(n_splits=10)    \n",
    "    \n",
    "    weights = np.array([0.001, \\\n",
    "                        y[y==1].shape[0] / (y[y==1].shape[0] + y.shape[0]), \\\n",
    "                        0.005, 0.01, 0.2, 0.5])\n",
    "    \n",
    "    hyperparam_grid = {'penalty': ['l1', 'l2'], \\\n",
    "                       'C': np.logspace(-6, 3, 10), \\\n",
    "                       'class_weight': [{0: x,   1: 1-x} for x in weights], \\\n",
    "                       'fit_intercept': [True, False]}\n",
    "    #GridSearchCV(clf, param, scoring='f1_score',refit=True,cv=10)\n",
    "    \n",
    "    \n",
    "    grid_search = GridSearchCV(clf, scoring=scoring, param_grid=hyperparam_grid, refit=True,\n",
    "                           cv=skf, return_train_score=True, n_jobs=4)\n",
    "    grid_search.fit(X_train_sc, y_train)\n",
    "\n",
    "    # make the predictions\n",
    "    y_pred = grid_search.predict(X_test_sc)\n",
    "\n",
    "    print('Best params for ' + scoring)\n",
    "    print(grid_search.best_params_)\n",
    "\n",
    "    # confusion matrix on the test data.\n",
    "    print('\\nConfusion matrix of Logistic Regression optimized')\n",
    "    print(pd.DataFrame(confusion_matrix(y_test, y_pred),\n",
    "                 columns=['pred_neg', 'pred_pos'], index=['neg', 'pos']))\n",
    "    return grid_search, y_pred"
   ]
  },
  {
   "cell_type": "code",
   "execution_count": 8,
   "metadata": {
    "ExecuteTime": {
     "end_time": "2020-06-11T17:33:29.976802Z",
     "start_time": "2020-06-11T17:31:11.241673Z"
    },
    "scrolled": true
   },
   "outputs": [
    {
     "name": "stdout",
     "output_type": "stream",
     "text": [
      "Best params for roc_auc\n",
      "{'C': 0.01, 'class_weight': {0: 0.005, 1: 0.995}, 'fit_intercept': False, 'penalty': 'l2'}\n",
      "\n",
      "Confusion matrix of Logistic Regression optimized\n",
      "     pred_neg  pred_pos\n",
      "neg     16522     12642\n",
      "pos        14        76\n"
     ]
    }
   ],
   "source": [
    "\n",
    "from sklearn.metrics import roc_curve, precision_recall_curve, auc, make_scorer, recall_score, accuracy_score, precision_score, confusion_matrix\n",
    "\n",
    "X_train, X_test, y_train, y_test = train_test_split(X, y, test_size=0.2, stratify=y, random_state=1)\n",
    "scaler = StandardScaler()\n",
    "X_train_sc = scaler.fit_transform(X_train)\n",
    "X_test_sc = scaler.transform(X_test)\n",
    "\n",
    "clf = LogisticRegression()\n",
    "# clf.fit(X_train_sc, y_train)\n",
    "\n",
    "grid_search_clf_rocauc, y_pred_rocauc = grid_search_wrapper(clf, X_train_sc, y_train, X_test_sc, y_test, 'roc_auc')\n",
    "\n",
    "\n",
    "# yhat_logisticRegr_sc = logisticRegr_sc.predict(X_test_sc)\n",
    "# prob_logisticRegr_sc = logisticRegr_sc.predict_proba(X_test_sc)[:,1]\n"
   ]
  },
  {
   "cell_type": "code",
   "execution_count": 23,
   "metadata": {
    "ExecuteTime": {
     "end_time": "2020-06-11T17:34:53.791610Z",
     "start_time": "2020-06-11T17:34:53.649440Z"
    }
   },
   "outputs": [],
   "source": [
    "clf_w_best_params = LogisticRegression(class_weight={0: 0.005, 1: 0.995}, C=0.01, fit_intercept=False, penalty='l2')\n",
    "clf_w_best_params.fit(X_train_sc, y_train)\n",
    "y_pred = clf_w_best_params.predict(X_test_sc)\n",
    "y_probs = clf_w_best_params.predict_proba(X_test_sc)#[:,1]\n",
    "# print('accuracy is ' + str(accuracy_score(y_test, y_pred)))\n",
    "# print('precision is ' + str(precision_score(y_test, y_pred)))\n",
    "\n",
    "\n",
    "\n",
    "# print('F1 score is ' + str(f1_score(y_test, y_pred_rocauc)))\n",
    "# print('AUC is ' + str(roc_auc_score(y_test,y_probs)))\n",
    "# print('Min prob is ' + str(y_probs.min()))\n",
    "# print('Max prob is ' + str(y_probs.max()))"
   ]
  },
  {
   "cell_type": "code",
   "execution_count": 24,
   "metadata": {
    "ExecuteTime": {
     "end_time": "2020-06-11T17:34:56.489723Z",
     "start_time": "2020-06-11T17:34:56.484573Z"
    }
   },
   "outputs": [
    {
     "data": {
      "text/plain": [
       "array([[0.57443396, 0.42556604],\n",
       "       [0.38251181, 0.61748819],\n",
       "       [0.47566134, 0.52433866],\n",
       "       ...,\n",
       "       [0.55886687, 0.44113313],\n",
       "       [0.62246497, 0.37753503],\n",
       "       [0.60363094, 0.39636906]])"
      ]
     },
     "execution_count": 24,
     "metadata": {},
     "output_type": "execute_result"
    }
   ],
   "source": [
    "y_probs"
   ]
  },
  {
   "cell_type": "code",
   "execution_count": 25,
   "metadata": {
    "ExecuteTime": {
     "end_time": "2020-06-11T17:34:59.398215Z",
     "start_time": "2020-06-11T17:34:59.351075Z"
    }
   },
   "outputs": [
    {
     "name": "stdout",
     "output_type": "stream",
     "text": [
      "Logistic: ROC AUC=0.705\n"
     ]
    },
    {
     "data": {
      "application/javascript": [
       "/* Put everything inside the global mpl namespace */\n",
       "window.mpl = {};\n",
       "\n",
       "\n",
       "mpl.get_websocket_type = function() {\n",
       "    if (typeof(WebSocket) !== 'undefined') {\n",
       "        return WebSocket;\n",
       "    } else if (typeof(MozWebSocket) !== 'undefined') {\n",
       "        return MozWebSocket;\n",
       "    } else {\n",
       "        alert('Your browser does not have WebSocket support. ' +\n",
       "              'Please try Chrome, Safari or Firefox ≥ 6. ' +\n",
       "              'Firefox 4 and 5 are also supported but you ' +\n",
       "              'have to enable WebSockets in about:config.');\n",
       "    };\n",
       "}\n",
       "\n",
       "mpl.figure = function(figure_id, websocket, ondownload, parent_element) {\n",
       "    this.id = figure_id;\n",
       "\n",
       "    this.ws = websocket;\n",
       "\n",
       "    this.supports_binary = (this.ws.binaryType != undefined);\n",
       "\n",
       "    if (!this.supports_binary) {\n",
       "        var warnings = document.getElementById(\"mpl-warnings\");\n",
       "        if (warnings) {\n",
       "            warnings.style.display = 'block';\n",
       "            warnings.textContent = (\n",
       "                \"This browser does not support binary websocket messages. \" +\n",
       "                    \"Performance may be slow.\");\n",
       "        }\n",
       "    }\n",
       "\n",
       "    this.imageObj = new Image();\n",
       "\n",
       "    this.context = undefined;\n",
       "    this.message = undefined;\n",
       "    this.canvas = undefined;\n",
       "    this.rubberband_canvas = undefined;\n",
       "    this.rubberband_context = undefined;\n",
       "    this.format_dropdown = undefined;\n",
       "\n",
       "    this.image_mode = 'full';\n",
       "\n",
       "    this.root = $('<div/>');\n",
       "    this._root_extra_style(this.root)\n",
       "    this.root.attr('style', 'display: inline-block');\n",
       "\n",
       "    $(parent_element).append(this.root);\n",
       "\n",
       "    this._init_header(this);\n",
       "    this._init_canvas(this);\n",
       "    this._init_toolbar(this);\n",
       "\n",
       "    var fig = this;\n",
       "\n",
       "    this.waiting = false;\n",
       "\n",
       "    this.ws.onopen =  function () {\n",
       "            fig.send_message(\"supports_binary\", {value: fig.supports_binary});\n",
       "            fig.send_message(\"send_image_mode\", {});\n",
       "            if (mpl.ratio != 1) {\n",
       "                fig.send_message(\"set_dpi_ratio\", {'dpi_ratio': mpl.ratio});\n",
       "            }\n",
       "            fig.send_message(\"refresh\", {});\n",
       "        }\n",
       "\n",
       "    this.imageObj.onload = function() {\n",
       "            if (fig.image_mode == 'full') {\n",
       "                // Full images could contain transparency (where diff images\n",
       "                // almost always do), so we need to clear the canvas so that\n",
       "                // there is no ghosting.\n",
       "                fig.context.clearRect(0, 0, fig.canvas.width, fig.canvas.height);\n",
       "            }\n",
       "            fig.context.drawImage(fig.imageObj, 0, 0);\n",
       "        };\n",
       "\n",
       "    this.imageObj.onunload = function() {\n",
       "        fig.ws.close();\n",
       "    }\n",
       "\n",
       "    this.ws.onmessage = this._make_on_message_function(this);\n",
       "\n",
       "    this.ondownload = ondownload;\n",
       "}\n",
       "\n",
       "mpl.figure.prototype._init_header = function() {\n",
       "    var titlebar = $(\n",
       "        '<div class=\"ui-dialog-titlebar ui-widget-header ui-corner-all ' +\n",
       "        'ui-helper-clearfix\"/>');\n",
       "    var titletext = $(\n",
       "        '<div class=\"ui-dialog-title\" style=\"width: 100%; ' +\n",
       "        'text-align: center; padding: 3px;\"/>');\n",
       "    titlebar.append(titletext)\n",
       "    this.root.append(titlebar);\n",
       "    this.header = titletext[0];\n",
       "}\n",
       "\n",
       "\n",
       "\n",
       "mpl.figure.prototype._canvas_extra_style = function(canvas_div) {\n",
       "\n",
       "}\n",
       "\n",
       "\n",
       "mpl.figure.prototype._root_extra_style = function(canvas_div) {\n",
       "\n",
       "}\n",
       "\n",
       "mpl.figure.prototype._init_canvas = function() {\n",
       "    var fig = this;\n",
       "\n",
       "    var canvas_div = $('<div/>');\n",
       "\n",
       "    canvas_div.attr('style', 'position: relative; clear: both; outline: 0');\n",
       "\n",
       "    function canvas_keyboard_event(event) {\n",
       "        return fig.key_event(event, event['data']);\n",
       "    }\n",
       "\n",
       "    canvas_div.keydown('key_press', canvas_keyboard_event);\n",
       "    canvas_div.keyup('key_release', canvas_keyboard_event);\n",
       "    this.canvas_div = canvas_div\n",
       "    this._canvas_extra_style(canvas_div)\n",
       "    this.root.append(canvas_div);\n",
       "\n",
       "    var canvas = $('<canvas/>');\n",
       "    canvas.addClass('mpl-canvas');\n",
       "    canvas.attr('style', \"left: 0; top: 0; z-index: 0; outline: 0\")\n",
       "\n",
       "    this.canvas = canvas[0];\n",
       "    this.context = canvas[0].getContext(\"2d\");\n",
       "\n",
       "    var backingStore = this.context.backingStorePixelRatio ||\n",
       "\tthis.context.webkitBackingStorePixelRatio ||\n",
       "\tthis.context.mozBackingStorePixelRatio ||\n",
       "\tthis.context.msBackingStorePixelRatio ||\n",
       "\tthis.context.oBackingStorePixelRatio ||\n",
       "\tthis.context.backingStorePixelRatio || 1;\n",
       "\n",
       "    mpl.ratio = (window.devicePixelRatio || 1) / backingStore;\n",
       "\n",
       "    var rubberband = $('<canvas/>');\n",
       "    rubberband.attr('style', \"position: absolute; left: 0; top: 0; z-index: 1;\")\n",
       "\n",
       "    var pass_mouse_events = true;\n",
       "\n",
       "    canvas_div.resizable({\n",
       "        start: function(event, ui) {\n",
       "            pass_mouse_events = false;\n",
       "        },\n",
       "        resize: function(event, ui) {\n",
       "            fig.request_resize(ui.size.width, ui.size.height);\n",
       "        },\n",
       "        stop: function(event, ui) {\n",
       "            pass_mouse_events = true;\n",
       "            fig.request_resize(ui.size.width, ui.size.height);\n",
       "        },\n",
       "    });\n",
       "\n",
       "    function mouse_event_fn(event) {\n",
       "        if (pass_mouse_events)\n",
       "            return fig.mouse_event(event, event['data']);\n",
       "    }\n",
       "\n",
       "    rubberband.mousedown('button_press', mouse_event_fn);\n",
       "    rubberband.mouseup('button_release', mouse_event_fn);\n",
       "    // Throttle sequential mouse events to 1 every 20ms.\n",
       "    rubberband.mousemove('motion_notify', mouse_event_fn);\n",
       "\n",
       "    rubberband.mouseenter('figure_enter', mouse_event_fn);\n",
       "    rubberband.mouseleave('figure_leave', mouse_event_fn);\n",
       "\n",
       "    canvas_div.on(\"wheel\", function (event) {\n",
       "        event = event.originalEvent;\n",
       "        event['data'] = 'scroll'\n",
       "        if (event.deltaY < 0) {\n",
       "            event.step = 1;\n",
       "        } else {\n",
       "            event.step = -1;\n",
       "        }\n",
       "        mouse_event_fn(event);\n",
       "    });\n",
       "\n",
       "    canvas_div.append(canvas);\n",
       "    canvas_div.append(rubberband);\n",
       "\n",
       "    this.rubberband = rubberband;\n",
       "    this.rubberband_canvas = rubberband[0];\n",
       "    this.rubberband_context = rubberband[0].getContext(\"2d\");\n",
       "    this.rubberband_context.strokeStyle = \"#000000\";\n",
       "\n",
       "    this._resize_canvas = function(width, height) {\n",
       "        // Keep the size of the canvas, canvas container, and rubber band\n",
       "        // canvas in synch.\n",
       "        canvas_div.css('width', width)\n",
       "        canvas_div.css('height', height)\n",
       "\n",
       "        canvas.attr('width', width * mpl.ratio);\n",
       "        canvas.attr('height', height * mpl.ratio);\n",
       "        canvas.attr('style', 'width: ' + width + 'px; height: ' + height + 'px;');\n",
       "\n",
       "        rubberband.attr('width', width);\n",
       "        rubberband.attr('height', height);\n",
       "    }\n",
       "\n",
       "    // Set the figure to an initial 600x600px, this will subsequently be updated\n",
       "    // upon first draw.\n",
       "    this._resize_canvas(600, 600);\n",
       "\n",
       "    // Disable right mouse context menu.\n",
       "    $(this.rubberband_canvas).bind(\"contextmenu\",function(e){\n",
       "        return false;\n",
       "    });\n",
       "\n",
       "    function set_focus () {\n",
       "        canvas.focus();\n",
       "        canvas_div.focus();\n",
       "    }\n",
       "\n",
       "    window.setTimeout(set_focus, 100);\n",
       "}\n",
       "\n",
       "mpl.figure.prototype._init_toolbar = function() {\n",
       "    var fig = this;\n",
       "\n",
       "    var nav_element = $('<div/>');\n",
       "    nav_element.attr('style', 'width: 100%');\n",
       "    this.root.append(nav_element);\n",
       "\n",
       "    // Define a callback function for later on.\n",
       "    function toolbar_event(event) {\n",
       "        return fig.toolbar_button_onclick(event['data']);\n",
       "    }\n",
       "    function toolbar_mouse_event(event) {\n",
       "        return fig.toolbar_button_onmouseover(event['data']);\n",
       "    }\n",
       "\n",
       "    for(var toolbar_ind in mpl.toolbar_items) {\n",
       "        var name = mpl.toolbar_items[toolbar_ind][0];\n",
       "        var tooltip = mpl.toolbar_items[toolbar_ind][1];\n",
       "        var image = mpl.toolbar_items[toolbar_ind][2];\n",
       "        var method_name = mpl.toolbar_items[toolbar_ind][3];\n",
       "\n",
       "        if (!name) {\n",
       "            // put a spacer in here.\n",
       "            continue;\n",
       "        }\n",
       "        var button = $('<button/>');\n",
       "        button.addClass('ui-button ui-widget ui-state-default ui-corner-all ' +\n",
       "                        'ui-button-icon-only');\n",
       "        button.attr('role', 'button');\n",
       "        button.attr('aria-disabled', 'false');\n",
       "        button.click(method_name, toolbar_event);\n",
       "        button.mouseover(tooltip, toolbar_mouse_event);\n",
       "\n",
       "        var icon_img = $('<span/>');\n",
       "        icon_img.addClass('ui-button-icon-primary ui-icon');\n",
       "        icon_img.addClass(image);\n",
       "        icon_img.addClass('ui-corner-all');\n",
       "\n",
       "        var tooltip_span = $('<span/>');\n",
       "        tooltip_span.addClass('ui-button-text');\n",
       "        tooltip_span.html(tooltip);\n",
       "\n",
       "        button.append(icon_img);\n",
       "        button.append(tooltip_span);\n",
       "\n",
       "        nav_element.append(button);\n",
       "    }\n",
       "\n",
       "    var fmt_picker_span = $('<span/>');\n",
       "\n",
       "    var fmt_picker = $('<select/>');\n",
       "    fmt_picker.addClass('mpl-toolbar-option ui-widget ui-widget-content');\n",
       "    fmt_picker_span.append(fmt_picker);\n",
       "    nav_element.append(fmt_picker_span);\n",
       "    this.format_dropdown = fmt_picker[0];\n",
       "\n",
       "    for (var ind in mpl.extensions) {\n",
       "        var fmt = mpl.extensions[ind];\n",
       "        var option = $(\n",
       "            '<option/>', {selected: fmt === mpl.default_extension}).html(fmt);\n",
       "        fmt_picker.append(option);\n",
       "    }\n",
       "\n",
       "    // Add hover states to the ui-buttons\n",
       "    $( \".ui-button\" ).hover(\n",
       "        function() { $(this).addClass(\"ui-state-hover\");},\n",
       "        function() { $(this).removeClass(\"ui-state-hover\");}\n",
       "    );\n",
       "\n",
       "    var status_bar = $('<span class=\"mpl-message\"/>');\n",
       "    nav_element.append(status_bar);\n",
       "    this.message = status_bar[0];\n",
       "}\n",
       "\n",
       "mpl.figure.prototype.request_resize = function(x_pixels, y_pixels) {\n",
       "    // Request matplotlib to resize the figure. Matplotlib will then trigger a resize in the client,\n",
       "    // which will in turn request a refresh of the image.\n",
       "    this.send_message('resize', {'width': x_pixels, 'height': y_pixels});\n",
       "}\n",
       "\n",
       "mpl.figure.prototype.send_message = function(type, properties) {\n",
       "    properties['type'] = type;\n",
       "    properties['figure_id'] = this.id;\n",
       "    this.ws.send(JSON.stringify(properties));\n",
       "}\n",
       "\n",
       "mpl.figure.prototype.send_draw_message = function() {\n",
       "    if (!this.waiting) {\n",
       "        this.waiting = true;\n",
       "        this.ws.send(JSON.stringify({type: \"draw\", figure_id: this.id}));\n",
       "    }\n",
       "}\n",
       "\n",
       "\n",
       "mpl.figure.prototype.handle_save = function(fig, msg) {\n",
       "    var format_dropdown = fig.format_dropdown;\n",
       "    var format = format_dropdown.options[format_dropdown.selectedIndex].value;\n",
       "    fig.ondownload(fig, format);\n",
       "}\n",
       "\n",
       "\n",
       "mpl.figure.prototype.handle_resize = function(fig, msg) {\n",
       "    var size = msg['size'];\n",
       "    if (size[0] != fig.canvas.width || size[1] != fig.canvas.height) {\n",
       "        fig._resize_canvas(size[0], size[1]);\n",
       "        fig.send_message(\"refresh\", {});\n",
       "    };\n",
       "}\n",
       "\n",
       "mpl.figure.prototype.handle_rubberband = function(fig, msg) {\n",
       "    var x0 = msg['x0'] / mpl.ratio;\n",
       "    var y0 = (fig.canvas.height - msg['y0']) / mpl.ratio;\n",
       "    var x1 = msg['x1'] / mpl.ratio;\n",
       "    var y1 = (fig.canvas.height - msg['y1']) / mpl.ratio;\n",
       "    x0 = Math.floor(x0) + 0.5;\n",
       "    y0 = Math.floor(y0) + 0.5;\n",
       "    x1 = Math.floor(x1) + 0.5;\n",
       "    y1 = Math.floor(y1) + 0.5;\n",
       "    var min_x = Math.min(x0, x1);\n",
       "    var min_y = Math.min(y0, y1);\n",
       "    var width = Math.abs(x1 - x0);\n",
       "    var height = Math.abs(y1 - y0);\n",
       "\n",
       "    fig.rubberband_context.clearRect(\n",
       "        0, 0, fig.canvas.width / mpl.ratio, fig.canvas.height / mpl.ratio);\n",
       "\n",
       "    fig.rubberband_context.strokeRect(min_x, min_y, width, height);\n",
       "}\n",
       "\n",
       "mpl.figure.prototype.handle_figure_label = function(fig, msg) {\n",
       "    // Updates the figure title.\n",
       "    fig.header.textContent = msg['label'];\n",
       "}\n",
       "\n",
       "mpl.figure.prototype.handle_cursor = function(fig, msg) {\n",
       "    var cursor = msg['cursor'];\n",
       "    switch(cursor)\n",
       "    {\n",
       "    case 0:\n",
       "        cursor = 'pointer';\n",
       "        break;\n",
       "    case 1:\n",
       "        cursor = 'default';\n",
       "        break;\n",
       "    case 2:\n",
       "        cursor = 'crosshair';\n",
       "        break;\n",
       "    case 3:\n",
       "        cursor = 'move';\n",
       "        break;\n",
       "    }\n",
       "    fig.rubberband_canvas.style.cursor = cursor;\n",
       "}\n",
       "\n",
       "mpl.figure.prototype.handle_message = function(fig, msg) {\n",
       "    fig.message.textContent = msg['message'];\n",
       "}\n",
       "\n",
       "mpl.figure.prototype.handle_draw = function(fig, msg) {\n",
       "    // Request the server to send over a new figure.\n",
       "    fig.send_draw_message();\n",
       "}\n",
       "\n",
       "mpl.figure.prototype.handle_image_mode = function(fig, msg) {\n",
       "    fig.image_mode = msg['mode'];\n",
       "}\n",
       "\n",
       "mpl.figure.prototype.updated_canvas_event = function() {\n",
       "    // Called whenever the canvas gets updated.\n",
       "    this.send_message(\"ack\", {});\n",
       "}\n",
       "\n",
       "// A function to construct a web socket function for onmessage handling.\n",
       "// Called in the figure constructor.\n",
       "mpl.figure.prototype._make_on_message_function = function(fig) {\n",
       "    return function socket_on_message(evt) {\n",
       "        if (evt.data instanceof Blob) {\n",
       "            /* FIXME: We get \"Resource interpreted as Image but\n",
       "             * transferred with MIME type text/plain:\" errors on\n",
       "             * Chrome.  But how to set the MIME type?  It doesn't seem\n",
       "             * to be part of the websocket stream */\n",
       "            evt.data.type = \"image/png\";\n",
       "\n",
       "            /* Free the memory for the previous frames */\n",
       "            if (fig.imageObj.src) {\n",
       "                (window.URL || window.webkitURL).revokeObjectURL(\n",
       "                    fig.imageObj.src);\n",
       "            }\n",
       "\n",
       "            fig.imageObj.src = (window.URL || window.webkitURL).createObjectURL(\n",
       "                evt.data);\n",
       "            fig.updated_canvas_event();\n",
       "            fig.waiting = false;\n",
       "            return;\n",
       "        }\n",
       "        else if (typeof evt.data === 'string' && evt.data.slice(0, 21) == \"data:image/png;base64\") {\n",
       "            fig.imageObj.src = evt.data;\n",
       "            fig.updated_canvas_event();\n",
       "            fig.waiting = false;\n",
       "            return;\n",
       "        }\n",
       "\n",
       "        var msg = JSON.parse(evt.data);\n",
       "        var msg_type = msg['type'];\n",
       "\n",
       "        // Call the  \"handle_{type}\" callback, which takes\n",
       "        // the figure and JSON message as its only arguments.\n",
       "        try {\n",
       "            var callback = fig[\"handle_\" + msg_type];\n",
       "        } catch (e) {\n",
       "            console.log(\"No handler for the '\" + msg_type + \"' message type: \", msg);\n",
       "            return;\n",
       "        }\n",
       "\n",
       "        if (callback) {\n",
       "            try {\n",
       "                // console.log(\"Handling '\" + msg_type + \"' message: \", msg);\n",
       "                callback(fig, msg);\n",
       "            } catch (e) {\n",
       "                console.log(\"Exception inside the 'handler_\" + msg_type + \"' callback:\", e, e.stack, msg);\n",
       "            }\n",
       "        }\n",
       "    };\n",
       "}\n",
       "\n",
       "// from http://stackoverflow.com/questions/1114465/getting-mouse-location-in-canvas\n",
       "mpl.findpos = function(e) {\n",
       "    //this section is from http://www.quirksmode.org/js/events_properties.html\n",
       "    var targ;\n",
       "    if (!e)\n",
       "        e = window.event;\n",
       "    if (e.target)\n",
       "        targ = e.target;\n",
       "    else if (e.srcElement)\n",
       "        targ = e.srcElement;\n",
       "    if (targ.nodeType == 3) // defeat Safari bug\n",
       "        targ = targ.parentNode;\n",
       "\n",
       "    // jQuery normalizes the pageX and pageY\n",
       "    // pageX,Y are the mouse positions relative to the document\n",
       "    // offset() returns the position of the element relative to the document\n",
       "    var x = e.pageX - $(targ).offset().left;\n",
       "    var y = e.pageY - $(targ).offset().top;\n",
       "\n",
       "    return {\"x\": x, \"y\": y};\n",
       "};\n",
       "\n",
       "/*\n",
       " * return a copy of an object with only non-object keys\n",
       " * we need this to avoid circular references\n",
       " * http://stackoverflow.com/a/24161582/3208463\n",
       " */\n",
       "function simpleKeys (original) {\n",
       "  return Object.keys(original).reduce(function (obj, key) {\n",
       "    if (typeof original[key] !== 'object')\n",
       "        obj[key] = original[key]\n",
       "    return obj;\n",
       "  }, {});\n",
       "}\n",
       "\n",
       "mpl.figure.prototype.mouse_event = function(event, name) {\n",
       "    var canvas_pos = mpl.findpos(event)\n",
       "\n",
       "    if (name === 'button_press')\n",
       "    {\n",
       "        this.canvas.focus();\n",
       "        this.canvas_div.focus();\n",
       "    }\n",
       "\n",
       "    var x = canvas_pos.x * mpl.ratio;\n",
       "    var y = canvas_pos.y * mpl.ratio;\n",
       "\n",
       "    this.send_message(name, {x: x, y: y, button: event.button,\n",
       "                             step: event.step,\n",
       "                             guiEvent: simpleKeys(event)});\n",
       "\n",
       "    /* This prevents the web browser from automatically changing to\n",
       "     * the text insertion cursor when the button is pressed.  We want\n",
       "     * to control all of the cursor setting manually through the\n",
       "     * 'cursor' event from matplotlib */\n",
       "    event.preventDefault();\n",
       "    return false;\n",
       "}\n",
       "\n",
       "mpl.figure.prototype._key_event_extra = function(event, name) {\n",
       "    // Handle any extra behaviour associated with a key event\n",
       "}\n",
       "\n",
       "mpl.figure.prototype.key_event = function(event, name) {\n",
       "\n",
       "    // Prevent repeat events\n",
       "    if (name == 'key_press')\n",
       "    {\n",
       "        if (event.which === this._key)\n",
       "            return;\n",
       "        else\n",
       "            this._key = event.which;\n",
       "    }\n",
       "    if (name == 'key_release')\n",
       "        this._key = null;\n",
       "\n",
       "    var value = '';\n",
       "    if (event.ctrlKey && event.which != 17)\n",
       "        value += \"ctrl+\";\n",
       "    if (event.altKey && event.which != 18)\n",
       "        value += \"alt+\";\n",
       "    if (event.shiftKey && event.which != 16)\n",
       "        value += \"shift+\";\n",
       "\n",
       "    value += 'k';\n",
       "    value += event.which.toString();\n",
       "\n",
       "    this._key_event_extra(event, name);\n",
       "\n",
       "    this.send_message(name, {key: value,\n",
       "                             guiEvent: simpleKeys(event)});\n",
       "    return false;\n",
       "}\n",
       "\n",
       "mpl.figure.prototype.toolbar_button_onclick = function(name) {\n",
       "    if (name == 'download') {\n",
       "        this.handle_save(this, null);\n",
       "    } else {\n",
       "        this.send_message(\"toolbar_button\", {name: name});\n",
       "    }\n",
       "};\n",
       "\n",
       "mpl.figure.prototype.toolbar_button_onmouseover = function(tooltip) {\n",
       "    this.message.textContent = tooltip;\n",
       "};\n",
       "mpl.toolbar_items = [[\"Home\", \"Reset original view\", \"fa fa-home icon-home\", \"home\"], [\"Back\", \"Back to previous view\", \"fa fa-arrow-left icon-arrow-left\", \"back\"], [\"Forward\", \"Forward to next view\", \"fa fa-arrow-right icon-arrow-right\", \"forward\"], [\"\", \"\", \"\", \"\"], [\"Pan\", \"Pan axes with left mouse, zoom with right\", \"fa fa-arrows icon-move\", \"pan\"], [\"Zoom\", \"Zoom to rectangle\", \"fa fa-square-o icon-check-empty\", \"zoom\"], [\"\", \"\", \"\", \"\"], [\"Download\", \"Download plot\", \"fa fa-floppy-o icon-save\", \"download\"]];\n",
       "\n",
       "mpl.extensions = [\"eps\", \"jpeg\", \"pdf\", \"png\", \"ps\", \"raw\", \"svg\", \"tif\"];\n",
       "\n",
       "mpl.default_extension = \"png\";var comm_websocket_adapter = function(comm) {\n",
       "    // Create a \"websocket\"-like object which calls the given IPython comm\n",
       "    // object with the appropriate methods. Currently this is a non binary\n",
       "    // socket, so there is still some room for performance tuning.\n",
       "    var ws = {};\n",
       "\n",
       "    ws.close = function() {\n",
       "        comm.close()\n",
       "    };\n",
       "    ws.send = function(m) {\n",
       "        //console.log('sending', m);\n",
       "        comm.send(m);\n",
       "    };\n",
       "    // Register the callback with on_msg.\n",
       "    comm.on_msg(function(msg) {\n",
       "        //console.log('receiving', msg['content']['data'], msg);\n",
       "        // Pass the mpl event to the overridden (by mpl) onmessage function.\n",
       "        ws.onmessage(msg['content']['data'])\n",
       "    });\n",
       "    return ws;\n",
       "}\n",
       "\n",
       "mpl.mpl_figure_comm = function(comm, msg) {\n",
       "    // This is the function which gets called when the mpl process\n",
       "    // starts-up an IPython Comm through the \"matplotlib\" channel.\n",
       "\n",
       "    var id = msg.content.data.id;\n",
       "    // Get hold of the div created by the display call when the Comm\n",
       "    // socket was opened in Python.\n",
       "    var element = $(\"#\" + id);\n",
       "    var ws_proxy = comm_websocket_adapter(comm)\n",
       "\n",
       "    function ondownload(figure, format) {\n",
       "        window.open(figure.imageObj.src);\n",
       "    }\n",
       "\n",
       "    var fig = new mpl.figure(id, ws_proxy,\n",
       "                           ondownload,\n",
       "                           element.get(0));\n",
       "\n",
       "    // Call onopen now - mpl needs it, as it is assuming we've passed it a real\n",
       "    // web socket which is closed, not our websocket->open comm proxy.\n",
       "    ws_proxy.onopen();\n",
       "\n",
       "    fig.parent_element = element.get(0);\n",
       "    fig.cell_info = mpl.find_output_cell(\"<div id='\" + id + \"'></div>\");\n",
       "    if (!fig.cell_info) {\n",
       "        console.error(\"Failed to find cell for figure\", id, fig);\n",
       "        return;\n",
       "    }\n",
       "\n",
       "    var output_index = fig.cell_info[2]\n",
       "    var cell = fig.cell_info[0];\n",
       "\n",
       "};\n",
       "\n",
       "mpl.figure.prototype.handle_close = function(fig, msg) {\n",
       "    var width = fig.canvas.width/mpl.ratio\n",
       "    fig.root.unbind('remove')\n",
       "\n",
       "    // Update the output cell to use the data from the current canvas.\n",
       "    fig.push_to_output();\n",
       "    var dataURL = fig.canvas.toDataURL();\n",
       "    // Re-enable the keyboard manager in IPython - without this line, in FF,\n",
       "    // the notebook keyboard shortcuts fail.\n",
       "    IPython.keyboard_manager.enable()\n",
       "    $(fig.parent_element).html('<img src=\"' + dataURL + '\" width=\"' + width + '\">');\n",
       "    fig.close_ws(fig, msg);\n",
       "}\n",
       "\n",
       "mpl.figure.prototype.close_ws = function(fig, msg){\n",
       "    fig.send_message('closing', msg);\n",
       "    // fig.ws.close()\n",
       "}\n",
       "\n",
       "mpl.figure.prototype.push_to_output = function(remove_interactive) {\n",
       "    // Turn the data on the canvas into data in the output cell.\n",
       "    var width = this.canvas.width/mpl.ratio\n",
       "    var dataURL = this.canvas.toDataURL();\n",
       "    this.cell_info[1]['text/html'] = '<img src=\"' + dataURL + '\" width=\"' + width + '\">';\n",
       "}\n",
       "\n",
       "mpl.figure.prototype.updated_canvas_event = function() {\n",
       "    // Tell IPython that the notebook contents must change.\n",
       "    IPython.notebook.set_dirty(true);\n",
       "    this.send_message(\"ack\", {});\n",
       "    var fig = this;\n",
       "    // Wait a second, then push the new image to the DOM so\n",
       "    // that it is saved nicely (might be nice to debounce this).\n",
       "    setTimeout(function () { fig.push_to_output() }, 1000);\n",
       "}\n",
       "\n",
       "mpl.figure.prototype._init_toolbar = function() {\n",
       "    var fig = this;\n",
       "\n",
       "    var nav_element = $('<div/>');\n",
       "    nav_element.attr('style', 'width: 100%');\n",
       "    this.root.append(nav_element);\n",
       "\n",
       "    // Define a callback function for later on.\n",
       "    function toolbar_event(event) {\n",
       "        return fig.toolbar_button_onclick(event['data']);\n",
       "    }\n",
       "    function toolbar_mouse_event(event) {\n",
       "        return fig.toolbar_button_onmouseover(event['data']);\n",
       "    }\n",
       "\n",
       "    for(var toolbar_ind in mpl.toolbar_items){\n",
       "        var name = mpl.toolbar_items[toolbar_ind][0];\n",
       "        var tooltip = mpl.toolbar_items[toolbar_ind][1];\n",
       "        var image = mpl.toolbar_items[toolbar_ind][2];\n",
       "        var method_name = mpl.toolbar_items[toolbar_ind][3];\n",
       "\n",
       "        if (!name) { continue; };\n",
       "\n",
       "        var button = $('<button class=\"btn btn-default\" href=\"#\" title=\"' + name + '\"><i class=\"fa ' + image + ' fa-lg\"></i></button>');\n",
       "        button.click(method_name, toolbar_event);\n",
       "        button.mouseover(tooltip, toolbar_mouse_event);\n",
       "        nav_element.append(button);\n",
       "    }\n",
       "\n",
       "    // Add the status bar.\n",
       "    var status_bar = $('<span class=\"mpl-message\" style=\"text-align:right; float: right;\"/>');\n",
       "    nav_element.append(status_bar);\n",
       "    this.message = status_bar[0];\n",
       "\n",
       "    // Add the close button to the window.\n",
       "    var buttongrp = $('<div class=\"btn-group inline pull-right\"></div>');\n",
       "    var button = $('<button class=\"btn btn-mini btn-primary\" href=\"#\" title=\"Stop Interaction\"><i class=\"fa fa-power-off icon-remove icon-large\"></i></button>');\n",
       "    button.click(function (evt) { fig.handle_close(fig, {}); } );\n",
       "    button.mouseover('Stop Interaction', toolbar_mouse_event);\n",
       "    buttongrp.append(button);\n",
       "    var titlebar = this.root.find($('.ui-dialog-titlebar'));\n",
       "    titlebar.prepend(buttongrp);\n",
       "}\n",
       "\n",
       "mpl.figure.prototype._root_extra_style = function(el){\n",
       "    var fig = this\n",
       "    el.on(\"remove\", function(){\n",
       "\tfig.close_ws(fig, {});\n",
       "    });\n",
       "}\n",
       "\n",
       "mpl.figure.prototype._canvas_extra_style = function(el){\n",
       "    // this is important to make the div 'focusable\n",
       "    el.attr('tabindex', 0)\n",
       "    // reach out to IPython and tell the keyboard manager to turn it's self\n",
       "    // off when our div gets focus\n",
       "\n",
       "    // location in version 3\n",
       "    if (IPython.notebook.keyboard_manager) {\n",
       "        IPython.notebook.keyboard_manager.register_events(el);\n",
       "    }\n",
       "    else {\n",
       "        // location in version 2\n",
       "        IPython.keyboard_manager.register_events(el);\n",
       "    }\n",
       "\n",
       "}\n",
       "\n",
       "mpl.figure.prototype._key_event_extra = function(event, name) {\n",
       "    var manager = IPython.notebook.keyboard_manager;\n",
       "    if (!manager)\n",
       "        manager = IPython.keyboard_manager;\n",
       "\n",
       "    // Check for shift+enter\n",
       "    if (event.shiftKey && event.which == 13) {\n",
       "        this.canvas_div.blur();\n",
       "        // select the cell after this one\n",
       "        var index = IPython.notebook.find_cell_index(this.cell_info[0]);\n",
       "        IPython.notebook.select(index + 1);\n",
       "    }\n",
       "}\n",
       "\n",
       "mpl.figure.prototype.handle_save = function(fig, msg) {\n",
       "    fig.ondownload(fig, null);\n",
       "}\n",
       "\n",
       "\n",
       "mpl.find_output_cell = function(html_output) {\n",
       "    // Return the cell and output element which can be found *uniquely* in the notebook.\n",
       "    // Note - this is a bit hacky, but it is done because the \"notebook_saving.Notebook\"\n",
       "    // IPython event is triggered only after the cells have been serialised, which for\n",
       "    // our purposes (turning an active figure into a static one), is too late.\n",
       "    var cells = IPython.notebook.get_cells();\n",
       "    var ncells = cells.length;\n",
       "    for (var i=0; i<ncells; i++) {\n",
       "        var cell = cells[i];\n",
       "        if (cell.cell_type === 'code'){\n",
       "            for (var j=0; j<cell.output_area.outputs.length; j++) {\n",
       "                var data = cell.output_area.outputs[j];\n",
       "                if (data.data) {\n",
       "                    // IPython >= 3 moved mimebundle to data attribute of output\n",
       "                    data = data.data;\n",
       "                }\n",
       "                if (data['text/html'] == html_output) {\n",
       "                    return [cell, data, j];\n",
       "                }\n",
       "            }\n",
       "        }\n",
       "    }\n",
       "}\n",
       "\n",
       "// Register the function which deals with the matplotlib target/channel.\n",
       "// The kernel may be null if the page has been refreshed.\n",
       "if (IPython.notebook.kernel != null) {\n",
       "    IPython.notebook.kernel.comm_manager.register_target('matplotlib', mpl.mpl_figure_comm);\n",
       "}\n"
      ],
      "text/plain": [
       "<IPython.core.display.Javascript object>"
      ]
     },
     "metadata": {},
     "output_type": "display_data"
    },
    {
     "data": {
      "text/html": [
       "<img src=\"data:image/png;base64,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\" width=\"639.9999861283738\">"
      ],
      "text/plain": [
       "<IPython.core.display.HTML object>"
      ]
     },
     "metadata": {},
     "output_type": "display_data"
    }
   ],
   "source": [
    "%matplotlib notebook\n",
    "noskill_probs = [0 for _ in range(len(y_test))]\n",
    "ns_fpr, ns_tpr, _ = roc_curve(y_test, noskill_probs)\n",
    "lr_fpr, lr_tpr, threshold_array = roc_curve(y_test, clf_w_best_params.predict_proba(X_test_sc)[:,1])\n",
    "\n",
    "y_pred_new = lr_tpr>0\n",
    "\n",
    "logisticRegr_auc = roc_auc_score(y_test, y_pred)\n",
    "print('Logistic: ROC AUC=%.3f' % (logisticRegr_auc))\n",
    "\n",
    "plt.figure()\n",
    "# plot the roc curve for the model\n",
    "plt.plot(ns_fpr, ns_tpr, linestyle='--')\n",
    "plt.plot(lr_fpr, lr_tpr, marker='.', label='Logistic Regr.')\n",
    "# axis labels\n",
    "plt.xlabel('False Positive Rate')\n",
    "plt.ylabel('True Positive Rate')\n",
    "# # show the legend\n",
    "plt.legend()\n",
    "# # show the plot\n",
    "plt.show()"
   ]
  },
  {
   "cell_type": "code",
   "execution_count": 12,
   "metadata": {
    "ExecuteTime": {
     "end_time": "2020-06-11T17:33:30.417731Z",
     "start_time": "2020-06-11T17:33:30.412009Z"
    }
   },
   "outputs": [
    {
     "data": {
      "text/plain": [
       "array([0.81111111, 0.81111111, 0.82222222, 0.82222222, 0.83333333,\n",
       "       0.83333333, 0.84444444, 0.84444444, 0.85555556, 0.85555556,\n",
       "       0.86666667, 0.86666667, 0.87777778, 0.87777778, 0.88888889,\n",
       "       0.88888889, 0.9       , 0.9       , 0.91111111, 0.91111111,\n",
       "       0.92222222, 0.92222222, 0.94444444, 0.94444444, 0.95555556,\n",
       "       0.95555556, 0.96666667, 0.96666667, 0.97777778, 0.97777778,\n",
       "       0.98888889, 0.98888889, 1.        , 1.        ])"
      ]
     },
     "execution_count": 12,
     "metadata": {},
     "output_type": "execute_result"
    }
   ],
   "source": [
    "lr_tpr[lr_tpr>0.8]"
   ]
  },
  {
   "cell_type": "code",
   "execution_count": 13,
   "metadata": {
    "ExecuteTime": {
     "end_time": "2020-06-11T17:33:30.424034Z",
     "start_time": "2020-06-11T17:33:30.420581Z"
    }
   },
   "outputs": [],
   "source": [
    "result = np.where(lr_tpr>0.8)"
   ]
  },
  {
   "cell_type": "code",
   "execution_count": 14,
   "metadata": {
    "ExecuteTime": {
     "end_time": "2020-06-11T17:33:30.432649Z",
     "start_time": "2020-06-11T17:33:30.427028Z"
    }
   },
   "outputs": [
    {
     "data": {
      "text/plain": [
       "(array([147, 148, 149, 150, 151, 152, 153, 154, 155, 156, 157, 158, 159,\n",
       "        160, 161, 162, 163, 164, 165, 166, 167, 168, 169, 170, 171, 172,\n",
       "        173, 174, 175, 176, 177, 178, 179, 180]),)"
      ]
     },
     "execution_count": 14,
     "metadata": {},
     "output_type": "execute_result"
    }
   ],
   "source": [
    "result"
   ]
  },
  {
   "cell_type": "code",
   "execution_count": 15,
   "metadata": {
    "ExecuteTime": {
     "end_time": "2020-06-11T17:33:30.440370Z",
     "start_time": "2020-06-11T17:33:30.435690Z"
    }
   },
   "outputs": [
    {
     "data": {
      "text/plain": [
       "0.5070076411576808"
      ]
     },
     "execution_count": 15,
     "metadata": {},
     "output_type": "execute_result"
    }
   ],
   "source": [
    "threshold_array[147]"
   ]
  },
  {
   "cell_type": "code",
   "execution_count": 16,
   "metadata": {
    "ExecuteTime": {
     "end_time": "2020-06-11T17:33:30.448201Z",
     "start_time": "2020-06-11T17:33:30.443326Z"
    }
   },
   "outputs": [
    {
     "name": "stdout",
     "output_type": "stream",
     "text": [
      "[0 1 1 ... 0 0 0]\n"
     ]
    }
   ],
   "source": [
    "print(y_pred)"
   ]
  },
  {
   "cell_type": "code",
   "execution_count": 26,
   "metadata": {
    "ExecuteTime": {
     "end_time": "2020-06-11T17:36:15.384195Z",
     "start_time": "2020-06-11T17:36:15.355773Z"
    }
   },
   "outputs": [
    {
     "data": {
      "text/plain": [
       "array([[0.56652037, 0.43347963],\n",
       "       [0.15555556, 0.84444444]])"
      ]
     },
     "execution_count": 26,
     "metadata": {},
     "output_type": "execute_result"
    }
   ],
   "source": [
    "from sklearn.metrics import confusion_matrix\n",
    "confusion_matrix(y_test, y_pred, normalize='true')"
   ]
  },
  {
   "cell_type": "code",
   "execution_count": 18,
   "metadata": {
    "ExecuteTime": {
     "end_time": "2020-06-11T17:33:30.503802Z",
     "start_time": "2020-06-11T17:33:30.491688Z"
    }
   },
   "outputs": [
    {
     "data": {
      "text/plain": [
       "GridSearchCV(cv=StratifiedKFold(n_splits=10, random_state=None, shuffle=False),\n",
       "             error_score=nan,\n",
       "             estimator=LogisticRegression(C=1.0, class_weight=None, dual=False,\n",
       "                                          fit_intercept=True,\n",
       "                                          intercept_scaling=1, l1_ratio=None,\n",
       "                                          max_iter=100, multi_class='auto',\n",
       "                                          n_jobs=None, penalty='l2',\n",
       "                                          random_state=None, solver='lbfgs',\n",
       "                                          tol=0.0001, verbose=0,\n",
       "                                          warm_start=False),\n",
       "             iid='deprec...\n",
       "             param_grid={'C': array([1.e-06, 1.e-05, 1.e-04, 1.e-03, 1.e-02, 1.e-01, 1.e+00, 1.e+01,\n",
       "       1.e+02, 1.e+03]),\n",
       "                         'class_weight': [{0: 0.001, 1: 0.999},\n",
       "                                          {0: 0.003080718925292566,\n",
       "                                           1: 0.9969192810747074},\n",
       "                                          {0: 0.005, 1: 0.995},\n",
       "                                          {0: 0.01, 1: 0.99}, {0: 0.2, 1: 0.8},\n",
       "                                          {0: 0.5, 1: 0.5}],\n",
       "                         'fit_intercept': [True, False],\n",
       "                         'penalty': ['l1', 'l2']},\n",
       "             pre_dispatch='2*n_jobs', refit=True, return_train_score=True,\n",
       "             scoring='roc_auc', verbose=0)"
      ]
     },
     "execution_count": 18,
     "metadata": {},
     "output_type": "execute_result"
    }
   ],
   "source": [
    "grid_search_clf_rocauc"
   ]
  },
  {
   "cell_type": "code",
   "execution_count": 19,
   "metadata": {
    "ExecuteTime": {
     "end_time": "2020-06-11T17:33:30.509625Z",
     "start_time": "2020-06-11T17:33:30.506379Z"
    }
   },
   "outputs": [],
   "source": [
    "# clf_w_best_params = LogisticRegression(class_weight='balanced', C=0.0001, fit_intercept=True)\n",
    "# clf_w_best_params.fit(X_train_sc, y_train)\n",
    "# y_pred = clf_w_best_params.predict(X_test_sc)\n",
    "# print('accuracy is ' + str(accuracy_score(y_test, y_pred)))\n",
    "# print('precision is ' + str(precision_score(y_test, y_pred)))"
   ]
  },
  {
   "cell_type": "code",
   "execution_count": 20,
   "metadata": {
    "ExecuteTime": {
     "end_time": "2020-06-11T17:33:30.515399Z",
     "start_time": "2020-06-11T17:33:30.511980Z"
    }
   },
   "outputs": [],
   "source": [
    "# cm = confusion_matrix(list(y_test), y_pred)\n",
    "# plot_confusion_matrix(clf_w_best_params, X_test_sc, list(y_test))\n",
    "# plot_confusion_matrix(clf_w_best_params, X_test_sc, list(y_test),  normalize='true')\n",
    "\n",
    "# # ROC curve (https://machinelearningmastery.com/roc-curves-and-precision-recall-curves-for-classification-in-python/)\n",
    "# noskill_probs = [0 for _ in range(len(y_test))]\n",
    "# noskill_auc = roc_auc_score(y_test, noskill_probs)\n",
    "# logisticRegr_auc = roc_auc_score(y_test, y_pred)\n",
    "# print('No Skill: ROC AUC=%.3f' % (noskill_auc))\n",
    "# print('Logistic: ROC AUC=%.3f' % (logisticRegr_auc))\n",
    "# ns_fpr, ns_tpr, _ = roc_curve(y_test, noskill_probs)\n",
    "# lr_fpr, lr_tpr, _ = roc_curve(y_test, clf_w_best_params.predict_proba(X_test_sc)[:,1])\n",
    "\n",
    "# plt.figure()\n",
    "# # plot the roc curve for the model\n",
    "# plt.plot(ns_fpr, ns_tpr, linestyle='--')\n",
    "# plt.plot(lr_fpr, lr_tpr, marker='.', label='Logistic Regr.')\n",
    "# # axis labels\n",
    "# plt.xlabel('False Positive Rate')\n",
    "# plt.ylabel('True Positive Rate')\n",
    "# # show the legend\n",
    "# plt.legend()\n",
    "# # show the plot\n",
    "# plt.show()\n"
   ]
  },
  {
   "cell_type": "code",
   "execution_count": 21,
   "metadata": {
    "ExecuteTime": {
     "end_time": "2020-06-11T17:33:30.521488Z",
     "start_time": "2020-06-11T17:33:30.518059Z"
    }
   },
   "outputs": [],
   "source": [
    "#y_pred.shape"
   ]
  },
  {
   "cell_type": "code",
   "execution_count": 22,
   "metadata": {
    "ExecuteTime": {
     "end_time": "2020-06-11T17:33:30.527385Z",
     "start_time": "2020-06-11T17:33:30.524450Z"
    }
   },
   "outputs": [],
   "source": [
    "# # Get feature weights and put into dataframe\n",
    "# mydict = {'feature': X_train.columns, 'coef': list(clf_w_best_params.coef_.reshape(-1,1).flatten())}\n",
    "# features_weights = pd.DataFrame(mydict)\n",
    "# features_weights = features_weights.assign(abs_weight=np.abs(features_weights['coef']))\n",
    "# features_weights\n"
   ]
  },
  {
   "cell_type": "code",
   "execution_count": null,
   "metadata": {},
   "outputs": [],
   "source": []
  }
 ],
 "metadata": {
  "kernelspec": {
   "display_name": "Python 3",
   "language": "python",
   "name": "python3"
  },
  "language_info": {
   "codemirror_mode": {
    "name": "ipython",
    "version": 3
   },
   "file_extension": ".py",
   "mimetype": "text/x-python",
   "name": "python",
   "nbconvert_exporter": "python",
   "pygments_lexer": "ipython3",
   "version": "3.7.7"
  },
  "toc": {
   "base_numbering": 1,
   "nav_menu": {},
   "number_sections": true,
   "sideBar": true,
   "skip_h1_title": false,
   "title_cell": "Table of Contents",
   "title_sidebar": "Contents",
   "toc_cell": false,
   "toc_position": {
    "height": "calc(100% - 180px)",
    "left": "10px",
    "top": "150px",
    "width": "165px"
   },
   "toc_section_display": true,
   "toc_window_display": true
  },
  "varInspector": {
   "cols": {
    "lenName": 16,
    "lenType": 16,
    "lenVar": 40
   },
   "kernels_config": {
    "python": {
     "delete_cmd_postfix": "",
     "delete_cmd_prefix": "del ",
     "library": "var_list.py",
     "varRefreshCmd": "print(var_dic_list())"
    },
    "r": {
     "delete_cmd_postfix": ") ",
     "delete_cmd_prefix": "rm(",
     "library": "var_list.r",
     "varRefreshCmd": "cat(var_dic_list()) "
    }
   },
   "position": {
    "height": "567px",
    "left": "690px",
    "right": "20px",
    "top": "8px",
    "width": "536px"
   },
   "types_to_exclude": [
    "module",
    "function",
    "builtin_function_or_method",
    "instance",
    "_Feature"
   ],
   "window_display": false
  }
 },
 "nbformat": 4,
 "nbformat_minor": 4
}
