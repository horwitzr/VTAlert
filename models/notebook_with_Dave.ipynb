{
 "cells": [
  {
   "cell_type": "code",
   "execution_count": null,
   "metadata": {},
   "outputs": [],
   "source": []
  },
  {
   "cell_type": "markdown",
   "metadata": {
    "ExecuteTime": {
     "end_time": "2020-06-04T23:26:49.428774Z",
     "start_time": "2020-06-04T23:26:49.426270Z"
    }
   },
   "source": [
    "# Settings, Directory Specs, and Imports"
   ]
  },
  {
   "cell_type": "code",
   "execution_count": 1,
   "metadata": {
    "ExecuteTime": {
     "end_time": "2020-06-11T01:46:58.568698Z",
     "start_time": "2020-06-11T01:46:57.271846Z"
    }
   },
   "outputs": [],
   "source": [
    "# 0 = no streamlit\n",
    "# 1 = test user inputs\n",
    "# 2 = run in streamlit\n",
    "streamlit_status = 0\n",
    "#file_name_pickle_read = 'model_2020_06_06_1105.pickle'\n",
    "do_plots = 1\n",
    "\n",
    "dir_read = '/Users/rachellehorwitz/Documents/ViTalErt/data/filtered05/'\n",
    "#dir_read = '/Users/rachellehorwitz/Documents/VTAlert/over18_eicu/'\n",
    "\n",
    "from sklearn import metrics\n",
    "from sklearn.linear_model import LogisticRegression\n",
    "from sklearn.metrics import auc, confusion_matrix, plot_confusion_matrix, f1_score, roc_auc_score, roc_curve\n",
    "from sklearn.model_selection import GridSearchCV, learning_curve, train_test_split, ShuffleSplit, StratifiedKFold\n",
    "from sklearn.preprocessing import StandardScaler\n",
    "from sklearn.pipeline import make_pipeline\n",
    "import pandas as pd\n",
    "import numpy as np\n",
    "import seaborn as sns\n",
    "import matplotlib\n",
    "import matplotlib.pyplot as plt\n",
    "import streamlit as st\n",
    "import pickle\n",
    "from datetime import datetime\n",
    "import pyprojroot\n",
    "\n",
    "\n",
    "matplotlib.rcParams.update({'font.size': 22})"
   ]
  },
  {
   "cell_type": "markdown",
   "metadata": {},
   "source": [
    "# Function Definitions"
   ]
  },
  {
   "cell_type": "code",
   "execution_count": 2,
   "metadata": {
    "ExecuteTime": {
     "end_time": "2020-06-11T01:46:58.573236Z",
     "start_time": "2020-06-11T01:46:58.570245Z"
    }
   },
   "outputs": [],
   "source": [
    "def now_to_str():\n",
    "    now = str(datetime.now())\n",
    "    return now[0:4] + '_' + now[5:7] + '_' + now[8:10] + '_' + now[11:13] + now[14:16]"
   ]
  },
  {
   "cell_type": "markdown",
   "metadata": {},
   "source": [
    "# Defining X and y"
   ]
  },
  {
   "cell_type": "code",
   "execution_count": 3,
   "metadata": {
    "ExecuteTime": {
     "end_time": "2020-06-11T01:46:58.925496Z",
     "start_time": "2020-06-11T01:46:58.575476Z"
    }
   },
   "outputs": [
    {
     "data": {
      "text/plain": [
       "Index(['age', 'admissionweight', 'admissionheight', 'bmi', 'gender_Female',\n",
       "       'ethnicity_African American', 'ethnicity_Asian', 'ethnicity_Caucasian',\n",
       "       'ethnicity_Hispanic', 'ethnicity_Native American',\n",
       "       'ethnicity_Other/Unknown', 'unitstaytype_admit', 'unitstaytype_readmit',\n",
       "       'unitstaytype_transfer', 'verbal', 'motor', 'eyes', 'thrombolytics',\n",
       "       'aids', 'hepaticfailure', 'lymphoma', 'metastaticcancer', 'leukemia',\n",
       "       'immunosuppression', 'cirrhosis', 'activetx', 'ima', 'midur',\n",
       "       'ventday1', 'oobventday1', 'oobintubday1', 'diabetes', 'visitnumber',\n",
       "       'heartrate'],\n",
       "      dtype='object')"
      ]
     },
     "execution_count": 3,
     "metadata": {},
     "output_type": "execute_result"
    }
   ],
   "source": [
    "Xy = pd.read_csv('/Users/rachellehorwitz/Documents/ViTalErt/notebooks/Xy_2020_06_10_1425.csv')\n",
    "Xy = Xy.set_index('patientunitstayid')\n",
    "y = Xy.pop('label')\n",
    "X = Xy.copy()\n",
    "X.columns"
   ]
  },
  {
   "cell_type": "code",
   "execution_count": 4,
   "metadata": {
    "ExecuteTime": {
     "end_time": "2020-06-11T01:46:58.947974Z",
     "start_time": "2020-06-11T01:46:58.927945Z"
    }
   },
   "outputs": [
    {
     "data": {
      "text/html": [
       "<div>\n",
       "<style scoped>\n",
       "    .dataframe tbody tr th:only-of-type {\n",
       "        vertical-align: middle;\n",
       "    }\n",
       "\n",
       "    .dataframe tbody tr th {\n",
       "        vertical-align: top;\n",
       "    }\n",
       "\n",
       "    .dataframe thead th {\n",
       "        text-align: right;\n",
       "    }\n",
       "</style>\n",
       "<table border=\"1\" class=\"dataframe\">\n",
       "  <thead>\n",
       "    <tr style=\"text-align: right;\">\n",
       "      <th></th>\n",
       "      <th>age</th>\n",
       "      <th>admissionweight</th>\n",
       "      <th>admissionheight</th>\n",
       "      <th>bmi</th>\n",
       "      <th>gender_Female</th>\n",
       "      <th>ethnicity_African American</th>\n",
       "      <th>ethnicity_Asian</th>\n",
       "      <th>ethnicity_Caucasian</th>\n",
       "      <th>ethnicity_Hispanic</th>\n",
       "      <th>ethnicity_Native American</th>\n",
       "      <th>...</th>\n",
       "      <th>cirrhosis</th>\n",
       "      <th>activetx</th>\n",
       "      <th>ima</th>\n",
       "      <th>midur</th>\n",
       "      <th>ventday1</th>\n",
       "      <th>oobventday1</th>\n",
       "      <th>oobintubday1</th>\n",
       "      <th>diabetes</th>\n",
       "      <th>visitnumber</th>\n",
       "      <th>heartrate</th>\n",
       "    </tr>\n",
       "    <tr>\n",
       "      <th>patientunitstayid</th>\n",
       "      <th></th>\n",
       "      <th></th>\n",
       "      <th></th>\n",
       "      <th></th>\n",
       "      <th></th>\n",
       "      <th></th>\n",
       "      <th></th>\n",
       "      <th></th>\n",
       "      <th></th>\n",
       "      <th></th>\n",
       "      <th></th>\n",
       "      <th></th>\n",
       "      <th></th>\n",
       "      <th></th>\n",
       "      <th></th>\n",
       "      <th></th>\n",
       "      <th></th>\n",
       "      <th></th>\n",
       "      <th></th>\n",
       "      <th></th>\n",
       "      <th></th>\n",
       "    </tr>\n",
       "  </thead>\n",
       "  <tbody>\n",
       "    <tr>\n",
       "      <th>141168</th>\n",
       "      <td>70</td>\n",
       "      <td>84.3</td>\n",
       "      <td>152.4</td>\n",
       "      <td>36.295906</td>\n",
       "      <td>1</td>\n",
       "      <td>0</td>\n",
       "      <td>0</td>\n",
       "      <td>1</td>\n",
       "      <td>0</td>\n",
       "      <td>0</td>\n",
       "      <td>...</td>\n",
       "      <td>0</td>\n",
       "      <td>1</td>\n",
       "      <td>0</td>\n",
       "      <td>0</td>\n",
       "      <td>0</td>\n",
       "      <td>0</td>\n",
       "      <td>0</td>\n",
       "      <td>0</td>\n",
       "      <td>1</td>\n",
       "      <td>125.052830</td>\n",
       "    </tr>\n",
       "    <tr>\n",
       "      <th>141194</th>\n",
       "      <td>68</td>\n",
       "      <td>73.9</td>\n",
       "      <td>180.3</td>\n",
       "      <td>22.732803</td>\n",
       "      <td>0</td>\n",
       "      <td>0</td>\n",
       "      <td>0</td>\n",
       "      <td>1</td>\n",
       "      <td>0</td>\n",
       "      <td>0</td>\n",
       "      <td>...</td>\n",
       "      <td>0</td>\n",
       "      <td>0</td>\n",
       "      <td>0</td>\n",
       "      <td>0</td>\n",
       "      <td>0</td>\n",
       "      <td>0</td>\n",
       "      <td>0</td>\n",
       "      <td>1</td>\n",
       "      <td>1</td>\n",
       "      <td>86.860627</td>\n",
       "    </tr>\n",
       "    <tr>\n",
       "      <th>141197</th>\n",
       "      <td>71</td>\n",
       "      <td>102.1</td>\n",
       "      <td>162.6</td>\n",
       "      <td>38.617545</td>\n",
       "      <td>0</td>\n",
       "      <td>0</td>\n",
       "      <td>0</td>\n",
       "      <td>1</td>\n",
       "      <td>0</td>\n",
       "      <td>0</td>\n",
       "      <td>...</td>\n",
       "      <td>0</td>\n",
       "      <td>0</td>\n",
       "      <td>0</td>\n",
       "      <td>0</td>\n",
       "      <td>0</td>\n",
       "      <td>0</td>\n",
       "      <td>0</td>\n",
       "      <td>0</td>\n",
       "      <td>1</td>\n",
       "      <td>97.307692</td>\n",
       "    </tr>\n",
       "    <tr>\n",
       "      <th>141203</th>\n",
       "      <td>77</td>\n",
       "      <td>70.2</td>\n",
       "      <td>160.0</td>\n",
       "      <td>27.421875</td>\n",
       "      <td>1</td>\n",
       "      <td>0</td>\n",
       "      <td>0</td>\n",
       "      <td>1</td>\n",
       "      <td>0</td>\n",
       "      <td>0</td>\n",
       "      <td>...</td>\n",
       "      <td>0</td>\n",
       "      <td>1</td>\n",
       "      <td>0</td>\n",
       "      <td>0</td>\n",
       "      <td>1</td>\n",
       "      <td>1</td>\n",
       "      <td>0</td>\n",
       "      <td>1</td>\n",
       "      <td>1</td>\n",
       "      <td>91.543554</td>\n",
       "    </tr>\n",
       "    <tr>\n",
       "      <th>141208</th>\n",
       "      <td>25</td>\n",
       "      <td>95.3</td>\n",
       "      <td>172.7</td>\n",
       "      <td>31.952749</td>\n",
       "      <td>1</td>\n",
       "      <td>0</td>\n",
       "      <td>0</td>\n",
       "      <td>1</td>\n",
       "      <td>0</td>\n",
       "      <td>0</td>\n",
       "      <td>...</td>\n",
       "      <td>0</td>\n",
       "      <td>0</td>\n",
       "      <td>0</td>\n",
       "      <td>0</td>\n",
       "      <td>0</td>\n",
       "      <td>0</td>\n",
       "      <td>0</td>\n",
       "      <td>0</td>\n",
       "      <td>1</td>\n",
       "      <td>77.817460</td>\n",
       "    </tr>\n",
       "  </tbody>\n",
       "</table>\n",
       "<p>5 rows × 34 columns</p>\n",
       "</div>"
      ],
      "text/plain": [
       "                   age  admissionweight  admissionheight        bmi  \\\n",
       "patientunitstayid                                                     \n",
       "141168              70             84.3            152.4  36.295906   \n",
       "141194              68             73.9            180.3  22.732803   \n",
       "141197              71            102.1            162.6  38.617545   \n",
       "141203              77             70.2            160.0  27.421875   \n",
       "141208              25             95.3            172.7  31.952749   \n",
       "\n",
       "                   gender_Female  ethnicity_African American  ethnicity_Asian  \\\n",
       "patientunitstayid                                                               \n",
       "141168                         1                           0                0   \n",
       "141194                         0                           0                0   \n",
       "141197                         0                           0                0   \n",
       "141203                         1                           0                0   \n",
       "141208                         1                           0                0   \n",
       "\n",
       "                   ethnicity_Caucasian  ethnicity_Hispanic  \\\n",
       "patientunitstayid                                            \n",
       "141168                               1                   0   \n",
       "141194                               1                   0   \n",
       "141197                               1                   0   \n",
       "141203                               1                   0   \n",
       "141208                               1                   0   \n",
       "\n",
       "                   ethnicity_Native American  ...  cirrhosis  activetx  ima  \\\n",
       "patientunitstayid                             ...                             \n",
       "141168                                     0  ...          0         1    0   \n",
       "141194                                     0  ...          0         0    0   \n",
       "141197                                     0  ...          0         0    0   \n",
       "141203                                     0  ...          0         1    0   \n",
       "141208                                     0  ...          0         0    0   \n",
       "\n",
       "                   midur  ventday1  oobventday1  oobintubday1  diabetes  \\\n",
       "patientunitstayid                                                         \n",
       "141168                 0         0            0             0         0   \n",
       "141194                 0         0            0             0         1   \n",
       "141197                 0         0            0             0         0   \n",
       "141203                 0         1            1             0         1   \n",
       "141208                 0         0            0             0         0   \n",
       "\n",
       "                   visitnumber   heartrate  \n",
       "patientunitstayid                           \n",
       "141168                       1  125.052830  \n",
       "141194                       1   86.860627  \n",
       "141197                       1   97.307692  \n",
       "141203                       1   91.543554  \n",
       "141208                       1   77.817460  \n",
       "\n",
       "[5 rows x 34 columns]"
      ]
     },
     "execution_count": 4,
     "metadata": {},
     "output_type": "execute_result"
    }
   ],
   "source": [
    "X.head()"
   ]
  },
  {
   "cell_type": "code",
   "execution_count": 5,
   "metadata": {
    "ExecuteTime": {
     "end_time": "2020-06-11T01:46:58.953561Z",
     "start_time": "2020-06-11T01:46:58.949508Z"
    }
   },
   "outputs": [
    {
     "data": {
      "text/plain": [
       "patientunitstayid\n",
       "141168    0\n",
       "141194    0\n",
       "141197    0\n",
       "141203    0\n",
       "141208    0\n",
       "Name: label, dtype: int64"
      ]
     },
     "execution_count": 5,
     "metadata": {},
     "output_type": "execute_result"
    }
   ],
   "source": [
    "y.head()"
   ]
  },
  {
   "cell_type": "code",
   "execution_count": 6,
   "metadata": {
    "ExecuteTime": {
     "end_time": "2020-06-11T01:46:58.957875Z",
     "start_time": "2020-06-11T01:46:58.955210Z"
    },
    "scrolled": false
   },
   "outputs": [],
   "source": [
    "# from sklearn.metrics import precision_score\n",
    "\n",
    "# %matplotlib qt\n",
    "\n",
    "\n",
    "# X_train, X_test, y_train, y_test = train_test_split(X, y, test_size=0.2, stratify=y, random_state=1)\n",
    "# scaler = StandardScaler()\n",
    "# X_train_sc = scaler.fit_transform(X_train)\n",
    "# X_test_sc = scaler.transform(X_test)\n",
    "\n",
    "# logisticRegr_sc = LogisticRegression(class_weight='balanced')\n",
    "# logisticRegr_sc.fit(X_train_sc, y_train)\n",
    "\n",
    "# yhat_logisticRegr_sc = logisticRegr_sc.predict(X_test_sc)\n",
    "# prob_logisticRegr_sc = logisticRegr_sc.predict_proba(X_test_sc)[:,1]\n",
    "\n",
    "# #lprob_sc = logisticRegr_sc.predict_log_proba(X_test)[:,1]\n",
    "\n",
    "# scores_sc = logisticRegr_sc.score(X_test_sc, y_test)\n",
    "# print(scores_sc)\n",
    "# print('F1 score is: ' + str(f1_score(y_test, yhat_logisticRegr_sc)))\n",
    "\n",
    "# # # Print baseline accuracy\n",
    "# # N0_bl = patient[patient['label']==0].shape[0]\n",
    "# # N1_bl = patient[patient['label']==1].shape[0]\n",
    "# # print('{:d} patients in negative class'.format(N0_bl))\n",
    "# # print('{:d} patients in positive class'.format(N1_bl))\n",
    "# # print('If you predict 0 all the time, accuracy is {:.5f}%'.format(N0_bl/(N0_bl+N1_bl)))\n",
    "\n",
    "# cm = confusion_matrix(list(y_test), yhat_logisticRegr_sc)\n",
    "# plot_confusion_matrix(logisticRegr_sc, X_test_sc, list(y_test))\n",
    "# plot_confusion_matrix(logisticRegr_sc, X_test_sc, list(y_test),  normalize='true')\n",
    "\n",
    "# # ROC curve (https://machinelearningmastery.com/roc-curves-and-precision-recall-curves-for-classification-in-python/)\n",
    "# noskill_probs = [0 for _ in range(len(y_test))]\n",
    "# noskill_auc = roc_auc_score(y_test, noskill_probs)\n",
    "# logisticRegr_auc = roc_auc_score(y_test, prob_logisticRegr_sc)\n",
    "# print('No Skill: ROC AUC=%.3f' % (noskill_auc))\n",
    "# print('Logistic: ROC AUC=%.3f' % (logisticRegr_auc))\n",
    "# ns_fpr, ns_tpr, _ = roc_curve(y_test, noskill_probs)\n",
    "# lr_fpr, lr_tpr, _ = roc_curve(y_test, prob_logisticRegr_sc)\n",
    "\n",
    "# plt.figure()\n",
    "# # plot the roc curve for the model\n",
    "# plt.plot(ns_fpr, ns_tpr, linestyle='--')\n",
    "# plt.plot(lr_fpr, lr_tpr, marker='.', label='Logistic Regr.')\n",
    "# # axis labels\n",
    "# plt.xlabel('False Positive Rate')\n",
    "# plt.ylabel('True Positive Rate')\n",
    "# # show the legend\n",
    "# plt.legend()\n",
    "# # show the plot\n",
    "# plt.show()\n",
    "\n",
    "# print('prob_sc:  min = ' + str(np.min(prob_logisticRegr_sc)))\n",
    "# print('\\t    max = ' + str(np.max(prob_logisticRegr_sc)))\n",
    "\n",
    "# # Get feature weights and put into dataframe\n",
    "# mydict = {'feature': X_train.columns, 'coef': list(logisticRegr_sc.coef_.reshape(-1,1).flatten())}\n",
    "# features_weights = pd.DataFrame(mydict)\n",
    "# features_weights = features_weights.assign(abs_weight=np.abs(features_weights['coef']))\n",
    "# features_weights.head()\n",
    "# print('accuracy is ' + str(scores_sc))\n",
    "# print('precision is ' + str(precision_score(y_test, yhat_logisticRegr_sc)))"
   ]
  },
  {
   "cell_type": "code",
   "execution_count": 7,
   "metadata": {
    "ExecuteTime": {
     "end_time": "2020-06-11T01:46:58.961233Z",
     "start_time": "2020-06-11T01:46:58.959387Z"
    }
   },
   "outputs": [],
   "source": [
    "# yhat_logisticRegr_sc"
   ]
  },
  {
   "cell_type": "code",
   "execution_count": 8,
   "metadata": {
    "ExecuteTime": {
     "end_time": "2020-06-11T01:46:58.966046Z",
     "start_time": "2020-06-11T01:46:58.964288Z"
    }
   },
   "outputs": [],
   "source": [
    "# cm"
   ]
  },
  {
   "cell_type": "code",
   "execution_count": 9,
   "metadata": {
    "ExecuteTime": {
     "end_time": "2020-06-11T01:46:58.969869Z",
     "start_time": "2020-06-11T01:46:58.968238Z"
    }
   },
   "outputs": [],
   "source": [
    "# np.logspace(-4,4,10)"
   ]
  },
  {
   "cell_type": "code",
   "execution_count": 10,
   "metadata": {
    "ExecuteTime": {
     "end_time": "2020-06-11T01:46:58.976568Z",
     "start_time": "2020-06-11T01:46:58.971112Z"
    }
   },
   "outputs": [],
   "source": [
    "def grid_search_wrapper(clf, X_train_sc, y_train, X_test_sc, y_test):\n",
    "    \"\"\"\n",
    "    fits a GridSearchCV classifier using refit_score for optimization\n",
    "    prints classifier performance metrics\n",
    "    \"\"\"\n",
    "    skf = StratifiedKFold(n_splits=10)\n",
    "#     grid_search = GridSearchCV(clf, param_grid, scoring=scorers, refit=refit_score,\n",
    "#                            cv=skf, return_train_score=True, n_jobs=-1)\n",
    "    \n",
    "#     scorers = {\n",
    "#     'precision_score': make_scorer(precision_score),\n",
    "#     'recall_score': make_scorer(recall_score),\n",
    "#     'accuracy_score': make_scorer(accuracy_score)\n",
    "#     }\n",
    "    \n",
    "#     param_grid = {'classifier__penalty' : ['l1', 'l2'],\n",
    "#     'classifier__C' : np.logspace(-4, 4, 20)}\n",
    "    \n",
    "    \n",
    "    \n",
    "    \n",
    "    hyperparam_grid = {'penalty': ['l1', 'l2'], 'C': np.logspace(-6, 3, 10), 'fit_intercept': [True, False]}\n",
    "    #GridSearchCV(clf, param, scoring='f1_score',refit=True,cv=10)\n",
    "    \n",
    "    \n",
    "    grid_search = GridSearchCV(clf, scoring='f1', param_grid= hyperparam_grid, refit=True,\n",
    "                           cv=skf, return_train_score=True, n_jobs=4)\n",
    "    grid_search.fit(X_train_sc, y_train)\n",
    "\n",
    "    # make the predictions\n",
    "    y_pred = grid_search.predict(X_test_sc)\n",
    "\n",
    "    print('Best params for f1')\n",
    "    print(grid_search.best_params_)\n",
    "\n",
    "    # confusion matrix on the test data.\n",
    "    print('\\nConfusion matrix of Logistic Regression optimized')\n",
    "    print(pd.DataFrame(confusion_matrix(y_test, y_pred),\n",
    "                 columns=['pred_neg', 'pred_pos'], index=['neg', 'pos']))\n",
    "    return grid_search, y_pred"
   ]
  },
  {
   "cell_type": "code",
   "execution_count": 11,
   "metadata": {
    "ExecuteTime": {
     "end_time": "2020-06-11T01:47:26.500552Z",
     "start_time": "2020-06-11T01:46:58.977965Z"
    }
   },
   "outputs": [
    {
     "name": "stdout",
     "output_type": "stream",
     "text": [
      "Best params for f1\n",
      "{'C': 0.0001, 'fit_intercept': True, 'penalty': 'l2'}\n",
      "\n",
      "Confusion matrix of Logistic Regression optimized\n",
      "     pred_neg  pred_pos\n",
      "neg     19910      9254\n",
      "pos        28        62\n"
     ]
    },
    {
     "data": {
      "text/plain": [
       "0.013183074633212843"
      ]
     },
     "execution_count": 11,
     "metadata": {},
     "output_type": "execute_result"
    }
   ],
   "source": [
    "\n",
    "from sklearn.metrics import roc_curve, precision_recall_curve, auc, make_scorer, recall_score, accuracy_score, precision_score, confusion_matrix\n",
    "\n",
    "X_train, X_test, y_train, y_test = train_test_split(X, y, test_size=0.2, stratify=y, random_state=1)\n",
    "scaler = StandardScaler()\n",
    "X_train_sc = scaler.fit_transform(X_train)\n",
    "X_test_sc = scaler.transform(X_test)\n",
    "\n",
    "clf = LogisticRegression(class_weight='balanced')\n",
    "clf.fit(X_train_sc, y_train)\n",
    "\n",
    "grid_search_clf, y_pred = grid_search_wrapper(clf, X_train_sc, y_train, X_test_sc, y_test)\n",
    "f1_score(y_test, y_pred)\n",
    "# yhat_logisticRegr_sc = logisticRegr_sc.predict(X_test_sc)\n",
    "# prob_logisticRegr_sc = logisticRegr_sc.predict_proba(X_test_sc)[:,1]\n",
    "\n"
   ]
  },
  {
   "cell_type": "code",
   "execution_count": 12,
   "metadata": {
    "ExecuteTime": {
     "end_time": "2020-06-11T01:47:26.507503Z",
     "start_time": "2020-06-11T01:47:26.502481Z"
    }
   },
   "outputs": [
    {
     "data": {
      "text/plain": [
       "array([0.32804703, 0.59624074, 0.47660781, ..., 0.35201045, 0.26061886,\n",
       "       0.28511005])"
      ]
     },
     "execution_count": 12,
     "metadata": {},
     "output_type": "execute_result"
    }
   ],
   "source": [
    "grid_search_clf.predict_proba(X_test_sc)[:,1]"
   ]
  },
  {
   "cell_type": "code",
   "execution_count": 13,
   "metadata": {
    "ExecuteTime": {
     "end_time": "2020-06-11T01:47:26.514184Z",
     "start_time": "2020-06-11T01:47:26.509115Z"
    }
   },
   "outputs": [
    {
     "data": {
      "text/plain": [
       "0.04476900829117379"
      ]
     },
     "execution_count": 13,
     "metadata": {},
     "output_type": "execute_result"
    }
   ],
   "source": [
    "grid_search_clf.predict_proba(X_test_sc)[:,1].min()"
   ]
  },
  {
   "cell_type": "code",
   "execution_count": 14,
   "metadata": {
    "ExecuteTime": {
     "end_time": "2020-06-11T01:47:26.521400Z",
     "start_time": "2020-06-11T01:47:26.516101Z"
    }
   },
   "outputs": [
    {
     "data": {
      "text/plain": [
       "0.9494607452797603"
      ]
     },
     "execution_count": 14,
     "metadata": {},
     "output_type": "execute_result"
    }
   ],
   "source": [
    "grid_search_clf.predict_proba(X_test_sc)[:,1].max()"
   ]
  },
  {
   "cell_type": "code",
   "execution_count": 15,
   "metadata": {
    "ExecuteTime": {
     "end_time": "2020-06-11T01:47:26.702883Z",
     "start_time": "2020-06-11T01:47:26.523234Z"
    }
   },
   "outputs": [],
   "source": [
    "clf_w_best_params = LogisticRegression(class_weight='balanced', C=0.0001, fit_intercept=True)\n",
    "clf_w_best_params.fit(X_train_sc, y_train)\n",
    "y_pred = clf_w_best_params.predict(X_test_sc)\n",
    "print('accuracy is ' + str(accuracy_score(y_test, y_pred)))\n",
    "print('precision is ' + str(precision_score(y_test, y_pred)))"
   ]
  },
  {
   "cell_type": "code",
   "execution_count": 23,
   "metadata": {
    "ExecuteTime": {
     "end_time": "2020-06-11T01:53:31.427763Z",
     "start_time": "2020-06-11T01:53:31.021970Z"
    }
   },
   "outputs": [
    {
     "name": "stdout",
     "output_type": "stream",
     "text": [
      "No Skill: ROC AUC=0.500\n",
      "Logistic: ROC AUC=0.686\n"
     ]
    },
    {
     "data": {
      "image/png": "[encoded data removed]",
      "text/plain": [
       "<Figure size 432x288 with 2 Axes>"
      ]
     },
     "metadata": {
      "needs_background": "light"
     },
     "output_type": "display_data"
    },
    {
     "data": {
      "image/png": "[encoded data removed]",
      "text/plain": [
       "<Figure size 432x288 with 2 Axes>"
      ]
     },
     "metadata": {
      "needs_background": "light"
     },
     "output_type": "display_data"
    },
    {
     "data": {
      "image/png": "[encoded data removed]",
      "text/plain": [
       "<Figure size 432x288 with 1 Axes>"
      ]
     },
     "metadata": {
      "needs_background": "light"
     },
     "output_type": "display_data"
    }
   ],
   "source": [
    "cm = confusion_matrix(list(y_test), y_pred)\n",
    "plot_confusion_matrix(clf_w_best_params, X_test_sc, list(y_test))\n",
    "plot_confusion_matrix(clf_w_best_params, X_test_sc, list(y_test),  normalize='true')\n",
    "\n",
    "# ROC curve (https://machinelearningmastery.com/roc-curves-and-precision-recall-curves-for-classification-in-python/)\n",
    "noskill_probs = [0 for _ in range(len(y_test))]\n",
    "noskill_auc = roc_auc_score(y_test, noskill_probs)\n",
    "logisticRegr_auc = roc_auc_score(y_test, y_pred)\n",
    "print('No Skill: ROC AUC=%.3f' % (noskill_auc))\n",
    "print('Logistic: ROC AUC=%.3f' % (logisticRegr_auc))\n",
    "ns_fpr, ns_tpr, _ = roc_curve(y_test, noskill_probs)\n",
    "lr_fpr, lr_tpr, _ = roc_curve(y_test, clf_w_best_params.predict_proba(X_test_sc)[:,1])\n",
    "\n",
    "plt.figure()\n",
    "# plot the roc curve for the model\n",
    "plt.plot(ns_fpr, ns_tpr, linestyle='--')\n",
    "plt.plot(lr_fpr, lr_tpr, marker='.', label='Logistic Regr.')\n",
    "# axis labels\n",
    "plt.xlabel('False Positive Rate')\n",
    "plt.ylabel('True Positive Rate')\n",
    "# show the legend\n",
    "plt.legend()\n",
    "# show the plot\n",
    "plt.show()\n"
   ]
  },
  {
   "cell_type": "code",
   "execution_count": 22,
   "metadata": {
    "ExecuteTime": {
     "end_time": "2020-06-11T01:51:15.059757Z",
     "start_time": "2020-06-11T01:51:15.055943Z"
    }
   },
   "outputs": [
    {
     "data": {
      "text/plain": [
       "(29254,)"
      ]
     },
     "execution_count": 22,
     "metadata": {},
     "output_type": "execute_result"
    }
   ],
   "source": [
    "y_pred.shape"
   ]
  },
  {
   "cell_type": "code",
   "execution_count": 19,
   "metadata": {
    "ExecuteTime": {
     "end_time": "2020-06-11T01:48:39.892175Z",
     "start_time": "2020-06-11T01:48:39.878042Z"
    }
   },
   "outputs": [
    {
     "data": {
      "text/html": [
       "<div>\n",
       "<style scoped>\n",
       "    .dataframe tbody tr th:only-of-type {\n",
       "        vertical-align: middle;\n",
       "    }\n",
       "\n",
       "    .dataframe tbody tr th {\n",
       "        vertical-align: top;\n",
       "    }\n",
       "\n",
       "    .dataframe thead th {\n",
       "        text-align: right;\n",
       "    }\n",
       "</style>\n",
       "<table border=\"1\" class=\"dataframe\">\n",
       "  <thead>\n",
       "    <tr style=\"text-align: right;\">\n",
       "      <th></th>\n",
       "      <th>feature</th>\n",
       "      <th>coef</th>\n",
       "      <th>abs_weight</th>\n",
       "    </tr>\n",
       "  </thead>\n",
       "  <tbody>\n",
       "    <tr>\n",
       "      <th>0</th>\n",
       "      <td>age</td>\n",
       "      <td>0.127438</td>\n",
       "      <td>0.127438</td>\n",
       "    </tr>\n",
       "    <tr>\n",
       "      <th>1</th>\n",
       "      <td>admissionweight</td>\n",
       "      <td>0.085473</td>\n",
       "      <td>0.085473</td>\n",
       "    </tr>\n",
       "    <tr>\n",
       "      <th>2</th>\n",
       "      <td>admissionheight</td>\n",
       "      <td>0.011671</td>\n",
       "      <td>0.011671</td>\n",
       "    </tr>\n",
       "    <tr>\n",
       "      <th>3</th>\n",
       "      <td>bmi</td>\n",
       "      <td>0.071212</td>\n",
       "      <td>0.071212</td>\n",
       "    </tr>\n",
       "    <tr>\n",
       "      <th>4</th>\n",
       "      <td>gender_Female</td>\n",
       "      <td>0.014983</td>\n",
       "      <td>0.014983</td>\n",
       "    </tr>\n",
       "    <tr>\n",
       "      <th>5</th>\n",
       "      <td>ethnicity_African American</td>\n",
       "      <td>0.054780</td>\n",
       "      <td>0.054780</td>\n",
       "    </tr>\n",
       "    <tr>\n",
       "      <th>6</th>\n",
       "      <td>ethnicity_Asian</td>\n",
       "      <td>-0.063041</td>\n",
       "      <td>0.063041</td>\n",
       "    </tr>\n",
       "    <tr>\n",
       "      <th>7</th>\n",
       "      <td>ethnicity_Caucasian</td>\n",
       "      <td>0.010358</td>\n",
       "      <td>0.010358</td>\n",
       "    </tr>\n",
       "    <tr>\n",
       "      <th>8</th>\n",
       "      <td>ethnicity_Hispanic</td>\n",
       "      <td>0.017740</td>\n",
       "      <td>0.017740</td>\n",
       "    </tr>\n",
       "    <tr>\n",
       "      <th>9</th>\n",
       "      <td>ethnicity_Native American</td>\n",
       "      <td>-0.020662</td>\n",
       "      <td>0.020662</td>\n",
       "    </tr>\n",
       "    <tr>\n",
       "      <th>10</th>\n",
       "      <td>ethnicity_Other/Unknown</td>\n",
       "      <td>-0.069869</td>\n",
       "      <td>0.069869</td>\n",
       "    </tr>\n",
       "    <tr>\n",
       "      <th>11</th>\n",
       "      <td>unitstaytype_admit</td>\n",
       "      <td>-0.031429</td>\n",
       "      <td>0.031429</td>\n",
       "    </tr>\n",
       "    <tr>\n",
       "      <th>12</th>\n",
       "      <td>unitstaytype_readmit</td>\n",
       "      <td>0.038061</td>\n",
       "      <td>0.038061</td>\n",
       "    </tr>\n",
       "    <tr>\n",
       "      <th>13</th>\n",
       "      <td>unitstaytype_transfer</td>\n",
       "      <td>0.004059</td>\n",
       "      <td>0.004059</td>\n",
       "    </tr>\n",
       "    <tr>\n",
       "      <th>14</th>\n",
       "      <td>verbal</td>\n",
       "      <td>-0.087405</td>\n",
       "      <td>0.087405</td>\n",
       "    </tr>\n",
       "    <tr>\n",
       "      <th>15</th>\n",
       "      <td>motor</td>\n",
       "      <td>-0.040870</td>\n",
       "      <td>0.040870</td>\n",
       "    </tr>\n",
       "    <tr>\n",
       "      <th>16</th>\n",
       "      <td>eyes</td>\n",
       "      <td>-0.034233</td>\n",
       "      <td>0.034233</td>\n",
       "    </tr>\n",
       "    <tr>\n",
       "      <th>17</th>\n",
       "      <td>thrombolytics</td>\n",
       "      <td>0.009616</td>\n",
       "      <td>0.009616</td>\n",
       "    </tr>\n",
       "    <tr>\n",
       "      <th>18</th>\n",
       "      <td>aids</td>\n",
       "      <td>-0.043544</td>\n",
       "      <td>0.043544</td>\n",
       "    </tr>\n",
       "    <tr>\n",
       "      <th>19</th>\n",
       "      <td>hepaticfailure</td>\n",
       "      <td>-0.004440</td>\n",
       "      <td>0.004440</td>\n",
       "    </tr>\n",
       "    <tr>\n",
       "      <th>20</th>\n",
       "      <td>lymphoma</td>\n",
       "      <td>0.026306</td>\n",
       "      <td>0.026306</td>\n",
       "    </tr>\n",
       "    <tr>\n",
       "      <th>21</th>\n",
       "      <td>metastaticcancer</td>\n",
       "      <td>0.007013</td>\n",
       "      <td>0.007013</td>\n",
       "    </tr>\n",
       "    <tr>\n",
       "      <th>22</th>\n",
       "      <td>leukemia</td>\n",
       "      <td>0.023180</td>\n",
       "      <td>0.023180</td>\n",
       "    </tr>\n",
       "    <tr>\n",
       "      <th>23</th>\n",
       "      <td>immunosuppression</td>\n",
       "      <td>0.058234</td>\n",
       "      <td>0.058234</td>\n",
       "    </tr>\n",
       "    <tr>\n",
       "      <th>24</th>\n",
       "      <td>cirrhosis</td>\n",
       "      <td>-0.016891</td>\n",
       "      <td>0.016891</td>\n",
       "    </tr>\n",
       "    <tr>\n",
       "      <th>25</th>\n",
       "      <td>activetx</td>\n",
       "      <td>0.182941</td>\n",
       "      <td>0.182941</td>\n",
       "    </tr>\n",
       "    <tr>\n",
       "      <th>26</th>\n",
       "      <td>ima</td>\n",
       "      <td>-0.194664</td>\n",
       "      <td>0.194664</td>\n",
       "    </tr>\n",
       "    <tr>\n",
       "      <th>27</th>\n",
       "      <td>midur</td>\n",
       "      <td>-0.062491</td>\n",
       "      <td>0.062491</td>\n",
       "    </tr>\n",
       "    <tr>\n",
       "      <th>28</th>\n",
       "      <td>ventday1</td>\n",
       "      <td>0.075522</td>\n",
       "      <td>0.075522</td>\n",
       "    </tr>\n",
       "    <tr>\n",
       "      <th>29</th>\n",
       "      <td>oobventday1</td>\n",
       "      <td>0.095953</td>\n",
       "      <td>0.095953</td>\n",
       "    </tr>\n",
       "    <tr>\n",
       "      <th>30</th>\n",
       "      <td>oobintubday1</td>\n",
       "      <td>0.150940</td>\n",
       "      <td>0.150940</td>\n",
       "    </tr>\n",
       "    <tr>\n",
       "      <th>31</th>\n",
       "      <td>diabetes</td>\n",
       "      <td>-0.106497</td>\n",
       "      <td>0.106497</td>\n",
       "    </tr>\n",
       "    <tr>\n",
       "      <th>32</th>\n",
       "      <td>visitnumber</td>\n",
       "      <td>0.023461</td>\n",
       "      <td>0.023461</td>\n",
       "    </tr>\n",
       "    <tr>\n",
       "      <th>33</th>\n",
       "      <td>heartrate</td>\n",
       "      <td>0.318373</td>\n",
       "      <td>0.318373</td>\n",
       "    </tr>\n",
       "  </tbody>\n",
       "</table>\n",
       "</div>"
      ],
      "text/plain": [
       "                       feature      coef  abs_weight\n",
       "0                          age  0.127438    0.127438\n",
       "1              admissionweight  0.085473    0.085473\n",
       "2              admissionheight  0.011671    0.011671\n",
       "3                          bmi  0.071212    0.071212\n",
       "4                gender_Female  0.014983    0.014983\n",
       "5   ethnicity_African American  0.054780    0.054780\n",
       "6              ethnicity_Asian -0.063041    0.063041\n",
       "7          ethnicity_Caucasian  0.010358    0.010358\n",
       "8           ethnicity_Hispanic  0.017740    0.017740\n",
       "9    ethnicity_Native American -0.020662    0.020662\n",
       "10     ethnicity_Other/Unknown -0.069869    0.069869\n",
       "11          unitstaytype_admit -0.031429    0.031429\n",
       "12        unitstaytype_readmit  0.038061    0.038061\n",
       "13       unitstaytype_transfer  0.004059    0.004059\n",
       "14                      verbal -0.087405    0.087405\n",
       "15                       motor -0.040870    0.040870\n",
       "16                        eyes -0.034233    0.034233\n",
       "17               thrombolytics  0.009616    0.009616\n",
       "18                        aids -0.043544    0.043544\n",
       "19              hepaticfailure -0.004440    0.004440\n",
       "20                    lymphoma  0.026306    0.026306\n",
       "21            metastaticcancer  0.007013    0.007013\n",
       "22                    leukemia  0.023180    0.023180\n",
       "23           immunosuppression  0.058234    0.058234\n",
       "24                   cirrhosis -0.016891    0.016891\n",
       "25                    activetx  0.182941    0.182941\n",
       "26                         ima -0.194664    0.194664\n",
       "27                       midur -0.062491    0.062491\n",
       "28                    ventday1  0.075522    0.075522\n",
       "29                 oobventday1  0.095953    0.095953\n",
       "30                oobintubday1  0.150940    0.150940\n",
       "31                    diabetes -0.106497    0.106497\n",
       "32                 visitnumber  0.023461    0.023461\n",
       "33                   heartrate  0.318373    0.318373"
      ]
     },
     "execution_count": 19,
     "metadata": {},
     "output_type": "execute_result"
    }
   ],
   "source": [
    "# Get feature weights and put into dataframe\n",
    "mydict = {'feature': X_train.columns, 'coef': list(clf_w_best_params.coef_.reshape(-1,1).flatten())}\n",
    "features_weights = pd.DataFrame(mydict)\n",
    "features_weights = features_weights.assign(abs_weight=np.abs(features_weights['coef']))\n",
    "features_weights\n"
   ]
  },
  {
   "cell_type": "code",
   "execution_count": null,
   "metadata": {},
   "outputs": [],
   "source": []
  }
 ],
 "metadata": {
  "kernelspec": {
   "display_name": "Python 3",
   "language": "python",
   "name": "python3"
  },
  "language_info": {
   "codemirror_mode": {
    "name": "ipython",
    "version": 3
   },
   "file_extension": ".py",
   "mimetype": "text/x-python",
   "name": "python",
   "nbconvert_exporter": "python",
   "pygments_lexer": "ipython3",
   "version": "3.7.7"
  },
  "toc": {
   "base_numbering": 1,
   "nav_menu": {},
   "number_sections": true,
   "sideBar": true,
   "skip_h1_title": false,
   "title_cell": "Table of Contents",
   "title_sidebar": "Contents",
   "toc_cell": false,
   "toc_position": {
    "height": "calc(100% - 180px)",
    "left": "10px",
    "top": "150px",
    "width": "165px"
   },
   "toc_section_display": true,
   "toc_window_display": true
  },
  "varInspector": {
   "cols": {
    "lenName": 16,
    "lenType": 16,
    "lenVar": 40
   },
   "kernels_config": {
    "python": {
     "delete_cmd_postfix": "",
     "delete_cmd_prefix": "del ",
     "library": "var_list.py",
     "varRefreshCmd": "print(var_dic_list())"
    },
    "r": {
     "delete_cmd_postfix": ") ",
     "delete_cmd_prefix": "rm(",
     "library": "var_list.r",
     "varRefreshCmd": "cat(var_dic_list()) "
    }
   },
   "position": {
    "height": "567px",
    "left": "690px",
    "right": "20px",
    "top": "8px",
    "width": "536px"
   },
   "types_to_exclude": [
    "module",
    "function",
    "builtin_function_or_method",
    "instance",
    "_Feature"
   ],
   "window_display": false
  }
 },
 "nbformat": 4,
 "nbformat_minor": 4
}
