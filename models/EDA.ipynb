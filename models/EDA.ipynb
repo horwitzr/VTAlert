{
 "cells": [
  {
   "cell_type": "code",
   "execution_count": 1,
   "metadata": {
    "ExecuteTime": {
     "end_time": "2020-06-03T21:09:44.615082Z",
     "start_time": "2020-06-03T21:09:44.613067Z"
    }
   },
   "outputs": [],
   "source": [
    "dir_read = '/Users/rachellehorwitz/Documents/VTAlert/data/filtered01/'"
   ]
  },
  {
   "cell_type": "code",
   "execution_count": 2,
   "metadata": {
    "ExecuteTime": {
     "end_time": "2020-06-03T21:09:45.394284Z",
     "start_time": "2020-06-03T21:09:44.617328Z"
    }
   },
   "outputs": [],
   "source": [
    "from sklearn.linear_model import LogisticRegression\n",
    "from sklearn.model_selection import train_test_split\n",
    "import pandas as pd\n",
    "import numpy as np\n",
    "import seaborn as sns"
   ]
  },
  {
   "cell_type": "code",
   "execution_count": 3,
   "metadata": {
    "ExecuteTime": {
     "end_time": "2020-06-03T21:09:47.832091Z",
     "start_time": "2020-06-03T21:09:45.396032Z"
    }
   },
   "outputs": [],
   "source": [
    "diagnosis_pos = pd.read_csv(dir_read + 'diagnosis_vte_ever.csv')\n",
    "diagnosis_neg = pd.read_csv(dir_read + 'diagnosis_no_vte.csv')\n",
    "\n",
    "patient_pos = pd.read_csv(dir_read + 'patient_vte_ever.csv')\n",
    "patient_neg = pd.read_csv(dir_read + 'patient_no_vte_ever.csv')"
   ]
  },
  {
   "cell_type": "code",
   "execution_count": 4,
   "metadata": {
    "ExecuteTime": {
     "end_time": "2020-06-03T21:09:47.836763Z",
     "start_time": "2020-06-03T21:09:47.833557Z"
    }
   },
   "outputs": [],
   "source": [
    "def convertAgeToNum(patient):\n",
    "    # Replace '> 89' with '91'\n",
    "    over89 = patient[patient['age']=='> 89']\n",
    "    print(str(over89.shape[0]) + ' patientunitstayids with age > 89 out of ' + str(patient.shape[0]))\n",
    "    patient['age'] = patient['age'].replace('> 89', '91').astype(int)\n",
    "    return patient"
   ]
  },
  {
   "cell_type": "code",
   "execution_count": 5,
   "metadata": {
    "ExecuteTime": {
     "end_time": "2020-06-03T21:09:47.846931Z",
     "start_time": "2020-06-03T21:09:47.838250Z"
    }
   },
   "outputs": [
    {
     "data": {
      "text/plain": [
       "71173     953.0\n",
       "24133     909.9\n",
       "151722    880.6\n",
       "78792     855.0\n",
       "19244     850.0\n",
       "38725     838.0\n",
       "55184     818.0\n",
       "10280     779.8\n",
       "57636     771.2\n",
       "79274     771.0\n",
       "57216     735.0\n",
       "84648     713.0\n",
       "159729    668.9\n",
       "9146      641.7\n",
       "106588    639.6\n",
       "141111    630.9\n",
       "75511     606.0\n",
       "159005    589.0\n",
       "5940      544.0\n",
       "134205    477.0\n",
       "810       414.5\n",
       "17881     396.9\n",
       "21422     362.8\n",
       "140447    350.6\n",
       "20840     349.2\n",
       "123558    334.2\n",
       "95117     323.9\n",
       "99422     313.4\n",
       "98917     313.0\n",
       "110163    304.8\n",
       "103917    303.0\n",
       "46139     302.8\n",
       "160152    299.3\n",
       "10393     297.7\n",
       "29002     295.4\n",
       "Name: admissionweight, dtype: float64"
      ]
     },
     "execution_count": 5,
     "metadata": {},
     "output_type": "execute_result"
    }
   ],
   "source": [
    "patient_neg.admissionweight.nlargest(35)"
   ]
  },
  {
   "cell_type": "code",
   "execution_count": null,
   "metadata": {},
   "outputs": [],
   "source": []
  },
  {
   "cell_type": "code",
   "execution_count": 26,
   "metadata": {
    "ExecuteTime": {
     "end_time": "2020-06-03T21:10:15.029650Z",
     "start_time": "2020-06-03T21:10:14.841006Z"
    }
   },
   "outputs": [
    {
     "data": {
      "application/javascript": [
       "/* Put everything inside the global mpl namespace */\n",
       "window.mpl = {};\n",
       "\n",
       "\n",
       "mpl.get_websocket_type = function() {\n",
       "    if (typeof(WebSocket) !== 'undefined') {\n",
       "        return WebSocket;\n",
       "    } else if (typeof(MozWebSocket) !== 'undefined') {\n",
       "        return MozWebSocket;\n",
       "    } else {\n",
       "        alert('Your browser does not have WebSocket support. ' +\n",
       "              'Please try Chrome, Safari or Firefox ≥ 6. ' +\n",
       "              'Firefox 4 and 5 are also supported but you ' +\n",
       "              'have to enable WebSockets in about:config.');\n",
       "    };\n",
       "}\n",
       "\n",
       "mpl.figure = function(figure_id, websocket, ondownload, parent_element) {\n",
       "    this.id = figure_id;\n",
       "\n",
       "    this.ws = websocket;\n",
       "\n",
       "    this.supports_binary = (this.ws.binaryType != undefined);\n",
       "\n",
       "    if (!this.supports_binary) {\n",
       "        var warnings = document.getElementById(\"mpl-warnings\");\n",
       "        if (warnings) {\n",
       "            warnings.style.display = 'block';\n",
       "            warnings.textContent = (\n",
       "                \"This browser does not support binary websocket messages. \" +\n",
       "                    \"Performance may be slow.\");\n",
       "        }\n",
       "    }\n",
       "\n",
       "    this.imageObj = new Image();\n",
       "\n",
       "    this.context = undefined;\n",
       "    this.message = undefined;\n",
       "    this.canvas = undefined;\n",
       "    this.rubberband_canvas = undefined;\n",
       "    this.rubberband_context = undefined;\n",
       "    this.format_dropdown = undefined;\n",
       "\n",
       "    this.image_mode = 'full';\n",
       "\n",
       "    this.root = $('<div/>');\n",
       "    this._root_extra_style(this.root)\n",
       "    this.root.attr('style', 'display: inline-block');\n",
       "\n",
       "    $(parent_element).append(this.root);\n",
       "\n",
       "    this._init_header(this);\n",
       "    this._init_canvas(this);\n",
       "    this._init_toolbar(this);\n",
       "\n",
       "    var fig = this;\n",
       "\n",
       "    this.waiting = false;\n",
       "\n",
       "    this.ws.onopen =  function () {\n",
       "            fig.send_message(\"supports_binary\", {value: fig.supports_binary});\n",
       "            fig.send_message(\"send_image_mode\", {});\n",
       "            if (mpl.ratio != 1) {\n",
       "                fig.send_message(\"set_dpi_ratio\", {'dpi_ratio': mpl.ratio});\n",
       "            }\n",
       "            fig.send_message(\"refresh\", {});\n",
       "        }\n",
       "\n",
       "    this.imageObj.onload = function() {\n",
       "            if (fig.image_mode == 'full') {\n",
       "                // Full images could contain transparency (where diff images\n",
       "                // almost always do), so we need to clear the canvas so that\n",
       "                // there is no ghosting.\n",
       "                fig.context.clearRect(0, 0, fig.canvas.width, fig.canvas.height);\n",
       "            }\n",
       "            fig.context.drawImage(fig.imageObj, 0, 0);\n",
       "        };\n",
       "\n",
       "    this.imageObj.onunload = function() {\n",
       "        fig.ws.close();\n",
       "    }\n",
       "\n",
       "    this.ws.onmessage = this._make_on_message_function(this);\n",
       "\n",
       "    this.ondownload = ondownload;\n",
       "}\n",
       "\n",
       "mpl.figure.prototype._init_header = function() {\n",
       "    var titlebar = $(\n",
       "        '<div class=\"ui-dialog-titlebar ui-widget-header ui-corner-all ' +\n",
       "        'ui-helper-clearfix\"/>');\n",
       "    var titletext = $(\n",
       "        '<div class=\"ui-dialog-title\" style=\"width: 100%; ' +\n",
       "        'text-align: center; padding: 3px;\"/>');\n",
       "    titlebar.append(titletext)\n",
       "    this.root.append(titlebar);\n",
       "    this.header = titletext[0];\n",
       "}\n",
       "\n",
       "\n",
       "\n",
       "mpl.figure.prototype._canvas_extra_style = function(canvas_div) {\n",
       "\n",
       "}\n",
       "\n",
       "\n",
       "mpl.figure.prototype._root_extra_style = function(canvas_div) {\n",
       "\n",
       "}\n",
       "\n",
       "mpl.figure.prototype._init_canvas = function() {\n",
       "    var fig = this;\n",
       "\n",
       "    var canvas_div = $('<div/>');\n",
       "\n",
       "    canvas_div.attr('style', 'position: relative; clear: both; outline: 0');\n",
       "\n",
       "    function canvas_keyboard_event(event) {\n",
       "        return fig.key_event(event, event['data']);\n",
       "    }\n",
       "\n",
       "    canvas_div.keydown('key_press', canvas_keyboard_event);\n",
       "    canvas_div.keyup('key_release', canvas_keyboard_event);\n",
       "    this.canvas_div = canvas_div\n",
       "    this._canvas_extra_style(canvas_div)\n",
       "    this.root.append(canvas_div);\n",
       "\n",
       "    var canvas = $('<canvas/>');\n",
       "    canvas.addClass('mpl-canvas');\n",
       "    canvas.attr('style', \"left: 0; top: 0; z-index: 0; outline: 0\")\n",
       "\n",
       "    this.canvas = canvas[0];\n",
       "    this.context = canvas[0].getContext(\"2d\");\n",
       "\n",
       "    var backingStore = this.context.backingStorePixelRatio ||\n",
       "\tthis.context.webkitBackingStorePixelRatio ||\n",
       "\tthis.context.mozBackingStorePixelRatio ||\n",
       "\tthis.context.msBackingStorePixelRatio ||\n",
       "\tthis.context.oBackingStorePixelRatio ||\n",
       "\tthis.context.backingStorePixelRatio || 1;\n",
       "\n",
       "    mpl.ratio = (window.devicePixelRatio || 1) / backingStore;\n",
       "\n",
       "    var rubberband = $('<canvas/>');\n",
       "    rubberband.attr('style', \"position: absolute; left: 0; top: 0; z-index: 1;\")\n",
       "\n",
       "    var pass_mouse_events = true;\n",
       "\n",
       "    canvas_div.resizable({\n",
       "        start: function(event, ui) {\n",
       "            pass_mouse_events = false;\n",
       "        },\n",
       "        resize: function(event, ui) {\n",
       "            fig.request_resize(ui.size.width, ui.size.height);\n",
       "        },\n",
       "        stop: function(event, ui) {\n",
       "            pass_mouse_events = true;\n",
       "            fig.request_resize(ui.size.width, ui.size.height);\n",
       "        },\n",
       "    });\n",
       "\n",
       "    function mouse_event_fn(event) {\n",
       "        if (pass_mouse_events)\n",
       "            return fig.mouse_event(event, event['data']);\n",
       "    }\n",
       "\n",
       "    rubberband.mousedown('button_press', mouse_event_fn);\n",
       "    rubberband.mouseup('button_release', mouse_event_fn);\n",
       "    // Throttle sequential mouse events to 1 every 20ms.\n",
       "    rubberband.mousemove('motion_notify', mouse_event_fn);\n",
       "\n",
       "    rubberband.mouseenter('figure_enter', mouse_event_fn);\n",
       "    rubberband.mouseleave('figure_leave', mouse_event_fn);\n",
       "\n",
       "    canvas_div.on(\"wheel\", function (event) {\n",
       "        event = event.originalEvent;\n",
       "        event['data'] = 'scroll'\n",
       "        if (event.deltaY < 0) {\n",
       "            event.step = 1;\n",
       "        } else {\n",
       "            event.step = -1;\n",
       "        }\n",
       "        mouse_event_fn(event);\n",
       "    });\n",
       "\n",
       "    canvas_div.append(canvas);\n",
       "    canvas_div.append(rubberband);\n",
       "\n",
       "    this.rubberband = rubberband;\n",
       "    this.rubberband_canvas = rubberband[0];\n",
       "    this.rubberband_context = rubberband[0].getContext(\"2d\");\n",
       "    this.rubberband_context.strokeStyle = \"#000000\";\n",
       "\n",
       "    this._resize_canvas = function(width, height) {\n",
       "        // Keep the size of the canvas, canvas container, and rubber band\n",
       "        // canvas in synch.\n",
       "        canvas_div.css('width', width)\n",
       "        canvas_div.css('height', height)\n",
       "\n",
       "        canvas.attr('width', width * mpl.ratio);\n",
       "        canvas.attr('height', height * mpl.ratio);\n",
       "        canvas.attr('style', 'width: ' + width + 'px; height: ' + height + 'px;');\n",
       "\n",
       "        rubberband.attr('width', width);\n",
       "        rubberband.attr('height', height);\n",
       "    }\n",
       "\n",
       "    // Set the figure to an initial 600x600px, this will subsequently be updated\n",
       "    // upon first draw.\n",
       "    this._resize_canvas(600, 600);\n",
       "\n",
       "    // Disable right mouse context menu.\n",
       "    $(this.rubberband_canvas).bind(\"contextmenu\",function(e){\n",
       "        return false;\n",
       "    });\n",
       "\n",
       "    function set_focus () {\n",
       "        canvas.focus();\n",
       "        canvas_div.focus();\n",
       "    }\n",
       "\n",
       "    window.setTimeout(set_focus, 100);\n",
       "}\n",
       "\n",
       "mpl.figure.prototype._init_toolbar = function() {\n",
       "    var fig = this;\n",
       "\n",
       "    var nav_element = $('<div/>');\n",
       "    nav_element.attr('style', 'width: 100%');\n",
       "    this.root.append(nav_element);\n",
       "\n",
       "    // Define a callback function for later on.\n",
       "    function toolbar_event(event) {\n",
       "        return fig.toolbar_button_onclick(event['data']);\n",
       "    }\n",
       "    function toolbar_mouse_event(event) {\n",
       "        return fig.toolbar_button_onmouseover(event['data']);\n",
       "    }\n",
       "\n",
       "    for(var toolbar_ind in mpl.toolbar_items) {\n",
       "        var name = mpl.toolbar_items[toolbar_ind][0];\n",
       "        var tooltip = mpl.toolbar_items[toolbar_ind][1];\n",
       "        var image = mpl.toolbar_items[toolbar_ind][2];\n",
       "        var method_name = mpl.toolbar_items[toolbar_ind][3];\n",
       "\n",
       "        if (!name) {\n",
       "            // put a spacer in here.\n",
       "            continue;\n",
       "        }\n",
       "        var button = $('<button/>');\n",
       "        button.addClass('ui-button ui-widget ui-state-default ui-corner-all ' +\n",
       "                        'ui-button-icon-only');\n",
       "        button.attr('role', 'button');\n",
       "        button.attr('aria-disabled', 'false');\n",
       "        button.click(method_name, toolbar_event);\n",
       "        button.mouseover(tooltip, toolbar_mouse_event);\n",
       "\n",
       "        var icon_img = $('<span/>');\n",
       "        icon_img.addClass('ui-button-icon-primary ui-icon');\n",
       "        icon_img.addClass(image);\n",
       "        icon_img.addClass('ui-corner-all');\n",
       "\n",
       "        var tooltip_span = $('<span/>');\n",
       "        tooltip_span.addClass('ui-button-text');\n",
       "        tooltip_span.html(tooltip);\n",
       "\n",
       "        button.append(icon_img);\n",
       "        button.append(tooltip_span);\n",
       "\n",
       "        nav_element.append(button);\n",
       "    }\n",
       "\n",
       "    var fmt_picker_span = $('<span/>');\n",
       "\n",
       "    var fmt_picker = $('<select/>');\n",
       "    fmt_picker.addClass('mpl-toolbar-option ui-widget ui-widget-content');\n",
       "    fmt_picker_span.append(fmt_picker);\n",
       "    nav_element.append(fmt_picker_span);\n",
       "    this.format_dropdown = fmt_picker[0];\n",
       "\n",
       "    for (var ind in mpl.extensions) {\n",
       "        var fmt = mpl.extensions[ind];\n",
       "        var option = $(\n",
       "            '<option/>', {selected: fmt === mpl.default_extension}).html(fmt);\n",
       "        fmt_picker.append(option);\n",
       "    }\n",
       "\n",
       "    // Add hover states to the ui-buttons\n",
       "    $( \".ui-button\" ).hover(\n",
       "        function() { $(this).addClass(\"ui-state-hover\");},\n",
       "        function() { $(this).removeClass(\"ui-state-hover\");}\n",
       "    );\n",
       "\n",
       "    var status_bar = $('<span class=\"mpl-message\"/>');\n",
       "    nav_element.append(status_bar);\n",
       "    this.message = status_bar[0];\n",
       "}\n",
       "\n",
       "mpl.figure.prototype.request_resize = function(x_pixels, y_pixels) {\n",
       "    // Request matplotlib to resize the figure. Matplotlib will then trigger a resize in the client,\n",
       "    // which will in turn request a refresh of the image.\n",
       "    this.send_message('resize', {'width': x_pixels, 'height': y_pixels});\n",
       "}\n",
       "\n",
       "mpl.figure.prototype.send_message = function(type, properties) {\n",
       "    properties['type'] = type;\n",
       "    properties['figure_id'] = this.id;\n",
       "    this.ws.send(JSON.stringify(properties));\n",
       "}\n",
       "\n",
       "mpl.figure.prototype.send_draw_message = function() {\n",
       "    if (!this.waiting) {\n",
       "        this.waiting = true;\n",
       "        this.ws.send(JSON.stringify({type: \"draw\", figure_id: this.id}));\n",
       "    }\n",
       "}\n",
       "\n",
       "\n",
       "mpl.figure.prototype.handle_save = function(fig, msg) {\n",
       "    var format_dropdown = fig.format_dropdown;\n",
       "    var format = format_dropdown.options[format_dropdown.selectedIndex].value;\n",
       "    fig.ondownload(fig, format);\n",
       "}\n",
       "\n",
       "\n",
       "mpl.figure.prototype.handle_resize = function(fig, msg) {\n",
       "    var size = msg['size'];\n",
       "    if (size[0] != fig.canvas.width || size[1] != fig.canvas.height) {\n",
       "        fig._resize_canvas(size[0], size[1]);\n",
       "        fig.send_message(\"refresh\", {});\n",
       "    };\n",
       "}\n",
       "\n",
       "mpl.figure.prototype.handle_rubberband = function(fig, msg) {\n",
       "    var x0 = msg['x0'] / mpl.ratio;\n",
       "    var y0 = (fig.canvas.height - msg['y0']) / mpl.ratio;\n",
       "    var x1 = msg['x1'] / mpl.ratio;\n",
       "    var y1 = (fig.canvas.height - msg['y1']) / mpl.ratio;\n",
       "    x0 = Math.floor(x0) + 0.5;\n",
       "    y0 = Math.floor(y0) + 0.5;\n",
       "    x1 = Math.floor(x1) + 0.5;\n",
       "    y1 = Math.floor(y1) + 0.5;\n",
       "    var min_x = Math.min(x0, x1);\n",
       "    var min_y = Math.min(y0, y1);\n",
       "    var width = Math.abs(x1 - x0);\n",
       "    var height = Math.abs(y1 - y0);\n",
       "\n",
       "    fig.rubberband_context.clearRect(\n",
       "        0, 0, fig.canvas.width / mpl.ratio, fig.canvas.height / mpl.ratio);\n",
       "\n",
       "    fig.rubberband_context.strokeRect(min_x, min_y, width, height);\n",
       "}\n",
       "\n",
       "mpl.figure.prototype.handle_figure_label = function(fig, msg) {\n",
       "    // Updates the figure title.\n",
       "    fig.header.textContent = msg['label'];\n",
       "}\n",
       "\n",
       "mpl.figure.prototype.handle_cursor = function(fig, msg) {\n",
       "    var cursor = msg['cursor'];\n",
       "    switch(cursor)\n",
       "    {\n",
       "    case 0:\n",
       "        cursor = 'pointer';\n",
       "        break;\n",
       "    case 1:\n",
       "        cursor = 'default';\n",
       "        break;\n",
       "    case 2:\n",
       "        cursor = 'crosshair';\n",
       "        break;\n",
       "    case 3:\n",
       "        cursor = 'move';\n",
       "        break;\n",
       "    }\n",
       "    fig.rubberband_canvas.style.cursor = cursor;\n",
       "}\n",
       "\n",
       "mpl.figure.prototype.handle_message = function(fig, msg) {\n",
       "    fig.message.textContent = msg['message'];\n",
       "}\n",
       "\n",
       "mpl.figure.prototype.handle_draw = function(fig, msg) {\n",
       "    // Request the server to send over a new figure.\n",
       "    fig.send_draw_message();\n",
       "}\n",
       "\n",
       "mpl.figure.prototype.handle_image_mode = function(fig, msg) {\n",
       "    fig.image_mode = msg['mode'];\n",
       "}\n",
       "\n",
       "mpl.figure.prototype.updated_canvas_event = function() {\n",
       "    // Called whenever the canvas gets updated.\n",
       "    this.send_message(\"ack\", {});\n",
       "}\n",
       "\n",
       "// A function to construct a web socket function for onmessage handling.\n",
       "// Called in the figure constructor.\n",
       "mpl.figure.prototype._make_on_message_function = function(fig) {\n",
       "    return function socket_on_message(evt) {\n",
       "        if (evt.data instanceof Blob) {\n",
       "            /* FIXME: We get \"Resource interpreted as Image but\n",
       "             * transferred with MIME type text/plain:\" errors on\n",
       "             * Chrome.  But how to set the MIME type?  It doesn't seem\n",
       "             * to be part of the websocket stream */\n",
       "            evt.data.type = \"image/png\";\n",
       "\n",
       "            /* Free the memory for the previous frames */\n",
       "            if (fig.imageObj.src) {\n",
       "                (window.URL || window.webkitURL).revokeObjectURL(\n",
       "                    fig.imageObj.src);\n",
       "            }\n",
       "\n",
       "            fig.imageObj.src = (window.URL || window.webkitURL).createObjectURL(\n",
       "                evt.data);\n",
       "            fig.updated_canvas_event();\n",
       "            fig.waiting = false;\n",
       "            return;\n",
       "        }\n",
       "        else if (typeof evt.data === 'string' && evt.data.slice(0, 21) == \"data:image/png;base64\") {\n",
       "            fig.imageObj.src = evt.data;\n",
       "            fig.updated_canvas_event();\n",
       "            fig.waiting = false;\n",
       "            return;\n",
       "        }\n",
       "\n",
       "        var msg = JSON.parse(evt.data);\n",
       "        var msg_type = msg['type'];\n",
       "\n",
       "        // Call the  \"handle_{type}\" callback, which takes\n",
       "        // the figure and JSON message as its only arguments.\n",
       "        try {\n",
       "            var callback = fig[\"handle_\" + msg_type];\n",
       "        } catch (e) {\n",
       "            console.log(\"No handler for the '\" + msg_type + \"' message type: \", msg);\n",
       "            return;\n",
       "        }\n",
       "\n",
       "        if (callback) {\n",
       "            try {\n",
       "                // console.log(\"Handling '\" + msg_type + \"' message: \", msg);\n",
       "                callback(fig, msg);\n",
       "            } catch (e) {\n",
       "                console.log(\"Exception inside the 'handler_\" + msg_type + \"' callback:\", e, e.stack, msg);\n",
       "            }\n",
       "        }\n",
       "    };\n",
       "}\n",
       "\n",
       "// from http://stackoverflow.com/questions/1114465/getting-mouse-location-in-canvas\n",
       "mpl.findpos = function(e) {\n",
       "    //this section is from http://www.quirksmode.org/js/events_properties.html\n",
       "    var targ;\n",
       "    if (!e)\n",
       "        e = window.event;\n",
       "    if (e.target)\n",
       "        targ = e.target;\n",
       "    else if (e.srcElement)\n",
       "        targ = e.srcElement;\n",
       "    if (targ.nodeType == 3) // defeat Safari bug\n",
       "        targ = targ.parentNode;\n",
       "\n",
       "    // jQuery normalizes the pageX and pageY\n",
       "    // pageX,Y are the mouse positions relative to the document\n",
       "    // offset() returns the position of the element relative to the document\n",
       "    var x = e.pageX - $(targ).offset().left;\n",
       "    var y = e.pageY - $(targ).offset().top;\n",
       "\n",
       "    return {\"x\": x, \"y\": y};\n",
       "};\n",
       "\n",
       "/*\n",
       " * return a copy of an object with only non-object keys\n",
       " * we need this to avoid circular references\n",
       " * http://stackoverflow.com/a/24161582/3208463\n",
       " */\n",
       "function simpleKeys (original) {\n",
       "  return Object.keys(original).reduce(function (obj, key) {\n",
       "    if (typeof original[key] !== 'object')\n",
       "        obj[key] = original[key]\n",
       "    return obj;\n",
       "  }, {});\n",
       "}\n",
       "\n",
       "mpl.figure.prototype.mouse_event = function(event, name) {\n",
       "    var canvas_pos = mpl.findpos(event)\n",
       "\n",
       "    if (name === 'button_press')\n",
       "    {\n",
       "        this.canvas.focus();\n",
       "        this.canvas_div.focus();\n",
       "    }\n",
       "\n",
       "    var x = canvas_pos.x * mpl.ratio;\n",
       "    var y = canvas_pos.y * mpl.ratio;\n",
       "\n",
       "    this.send_message(name, {x: x, y: y, button: event.button,\n",
       "                             step: event.step,\n",
       "                             guiEvent: simpleKeys(event)});\n",
       "\n",
       "    /* This prevents the web browser from automatically changing to\n",
       "     * the text insertion cursor when the button is pressed.  We want\n",
       "     * to control all of the cursor setting manually through the\n",
       "     * 'cursor' event from matplotlib */\n",
       "    event.preventDefault();\n",
       "    return false;\n",
       "}\n",
       "\n",
       "mpl.figure.prototype._key_event_extra = function(event, name) {\n",
       "    // Handle any extra behaviour associated with a key event\n",
       "}\n",
       "\n",
       "mpl.figure.prototype.key_event = function(event, name) {\n",
       "\n",
       "    // Prevent repeat events\n",
       "    if (name == 'key_press')\n",
       "    {\n",
       "        if (event.which === this._key)\n",
       "            return;\n",
       "        else\n",
       "            this._key = event.which;\n",
       "    }\n",
       "    if (name == 'key_release')\n",
       "        this._key = null;\n",
       "\n",
       "    var value = '';\n",
       "    if (event.ctrlKey && event.which != 17)\n",
       "        value += \"ctrl+\";\n",
       "    if (event.altKey && event.which != 18)\n",
       "        value += \"alt+\";\n",
       "    if (event.shiftKey && event.which != 16)\n",
       "        value += \"shift+\";\n",
       "\n",
       "    value += 'k';\n",
       "    value += event.which.toString();\n",
       "\n",
       "    this._key_event_extra(event, name);\n",
       "\n",
       "    this.send_message(name, {key: value,\n",
       "                             guiEvent: simpleKeys(event)});\n",
       "    return false;\n",
       "}\n",
       "\n",
       "mpl.figure.prototype.toolbar_button_onclick = function(name) {\n",
       "    if (name == 'download') {\n",
       "        this.handle_save(this, null);\n",
       "    } else {\n",
       "        this.send_message(\"toolbar_button\", {name: name});\n",
       "    }\n",
       "};\n",
       "\n",
       "mpl.figure.prototype.toolbar_button_onmouseover = function(tooltip) {\n",
       "    this.message.textContent = tooltip;\n",
       "};\n",
       "mpl.toolbar_items = [[\"Home\", \"Reset original view\", \"fa fa-home icon-home\", \"home\"], [\"Back\", \"Back to previous view\", \"fa fa-arrow-left icon-arrow-left\", \"back\"], [\"Forward\", \"Forward to next view\", \"fa fa-arrow-right icon-arrow-right\", \"forward\"], [\"\", \"\", \"\", \"\"], [\"Pan\", \"Pan axes with left mouse, zoom with right\", \"fa fa-arrows icon-move\", \"pan\"], [\"Zoom\", \"Zoom to rectangle\", \"fa fa-square-o icon-check-empty\", \"zoom\"], [\"\", \"\", \"\", \"\"], [\"Download\", \"Download plot\", \"fa fa-floppy-o icon-save\", \"download\"]];\n",
       "\n",
       "mpl.extensions = [\"eps\", \"pdf\", \"png\", \"ps\", \"raw\", \"svg\"];\n",
       "\n",
       "mpl.default_extension = \"png\";var comm_websocket_adapter = function(comm) {\n",
       "    // Create a \"websocket\"-like object which calls the given IPython comm\n",
       "    // object with the appropriate methods. Currently this is a non binary\n",
       "    // socket, so there is still some room for performance tuning.\n",
       "    var ws = {};\n",
       "\n",
       "    ws.close = function() {\n",
       "        comm.close()\n",
       "    };\n",
       "    ws.send = function(m) {\n",
       "        //console.log('sending', m);\n",
       "        comm.send(m);\n",
       "    };\n",
       "    // Register the callback with on_msg.\n",
       "    comm.on_msg(function(msg) {\n",
       "        //console.log('receiving', msg['content']['data'], msg);\n",
       "        // Pass the mpl event to the overridden (by mpl) onmessage function.\n",
       "        ws.onmessage(msg['content']['data'])\n",
       "    });\n",
       "    return ws;\n",
       "}\n",
       "\n",
       "mpl.mpl_figure_comm = function(comm, msg) {\n",
       "    // This is the function which gets called when the mpl process\n",
       "    // starts-up an IPython Comm through the \"matplotlib\" channel.\n",
       "\n",
       "    var id = msg.content.data.id;\n",
       "    // Get hold of the div created by the display call when the Comm\n",
       "    // socket was opened in Python.\n",
       "    var element = $(\"#\" + id);\n",
       "    var ws_proxy = comm_websocket_adapter(comm)\n",
       "\n",
       "    function ondownload(figure, format) {\n",
       "        window.open(figure.imageObj.src);\n",
       "    }\n",
       "\n",
       "    var fig = new mpl.figure(id, ws_proxy,\n",
       "                           ondownload,\n",
       "                           element.get(0));\n",
       "\n",
       "    // Call onopen now - mpl needs it, as it is assuming we've passed it a real\n",
       "    // web socket which is closed, not our websocket->open comm proxy.\n",
       "    ws_proxy.onopen();\n",
       "\n",
       "    fig.parent_element = element.get(0);\n",
       "    fig.cell_info = mpl.find_output_cell(\"<div id='\" + id + \"'></div>\");\n",
       "    if (!fig.cell_info) {\n",
       "        console.error(\"Failed to find cell for figure\", id, fig);\n",
       "        return;\n",
       "    }\n",
       "\n",
       "    var output_index = fig.cell_info[2]\n",
       "    var cell = fig.cell_info[0];\n",
       "\n",
       "};\n",
       "\n",
       "mpl.figure.prototype.handle_close = function(fig, msg) {\n",
       "    var width = fig.canvas.width/mpl.ratio\n",
       "    fig.root.unbind('remove')\n",
       "\n",
       "    // Update the output cell to use the data from the current canvas.\n",
       "    fig.push_to_output();\n",
       "    var dataURL = fig.canvas.toDataURL();\n",
       "    // Re-enable the keyboard manager in IPython - without this line, in FF,\n",
       "    // the notebook keyboard shortcuts fail.\n",
       "    IPython.keyboard_manager.enable()\n",
       "    $(fig.parent_element).html('<img src=\"' + dataURL + '\" width=\"' + width + '\">');\n",
       "    fig.close_ws(fig, msg);\n",
       "}\n",
       "\n",
       "mpl.figure.prototype.close_ws = function(fig, msg){\n",
       "    fig.send_message('closing', msg);\n",
       "    // fig.ws.close()\n",
       "}\n",
       "\n",
       "mpl.figure.prototype.push_to_output = function(remove_interactive) {\n",
       "    // Turn the data on the canvas into data in the output cell.\n",
       "    var width = this.canvas.width/mpl.ratio\n",
       "    var dataURL = this.canvas.toDataURL();\n",
       "    this.cell_info[1]['text/html'] = '<img src=\"' + dataURL + '\" width=\"' + width + '\">';\n",
       "}\n",
       "\n",
       "mpl.figure.prototype.updated_canvas_event = function() {\n",
       "    // Tell IPython that the notebook contents must change.\n",
       "    IPython.notebook.set_dirty(true);\n",
       "    this.send_message(\"ack\", {});\n",
       "    var fig = this;\n",
       "    // Wait a second, then push the new image to the DOM so\n",
       "    // that it is saved nicely (might be nice to debounce this).\n",
       "    setTimeout(function () { fig.push_to_output() }, 1000);\n",
       "}\n",
       "\n",
       "mpl.figure.prototype._init_toolbar = function() {\n",
       "    var fig = this;\n",
       "\n",
       "    var nav_element = $('<div/>');\n",
       "    nav_element.attr('style', 'width: 100%');\n",
       "    this.root.append(nav_element);\n",
       "\n",
       "    // Define a callback function for later on.\n",
       "    function toolbar_event(event) {\n",
       "        return fig.toolbar_button_onclick(event['data']);\n",
       "    }\n",
       "    function toolbar_mouse_event(event) {\n",
       "        return fig.toolbar_button_onmouseover(event['data']);\n",
       "    }\n",
       "\n",
       "    for(var toolbar_ind in mpl.toolbar_items){\n",
       "        var name = mpl.toolbar_items[toolbar_ind][0];\n",
       "        var tooltip = mpl.toolbar_items[toolbar_ind][1];\n",
       "        var image = mpl.toolbar_items[toolbar_ind][2];\n",
       "        var method_name = mpl.toolbar_items[toolbar_ind][3];\n",
       "\n",
       "        if (!name) { continue; };\n",
       "\n",
       "        var button = $('<button class=\"btn btn-default\" href=\"#\" title=\"' + name + '\"><i class=\"fa ' + image + ' fa-lg\"></i></button>');\n",
       "        button.click(method_name, toolbar_event);\n",
       "        button.mouseover(tooltip, toolbar_mouse_event);\n",
       "        nav_element.append(button);\n",
       "    }\n",
       "\n",
       "    // Add the status bar.\n",
       "    var status_bar = $('<span class=\"mpl-message\" style=\"text-align:right; float: right;\"/>');\n",
       "    nav_element.append(status_bar);\n",
       "    this.message = status_bar[0];\n",
       "\n",
       "    // Add the close button to the window.\n",
       "    var buttongrp = $('<div class=\"btn-group inline pull-right\"></div>');\n",
       "    var button = $('<button class=\"btn btn-mini btn-primary\" href=\"#\" title=\"Stop Interaction\"><i class=\"fa fa-power-off icon-remove icon-large\"></i></button>');\n",
       "    button.click(function (evt) { fig.handle_close(fig, {}); } );\n",
       "    button.mouseover('Stop Interaction', toolbar_mouse_event);\n",
       "    buttongrp.append(button);\n",
       "    var titlebar = this.root.find($('.ui-dialog-titlebar'));\n",
       "    titlebar.prepend(buttongrp);\n",
       "}\n",
       "\n",
       "mpl.figure.prototype._root_extra_style = function(el){\n",
       "    var fig = this\n",
       "    el.on(\"remove\", function(){\n",
       "\tfig.close_ws(fig, {});\n",
       "    });\n",
       "}\n",
       "\n",
       "mpl.figure.prototype._canvas_extra_style = function(el){\n",
       "    // this is important to make the div 'focusable\n",
       "    el.attr('tabindex', 0)\n",
       "    // reach out to IPython and tell the keyboard manager to turn it's self\n",
       "    // off when our div gets focus\n",
       "\n",
       "    // location in version 3\n",
       "    if (IPython.notebook.keyboard_manager) {\n",
       "        IPython.notebook.keyboard_manager.register_events(el);\n",
       "    }\n",
       "    else {\n",
       "        // location in version 2\n",
       "        IPython.keyboard_manager.register_events(el);\n",
       "    }\n",
       "\n",
       "}\n",
       "\n",
       "mpl.figure.prototype._key_event_extra = function(event, name) {\n",
       "    var manager = IPython.notebook.keyboard_manager;\n",
       "    if (!manager)\n",
       "        manager = IPython.keyboard_manager;\n",
       "\n",
       "    // Check for shift+enter\n",
       "    if (event.shiftKey && event.which == 13) {\n",
       "        this.canvas_div.blur();\n",
       "        // select the cell after this one\n",
       "        var index = IPython.notebook.find_cell_index(this.cell_info[0]);\n",
       "        IPython.notebook.select(index + 1);\n",
       "    }\n",
       "}\n",
       "\n",
       "mpl.figure.prototype.handle_save = function(fig, msg) {\n",
       "    fig.ondownload(fig, null);\n",
       "}\n",
       "\n",
       "\n",
       "mpl.find_output_cell = function(html_output) {\n",
       "    // Return the cell and output element which can be found *uniquely* in the notebook.\n",
       "    // Note - this is a bit hacky, but it is done because the \"notebook_saving.Notebook\"\n",
       "    // IPython event is triggered only after the cells have been serialised, which for\n",
       "    // our purposes (turning an active figure into a static one), is too late.\n",
       "    var cells = IPython.notebook.get_cells();\n",
       "    var ncells = cells.length;\n",
       "    for (var i=0; i<ncells; i++) {\n",
       "        var cell = cells[i];\n",
       "        if (cell.cell_type === 'code'){\n",
       "            for (var j=0; j<cell.output_area.outputs.length; j++) {\n",
       "                var data = cell.output_area.outputs[j];\n",
       "                if (data.data) {\n",
       "                    // IPython >= 3 moved mimebundle to data attribute of output\n",
       "                    data = data.data;\n",
       "                }\n",
       "                if (data['text/html'] == html_output) {\n",
       "                    return [cell, data, j];\n",
       "                }\n",
       "            }\n",
       "        }\n",
       "    }\n",
       "}\n",
       "\n",
       "// Register the function which deals with the matplotlib target/channel.\n",
       "// The kernel may be null if the page has been refreshed.\n",
       "if (IPython.notebook.kernel != null) {\n",
       "    IPython.notebook.kernel.comm_manager.register_target('matplotlib', mpl.mpl_figure_comm);\n",
       "}\n"
      ],
      "text/plain": [
       "<IPython.core.display.Javascript object>"
      ]
     },
     "metadata": {},
     "output_type": "display_data"
    },
    {
     "data": {
      "text/html": [
       "<img src=\"data:image/png;base64,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\" width=\"640\">"
      ],
      "text/plain": [
       "<IPython.core.display.HTML object>"
      ]
     },
     "metadata": {},
     "output_type": "display_data"
    }
   ],
   "source": [
    "%matplotlib notebook\n",
    "p1 = sns.kdeplot(patient_neg['admissionweight'], shade=True, color='b')\n",
    "p2 = sns.kdeplot(patient_pos['admissionweight'], shade=True, color='r')"
   ]
  },
  {
   "cell_type": "code",
   "execution_count": 7,
   "metadata": {
    "ExecuteTime": {
     "end_time": "2020-06-03T21:09:48.032006Z",
     "start_time": "2020-06-03T21:09:48.028521Z"
    }
   },
   "outputs": [
    {
     "data": {
      "text/plain": [
       "161709"
      ]
     },
     "execution_count": 7,
     "metadata": {},
     "output_type": "execute_result"
    }
   ],
   "source": [
    "diagnosis_pos.shape[0]"
   ]
  },
  {
   "cell_type": "code",
   "execution_count": 8,
   "metadata": {
    "ExecuteTime": {
     "end_time": "2020-06-03T21:09:48.037315Z",
     "start_time": "2020-06-03T21:09:48.033654Z"
    }
   },
   "outputs": [
    {
     "data": {
      "text/plain": [
       "2449780"
      ]
     },
     "execution_count": 8,
     "metadata": {},
     "output_type": "execute_result"
    }
   ],
   "source": [
    "diagnosis_neg.shape[0]"
   ]
  },
  {
   "cell_type": "code",
   "execution_count": 9,
   "metadata": {
    "ExecuteTime": {
     "end_time": "2020-06-03T21:09:48.042779Z",
     "start_time": "2020-06-03T21:09:48.039136Z"
    }
   },
   "outputs": [
    {
     "data": {
      "text/plain": [
       "2065"
      ]
     },
     "execution_count": 9,
     "metadata": {},
     "output_type": "execute_result"
    }
   ],
   "source": [
    "patient_pos.shape[0]"
   ]
  },
  {
   "cell_type": "code",
   "execution_count": 10,
   "metadata": {
    "ExecuteTime": {
     "end_time": "2020-06-03T21:09:48.048244Z",
     "start_time": "2020-06-03T21:09:48.044610Z"
    }
   },
   "outputs": [
    {
     "data": {
      "text/plain": [
       "167521"
      ]
     },
     "execution_count": 10,
     "metadata": {},
     "output_type": "execute_result"
    }
   ],
   "source": [
    "patient_neg.shape[0]"
   ]
  },
  {
   "cell_type": "code",
   "execution_count": 11,
   "metadata": {
    "ExecuteTime": {
     "end_time": "2020-06-03T21:09:48.108413Z",
     "start_time": "2020-06-03T21:09:48.050346Z"
    }
   },
   "outputs": [
    {
     "name": "stdout",
     "output_type": "stream",
     "text": [
      "5831 patientunitstayids with age > 89 out of 167521\n",
      "59 patientunitstayids with age > 89 out of 2065\n"
     ]
    }
   ],
   "source": [
    "patient_neg = convertAgeToNum(patient_neg)\n",
    "patient_pos = convertAgeToNum(patient_pos)"
   ]
  },
  {
   "cell_type": "code",
   "execution_count": 12,
   "metadata": {
    "ExecuteTime": {
     "end_time": "2020-06-03T21:09:48.113301Z",
     "start_time": "2020-06-03T21:09:48.109874Z"
    }
   },
   "outputs": [
    {
     "data": {
      "text/plain": [
       "Index(['patientunitstayid', 'patienthealthsystemstayid', 'gender', 'age',\n",
       "       'ethnicity', 'hospitalid', 'wardid', 'apacheadmissiondx',\n",
       "       'admissionheight', 'hospitaladmittime24', 'hospitaladmitoffset',\n",
       "       'hospitaladmitsource', 'hospitaldischargeyear',\n",
       "       'hospitaldischargetime24', 'hospitaldischargeoffset',\n",
       "       'hospitaldischargelocation', 'hospitaldischargestatus', 'unittype',\n",
       "       'unitadmittime24', 'unitadmitsource', 'unitvisitnumber', 'unitstaytype',\n",
       "       'admissionweight', 'dischargeweight', 'unitdischargetime24',\n",
       "       'unitdischargeoffset', 'unitdischargelocation', 'unitdischargestatus',\n",
       "       'uniquepid'],\n",
       "      dtype='object')"
      ]
     },
     "execution_count": 12,
     "metadata": {},
     "output_type": "execute_result"
    }
   ],
   "source": [
    "patient_neg.columns"
   ]
  },
  {
   "cell_type": "code",
   "execution_count": 13,
   "metadata": {
    "ExecuteTime": {
     "end_time": "2020-06-03T21:09:48.118119Z",
     "start_time": "2020-06-03T21:09:48.114670Z"
    }
   },
   "outputs": [
    {
     "data": {
      "text/plain": [
       "pandas.core.series.Series"
      ]
     },
     "execution_count": 13,
     "metadata": {},
     "output_type": "execute_result"
    }
   ],
   "source": [
    "type(patient_neg['age'])"
   ]
  },
  {
   "cell_type": "code",
   "execution_count": null,
   "metadata": {
    "ExecuteTime": {
     "end_time": "2020-06-03T20:43:27.344198Z",
     "start_time": "2020-06-03T20:43:27.289769Z"
    }
   },
   "outputs": [],
   "source": []
  },
  {
   "cell_type": "code",
   "execution_count": null,
   "metadata": {},
   "outputs": [],
   "source": []
  },
  {
   "cell_type": "code",
   "execution_count": 14,
   "metadata": {
    "ExecuteTime": {
     "end_time": "2020-06-03T21:09:48.158097Z",
     "start_time": "2020-06-03T21:09:48.119422Z"
    },
    "scrolled": true
   },
   "outputs": [
    {
     "data": {
      "text/plain": [
       "<matplotlib.axes._subplots.AxesSubplot at 0x7f81e1c67c50>"
      ]
     },
     "execution_count": 14,
     "metadata": {},
     "output_type": "execute_result"
    }
   ],
   "source": [
    "patient_neg.age.hist(bins=50)"
   ]
  },
  {
   "cell_type": "code",
   "execution_count": 15,
   "metadata": {
    "ExecuteTime": {
     "end_time": "2020-06-03T21:09:48.379473Z",
     "start_time": "2020-06-03T21:09:48.159428Z"
    }
   },
   "outputs": [],
   "source": [
    "p1 = sns.kdeplot(patient_neg['age'], shade=True, color='b')\n",
    "p2 = sns.kdeplot(patient_pos['age'], shade=True, color='r')"
   ]
  },
  {
   "cell_type": "code",
   "execution_count": 16,
   "metadata": {
    "ExecuteTime": {
     "end_time": "2020-06-03T21:09:48.404371Z",
     "start_time": "2020-06-03T21:09:48.381446Z"
    }
   },
   "outputs": [
    {
     "data": {
      "text/plain": [
       "<matplotlib.axes._subplots.AxesSubplot at 0x7f81e1c67c50>"
      ]
     },
     "execution_count": 16,
     "metadata": {},
     "output_type": "execute_result"
    }
   ],
   "source": [
    "patient_pos.age.hist(bins = 30)"
   ]
  },
  {
   "cell_type": "code",
   "execution_count": 17,
   "metadata": {
    "ExecuteTime": {
     "end_time": "2020-06-03T21:09:48.413654Z",
     "start_time": "2020-06-03T21:09:48.410772Z"
    }
   },
   "outputs": [
    {
     "data": {
      "text/plain": [
       "167521"
      ]
     },
     "execution_count": 17,
     "metadata": {},
     "output_type": "execute_result"
    }
   ],
   "source": [
    "patient_neg.shape[0]"
   ]
  },
  {
   "cell_type": "code",
   "execution_count": 18,
   "metadata": {
    "ExecuteTime": {
     "end_time": "2020-06-03T21:09:48.432019Z",
     "start_time": "2020-06-03T21:09:48.417003Z"
    },
    "scrolled": false
   },
   "outputs": [
    {
     "data": {
      "text/plain": [
       "<matplotlib.axes._subplots.AxesSubplot at 0x7f81e1c67c50>"
      ]
     },
     "execution_count": 18,
     "metadata": {},
     "output_type": "execute_result"
    }
   ],
   "source": [
    "patient_pos.admissionweight.hist(bins=20)"
   ]
  },
  {
   "cell_type": "code",
   "execution_count": 19,
   "metadata": {
    "ExecuteTime": {
     "end_time": "2020-06-03T21:09:48.439007Z",
     "start_time": "2020-06-03T21:09:48.433610Z"
    }
   },
   "outputs": [
    {
     "data": {
      "text/plain": [
       "1333    294.80\n",
       "138     229.06\n",
       "139     226.80\n",
       "181     225.00\n",
       "865     220.00\n",
       "168     217.70\n",
       "163     215.90\n",
       "1839    214.20\n",
       "477     212.70\n",
       "1811    209.00\n",
       "1836    207.80\n",
       "1819    207.10\n",
       "1087    205.00\n",
       "810     204.50\n",
       "2002    204.50\n",
       "1396    204.21\n",
       "1368    202.00\n",
       "495     201.59\n",
       "1032    200.00\n",
       "206     197.70\n",
       "1600    195.50\n",
       "1436    188.00\n",
       "1294    182.00\n",
       "754     181.40\n",
       "811     181.40\n",
       "1339    181.00\n",
       "605     180.00\n",
       "388     179.40\n",
       "1686    173.60\n",
       "1445    173.50\n",
       "Name: admissionweight, dtype: float64"
      ]
     },
     "execution_count": 19,
     "metadata": {},
     "output_type": "execute_result"
    }
   ],
   "source": [
    "patient_pos.admissionweight.nlargest(30)"
   ]
  },
  {
   "cell_type": "code",
   "execution_count": 20,
   "metadata": {
    "ExecuteTime": {
     "end_time": "2020-06-03T21:09:48.460286Z",
     "start_time": "2020-06-03T21:09:48.440399Z"
    }
   },
   "outputs": [
    {
     "data": {
      "text/plain": [
       "<matplotlib.axes._subplots.AxesSubplot at 0x7f81e1c67c50>"
      ]
     },
     "execution_count": 20,
     "metadata": {},
     "output_type": "execute_result"
    }
   ],
   "source": [
    "patient_neg.admissionweight.hist(bins=20)"
   ]
  },
  {
   "cell_type": "code",
   "execution_count": 21,
   "metadata": {
    "ExecuteTime": {
     "end_time": "2020-06-03T21:09:48.465914Z",
     "start_time": "2020-06-03T21:09:48.461732Z"
    },
    "scrolled": true
   },
   "outputs": [
    {
     "data": {
      "text/plain": [
       "953.0"
      ]
     },
     "execution_count": 21,
     "metadata": {},
     "output_type": "execute_result"
    }
   ],
   "source": [
    "patient_neg.admissionweight.max()"
   ]
  },
  {
   "cell_type": "code",
   "execution_count": 29,
   "metadata": {
    "ExecuteTime": {
     "end_time": "2020-06-03T21:15:41.202671Z",
     "start_time": "2020-06-03T21:15:41.199153Z"
    }
   },
   "outputs": [],
   "source": [
    "# Create labels for each class\n",
    "y_test_pos = np.ones(patient_pos.shape[0])\n",
    "y_test_neg = np.zeros(patient_neg.shape[0])\n",
    "y = np.concatenate([y_test_pos, y_test_neg])"
   ]
  },
  {
   "cell_type": "code",
   "execution_count": 30,
   "metadata": {
    "ExecuteTime": {
     "end_time": "2020-06-03T21:16:11.861949Z",
     "start_time": "2020-06-03T21:16:11.858750Z"
    }
   },
   "outputs": [
    {
     "data": {
      "text/plain": [
       "(169586,)"
      ]
     },
     "execution_count": 30,
     "metadata": {},
     "output_type": "execute_result"
    }
   ],
   "source": [
    "y.shape"
   ]
  },
  {
   "cell_type": "code",
   "execution_count": 33,
   "metadata": {
    "ExecuteTime": {
     "end_time": "2020-06-03T21:18:43.356946Z",
     "start_time": "2020-06-03T21:18:43.272679Z"
    }
   },
   "outputs": [],
   "source": [
    "# Concatenate to get X and y\n",
    "patient = pd.concat([patient_pos, patient_neg])"
   ]
  },
  {
   "cell_type": "code",
   "execution_count": 34,
   "metadata": {
    "ExecuteTime": {
     "end_time": "2020-06-03T21:18:47.445471Z",
     "start_time": "2020-06-03T21:18:47.442787Z"
    }
   },
   "outputs": [
    {
     "data": {
      "text/plain": [
       "169586"
      ]
     },
     "execution_count": 34,
     "metadata": {},
     "output_type": "execute_result"
    }
   ],
   "source": [
    "patient.shape[0]"
   ]
  },
  {
   "cell_type": "code",
   "execution_count": 36,
   "metadata": {
    "ExecuteTime": {
     "end_time": "2020-06-03T21:19:28.859480Z",
     "start_time": "2020-06-03T21:19:28.855569Z"
    }
   },
   "outputs": [],
   "source": [
    "# Define X\n",
    "X = patient[['patientunitstayid', 'age', 'admissionweight']]"
   ]
  },
  {
   "cell_type": "code",
   "execution_count": 38,
   "metadata": {
    "ExecuteTime": {
     "end_time": "2020-06-03T21:21:02.955493Z",
     "start_time": "2020-06-03T21:21:02.940683Z"
    }
   },
   "outputs": [
    {
     "data": {
      "text/plain": [
       "169586"
      ]
     },
     "execution_count": 38,
     "metadata": {},
     "output_type": "execute_result"
    }
   ],
   "source": [
    "patient['patientunitstayid'].unique().shape[0]"
   ]
  },
  {
   "cell_type": "code",
   "execution_count": null,
   "metadata": {},
   "outputs": [],
   "source": []
  },
  {
   "cell_type": "code",
   "execution_count": null,
   "metadata": {},
   "outputs": [],
   "source": []
  },
  {
   "cell_type": "code",
   "execution_count": null,
   "metadata": {},
   "outputs": [],
   "source": []
  },
  {
   "cell_type": "code",
   "execution_count": 24,
   "metadata": {
    "ExecuteTime": {
     "end_time": "2020-06-03T21:09:48.477310Z",
     "start_time": "2020-06-03T21:09:48.475493Z"
    }
   },
   "outputs": [],
   "source": [
    "# # Remove patientunitstayids that are over 350 kg (770 lbs)\n",
    "# ptunitstayid_tooheavy = patient_neg[patient]"
   ]
  }
 ],
 "metadata": {
  "kernelspec": {
   "display_name": "Python [conda env:insight] *",
   "language": "python",
   "name": "conda-env-insight-py"
  },
  "language_info": {
   "codemirror_mode": {
    "name": "ipython",
    "version": 3
   },
   "file_extension": ".py",
   "mimetype": "text/x-python",
   "name": "python",
   "nbconvert_exporter": "python",
   "pygments_lexer": "ipython3",
   "version": "3.7.7"
  },
  "toc": {
   "base_numbering": 1,
   "nav_menu": {},
   "number_sections": true,
   "sideBar": true,
   "skip_h1_title": false,
   "title_cell": "Table of Contents",
   "title_sidebar": "Contents",
   "toc_cell": false,
   "toc_position": {},
   "toc_section_display": true,
   "toc_window_display": false
  },
  "varInspector": {
   "cols": {
    "lenName": 16,
    "lenType": 16,
    "lenVar": 40
   },
   "kernels_config": {
    "python": {
     "delete_cmd_postfix": "",
     "delete_cmd_prefix": "del ",
     "library": "var_list.py",
     "varRefreshCmd": "print(var_dic_list())"
    },
    "r": {
     "delete_cmd_postfix": ") ",
     "delete_cmd_prefix": "rm(",
     "library": "var_list.r",
     "varRefreshCmd": "cat(var_dic_list()) "
    }
   },
   "position": {
    "height": "567px",
    "left": "1029px",
    "right": "20px",
    "top": "76px",
    "width": "536px"
   },
   "types_to_exclude": [
    "module",
    "function",
    "builtin_function_or_method",
    "instance",
    "_Feature"
   ],
   "window_display": false
  }
 },
 "nbformat": 4,
 "nbformat_minor": 4
}
